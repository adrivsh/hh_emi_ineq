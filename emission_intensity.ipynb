{
 "cells": [
  {
   "cell_type": "markdown",
   "metadata": {},
   "source": [
    "In this notebook I investigate the effect of inequality reduction on GHG emissions"
   ]
  },
  {
   "cell_type": "code",
   "execution_count": 1,
   "metadata": {
    "collapsed": false
   },
   "outputs": [],
   "source": [
    "import pandas as pd\n",
    "import numpy as np\n",
    "import matplotlib.pyplot as plt\n",
    "from kde import *\n",
    "from perc import *\n",
    "%matplotlib inline\n",
    "\n",
    "\n",
    "from wb_api_wraper import *"
   ]
  },
  {
   "cell_type": "code",
   "execution_count": 45,
   "metadata": {
    "collapsed": true
   },
   "outputs": [],
   "source": [
    "def names_to_wb_name(df_in,any_name_to_iso3,iso3_to_unique_name,common_name=\"iso3\",end_name=\"country\"):\n",
    "    \"\"\"Matches arbitrary country names from a dataset to world bank country names thru iso3 codes\"\"\"\n",
    "    \n",
    "    df=pd.DataFrame(df_in)\n",
    "    \n",
    "    index_name=df.index.name\n",
    "    \n",
    "    df[common_name]=any_name_to_iso3[common_name]\n",
    "    \n",
    "    #warns and prints if some countries are not recognized\n",
    "    cond = df[common_name].isnull()\n",
    "    if cond.sum()>0:\n",
    "        warnings.warn(\"Unrecognized countries in 1st argument 'df':\"+\", \".join((df.index[cond].values)))\n",
    "        warnings.warn(\"Correct 'df' or add lines to 2nd argument 'any_name_to_iso3'\")\n",
    "    \n",
    "    df=df.dropna()\n",
    "    \n",
    "    #warning if missing\n",
    "    df =df.reset_index().set_index(common_name)\n",
    "    df[end_name]=iso3_to_unique_name\n",
    "    cond = df[end_name].isnull()\n",
    "    if cond.sum()>0:\n",
    "        warnings.warn(\"this countries appear to be missing from 3rd argument 'iso3_to_unique_name':\"+\", \".join((df.index[cond])))\n",
    "\n",
    "           \n",
    "    #return df with original indexing\n",
    "    return df.dropna().set_index(index_name)"
   ]
  },
  {
   "cell_type": "code",
   "execution_count": 2,
   "metadata": {
    "collapsed": false
   },
   "outputs": [],
   "source": [
    "datadir = \"csvdata/\";\n"
   ]
  },
  {
   "cell_type": "code",
   "execution_count": 67,
   "metadata": {
    "collapsed": false
   },
   "outputs": [],
   "source": [
    "iso_to_name = pd.read_csv(\"iso3_to_wb_name.csv\",usecols=[\"iso3\",\"country\"],index_col=\"iso3\",squeeze=True)\n",
    "names_to_iso = pd.read_csv(\"names_to_iso.csv\",usecols=[\"country\",\"iso3\"],index_col=\"country\",squeeze=True)\n",
    "any_name_to_wb_name = names_to_iso.replace(iso_to_name)\n",
    "any_name_to_wb_name;"
   ]
  },
  {
   "cell_type": "markdown",
   "metadata": {},
   "source": [
    "###Data from Maros"
   ]
  },
  {
   "cell_type": "code",
   "execution_count": 68,
   "metadata": {
    "collapsed": false
   },
   "outputs": [],
   "source": [
    "#number of persons per household\n",
    "persdata=pd.read_csv(\"csvdata/PERSDATA.csv\",usecols=[\"COUNTRY\",\"HID\",\"PID\"]).replace(iso_to_name)  #her emost of weights are 1 but some weights are 0.6\n",
    "persdata.columns = map(str.lower, persdata.columns)\n",
    "nb_people_in_hh =persdata.groupby([\"country\",\"hid\"])[\"pid\"].count()\n"
   ]
  },
  {
   "cell_type": "code",
   "execution_count": 5,
   "metadata": {
    "collapsed": true
   },
   "outputs": [],
   "source": [
    "#total number of people in the economy\n",
    "hhdata = pd.read_csv(\"csvdata/HHLDDATA.csv\").replace(iso_to_name)\n",
    "hhdata.columns = map(str.lower, hhdata.columns)\n",
    "hhdata.set_index([\"country\",\"hid\"],inplace=\"True\")\n",
    "nb_people_tot = hhdata[\"weight\"]*nb_people_in_hh\n"
   ]
  },
  {
   "cell_type": "code",
   "execution_count": 8,
   "metadata": {
    "collapsed": true
   },
   "outputs": [],
   "source": [
    "#emissions per household and per capita\n",
    "hh_emi = pd.read_csv(\"csvdata/emissionsbyhousehold.csv\").replace(iso_to_name)"
   ]
  },
  {
   "cell_type": "code",
   "execution_count": 9,
   "metadata": {
    "collapsed": false
   },
   "outputs": [],
   "source": [
    "hh_emi.rename(columns={\"value\": \"hh_emis\"},inplace=True)\n",
    "hh_emis = hh_emi.set_index([\"country\", \"hid\"])[\"hh_emis\"]\n",
    "hh_emi_pc = hh_emis/nb_people_in_hh"
   ]
  },
  {
   "cell_type": "code",
   "execution_count": 10,
   "metadata": {
    "collapsed": false
   },
   "outputs": [
    {
     "data": {
      "text/plain": [
       "country\n",
       "Albania         1.040662e+09\n",
       "Armenia                  NaN\n",
       "Bangladesh               NaN\n",
       "Ghana           1.260871e+10\n",
       "India           1.906669e+11\n",
       "Iraq            3.202297e+10\n",
       "Liberia         9.380252e+08\n",
       "Malawi          1.989655e+09\n",
       "Moldova         3.982440e+10\n",
       "Niger           6.601154e+09\n",
       "Rwanda          1.795978e+09\n",
       "Senegal         8.885214e+09\n",
       "Sierra Leone    1.653691e+09\n",
       "Vietnam         5.715552e+10\n",
       "dtype: float64"
      ]
     },
     "execution_count": 10,
     "metadata": {},
     "output_type": "execute_result"
    }
   ],
   "source": [
    "tot_pop = nb_people_tot.reset_index().groupby(\"country\")[0].sum()\n",
    "tot_emis = (hh_emis*hhdata.weight).groupby(level=0).sum()\n",
    "tot_emis"
   ]
  },
  {
   "cell_type": "markdown",
   "metadata": {},
   "source": [
    "###Data from World bank API"
   ]
  },
  {
   "cell_type": "code",
   "execution_count": 13,
   "metadata": {
    "collapsed": false
   },
   "outputs": [],
   "source": [
    "wb_pop = get_wb_mrv(\"SP.POP.TOTL\",\"wb_pop\")\n",
    "wb_emis = get_wb_mrv(\"EN.ATM.CO2E.FF.KT\",\"wb_emis\") #CO2 emissions from fossil fuels, total;"
   ]
  },
  {
   "cell_type": "code",
   "execution_count": 16,
   "metadata": {
    "collapsed": true
   },
   "outputs": [],
   "source": [
    "wb_emis = wb_emis.ix[tot_emis.index]"
   ]
  },
  {
   "cell_type": "code",
   "execution_count": 18,
   "metadata": {
    "collapsed": false
   },
   "outputs": [
    {
     "data": {
      "text/plain": [
       "country\n",
       "Albania                    NaN\n",
       "Armenia                    NaN\n",
       "Bangladesh                 NaN\n",
       "Ghana           1693805.518934\n",
       "India                      NaN\n",
       "Iraq                       NaN\n",
       "Liberia         1788823.758953\n",
       "Malawi          1877452.705637\n",
       "Moldova                    NaN\n",
       "Niger           5696680.335304\n",
       "Rwanda          2473574.510851\n",
       "Senegal         1941522.382588\n",
       "Sierra Leone    1168304.614147\n",
       "Vietnam                    NaN\n",
       "dtype: float64"
      ]
     },
     "execution_count": 18,
     "metadata": {},
     "output_type": "execute_result"
    }
   ],
   "source": [
    "tot_emis/wb_emis"
   ]
  },
  {
   "cell_type": "markdown",
   "metadata": {},
   "source": [
    "###Data from IEA"
   ]
  },
  {
   "cell_type": "code",
   "execution_count": 117,
   "metadata": {
    "collapsed": false
   },
   "outputs": [],
   "source": [
    "iso_to_name = pd.read_csv(\"iso3_to_wb_name.csv\",usecols=[\"iso3\",\"country\"],index_col=\"iso3\",squeeze=True)\n",
    "names_to_iso = pd.read_csv(\"names_to_iso.csv\",usecols=[\"country\",\"iso3\"],index_col=\"country\",squeeze=True)\n",
    "any_name_to_wb_name = names_to_iso.replace(iso_to_name)\n",
    "any_name_to_wb_name;\n",
    "\n",
    "iea_emis=pd.read_csv(\"carbon_emissions_from_iea.csv\",skiprows=[1],na_values=[\"..\"]).dropna(axis=1,how=\"all\").dropna().replace(any_name_to_wb_name).set_index(\"country\")\n",
    "iea_emis = iea_emis.ix[wb_emis.index].astype(\"float\")"
   ]
  },
  {
   "cell_type": "code",
   "execution_count": 115,
   "metadata": {
    "collapsed": false
   },
   "outputs": [
    {
     "data": {
      "text/plain": [
       "country\n",
       "Albania              NaN\n",
       "Armenia              NaN\n",
       "Bangladesh           NaN\n",
       "Ghana           7444.010\n",
       "India                NaN\n",
       "Iraq                 NaN\n",
       "Liberia          524.381\n",
       "Malawi          1059.763\n",
       "Moldova              NaN\n",
       "Niger           1158.772\n",
       "Rwanda           726.066\n",
       "Senegal         4576.416\n",
       "Sierra Leone    1415.462\n",
       "Vietnam              NaN\n",
       "Name: wb_emis, dtype: float64"
      ]
     },
     "execution_count": 115,
     "metadata": {},
     "output_type": "execute_result"
    }
   ],
   "source": [
    "wb_emis"
   ]
  },
  {
   "cell_type": "code",
   "execution_count": 114,
   "metadata": {
    "collapsed": false
   },
   "outputs": [
    {
     "data": {
      "text/plain": [
       "country\n",
       "Albania          0.00\n",
       "Armenia          1.42\n",
       "Bangladesh      16.81\n",
       "Ghana            0.82\n",
       "India           30.52\n",
       "Iraq            10.96\n",
       "Liberia           NaN\n",
       "Malawi            NaN\n",
       "Moldova          3.39\n",
       "Niger             NaN\n",
       "Rwanda            NaN\n",
       "Senegal          0.05\n",
       "Sierra Leone      NaN\n",
       "Vietnam         17.15\n",
       "Name: 2012, dtype: float64"
      ]
     },
     "execution_count": 114,
     "metadata": {},
     "output_type": "execute_result"
    }
   ],
   "source": [
    "iea_emis.iloc[:,-1]"
   ]
  },
  {
   "cell_type": "markdown",
   "metadata": {},
   "source": [
    "###Comparing various sources"
   ]
  },
  {
   "cell_type": "code",
   "execution_count": null,
   "metadata": {
    "collapsed": false
   },
   "outputs": [],
   "source": [
    "(tot_pop/wb_pop).dropna()"
   ]
  },
  {
   "cell_type": "code",
   "execution_count": null,
   "metadata": {
    "collapsed": false
   },
   "outputs": [],
   "source": []
  },
  {
   "cell_type": "code",
   "execution_count": null,
   "metadata": {
    "collapsed": false
   },
   "outputs": [],
   "source": [
    "wb_emis_pc=wb_emis_pc.ix[tot_emis.index]\n",
    "wb_emis = wb_emis.ix[tot_emis.index] #kilotons, for some reason\n",
    "wb_emis;"
   ]
  },
  {
   "cell_type": "code",
   "execution_count": null,
   "metadata": {
    "collapsed": false
   },
   "outputs": [],
   "source": [
    "tot_emis/wb_emis"
   ]
  },
  {
   "cell_type": "code",
   "execution_count": null,
   "metadata": {
    "collapsed": false
   },
   "outputs": [],
   "source": [
    "(tot_emis/tot_pop)/(wb_emis_pc)"
   ]
  },
  {
   "cell_type": "code",
   "execution_count": null,
   "metadata": {
    "collapsed": true
   },
   "outputs": [],
   "source": [
    "#expenditures per capita\n",
    "hh_exp = pd.read_csv(\"csvdata/PerCapitaExpenditures.csv\").replace(iso_to_name)\n",
    "hh_exp.rename(columns={\"value\": \"hh_exp_pc\"},inplace=True)\n",
    "hh_exp.set_index([\"country\",\"hid\"],inplace=\"True\")"
   ]
  },
  {
   "cell_type": "code",
   "execution_count": null,
   "metadata": {
    "collapsed": false
   },
   "outputs": [],
   "source": [
    "#builds dataframe indexed by country and hid with all the data\n",
    "df = pd.DataFrame(hh_exp[\"hh_exp_pc\"])\n",
    "df[\"hh_emi\"]=hh_emi[\"hh_emis\"]\n",
    "df[\"hh_emi_pc\"]=hh_emi_pc\n",
    "df[\"nb_people\"]=nb_people\n",
    "df[\"w\"]=hop[\"weight\"]\n",
    "df[\"hh_emis_perdol\"]=df[\"hh_emi_pc\"]/df[\"hh_exp_pc\"]\n",
    "\n",
    "#Vietnam \n",
    "vn=df.ix[\"VNM\",:]"
   ]
  },
  {
   "cell_type": "code",
   "execution_count": null,
   "metadata": {
    "collapsed": false
   },
   "outputs": [],
   "source": [
    "def wavg(val_col_name, wt_col_name):\n",
    "    \"\"\"computes the average of val_col_name weighted by wt_col_name\"\"\"\n",
    "    def inner(group):\n",
    "        return (group[val_col_name] * group[wt_col_name]).sum() / group[wt_col_name].sum()\n",
    "    #inner.__name__ = res_name\n",
    "    return inner"
   ]
  },
  {
   "cell_type": "code",
   "execution_count": null,
   "metadata": {
    "collapsed": false
   },
   "outputs": [],
   "source": [
    "flat_df =  df.reset_index()\n",
    "country_list = flat_df.country.unique()"
   ]
  },
  {
   "cell_type": "code",
   "execution_count": null,
   "metadata": {
    "collapsed": false
   },
   "outputs": [],
   "source": [
    "#Categories USD per day categories\n",
    "income_bins = np.array([0,1,1.25,2,2.5,4]+[10*2.**i for i in range(0,15,1)]) \n",
    "income_cut = pd.cut(flat_df[\"hh_exp_pc\"]/365, income_bins)\n",
    "\n",
    "income_cut.unique()\n"
   ]
  },
  {
   "cell_type": "code",
   "execution_count": null,
   "metadata": {
    "collapsed": false
   },
   "outputs": [],
   "source": [
    "flat_df"
   ]
  },
  {
   "cell_type": "code",
   "execution_count": null,
   "metadata": {
    "collapsed": false
   },
   "outputs": [],
   "source": [
    "#\n",
    "stats = pd.DataFrame()\n",
    "grouped =flat_df.groupby([\"country\",income_cut])\n",
    "stats[\"avg_emis_pc\"]=grouped.apply(wavg('hh_emi_pc', 'w'))\n",
    "stats[\"nb_people0\"] =grouped[\"nb_people\"].sum()\n",
    "#stats.sort_index(inplace=True)\n",
    "#stats[\"nb_people1\"]=grouped[\"nb_people\"]\n",
    "stats"
   ]
  },
  {
   "cell_type": "code",
   "execution_count": null,
   "metadata": {
    "collapsed": false
   },
   "outputs": [],
   "source": [
    "#stats.ix[c]\n",
    "#country_stats"
   ]
  },
  {
   "cell_type": "code",
   "execution_count": null,
   "metadata": {
    "collapsed": true
   },
   "outputs": [],
   "source": [
    "#for c in country_list:\n",
    "#def lift_folks(country_stats):\n",
    "def lift_folks(country_stats):\n",
    "    #out = pd.DataFrame(index=country_stats.index)\n",
    "    emis =pd.DataFrame(index=[\"emis\"])\n",
    "    out= country_stats.ix[:,[\"nb_people0\"]]\n",
    "    for i in range(1,10):\n",
    "        nam = 'min'+str(income_bins[i])\n",
    "        out[nam] = country_stats[\"nb_people0\"]\n",
    "        out.ix[i,nam] = country_stats.ix[0:i+1,\"nb_people0\"].sum()\n",
    "        out.ix[0:i,nam] =0\n",
    "        #emis[str(i)]= np.average(country_stats[\"avg_emis_pc\"],weights=out[nam])\n",
    "    return out\n",
    " #   stats.ix[c,[out.columns.values]]=out"
   ]
  },
  {
   "cell_type": "code",
   "execution_count": null,
   "metadata": {
    "collapsed": false
   },
   "outputs": [],
   "source": [
    "emis_sce_country = pd.DataFrame()\n",
    "#computes new emissions at once\n",
    "for c in country_list:\n",
    "    emis_sce_country[c]= stats.ix[c][\"avg_emis_pc\"].dot(lift_folks(stats.ix[c,:]))/(stats.ix[c][\"nb_people0\"].sum())\n",
    "    \n",
    "emis_sce_country    "
   ]
  },
  {
   "cell_type": "code",
   "execution_count": null,
   "metadata": {
    "collapsed": false
   },
   "outputs": [],
   "source": [
    "#emis_sce_country['tot']=emis_sce_country.sum(axis=1)  "
   ]
  },
  {
   "cell_type": "code",
   "execution_count": null,
   "metadata": {
    "collapsed": false
   },
   "outputs": [],
   "source": [
    "(emis_sce_country/emis_sce_country.ix[\"nb_people0\",:]-1)*100"
   ]
  },
  {
   "cell_type": "code",
   "execution_count": null,
   "metadata": {
    "collapsed": false
   },
   "outputs": [],
   "source": [
    "#paf = stats.reset_index().groupby(\"country\").apply(lift_folks)\n",
    "#paf.reset_index().groupby(\"country\").apply(wavg(\"avg_emis_pc\",\"nb_people1\"))\n",
    "#paf"
   ]
  },
  {
   "cell_type": "code",
   "execution_count": null,
   "metadata": {
    "collapsed": false
   },
   "outputs": [],
   "source": [
    "#pd.concat([flat_df,pd.get_dummies(income_cut)],axis=1).set_index([\"country\",\"hid\"])\n",
    "income_cut = pd.cut(df[\"hh_exp_pc\"]/365, income_bins)\n",
    "\n",
    "income_dummies= pd.get_dummies(income_cut)\n",
    "df= pd.concat([df,income_dummies],axis=1)\n",
    "df"
   ]
  },
  {
   "cell_type": "code",
   "execution_count": null,
   "metadata": {
    "collapsed": false
   },
   "outputs": [],
   "source": [
    "stats.ix[:,\"nb_people1\"] = stats.ix[:,\"nb_people\"]\n",
    "stats.ix[:,\"nb_people1\"]"
   ]
  },
  {
   "cell_type": "code",
   "execution_count": null,
   "metadata": {
    "collapsed": false
   },
   "outputs": [],
   "source": [
    "stats.ix[pd.MultiIndex(\"ALB)]"
   ]
  },
  {
   "cell_type": "code",
   "execution_count": null,
   "metadata": {
    "collapsed": false
   },
   "outputs": [],
   "source": [
    "wp(vn[\"hh_exp_pc\"],vn[\"nb_people\"],np.arange(0,1,0.1))"
   ]
  },
  {
   "cell_type": "code",
   "execution_count": null,
   "metadata": {
    "collapsed": false
   },
   "outputs": [],
   "source": [
    "font = {'family' : 'serif',\n",
    "        'weight' : 'normal',\n",
    "        'size'   : 15}\n",
    "plt.rc('font', **font)\n",
    "plt.figure(figsize=(9,7))\n",
    "plt.plot((df[\"hh_exp_pc\"]),df[\"hh_emi_pc\"]/df[\"hh_exp_pc\"],color=\"blue\",marker='.',markeredgewidth=1,linestyle='None',markersize=12,clip_on=False)\n",
    "plt.xlabel(\"$\\$/yr$\")\n",
    "plt.ylabel(\"$gCO_2/\\$$\")\n",
    "plt.xscale(\"log\")"
   ]
  },
  {
   "cell_type": "code",
   "execution_count": null,
   "metadata": {
    "collapsed": false
   },
   "outputs": [],
   "source": [
    "stats."
   ]
  },
  {
   "cell_type": "code",
   "execution_count": null,
   "metadata": {
    "collapsed": false
   },
   "outputs": [],
   "source": [
    "def weighted_rolling_mean(x,y,w,kernel):\n",
    "    "
   ]
  },
  {
   "cell_type": "code",
   "execution_count": null,
   "metadata": {
    "collapsed": false
   },
   "outputs": [],
   "source": [
    "from statsmodels.nonparametric.kernel_regression import KernelReg\n",
    "import numpy as np\n",
    "import matplotlib.pyplot as plt\n",
    "x = np.linspace(0,2*np.pi,100)\n",
    "y = np.sin(x) + np.random.random(100) * 0.2\n",
    "kr = KernelReg(y,x,'o')\n",
    "plt.plot(x, y, '+')\n",
    "y_pred, y_std = kr.fit(x)\n",
    "plt.plot(x, y_pred)"
   ]
  },
  {
   "cell_type": "code",
   "execution_count": null,
   "metadata": {
    "collapsed": false
   },
   "outputs": [],
   "source": [
    "def plot_distribution(y,w,thecolor=\"red\"):\n",
    "    hist, bin_edges = np.histogram(y,bins=100,weights=w,density=True)\n",
    "    width = 0.5 * (bin_edges[1] - bin_edges[0])\n",
    "    center = (bin_edges[:-1] + bin_edges[1:]) / 2\n",
    "    xs = np.linspace(center.min(),center.max(),300)\n",
    "    plt.bar(center, hist, align='center', width=width,alpha=0.0,color=thecolor)\n",
    "    density = gaussian_kde(y,weights=w)\n",
    "    density._compute_covariance()\n",
    "    plt.plot(xs,density(xs),linewidth=2,color=thecolor)\n"
   ]
  },
  {
   "cell_type": "code",
   "execution_count": null,
   "metadata": {
    "collapsed": false
   },
   "outputs": [],
   "source": [
    "plot_distribution(np.log(vn.hh_emi_pc),vn.w)\n",
    "\n"
   ]
  },
  {
   "cell_type": "code",
   "execution_count": null,
   "metadata": {
    "collapsed": false
   },
   "outputs": [],
   "source": []
  }
 ],
 "metadata": {
  "kernelspec": {
   "display_name": "Python 3",
   "language": "python",
   "name": "python3"
  },
  "language_info": {
   "codemirror_mode": {
    "name": "ipython",
    "version": 3
   },
   "file_extension": ".py",
   "mimetype": "text/x-python",
   "name": "python",
   "nbconvert_exporter": "python",
   "pygments_lexer": "ipython3",
   "version": "3.4.1"
  }
 },
 "nbformat": 4,
 "nbformat_minor": 0
}
