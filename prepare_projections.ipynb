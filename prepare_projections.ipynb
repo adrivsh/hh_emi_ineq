{
 "cells": [
  {
   "cell_type": "code",
   "execution_count": 4,
   "metadata": {
    "collapsed": true
   },
   "outputs": [],
   "source": [
    "import pandas as pd\n",
    "import numpy as np"
   ]
  },
  {
   "cell_type": "code",
   "execution_count": 5,
   "metadata": {
    "collapsed": true
   },
   "outputs": [],
   "source": [
    "def to_lower_case(serie):\n",
    "    \"\"\"#function to lower-caseall string series in a table and let others untouched (for future reference)\"\"\"\n",
    "    try: return serie.str.lower()\n",
    "    except AttributeError: return serie"
   ]
  },
  {
   "cell_type": "code",
   "execution_count": 25,
   "metadata": {
    "collapsed": false
   },
   "outputs": [],
   "source": [
    "years = [\"2030\",\"2035\",\"2040\",\"2045\",\"2050\"]"
   ]
  },
  {
   "cell_type": "code",
   "execution_count": 26,
   "metadata": {
    "collapsed": false
   },
   "outputs": [],
   "source": [
    "#Data from SSP database\n",
    "\n",
    "country_data = pd.read_csv(\"projections/SspDb_country_data_2013-06-12.csv\",usecols=[\"MODEL\",\"SCENARIO\",\"REGION\",\"VARIABLE\",\"2030\",\"2035\",\"2040\",\"2045\",\"2050\"]\n",
    "           ).query(\"VARIABLE in ['Population','GDP|PPP']\")\n",
    "\n",
    "#lower cases colum names and cariable names\n",
    "country_data.columns=country_data.columns.str.lower()\n",
    "country_data[\"variable\"] = country_data.variable.str.lower()\n",
    "country_data;"
   ]
  },
  {
   "cell_type": "code",
   "execution_count": 27,
   "metadata": {
    "collapsed": false
   },
   "outputs": [
    {
     "data": {
      "text/plain": [
       "{'GLP', 'GUF', 'MTQ', 'MYT', 'REU'}"
      ]
     },
     "execution_count": 27,
     "metadata": {},
     "output_type": "execute_result"
    }
   ],
   "source": [
    "#iso3to WB name\n",
    "iso3_to_wb=pd.read_csv(\"iso3_to_wb_name.csv\", index_col=\"iso3\", squeeze=True)\n",
    "\n",
    "country_data[\"country\"]=country_data.region.str.upper().replace(iso3_to_wb)\n",
    "set([c for c in country_data.country if c not in iso3_to_wb.tolist()]) #these are all french territories \n"
   ]
  },
  {
   "cell_type": "code",
   "execution_count": 28,
   "metadata": {
    "collapsed": false
   },
   "outputs": [
    {
     "name": "stdout",
     "output_type": "stream",
     "text": [
      "['IIASA-WiC POP' 'IIASA GDP' 'OECD Env-Growth' 'PIK GDP-32' 'NCAR']\n",
      "['SSP3_v9_130115' 'SSP1_v9_130219' 'SSP2_v9_130219' 'SSP3_v9_130219'\n",
      " 'SSP4_v9_130219' 'SSP5_v9_130219' 'SSP1_v9_130325' 'SSP2_v9_130325'\n",
      " 'SSP3_v9_130325' 'SSP4_v9_130325' 'SSP5_v9_130325' 'SSP1_v9_130424'\n",
      " 'SSP2_v9_130424' 'SSP3_v9_130424' 'SSP4_v9_130424' 'SSP5_v9_130424'\n",
      " 'SSP5_v9_130115' 'SSP1_v9_130115' 'SSP2_v9_130115' 'SSP4_v9_130115'\n",
      " 'SSP4d_v9_130115']\n"
     ]
    }
   ],
   "source": [
    "print(country_data.model.unique())\n",
    "print(country_data.scenario.unique())"
   ]
  },
  {
   "cell_type": "code",
   "execution_count": 29,
   "metadata": {
    "collapsed": false
   },
   "outputs": [
    {
     "data": {
      "text/plain": [
       "array(['population', 'gdp|ppp'], dtype=object)"
      ]
     },
     "execution_count": 29,
     "metadata": {},
     "output_type": "execute_result"
    }
   ],
   "source": [
    "country_data.variable.unique()"
   ]
  },
  {
   "cell_type": "code",
   "execution_count": 30,
   "metadata": {
    "collapsed": false
   },
   "outputs": [
    {
     "name": "stdout",
     "output_type": "stream",
     "text": [
      "['SSP3_v9_130115' 'SSP5_v9_130115' 'SSP1_v9_130115' 'SSP2_v9_130115'\n",
      " 'SSP4d_v9_130115']\n"
     ]
    },
    {
     "data": {
      "text/plain": [
       "array(['SSP3', 'SSP5', 'SSP1', 'SSP2', 'SSP4'], dtype=object)"
      ]
     },
     "execution_count": 30,
     "metadata": {},
     "output_type": "execute_result"
    }
   ],
   "source": [
    "#Exports population\n",
    "pop = country_data.query(\"model=='IIASA-WiC POP'  & variable=='population'\").set_index(\"country\")[[\"scenario\"]+years]\n",
    "print(pop.scenario.unique())\n",
    "pop.scenario=pop.scenario.apply(lambda s: s[0:4])\n",
    "pop.to_csv(\"population_ssp.csv\")\n",
    "pop.scenario.unique()"
   ]
  },
  {
   "cell_type": "code",
   "execution_count": 32,
   "metadata": {
    "collapsed": false
   },
   "outputs": [
    {
     "name": "stdout",
     "output_type": "stream",
     "text": [
      "['SSP1_v9_130325' 'SSP2_v9_130325' 'SSP3_v9_130325' 'SSP4_v9_130325'\n",
      " 'SSP5_v9_130325']\n"
     ]
    }
   ],
   "source": [
    "#Exports GDP\n",
    "gdp = country_data.query(\"model=='OECD Env-Growth' & variable=='gdp|ppp'\").set_index(\"country\")[[\"scenario\"]+years]\n",
    "print(gdp.scenario.unique())\n",
    "gdp.scenario=gdp.scenario.apply(lambda s: s[0:4])\n",
    "gdp.to_csv(\"gdp_ssp.csv\")"
   ]
  },
  {
   "cell_type": "code",
   "execution_count": null,
   "metadata": {
    "collapsed": true
   },
   "outputs": [],
   "source": []
  },
  {
   "cell_type": "code",
   "execution_count": null,
   "metadata": {
    "collapsed": true
   },
   "outputs": [],
   "source": []
  },
  {
   "cell_type": "code",
   "execution_count": null,
   "metadata": {
    "collapsed": true
   },
   "outputs": [],
   "source": []
  }
 ],
 "metadata": {
  "kernelspec": {
   "display_name": "Python 3",
   "language": "python",
   "name": "python3"
  },
  "language_info": {
   "codemirror_mode": {
    "name": "ipython",
    "version": 3
   },
   "file_extension": ".py",
   "mimetype": "text/x-python",
   "name": "python",
   "nbconvert_exporter": "python",
   "pygments_lexer": "ipython3",
   "version": "3.4.1"
  }
 },
 "nbformat": 4,
 "nbformat_minor": 0
}
