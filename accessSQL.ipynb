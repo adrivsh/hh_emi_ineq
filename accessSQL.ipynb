{
 "cells": [
  {
   "cell_type": "code",
   "execution_count": 39,
   "metadata": {
    "collapsed": false
   },
   "outputs": [],
   "source": [
    "import sqlalchemy\n",
    "import pandas as pd"
   ]
  },
  {
   "cell_type": "code",
   "execution_count": 43,
   "metadata": {
    "collapsed": false
   },
   "outputs": [],
   "source": [
    "engine = sqlalchemy.create_engine('mssql+pyodbc://wbmserccar101/POVANA14')"
   ]
  },
  {
   "cell_type": "markdown",
   "metadata": {},
   "source": [
    "## Adrien's things"
   ]
  },
  {
   "cell_type": "code",
   "execution_count": 45,
   "metadata": {
    "collapsed": false
   },
   "outputs": [],
   "source": [
    "#pd.read_sql_table('data', engine)\n",
    "emissionsbyhousehold = pd.read_sql_table(\"emissionsbyhousehold\",engine,schema=\"combined\")\n",
    "PerCapitaExpenditures= pd.read_sql_table(\"PerCapitaExpenditures\",engine,schema=\"combined\")\n",
    "HHLDDATA= pd.read_sql_table(\"HHLDDATA\",engine,schema=\"combined\")\n",
    "tradedatagtp= pd.read_sql_table(\"tradedatagtp\",engine,schema=\"combined\")\n",
    "PERSDATA= pd.read_sql_table(\"PERSDATA\",engine,schema=\"combined\")\n",
    "DecileComposite= pd.read_sql_table(\"DecileComposite\",engine,schema=\"combined\")"
   ]
  },
  {
   "cell_type": "code",
   "execution_count": 1,
   "metadata": {
    "collapsed": true
   },
   "outputs": [],
   "source": [
    "import os\n",
    "os.makedirs(\"csvdata\",exist_ok=True)"
   ]
  },
  {
   "cell_type": "code",
   "execution_count": 46,
   "metadata": {
    "collapsed": false
   },
   "outputs": [],
   "source": [
    "emissionsbyhousehold .to_csv(\"csvdata/emissionsbyhousehold.csv\")\n",
    "PerCapitaExpenditures.to_csv(\"csvdata/PerCapitaExpenditures.csv\")\n",
    "HHLDDATA             .to_csv(\"csvdata/HHLDDATA.csv\"             )\n",
    "tradedatagtp         .to_csv(\"csvdata/tradedatagtp.csv\"         )\n",
    "PERSDATA             .to_csv(\"csvdata/PERSDATA.csv\"             )\n",
    "DecileComposite      .to_csv(\"csvdata/DecileComposite.csv\"      )"
   ]
  },
  {
   "cell_type": "code",
   "execution_count": null,
   "metadata": {
    "collapsed": false
   },
   "outputs": [],
   "source": []
  }
 ],
 "metadata": {
  "kernelspec": {
   "display_name": "Python 3",
   "language": "python",
   "name": "python3"
  },
  "language_info": {
   "codemirror_mode": {
    "name": "ipython",
    "version": 3
   },
   "file_extension": ".py",
   "mimetype": "text/x-python",
   "name": "python",
   "nbconvert_exporter": "python",
   "pygments_lexer": "ipython3",
   "version": "3.4.1"
  }
 },
 "nbformat": 4,
 "nbformat_minor": 0
}
