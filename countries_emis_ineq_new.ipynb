{
 "cells": [
  {
   "cell_type": "code",
   "execution_count": 5,
   "metadata": {
    "collapsed": false
   },
   "outputs": [
    {
     "name": "stdout",
     "output_type": "stream",
     "text": [
      "The autoreload extension is already loaded. To reload it, use:\n",
      "  %reload_ext autoreload\n"
     ]
    }
   ],
   "source": [
    "%load_ext autoreload\n",
    "%autoreload 2\n",
    "\n",
    "from wb_api_wrapper import *\n",
    "\n",
    "import pandas as pd\n",
    "import numpy as np\n",
    "import statsmodels.formula.api as smf\n",
    "import statsmodels.api as sm\n",
    "from statsmodels.sandbox.regression.predstd import wls_prediction_std\n",
    "\n",
    "from IPython.display import display, HTML\n",
    "\n",
    "import matplotlib.pyplot as plt \n",
    "%matplotlib inline\n"
   ]
  },
  {
   "cell_type": "code",
   "execution_count": 6,
   "metadata": {
    "collapsed": false
   },
   "outputs": [],
   "source": [
    "#Pandas display options\n",
    "pd.set_option('display.max_colwidth', 200)\n",
    "pd.set_option('display.width', 200)\n",
    "pd.set_option('display.precision', 4)\n",
    "pd.set_option('display.max_rows', 200)"
   ]
  },
  {
   "cell_type": "code",
   "execution_count": null,
   "metadata": {
    "collapsed": true
   },
   "outputs": [],
   "source": []
  },
  {
   "cell_type": "code",
   "execution_count": 7,
   "metadata": {
    "collapsed": true
   },
   "outputs": [],
   "source": [
    "#Options for plots\n",
    "font = {'family' : 'serif',\n",
    "    'weight' : 'normal',\n",
    "    'size'   : 12}\n",
    "\n",
    "plt.rc('font', **font)\n",
    "plt.rcParams[\"legend.fancybox\"]=True\n",
    "plt.rcParams[\"savefig.dpi\"]=90\n",
    "\n",
    "plot_options = dict(alpha=0.5)\n",
    "\n",
    "def format_fig(ax):\n",
    "    ax.set_xlim(0)\n",
    "    ax.set_ylim(0)"
   ]
  },
  {
   "cell_type": "code",
   "execution_count": 8,
   "metadata": {
    "collapsed": false
   },
   "outputs": [],
   "source": [
    "#Searching the WB API database\n",
    "\n",
    "search_wb(\"GDP\");\n",
    "search_wb(\"emissions\");"
   ]
  },
  {
   "cell_type": "markdown",
   "metadata": {},
   "source": [
    "# Data"
   ]
  },
  {
   "cell_type": "markdown",
   "metadata": {
    "collapsed": true
   },
   "source": [
    "### Pop and gdp"
   ]
  },
  {
   "cell_type": "code",
   "execution_count": 9,
   "metadata": {
    "collapsed": false
   },
   "outputs": [],
   "source": [
    "#gdp_pc_ppp  = get_wb(\"NY.GNP.PCAP.PP.CD\") if gni else get_wb(\"NY.GDP.PCAP.PP.CD\")#GDP per capita, PPP (constant 2011 international $)\n",
    "gdp = get_wb(\"NY.GDP.MKTP.PP.KD\")#GGDP, PPP (constant 2011 international $)\n",
    "pop = get_wb(\"SP.POP.TOTL\") #populationb\n",
    "\n",
    "gdp_pc_ppp=gdp/pop"
   ]
  },
  {
   "cell_type": "markdown",
   "metadata": {},
   "source": [
    "### Emissions"
   ]
  },
  {
   "cell_type": "code",
   "execution_count": 10,
   "metadata": {
    "collapsed": false
   },
   "outputs": [],
   "source": [
    "emis_tot = get_wb(\"EN.ATM.CO2E.KT\")*1000 #emissions in tons\n",
    "#Both series end in 2011\n",
    "\n",
    "emis_intens = emis_tot /gdp \n",
    "emis_pc = emis_tot/pop"
   ]
  },
  {
   "cell_type": "markdown",
   "metadata": {},
   "source": [
    "###Dataframe"
   ]
  },
  {
   "cell_type": "code",
   "execution_count": 11,
   "metadata": {
    "collapsed": false
   },
   "outputs": [
    {
     "name": "stdout",
     "output_type": "stream",
     "text": [
      "income bins [0, 1406.4334773738788, 2306.1859942792667, 4057.0886270776869, 6413.4570457119662, 9176.798702728116, 12418.041232104768, 17800.033169427625, 27906.491124886128, 41449.72881262521, 10000000.0]\n"
     ]
    }
   ],
   "source": [
    "df=pd.DataFrame()\n",
    "df[\"emis_intens\"]=emis_intens.stack()\n",
    "df[\"gdp_pc\"] = gdp_pc_ppp.stack()\n",
    "df[\"pop\"] = pop.stack()\n",
    "df[\"emis_tot\"] = emis_tot.stack()\n",
    "\n",
    "df[\"emis_pc\"]= emis_pc.stack()\n",
    "\n",
    "\n",
    "#Income gorups for countries and HIPC status\n",
    "groups = pd.read_csv(\"counry_income_groups.csv\",header =4,index_col=2).replace({\"ROM\":\"ROU\",\"ZAR\":\"COD\"})  #they used old iso3 country for Zair (Congo) and Romania\n",
    "groups.dropna(axis=0,how=\"all\",inplace=True);\n",
    "\n",
    "df= df.ix[groups.index] #keeps only actula countries (no macro regions or groups of countries)\n",
    "\n",
    "data_all = df.reset_index()\n",
    "\n",
    "#income bins\n",
    "bins = [0]+ data_all.gdp_pc.quantile([.2,.4,.6,.8,1]).tolist()\n",
    "bins = [0]+ data_all.gdp_pc.quantile([.1,.2,.3,.4,.5,.6,.7,.8,.9,1]).tolist()\n",
    "bins[-1]=1e7 #\"makes sure the last bins covers future incomes\"\n",
    "print(\"income bins\", bins)\n",
    "\n",
    "\n",
    "data_all[\"income_bins\"] = pd.cut(data_all.gdp_pc,bins);\n",
    "\n"
   ]
  },
  {
   "cell_type": "code",
   "execution_count": 12,
   "metadata": {
    "collapsed": false
   },
   "outputs": [
    {
     "name": "stdout",
     "output_type": "stream",
     "text": [
      "Global CO2 emissions in the sample: 32 GtCO2\n"
     ]
    }
   ],
   "source": [
    "#Current emissions\n",
    "emis_ref = data_all.dropna().query(\"year=='2011'\").emis_tot.sum()\n",
    "print(\"Global CO2 emissions in the sample: {emis:0.0f} GtCO2\".format(emis=emis_ref*1e-9))"
   ]
  },
  {
   "cell_type": "markdown",
   "metadata": {},
   "source": [
    "## Lorenz curve"
   ]
  },
  {
   "cell_type": "code",
   "execution_count": 13,
   "metadata": {
    "collapsed": false
   },
   "outputs": [],
   "source": [
    "lending_group =pd.read_excel(\"CLASS.xls\", skiprows=4, index_col=\"Economy\", usecols=[\"Economy\",\"Lending category\"]).dropna(how=\"all\").dropna(how=\"all\",axis=1).squeeze()"
   ]
  },
  {
   "cell_type": "code",
   "execution_count": 17,
   "metadata": {
    "collapsed": false
   },
   "outputs": [],
   "source": [
    "#SPECILA TREATEMENT FOR INDIA\n",
    "lending_group[\"India\"]=\"Blend\""
   ]
  },
  {
   "cell_type": "code",
   "execution_count": 18,
   "metadata": {
    "collapsed": false
   },
   "outputs": [],
   "source": [
    "lending_group.unique()\n",
    "colors = {\n",
    "    'IDA':\"#d7301f\", 'IBRD':\"#67a9cf\", '..':\"#f7f7f7\", 'Blend':\"#af8dc3\"\n",
    "}\n",
    "edgecolors = {\n",
    "    'IDA':\"#ff0000\", 'IBRD':\"#053061\", '..':\"#4d4d4d\", 'Blend':\"#7b3294\"\n",
    "}\n"
   ]
  },
  {
   "cell_type": "code",
   "execution_count": 19,
   "metadata": {
    "collapsed": false
   },
   "outputs": [
    {
     "name": "stderr",
     "output_type": "stream",
     "text": [
      "C:\\Users\\Admin\\Anaconda3\\lib\\site-packages\\ipykernel\\__main__.py:1: FutureWarning: sort(columns=....) is deprecated, use sort_values(by=.....)\n",
      "  if __name__ == '__main__':\n"
     ]
    },
    {
     "data": {
      "image/png": "[encoded data removed]",
      "text/plain": [
       "<matplotlib.figure.Figure at 0xaa18e48>"
      ]
     },
     "metadata": {},
     "output_type": "display_data"
    }
   ],
   "source": [
    "dsimple = data_all.query(\"year=='2011'\")[[\"country\",\"pop\",\"gdp_pc\",\"emis_tot\",\"emis_pc\"]].sort(\"gdp_pc\")\n",
    "\n",
    "dsimple[\"country_color\"] = dsimple.country.replace(lending_group.replace(colors))\n",
    "\n",
    "names_=dsimple[\"country\"]\n",
    "logical=names_.isin([\"United States\",\"India\",\"China\",\"Russian Federation\", \"Uzbekistan\",\n",
    "                    \"Japan\",\"Germany\",\"Switzerland\" , \"Norway\", \"Singapore\", \"France\"]) \n",
    "#+ names_.replace(lending_group).isin([\"Blend\"])\n",
    "\n",
    "dsimple.to_excel(\"fig6.3_not_cumulative__.xlsx\")\n",
    "\n",
    "plt.figure(figsize=(12,8))\n",
    "x=dsimple[\"gdp_pc\"]\n",
    "y=dsimple[\"emis_pc\"]\n",
    "plt.scatter(x,y, s=2*dsimple[\"emis_tot\"]/5e6, alpha=0.8, \n",
    "            c=dsimple.country.replace(lending_group.replace(colors)), \n",
    "            edgecolors=dsimple.country.replace(lending_group.replace(edgecolors)))\n",
    "plt.xlim(0,80000)\n",
    "plt.ylim(0,30)\n",
    "\n",
    "\n",
    "offsets ={\n",
    "    \"United States\":(22,0),\"India\":(-12,18),\"China\":(21,18),\n",
    "    \"Russian Federation\":(14,1), \"Uzbekistan\":(10,0),\n",
    "    \"Japan\":(12,0),\"Germany\":(10,0),\"France\":(-20, -10),\n",
    "    \"Switzerland\":(10,0) ,\"Kuwait\":(-25,-10),\n",
    "    \"Norway\":(10,0), \"Singapore\":(-28,-10)\n",
    "}\n",
    "ax=plt.gca()\n",
    "ax.spines['top'].set_color('none')\n",
    "ax.spines['right'].set_color('none')\n",
    "ax.set_ylim(ymax=25)\n",
    "\n",
    "#removes ticks \n",
    "for tic in ax.yaxis.get_major_ticks()+ax.xaxis.get_major_ticks():\n",
    "    tic.tick1On = tic.tick2On = False\n",
    "\n",
    "if (logical is not None) :\n",
    "    for label, x_, y_ in zip(names_[logical], x[logical], y[logical]):\n",
    "        plt.annotate(\n",
    "            label, \n",
    "            xy = (x_, y_), xytext = offsets[label],\n",
    "            textcoords = 'offset points', ha = 'left', va = 'center',fontsize=13, color =edgecolors[lending_group[label]]\n",
    "            #bbox = nonedict(boxstyle = 'round,pad=0.5', fc = 'yellow', alpha = 0.5),\n",
    "            #arrowprops = dict(arrowstyle = '->', connectionstyle = 'arc3,rad=0')\n",
    "        )\n",
    "\n",
    "         \n",
    "#plt.scatter(x.iloc[0:40],y.iloc[0:40], s=dsimple[\"emis_tot\"].iloc[0:40]/5e6, clip_on=False, color=\"red\",alpha=1)\n",
    "plt.title(\"CO$_2$ emissions per country, population, wealth, and lending group\")     \n",
    "        \n",
    "plt.xlabel(\"GDP per capita (USD)\")\n",
    "plt.ylabel(\"Emissions per capita (tCO$_2$/year)\")\n",
    "\n",
    "plt.savefig(\"scatter_natgeo.png\")"
   ]
  },
  {
   "cell_type": "code",
   "execution_count": 20,
   "metadata": {
    "collapsed": false
   },
   "outputs": [
    {
     "name": "stderr",
     "output_type": "stream",
     "text": [
      "C:\\Users\\Admin\\Anaconda3\\lib\\site-packages\\ipykernel\\__main__.py:1: FutureWarning: sort(columns=....) is deprecated, use sort_values(by=.....)\n",
      "  if __name__ == '__main__':\n"
     ]
    },
    {
     "data": {
      "image/png": "[encoded data removed]",
      "text/plain": [
       "<matplotlib.figure.Figure at 0xc629be0>"
      ]
     },
     "metadata": {},
     "output_type": "display_data"
    }
   ],
   "source": [
    "dflor = data_all.query(\"year=='2011'\")[[\"country\",\"pop\",\"gdp_pc\",\"emis_tot\"]].sort(\"gdp_pc\")\n",
    "dflor[[\"pop\",\"emis_tot\"]]=dflor[[\"pop\",\"emis_tot\"]]/1e9\n",
    "dflor[\"cum_emis\"]=dflor.emis_tot.cumsum()\n",
    "dflor[\"cum_pop\"]=[0]+dflor[\"pop\"][:-1].cumsum().tolist()\n",
    "#dflor[\"cum_pop\"]-=dflor[\"cum_pop\"].iloc[0] #offset x axis\n",
    "#dflor.plot(x=\"cum_pop\",y=\"cum_emis\")\n",
    "\n",
    "\n",
    "plt.figure(figsize=(12,8))\n",
    "ax=plt.subplot(1,1,1)\n",
    "\n",
    "ax.spines['top'].set_color('none')\n",
    "ax.spines['right'].set_color('none')\n",
    "\n",
    "ax.bar(dflor.cum_pop, dflor.cum_emis, width=dflor[\"pop\"], linewidth=0.2, color=dsimple.country.replace(lending_group.replace(colors)), \n",
    "            edgecolor=dsimple.country.replace(lending_group.replace(edgecolors)))\n",
    "\n",
    "\n",
    "ax.xaxis.set_ticks_position('bottom')\n",
    "ax.yaxis.set_ticks_position('left')\n",
    "\n",
    "plt.xlabel(\"Population (billions)\")\n",
    "plt.ylabel('Emissions (GtCO$_2$)')\n",
    "\n",
    "title = \"Countries ranked by GDP per capita\"\n",
    "\n",
    "plt.title(title)\n",
    "\n",
    "\n",
    "plt.savefig(\"lorentz_2011_step.png\")\n",
    "\n",
    "plt.savefig(\"lorentz_2011_step.eps\")\n",
    "dflor[[\"country\",\"cum_pop\",\"cum_emis\"]].set_index(\"country\").to_csv(\"lorentz_2011_step.csv\", index=True)\n",
    "\n"
   ]
  },
  {
   "cell_type": "code",
   "execution_count": 51,
   "metadata": {
    "collapsed": false
   },
   "outputs": [
    {
     "name": "stderr",
     "output_type": "stream",
     "text": [
      "C:\\Users\\Admin\\Anaconda3\\lib\\site-packages\\ipykernel\\__main__.py:1: FutureWarning: sort(columns=....) is deprecated, use sort_values(by=.....)\n",
      "  if __name__ == '__main__':\n"
     ]
    },
    {
     "data": {
      "image/png": "[encoded data removed]",
      "text/plain": [
       "<matplotlib.figure.Figure at 0xdc5b160>"
      ]
     },
     "metadata": {},
     "output_type": "display_data"
    }
   ],
   "source": [
    "dflor = data_all.query(\"year=='2011'\")[[\"country\",\"pop\",\"gdp_pc\",\"emis_tot\",\"emis_pc\"]].sort(\"gdp_pc\")\n",
    "dflor[[\"pop\",\"emis_tot\"]]=dflor[[\"pop\",\"emis_tot\"]]/1e9\n",
    "dflor[\"cum_emis\"]=100*dflor.emis_tot.cumsum()/dflor.emis_tot.cumsum().iloc[-1]\n",
    "dflor[\"cum_pop\"]=[0]+dflor[\"pop\"][:-1].cumsum().tolist()\n",
    "\n",
    "dflor[\"cum_pop2\"]=dflor[\"pop\"].cumsum()\n",
    "#dflor[\"cum_pop\"]-=dflor[\"cum_pop\"].iloc[0] #offset x axis\n",
    "#dflor.plot(x=\"cum_pop\",y=\"cum_emis\")\n",
    "plt.figure(figsize=(12,8))\n",
    "\n",
    "ax=plt.subplot(1,1,1)\n",
    "\n",
    "\n",
    "\n",
    "\n",
    "ax.spines['top'].set_color('none')\n",
    "ax.spines['right'].set_color('none')\n",
    "\n",
    "ax.bar(dflor.cum_pop, dflor.emis_pc, width=dflor[\"pop\"], linewidth=0.2, color=dsimple.country.replace(lending_group.replace(colors)), \n",
    "            edgecolor=dsimple.country.replace(lending_group.replace(edgecolors)))\n",
    "\n",
    "\n",
    "ax.xaxis.set_ticks_position('bottom')\n",
    "ax.yaxis.set_ticks_position('left')\n",
    "\n",
    "plt.xlabel(\"Population (billions)\")\n",
    "plt.ylabel('Emissions per capita (tCO$_2$)')\n",
    "\n",
    "\n",
    "ax2=ax.twinx()\n",
    "ax2.plot(dflor.cum_pop2, dflor.cum_emis, \"--\", color=\"#525252\")\n",
    "ax2.set_ylabel(\"Percentage of global emissions\", rotation=-90)\n",
    "\n",
    "ax.spines['top'].set_color('none')\n",
    "ax.set_ylim(ymax=25)\n",
    "ax2.spines['top'].set_color('none')\n",
    "\n",
    "title = \"CO$_2$ emissions per country, population, wealth, and lending group\"\n",
    "\n",
    "for tic in ax2.yaxis.get_major_ticks()+ax.yaxis.get_major_ticks()+ax.xaxis.get_major_ticks():\n",
    "    tic.tick1On = tic.tick2On = False\n",
    "\n",
    "plt.title(title)\n",
    "\n",
    "plt.xlim(xmax=dflor[\"pop\"].sum())\n",
    "\n",
    "\n",
    "\n",
    "if False:\n",
    "    #Get artists and labels for legend and chose which ones to display\n",
    "    handles, labels = ax.get_legend_handles_labels()\n",
    "    display = (0,1,2)\n",
    "\n",
    "    #Create custom artists\n",
    "    simArtist = plt.Line2D((0,1),(0,0), color='k', marker='o', linestyle='')\n",
    "    anyArtist = plt.Line2D((0,1),(0,0), color='k')\n",
    "\n",
    "    #Create legend from custom artist/label lists\n",
    "    ax.legend([handle for i,handle in enumerate(handles) if i in display]+[simArtist,anyArtist],\n",
    "              [label for i,label in enumerate(labels) if i in display]+['Simulation', 'Analytic'])\n",
    "\n",
    "\n",
    "    cols = [colors['IDA'],colors['Blend'], colors['IBRD'], colors['..']]\n",
    "\n",
    "    labels = ['IDA','Blend' , 'IBRD', 'Developped']\n",
    "    dummies = [ax.plot([], [], ls='-', c=c)[0] for c in cols]        \n",
    "    ax.legend(dummies, labels)\n",
    "\n",
    "\n",
    "    \n",
    "import matplotlib.patches as mpatches\n",
    "import matplotlib.lines as mlines\n",
    "\n",
    "patchs=[\n",
    "    mpatches.Patch(ec=colors['IDA'],  fc=colors['IDA'], label='IDA'),\n",
    "    mpatches.Patch(ec=edgecolors['Blend'],fc=colors['Blend'], label='Blend (inc. India)'),\n",
    "    mpatches.Patch(ec=edgecolors['IBRD'], fc=colors['IBRD'], label='IBRD'),\n",
    "    mpatches.Patch(ec=edgecolors['..'],   fc=colors['..'], label='Developped'),\n",
    "    mlines.Line2D([], [], ls=\"--\", color='#525252', label='Cumulative emissions (right axis)')\n",
    "         ]\n",
    "\n",
    "ax.legend(handles=patchs, loc=\"upper left\", prop=font,frameon=False)    \n",
    "\n",
    "\n",
    "plt.savefig(title+\".png\")\n",
    "\n",
    "plt.savefig(title+\".eps\")\n",
    "dflor[[\"country\",\"cum_pop\",\"cum_emis\"]].set_index(\"country\").to_csv(title+\".csv\", index=True)\n",
    "\n",
    "\n"
   ]
  },
  {
   "cell_type": "code",
   "execution_count": 22,
   "metadata": {
    "collapsed": false
   },
   "outputs": [
    {
     "name": "stderr",
     "output_type": "stream",
     "text": [
      "C:\\Users\\Admin\\Anaconda3\\lib\\site-packages\\ipykernel\\__main__.py:1: FutureWarning: sort(columns=....) is deprecated, use sort_values(by=.....)\n",
      "  if __name__ == '__main__':\n"
     ]
    },
    {
     "data": {
      "image/png": "[encoded data removed]",
      "text/plain": [
       "<matplotlib.figure.Figure at 0xc9c5940>"
      ]
     },
     "metadata": {},
     "output_type": "display_data"
    }
   ],
   "source": [
    "dflor = data_all.query(\"year=='2011'\")[[\"country\",\"pop\",\"gdp_pc\",\"emis_tot\",\"emis_pc\"]].sort(\"emis_pc\")\n",
    "dflor[[\"pop\",\"emis_tot\"]]=dflor[[\"pop\",\"emis_tot\"]]/1e9\n",
    "dflor[\"cum_emis\"]=dflor.emis_tot.cumsum()\n",
    "dflor[\"cum_pop\"]=[0]+dflor[\"pop\"][:-1].cumsum().tolist()\n",
    "#dflor[\"cum_pop\"]-=dflor[\"cum_pop\"].iloc[0] #offset x axis\n",
    "#dflor.plot(x=\"cum_pop\",y=\"cum_emis\")\n",
    "\n",
    "\n",
    "ax=plt.subplot(1,1,1)\n",
    "\n",
    "ax.spines['top'].set_color('none')\n",
    "ax.spines['right'].set_color('none')\n",
    "\n",
    "ax.bar(dflor.cum_pop, dflor.emis_pc, width=dflor[\"pop\"], linewidth=0.2, color = \"#9ecae1\", edgecolor=\"#3182bd\")\n",
    "\n",
    "\n",
    "ax.xaxis.set_ticks_position('bottom')\n",
    "ax.yaxis.set_ticks_position('left')\n",
    "\n",
    "plt.xlabel(\"Population (billions)\")\n",
    "plt.ylabel('Emissions per capita (tCO$_2$)')\n",
    "\n",
    "title = \"Countries ranked by emissions per capita\"\n",
    "\n",
    "\n",
    "\n",
    "plt.title(title)\n",
    "\n",
    "plt.savefig(title+\".png\", dpi=600)\n",
    "\n",
    "plt.savefig(title+\".eps\")\n",
    "dflor[[\"country\",\"cum_pop\",\"cum_emis\"]].set_index(\"country\").to_csv(title+\".csv\", index=True)\n",
    "\n"
   ]
  },
  {
   "cell_type": "code",
   "execution_count": 13,
   "metadata": {
    "collapsed": false
   },
   "outputs": [
    {
     "data": {
      "text/plain": [
       "32.062319158"
      ]
     },
     "execution_count": 13,
     "metadata": {},
     "output_type": "execute_result"
    }
   ],
   "source": [
    "(dflor[\"emis_pc\"]*dflor[\"pop\"]).sum()"
   ]
  },
  {
   "cell_type": "code",
   "execution_count": 14,
   "metadata": {
    "collapsed": false
   },
   "outputs": [
    {
     "name": "stderr",
     "output_type": "stream",
     "text": [
      "C:\\Users\\Admin\\Anaconda3\\lib\\site-packages\\ipykernel\\__main__.py:1: FutureWarning: sort(columns=....) is deprecated, use sort_values(by=.....)\n",
      "  if __name__ == '__main__':\n"
     ]
    },
    {
     "data": {
      "image/png": "[encoded data removed]",
      "text/plain": [
       "<matplotlib.figure.Figure at 0xcd4c390>"
      ]
     },
     "metadata": {},
     "output_type": "display_data"
    }
   ],
   "source": [
    "dflor = data_all.query(\"year=='2011'\")[[\"country\",\"pop\",\"gdp_pc\",\"emis_tot\"]].sort(\"gdp_pc\")\n",
    "dflor[\"cum_emis\"]=dflor.emis_tot.cumsum()\n",
    "dflor[\"cum_pop\"]=dflor[\"pop\"].cumsum()\n",
    "#dflor.plot(x=\"cum_pop\",y=\"cum_emis\")\n",
    "\n",
    "plt.xlabel(\"Population (billions)\")\n",
    "plt.ylabel('Emissions (GtCO$_2$)')\n",
    "plt.plot(dflor.cum_pop/1e9, dflor.cum_emis/1e9)\n",
    "plt.savefig(\"lorentz_2011_lisse.png\")\n",
    "\n",
    "plt.savefig(\"lorentz_2011_lisse.eps\")\n",
    "dflor[[\"cum_pop\",\"cum_emis\"]].to_csv(\"lorentz_2011_lisse.csv\", index=False)"
   ]
  },
  {
   "cell_type": "code",
   "execution_count": 15,
   "metadata": {
    "collapsed": false
   },
   "outputs": [
    {
     "name": "stdout",
     "output_type": "stream",
     "text": [
      "emissions in the LICs in 2011: 0.77%\n",
      "population in the LICs in 2011: 896763829.0\n",
      "population in the LICs in 2011: 13.19%\n",
      "['Afghanistan', 'Bangladesh', 'Benin', 'Burkina Faso', 'Burundi', 'Cambodia', 'Cameroon', 'Central African Republic', 'Chad', 'Comoros', 'Congo, Dem. Rep.', 'Djibouti', 'Eritrea', 'Ethiopia', 'Gambia, The', 'Ghana', 'Guinea', 'Guinea-Bissau', 'Haiti', 'Kenya', 'Kiribati', 'Kyrgyz Republic', 'Lesotho', 'Liberia', 'Madagascar', 'Malawi', 'Mali', 'Marshall Islands', 'Mauritania', 'Micronesia, Fed. Sts.', 'Moldova', 'Mozambique', 'Nepal', 'Nicaragua', 'Niger', 'Papua New Guinea', 'Rwanda', 'Senegal', 'Sierra Leone', 'Solomon Islands', 'Sudan', 'Tajikistan', 'Tanzania', 'Timor-Leste', 'Togo', 'Uganda', 'Vanuatu', 'Yemen, Rep.', 'Zambia', 'Zimbabwe']\n"
     ]
    },
    {
     "data": {
      "text/plain": [
       "50"
      ]
     },
     "execution_count": 15,
     "metadata": {},
     "output_type": "execute_result"
    }
   ],
   "source": [
    "#What ending povety means\n",
    "target_gdp_pc = 4230\n",
    "\n",
    "#Emissions in LICs today\n",
    "data2011= data_all.query(\"year=='2011'\").copy()\n",
    "LICs = data2011.ix[data2011.gdp_pc<target_gdp_pc].index\n",
    "print(\"emissions in the LICs in 2011: {x:.2%}\".format(x=data2011.ix[LICs].emis_tot.sum()/emis_ref))\n",
    "\n",
    "print(\"population in the LICs in 2011: {x}\".format(x=data2011.ix[LICs][\"pop\"].sum()))\n",
    "print(\"population in the LICs in 2011: {x:.2%}\".format(x=data2011.ix[LICs][\"pop\"].sum()/data2011[\"pop\"].sum()))\n",
    "\n",
    "#Countries with low income\n",
    "country_lics = data2011.ix[LICs].country.tolist()\n",
    "print(country_lics)\n",
    "data2011.ix[LICs].country.to_csv( \"countries_below_4000.txt\", index=False, header=\"country\")\n",
    "len(LICs)\n"
   ]
  },
  {
   "cell_type": "code",
   "execution_count": 16,
   "metadata": {
    "collapsed": false
   },
   "outputs": [
    {
     "data": {
      "text/plain": [
       "0.237867289"
      ]
     },
     "execution_count": 16,
     "metadata": {},
     "output_type": "execute_result"
    }
   ],
   "source": [
    "data2011.query(\"gdp_pc<4000\")[\"emis_tot\"].sum()*1e-9"
   ]
  },
  {
   "cell_type": "code",
   "execution_count": 17,
   "metadata": {
    "collapsed": false
   },
   "outputs": [
    {
     "data": {
      "text/plain": [
       "0.887396056"
      ]
     },
     "execution_count": 17,
     "metadata": {},
     "output_type": "execute_result"
    }
   ],
   "source": [
    "data2011.query(\"gdp_pc<4000\")[\"pop\"].sum()*1e-9"
   ]
  },
  {
   "cell_type": "code",
   "execution_count": 18,
   "metadata": {
    "collapsed": false
   },
   "outputs": [
    {
     "data": {
      "text/plain": [
       "0.7418904659635289"
      ]
     },
     "execution_count": 18,
     "metadata": {},
     "output_type": "execute_result"
    }
   ],
   "source": [
    "100* data2011.query(\"gdp_pc<4000\")[\"emis_tot\"].sum()/data2011[\"emis_tot\"].sum()"
   ]
  },
  {
   "cell_type": "code",
   "execution_count": 19,
   "metadata": {
    "collapsed": false
   },
   "outputs": [
    {
     "data": {
      "text/plain": [
       "13.056659762813595"
      ]
     },
     "execution_count": 19,
     "metadata": {},
     "output_type": "execute_result"
    }
   ],
   "source": [
    "100* data2011.query(\"gdp_pc<4000\")[\"pop\"].sum()/data2011[\"pop\"].sum()"
   ]
  },
  {
   "cell_type": "code",
   "execution_count": 20,
   "metadata": {
    "collapsed": false
   },
   "outputs": [
    {
     "data": {
      "text/plain": [
       "5.682084694253058"
      ]
     },
     "execution_count": 20,
     "metadata": {},
     "output_type": "execute_result"
    }
   ],
   "source": [
    "100* data2011.query(\"gdp_pc<4000\")[\"emis_tot\"].sum()/data2011[\"emis_tot\"].sum()/( data2011.query(\"gdp_pc<4000\")[\"pop\"].sum()/data2011[\"pop\"].sum())"
   ]
  },
  {
   "cell_type": "code",
   "execution_count": 21,
   "metadata": {
    "collapsed": false
   },
   "outputs": [
    {
     "data": {
      "text/plain": [
       "0.2972273949690935"
      ]
     },
     "execution_count": 21,
     "metadata": {},
     "output_type": "execute_result"
    }
   ],
   "source": [
    "100* data2011.query(\"gdp_pc<2500\")[\"emis_tot\"].sum()/data2011[\"emis_tot\"].sum()"
   ]
  },
  {
   "cell_type": "code",
   "execution_count": 22,
   "metadata": {
    "collapsed": false
   },
   "outputs": [
    {
     "data": {
      "text/plain": [
       "0.545995648"
      ]
     },
     "execution_count": 22,
     "metadata": {},
     "output_type": "execute_result"
    }
   ],
   "source": [
    "data2011.query(\"gdp_pc<2500\")[\"pop\"].sum()*1e-9"
   ]
  },
  {
   "cell_type": "markdown",
   "metadata": {},
   "source": [
    "# Past relation between emissions and GDP"
   ]
  },
  {
   "cell_type": "code",
   "execution_count": 23,
   "metadata": {
    "collapsed": false
   },
   "outputs": [
    {
     "name": "stderr",
     "output_type": "stream",
     "text": [
      "C:\\Users\\Admin\\Anaconda3\\lib\\site-packages\\matplotlib\\collections.py:590: FutureWarning: elementwise comparison failed; returning scalar instead, but in the future will perform elementwise comparison\n",
      "  if self._edgecolors == str('face'):\n"
     ]
    },
    {
     "data": {
      "image/png": "[encoded data removed]",
      "text/plain": [
       "<matplotlib.figure.Figure at 0xccdbd30>"
      ]
     },
     "metadata": {},
     "output_type": "display_data"
    }
   ],
   "source": [
    "fig, ax = plt.subplots(1,1)\n",
    "ax.scatter(data_all.gdp_pc,data_all.emis_pc,**plot_options)\n",
    "ax.set_xlabel('GDP per capita')\n",
    "ax.set_ylabel('tCO2 per capita')\n",
    "format_fig(ax)\n",
    "plt.savefig(\"emissions_vs_gdp.png\")"
   ]
  },
  {
   "cell_type": "code",
   "execution_count": 24,
   "metadata": {
    "collapsed": false
   },
   "outputs": [
    {
     "name": "stderr",
     "output_type": "stream",
     "text": [
      "C:\\Users\\Admin\\Anaconda3\\lib\\site-packages\\matplotlib\\collections.py:590: FutureWarning: elementwise comparison failed; returning scalar instead, but in the future will perform elementwise comparison\n",
      "  if self._edgecolors == str('face'):\n"
     ]
    },
    {
     "data": {
      "image/png": "[encoded data removed]",
      "text/plain": [
       "<matplotlib.figure.Figure at 0xccd8978>"
      ]
     },
     "metadata": {},
     "output_type": "display_data"
    }
   ],
   "source": [
    "fig, ax = plt.subplots(1,1)\n",
    "ax.scatter(data_all.gdp_pc,data_all.emis_intens*1e6,**plot_options)\n",
    "ax.set_xlabel('GDP per capita')\n",
    "ax.set_ylabel('gCO2 per $')\n",
    "format_fig(ax)\n",
    "ax.set_ylim(ymax=2.2e3)\n",
    "ax.set_xlim(xmax=25e3)\n",
    "\n",
    "plt.plot([0,25e3],[400,400],color=\"red\")\n",
    "\n",
    "ax.scatter(data_all.query(\"country=='China'\").gdp_pc,data_all.query(\"country=='China'\").emis_intens*1e6,color=\"yellow\")\n",
    "\n",
    "plt.savefig(\"paf.png\")"
   ]
  },
  {
   "cell_type": "code",
   "execution_count": 25,
   "metadata": {
    "collapsed": false
   },
   "outputs": [],
   "source": [
    "data_all.query(\"emis_intens>800e-6\");"
   ]
  },
  {
   "cell_type": "markdown",
   "metadata": {},
   "source": [
    "### Population and GDP from SSP"
   ]
  },
  {
   "cell_type": "code",
   "execution_count": 26,
   "metadata": {
    "collapsed": false
   },
   "outputs": [],
   "source": [
    "gdp_proj = pd.read_csv(\n",
    "    \"gdp_ssp.csv\",index_col=\"country\", dtype={\"scenario\":str}).query(\"scenario=='SSP5'\").drop(\"scenario\",axis=1).sort_index()"
   ]
  },
  {
   "cell_type": "code",
   "execution_count": 27,
   "metadata": {
    "collapsed": false
   },
   "outputs": [],
   "source": [
    "pop_proj =1e6*pd.read_csv(\n",
    "    \"population_ssp.csv\", index_col=\"country\", dtype={\"scenario\":str}).query(\"scenario=='SSP5'\").drop(\"scenario\",axis=1).sort_index();\n"
   ]
  },
  {
   "cell_type": "code",
   "execution_count": 28,
   "metadata": {
    "collapsed": false
   },
   "outputs": [],
   "source": [
    "gdp_pc_proj = 1e9*gdp_proj/pop_proj"
   ]
  },
  {
   "cell_type": "code",
   "execution_count": 29,
   "metadata": {
    "collapsed": false
   },
   "outputs": [
    {
     "name": "stdout",
     "output_type": "stream",
     "text": [
      "['Afghanistan', 'Bangladesh', 'Benin', 'Burkina Faso', 'Burundi', 'Cambodia', 'Cameroon', 'Central African Republic', 'Chad', 'Comoros', 'Congo, Dem. Rep.', 'Djibouti', 'Eritrea', 'Ethiopia', 'Gambia, The', 'Ghana', 'Guinea', 'Guinea-Bissau', 'Haiti', 'Kenya', 'Kiribati', 'Kyrgyz Republic', 'Lesotho', 'Liberia', 'Madagascar', 'Malawi', 'Mali', 'Marshall Islands', 'Mauritania', 'Micronesia, Fed. Sts.', 'Moldova', 'Mozambique', 'Nepal', 'Nicaragua', 'Niger', 'Papua New Guinea', 'Rwanda', 'Senegal', 'Sierra Leone', 'Solomon Islands', 'Sudan', 'Tajikistan', 'Tanzania', 'Timor-Leste', 'Togo', 'Uganda', 'Vanuatu', 'Yemen, Rep.', 'Zambia', 'Zimbabwe']\n"
     ]
    }
   ],
   "source": [
    "#Countries with low income\n",
    "country_lics = data2011.ix[LICs].country.tolist()\n",
    "print(country_lics)\n",
    "data2011.ix[LICs].country.to_csv( \"countries_below_4000.txt\", index=False, header=\"country\")"
   ]
  },
  {
   "cell_type": "code",
   "execution_count": 30,
   "metadata": {
    "collapsed": false
   },
   "outputs": [
    {
     "data": {
      "text/plain": [
       "<matplotlib.text.Text at 0xcc6a8d0>"
      ]
     },
     "execution_count": 30,
     "metadata": {},
     "output_type": "execute_result"
    },
    {
     "data": {
      "image/png": "[encoded data removed]",
      "text/plain": [
       "<matplotlib.figure.Figure at 0xcd79828>"
      ]
     },
     "metadata": {},
     "output_type": "display_data"
    }
   ],
   "source": [
    "data2011.ix[LICs,\"gdp_pc\"].plot(kind=\"kde\")\n",
    "gdp_pc_proj.ix[country_lics,\"2030\"].plot(kind=\"kde\")\n",
    "gdp_pc_proj.ix[country_lics,\"2050\"].plot(kind=\"kde\")\n",
    "plt.legend([\"2011\",\"2030\",\"2050\"])\n",
    "plt.plot([4000, 4000],[0, 25*1e-5],color=\"black\")\n",
    "plt.plot([2500, 2500],[0, 25*1e-5],color=\"black\")\n",
    "\n",
    "plt.title(\"Projected GDP distribution among today LICS\")"
   ]
  },
  {
   "cell_type": "code",
   "execution_count": 31,
   "metadata": {
    "collapsed": false
   },
   "outputs": [
    {
     "data": {
      "text/plain": [
       "5.591948486145628"
      ]
     },
     "execution_count": 31,
     "metadata": {},
     "output_type": "execute_result"
    }
   ],
   "source": [
    "data2011.query(\"10e3<gdp_pc<20e3\").emis_tot.sum()/data2011.query(\"10e3<gdp_pc<20e3\")[\"pop\"].sum()"
   ]
  },
  {
   "cell_type": "code",
   "execution_count": 32,
   "metadata": {
    "collapsed": false
   },
   "outputs": [
    {
     "data": {
      "text/plain": [
       "(0.80    338.5758\n",
       " 0.85    400.0197\n",
       " 0.90    496.8464\n",
       " 0.91    508.2207\n",
       " Name: emis_intens, dtype: float64, 247.01035442656078)"
      ]
     },
     "execution_count": 32,
     "metadata": {},
     "output_type": "execute_result"
    },
    {
     "data": {
      "image/png": "[encoded data removed]",
      "text/plain": [
       "<matplotlib.figure.Figure at 0xcd6d780>"
      ]
     },
     "metadata": {},
     "output_type": "display_data"
    }
   ],
   "source": [
    "hop=(1e6*data_all.query(\"gdp_pc<10e3\")[\"emis_intens\"])\n",
    "hop.hist(cumulative='True',normed=True,bins=20)\n",
    "plt.xlabel(\"\")\n",
    "plt.ylim(ymax=1)\n",
    "plt.title(\"cumulative distribution of \\nemission intensity countries below 10k\" )\n",
    "hop.quantile([0.80,0.85,0.90,0.91]),hop.mean()\n"
   ]
  },
  {
   "cell_type": "code",
   "execution_count": 33,
   "metadata": {
    "collapsed": false
   },
   "outputs": [
    {
     "data": {
      "text/plain": [
       "(0.80    384.5501\n",
       " 0.81    392.5175\n",
       " 0.82    400.8306\n",
       " 0.83    411.2061\n",
       " 0.85    429.2985\n",
       " 0.90    510.7031\n",
       " Name: emis_intens, dtype: float64, 279.72935420034406)"
      ]
     },
     "execution_count": 33,
     "metadata": {},
     "output_type": "execute_result"
    },
    {
     "data": {
      "image/png": "[encoded data removed]",
      "text/plain": [
       "<matplotlib.figure.Figure at 0xcb6dd68>"
      ]
     },
     "metadata": {},
     "output_type": "display_data"
    }
   ],
   "source": [
    "hop=(1e6*data_all.query(\"gdp_pc<40e3\")[\"emis_intens\"])\n",
    "hop.hist(cumulative='True',normed=True,bins=20)\n",
    "plt.title(\"cumulative distribution of \\nemission intensity countries below 40k\" )\n",
    "hop.quantile([0.8,.81,.82,.83,0.85,0.9]), hop.mean()"
   ]
  },
  {
   "cell_type": "markdown",
   "metadata": {
    "collapsed": false
   },
   "source": [
    "# Simple projections"
   ]
  },
  {
   "cell_type": "code",
   "execution_count": 34,
   "metadata": {
    "collapsed": false
   },
   "outputs": [
    {
     "name": "stdout",
     "output_type": "stream",
     "text": [
      "years,RCP 26\n",
      "\"2030\",7.157\n",
      "\"2035\",5.846\n",
      "\"2040\",4.535\n",
      "\"2045\",3.8605\n",
      "\"2050\",3.186\n"
     ]
    },
    {
     "name": "stderr",
     "output_type": "stream",
     "text": [
      "cat: #Emissions: No such file or directory\n",
      "cat: RCP: No such file or directory\n",
      "cat: are: No such file or directory\n",
      "cat: in: No such file or directory\n",
      "cat: GtC: No such file or directory\n"
     ]
    }
   ],
   "source": [
    "!cat rcp26.csv  #Emissions RCP are in GtC"
   ]
  },
  {
   "cell_type": "code",
   "execution_count": 35,
   "metadata": {
    "collapsed": false
   },
   "outputs": [
    {
     "ename": "NameError",
     "evalue": "name 'mis_rcp' is not defined",
     "output_type": "error",
     "traceback": [
      "\u001b[1;31m---------------------------------------------------------------------------\u001b[0m",
      "\u001b[1;31mNameError\u001b[0m                                 Traceback (most recent call last)",
      "\u001b[1;32m<ipython-input-35-960ebf20acf7>\u001b[0m in \u001b[0;36m<module>\u001b[1;34m()\u001b[0m\n\u001b[0;32m      1\u001b[0m \u001b[0memis_rcp\u001b[0m\u001b[1;33m=\u001b[0m\u001b[0mpd\u001b[0m\u001b[1;33m.\u001b[0m\u001b[0mread_csv\u001b[0m\u001b[1;33m(\u001b[0m\u001b[1;34m\"rcp26.csv\"\u001b[0m\u001b[1;33m,\u001b[0m  \u001b[0mdtype\u001b[0m\u001b[1;33m=\u001b[0m\u001b[1;33m{\u001b[0m\u001b[1;34m'years'\u001b[0m\u001b[1;33m:\u001b[0m \u001b[0mobject\u001b[0m\u001b[1;33m}\u001b[0m\u001b[1;33m)\u001b[0m\u001b[1;33m.\u001b[0m\u001b[0mset_index\u001b[0m\u001b[1;33m(\u001b[0m\u001b[1;34m'years'\u001b[0m\u001b[1;33m)\u001b[0m\u001b[1;33m.\u001b[0m\u001b[0msqueeze\u001b[0m\u001b[1;33m(\u001b[0m\u001b[1;33m)\u001b[0m\u001b[1;33m*\u001b[0m \u001b[1;36m1e9\u001b[0m\u001b[1;33m*\u001b[0m\u001b[1;36m44\u001b[0m\u001b[1;33m/\u001b[0m\u001b[1;36m12\u001b[0m  \u001b[1;31m#converts to tCO2\u001b[0m\u001b[1;33m\u001b[0m\u001b[0m\n\u001b[1;32m----> 2\u001b[1;33m \u001b[0mmis_rcp\u001b[0m\u001b[1;33m*\u001b[0m\u001b[1;36m1e-9\u001b[0m \u001b[1;31m#RCP in GtCO2\u001b[0m\u001b[1;33m\u001b[0m\u001b[0m\n\u001b[0m",
      "\u001b[1;31mNameError\u001b[0m: name 'mis_rcp' is not defined"
     ]
    }
   ],
   "source": [
    "emis_rcp=pd.read_csv(\"rcp26.csv\",  dtype={'years': object}).set_index('years').squeeze()* 1e9*44/12  #converts to tCO2\n",
    "mis_rcp*1e-9 #RCP in GtCO2"
   ]
  },
  {
   "cell_type": "code",
   "execution_count": null,
   "metadata": {
    "collapsed": false
   },
   "outputs": [],
   "source": [
    "data2011.emis_tot.sum()* 1e-9  #emissions in my data are in tCO2 as well\n",
    "#http://www.epa.gov/climatechange/ghgemissions/global.html this page shows current emissions are about 30GtCO2"
   ]
  },
  {
   "cell_type": "code",
   "execution_count": null,
   "metadata": {
    "collapsed": false
   },
   "outputs": [],
   "source": [
    "inc_tresh_list = [1000, 2500, 4000, 4250, 4500, 4750, 5000, 6000]\n",
    "inc_tresh_list = [ 4000]\n",
    "for income_tresh in inc_tresh_list:\n",
    "    countries = data2011.query(\"gdp_pc<\"+str(income_tresh)).country\n",
    "    em_intens = 800*1e-6\n",
    "\n",
    "    emis_proj  = (gdp_proj.ix[countries]*em_intens*1e9).sum()\n",
    "    years_proj = emis_proj.index.map(eval)\n",
    "\n",
    "    years_to_plot = [2011]+years_proj.tolist()\n",
    "    emis_proj_to_plot = [data2011.query(\"gdp_pc<\"+str(income_tresh)).emis_tot.sum()]+emis_proj.tolist()\n",
    "       \n",
    "\n",
    "    rcp_to_plot = [data2011.emis_tot.sum()]+emis_rcp.tolist()\n",
    "\n",
    "    plt.plot( years_to_plot,  100*np.array(emis_proj_to_plot)/np.array(rcp_to_plot) )\n",
    "    \n",
    "plt.ylabel(\"Share of CO$_2$ emissions \\nconsistent with 2°C target (%)\")\n",
    "plt.legend(inc_tresh_list,loc=\"upper left\")   \n",
    "plt.ylim(ymax=100)\n",
    "\n",
    "\n",
    "list(map(lambda x: x*1e-9,emis_proj_to_plot))"
   ]
  },
  {
   "cell_type": "code",
   "execution_count": null,
   "metadata": {
    "collapsed": false
   },
   "outputs": [],
   "source": [
    "data2011.query(\"gdp_pc<\"+str(income_tresh)).emis_tot.sum()*1e-9"
   ]
  },
  {
   "cell_type": "code",
   "execution_count": null,
   "metadata": {
    "collapsed": false
   },
   "outputs": [],
   "source": [
    "inc_tresh_list = [1000, 2500, 4000,  5000]\n",
    "#inc_tresh_list = [ 4000]\n",
    "for income_tresh in inc_tresh_list:\n",
    "    countries = data2011.query(\"gdp_pc<\"+str(income_tresh)).country\n",
    "    em_intens = 400*1e-6\n",
    "\n",
    "    emis_proj  = (gdp_proj.ix[countries]*em_intens*1e9).sum()\n",
    "    years_proj = emis_proj.index.map(eval)\n",
    "\n",
    "    years_to_plot = [2011]+years_proj.tolist()\n",
    "    emis_proj_to_plot = [data2011.query(\"gdp_pc<\"+str(income_tresh)).emis_tot.sum()]+emis_proj.tolist()\n",
    "    \n",
    "    pop_proj_to_plot = [data2011.query(\"gdp_pc<\"+str(income_tresh))[\"pop\"].sum()]+pop_proj.ix[countries].sum().tolist()\n",
    "    \n",
    "    pop_tot_to_plot = [data2011[\"pop\"].sum()]+pop_proj.sum().tolist()\n",
    "\n",
    "    rcp_to_plot = [data2011.emis_tot.sum()]+emis_rcp.tolist()\n",
    "\n",
    "    plt.plot( years_to_plot,  100*np.array(emis_proj_to_plot) * np.array(pop_tot_to_plot)/(np.array(pop_proj_to_plot)*np.array(rcp_to_plot) ))\n",
    "    \n",
    "plt.ylabel(\"Share of CO$_2$ emissions PER CAP \\nconsistent with 2°C target (%)\")\n",
    "plt.legend(inc_tresh_list,loc=\"upper left\")   \n",
    "plt.ylim(ymax=100)\n",
    "\n",
    "100*np.array(emis_proj_to_plot) * np.array(pop_tot_to_plot)/(np.array(pop_proj_to_plot)*np.array(rcp_to_plot) )"
   ]
  },
  {
   "cell_type": "code",
   "execution_count": null,
   "metadata": {
    "collapsed": false
   },
   "outputs": [],
   "source": [
    "inc_tresh_list = [1000, 2500, 4000, 4250, 4500, 4750, 5000, 6000]\n",
    "inc_tresh_list = [ 4000]\n",
    "for income_tresh in inc_tresh_list:\n",
    "    countries = data2011.query(\"gdp_pc<\"+str(income_tresh)).country\n",
    "    em_intens = 800*1e-6\n",
    "\n",
    "    emis_proj  = (gdp_proj.ix[countries]*em_intens*1e9).sum()\n",
    "    years_proj = emis_proj.index.map(eval)\n",
    "\n",
    "    years_to_plot = [2011]+years_proj.tolist()\n",
    "    emis_proj_to_plot = [data2011.query(\"gdp_pc<\"+str(income_tresh)).emis_tot.sum()]+emis_proj.tolist()\n",
    "    \n",
    "    \n",
    "\n",
    "    rcp_to_plot = [data2011.emis_tot.sum()]+emis_rcp.tolist()\n",
    "\n",
    "    plt.plot( years_to_plot,  1e-9*np.array(emis_proj_to_plot) )\n",
    "    \n",
    "plt.ylabel(\"CO$_2$ emissions (GtCO2)\")\n",
    "plt.legend(inc_tresh_list,loc=\"upper left\")   \n"
   ]
  },
  {
   "cell_type": "code",
   "execution_count": null,
   "metadata": {
    "collapsed": false
   },
   "outputs": [],
   "source": [
    "inc_tresh_list = [1000, 2500, 4000,  5000]\n",
    "#inc_tresh_list = [ 4000]\n",
    "for income_tresh in inc_tresh_list:\n",
    "    countries = data2011.query(\"gdp_pc<\"+str(income_tresh)).country\n",
    "    em_intens = 400*1e-6\n",
    "\n",
    "    emis_proj  = (gdp_proj.ix[countries]*em_intens*1e9).sum()\n",
    "    years_proj = emis_proj.index.map(eval)\n",
    "\n",
    "    years_to_plot = [2011]+years_proj.tolist()\n",
    "    emis_proj_to_plot = [data2011.query(\"gdp_pc<\"+str(income_tresh)).emis_tot.sum()]+emis_proj.tolist()\n",
    "    \n",
    "    pop_proj_to_plot = [data2011.query(\"gdp_pc<\"+str(income_tresh))[\"pop\"].sum()]+pop_proj.ix[countries].sum().tolist()\n",
    "    \n",
    "    pop_tot_to_plot = [data2011[\"pop\"].sum()]+pop_proj.sum().tolist()\n",
    "\n",
    "    rcp_to_plot = [data2011.emis_tot.sum()]+emis_rcp.tolist()\n",
    "\n",
    "    plt.plot( years_to_plot,  pop_proj_to_plot )\n",
    "    \n",
    "plt.ylabel(\"Population \")\n",
    "plt.legend(inc_tresh_list,loc=\"upper left\")   \n"
   ]
  },
  {
   "cell_type": "code",
   "execution_count": null,
   "metadata": {
    "collapsed": true
   },
   "outputs": [],
   "source": []
  },
  {
   "cell_type": "markdown",
   "metadata": {},
   "source": [
    "### Fitting models"
   ]
  },
  {
   "cell_type": "code",
   "execution_count": null,
   "metadata": {
    "collapsed": false
   },
   "outputs": [],
   "source": [
    "def project_emissions(formula):\n",
    "    print(\"\\n\"+formula)\n",
    "    mod = smf.ols(formula, data2011).fit()\n",
    "    mod.summary();\n",
    "\n",
    "    simulation = data2011.set_index(\"country\")\n",
    "    for year in [\"2030\",\"2035\",\"2040\",\"2045\",\"2050\"]:\n",
    "        simulation[\"gdp_pc\"+year] =     gdp_pc_proj.ix[country_lics,year]\n",
    "        simulation[\"pop\"+year]=     pop_proj.ix[country_lics,year]\n",
    "        simulation[\"income_bins\"+year] = pd.cut(simulation[\"gdp_pc\"+year],bins)\n",
    "\n",
    "    simulation = simulation.dropna().reset_index()\n",
    "\n",
    "    emis_proj=emis_pc_proj=pd.DataFrame(index=simulation.country)\n",
    "\n",
    "    for year in [\"2030\",\"2035\",\"2040\",\"2045\",\"2050\"]:\n",
    "\n",
    "        simulation[\"emis_pc_proj\"+year] =(mod.predict(simulation.assign(income_bins=simulation[\"income_bins\"+year])))\n",
    "        simulation[\"emis_proj\"+year]=simulation[\"emis_pc_proj\"+year]*simulation[\"pop\"+year]\n",
    "\n",
    "        emis_pc_proj[year] = simulation[[\"country\",\"emis_pc_proj\"+year]].set_index(\"country\")\n",
    "        emis_proj[year] = simulation[[\"country\",\"emis_proj\"+year]].set_index(\"country\")\n",
    "\n",
    "    return emis_proj,mod"
   ]
  },
  {
   "cell_type": "code",
   "execution_count": null,
   "metadata": {
    "collapsed": false
   },
   "outputs": [],
   "source": [
    "formula=\"emis_pc ~ income_bins+ country - 1\"\n",
    "emis_proj, mod = project_emissions(formula)\n",
    "\n",
    "100*emis_proj.sum()/emis_rcp\n",
    "\n"
   ]
  },
  {
   "cell_type": "code",
   "execution_count": null,
   "metadata": {
    "collapsed": false
   },
   "outputs": [],
   "source": [
    "formula=\"emis_pc ~ country - 1\"\n",
    "emis_proj, mod = project_emissions(formula)\n",
    "\n",
    "100*emis_proj.sum()/emis_rcp"
   ]
  },
  {
   "cell_type": "code",
   "execution_count": null,
   "metadata": {
    "collapsed": false
   },
   "outputs": [],
   "source": [
    "formula=\"emis_pc ~ income_bins+country - 1\"\n",
    "\n",
    "print(\"\\n\"+formula)\n",
    "mod = smf.ols(formula, data2011).fit()\n",
    "mod.summary();\n",
    "\n",
    "simulation = data2011.set_index(\"country\")\n",
    "for year in [\"2030\",\"2035\",\"2040\",\"2045\",\"2050\"]:\n",
    "    simulation[\"gdp_pc\"+year] =     gdp_pc_proj.ix[country_lics,year]\n",
    "    simulation[\"pop\"+year]=     pop_proj.ix[country_lics,year]\n",
    "    simulation[\"income_bins\"+year] = pd.cut(simulation[\"gdp_pc\"+year],bins)\n",
    "\n",
    "simulation = simulation.dropna().reset_index()\n",
    "\n",
    "emis_proj=emis_pc_proj=pd.DataFrame(index=simulation.country)\n",
    "\n",
    "for year in [\"2030\",\"2035\",\"2040\",\"2045\",\"2050\"]:\n",
    "\n",
    "    simulation[\"emis_pc_proj\"+year] =(mod.predict(simulation)) #simulation.assign(income_bins=simulation[\"income_bins\"+year]\n",
    "    simulation[\"emis_proj\"+year]=simulation[\"emis_pc_proj\"+year]*simulation[\"pop\"+year]\n",
    "\n",
    "    emis_pc_proj[year] = simulation[[\"country\",\"emis_pc_proj\"+year]].set_index(\"country\")\n",
    "    emis_proj[year] = simulation[[\"country\",\"emis_proj\"+year]].set_index(\"country\")\n",
    "\n"
   ]
  },
  {
   "cell_type": "code",
   "execution_count": null,
   "metadata": {
    "collapsed": false
   },
   "outputs": [],
   "source": [
    "simulation.columns"
   ]
  },
  {
   "cell_type": "code",
   "execution_count": null,
   "metadata": {
    "collapsed": false
   },
   "outputs": [],
   "source": [
    "simulation[[\"income_bins\",\"income_bins2050\"]]"
   ]
  },
  {
   "cell_type": "code",
   "execution_count": null,
   "metadata": {
    "collapsed": false
   },
   "outputs": [],
   "source": []
  },
  {
   "cell_type": "code",
   "execution_count": null,
   "metadata": {
    "collapsed": false
   },
   "outputs": [],
   "source": [
    "mod.summary()"
   ]
  },
  {
   "cell_type": "code",
   "execution_count": null,
   "metadata": {
    "collapsed": true
   },
   "outputs": [],
   "source": []
  },
  {
   "cell_type": "code",
   "execution_count": null,
   "metadata": {
    "collapsed": true
   },
   "outputs": [],
   "source": []
  },
  {
   "cell_type": "code",
   "execution_count": null,
   "metadata": {
    "collapsed": false
   },
   "outputs": [],
   "source": [
    "#Version with corrected error on intensity\n",
    "\n",
    "mod = smf.ols(formula, data2011).fit()\n",
    "#mod_weighted = smf.wls(formula, data2011, weights = data2011[\"pop\"]).fit()\n",
    "\n",
    "##\"Predicted 2011\")\n",
    "data2011[\"intens_pred\"] = mod.predict(data2011)\n",
    "data2011[\"emis_2011_pred\"] =data2011[\"intens_pred\"]*data2011[\"gdp_pc\"]*data2011[\"pop\"]\n",
    "#e_w_2011 =mod_weighted.predict(data2011)*data2011[\"gdp_pc\"]*data2011[\"pop\"]\n",
    "\n",
    "data2011[\"intens_error\"] = data2011[\"intens_pred\"] -data2011[\"emis_intens\"]\n",
    "\n",
    "\n",
    "print(\"error in 2011 \",data2011[\"emis_2011_pred\"].sum() / emis_ref-1)\n",
    "\n",
    "#projection parameters\n",
    "LICs = data2011.ix[data2011.gdp_pc<4000].country\n",
    "print(\"number of LIC countries \", len(LICs))\n",
    "\n",
    "simulation = data2011.set_index(\"country\")\n",
    "for year in [\"2030\",\"2035\",\"2040\",\"2045\",\"2050\"]:\n",
    "\n",
    "    simulation[\"gdp_pc_\"+year] = gdp_proj.ix[LICs,year]\n",
    "    simulation[\"pop_\"+year]= pop_proj.ix[LICs,year]\n",
    "\n",
    "simulation = simulation.dropna().reset_index()\n",
    "\n",
    "emis_proj = pd.DataFrame(index = gdp_proj.index)\n",
    "\n",
    "for year in [\"2030\",\"2035\",\"2040\",\"2045\",\"2050\"]:\n",
    "    simulation.inc_bins = pd.cut(simulation[\"gdp_pc_\"+year],bins)\n",
    "\n",
    "    \n",
    "\n",
    "    #predicted with siuml\n",
    "    simulation[\"gdp_\"+year]=simulation[\"gdp_pc_\"+year]*simulation[\"pop_\"+year] \n",
    "    simulation[\"emis_proj_\"+year] =(mod.predict(simulation)-simulation[\"intens_error\"])*simulation[\"gdp_\"+year]# - e_2011[LICs.index].values\n",
    "    #simulation[\"emis_proj_weighted_\"+year] =mod_weighted.predict(simulation)*simulation[\"gdp_\"+year] #- e_w_2011[LICs.index]\n",
    "    emis_proj[year] = simulation[[\"country\",\"emis_proj_\"+year]].set_index(\"country\")\n"
   ]
  },
  {
   "cell_type": "code",
   "execution_count": null,
   "metadata": {
    "collapsed": true
   },
   "outputs": [],
   "source": []
  },
  {
   "cell_type": "code",
   "execution_count": null,
   "metadata": {
    "collapsed": true
   },
   "outputs": [],
   "source": []
  },
  {
   "cell_type": "markdown",
   "metadata": {},
   "source": [
    "#Simulations"
   ]
  },
  {
   "cell_type": "markdown",
   "metadata": {},
   "source": [
    "#Fitting different models"
   ]
  },
  {
   "cell_type": "code",
   "execution_count": null,
   "metadata": {
    "collapsed": false
   },
   "outputs": [],
   "source": [
    "def project_emissions(formula, data):\n",
    "    print(\"\\n\"+formula)\n",
    "    \n",
    "    mod = smf.ols(formula, data).fit()\n",
    "    mod_weighted = smf.wls(formula, data, weights = data[\"pop\"]).fit()\n",
    "\n",
    "    \n",
    "    print(\"\\n========= Predicted 2011\")\n",
    "    simulation = data2011\n",
    "    emis_tot =mod.predict(simulation)*simulation[\"gdp_pc\"]*simulation[\"pop\"]\n",
    "    emis_tot_weighted =mod_weighted.predict(simulation)*simulation[\"gdp_pc\"]*simulation[\"pop\"]\n",
    "    print(\"Error in 2011: {x:0.1%} (unweighted)  or {y:0.1%} (weighted)\".format(\n",
    "            x=emis_tot.sum()/emis_ref-1,\n",
    "            y=emis_tot_weighted.sum()/emis_ref-1)\n",
    "         )\n",
    "    \n",
    "    e_ref = emis_tot\n",
    "    e_w_ref = emis_tot_weighted\n",
    "    \n",
    "    \n",
    "    def report(emis_tot,emis_tot_weighted):\n",
    "        print(\"Emissions increased by {x:0.1%} (unweighted)  or {y:0.1%} (weighted)\".format(\n",
    "            x=(emis_tot).sum()/emis_ref,\n",
    "            y=(emis_tot_weighted).sum()/emis_ref)\n",
    "         )\n",
    "    \n",
    "    report(emis_tot-e_ref,emis_tot_weighted-e_w_ref)\n",
    "    \n",
    "    print(\"\\n========= Liting Income\")\n",
    "    simulation = data2011.assign(gdp_pc = data.gdp_pc.clip(lower=target_gdp_pc), inc_bins = pd.cut(data2011.gdp_pc,bins))\n",
    "    emis_tot =mod.predict(simulation)*simulation[\"gdp_pc\"]*simulation[\"pop\"]\n",
    "    emis_tot_weighted =mod_weighted.predict(simulation)*simulation[\"gdp_pc\"]*simulation[\"pop\"]\n",
    "    report(emis_tot-e_ref,emis_tot_weighted-e_w_ref)\n",
    "    \n",
    "    print('\\n==========Liting Income and population')\n",
    "    simulation = data2011.assign(gdp_pc = data.gdp_pc.clip(lower=target_gdp_pc),inc_bins = pd.cut(data2011.gdp_pc,bins) )\n",
    "    simulation.ix[LICs,\"pop\"] = pop_proj_2030.ix[data.ix[LICs].country].values\n",
    "    \n",
    "    emis_tot =mod.predict(simulation)*simulation[\"gdp_pc\"]*simulation[\"pop\"]\n",
    "    emis_tot_weighted =mod_weighted.predict(simulation)*simulation[\"gdp_pc\"]*simulation[\"pop\"]\n",
    "    report(emis_tot-e_ref,emis_tot_weighted-e_w_ref)\n",
    "    \n",
    "    print('\\n==========new POPULATION, old income')\n",
    "    simulation = data2011\n",
    "    simulation.ix[LICs,\"pop\"] = pop_proj_2030.ix[data.ix[LICs].country].values\n",
    "    emis_tot =mod.predict(simulation)*simulation[\"gdp_pc\"]*simulation[\"pop\"]\n",
    "\n",
    "    emis_tot_weighted =mod_weighted.predict(simulation)*simulation[\"gdp_pc\"]*simulation[\"pop\"]\n",
    "    report(emis_tot-e_ref,emis_tot_weighted-e_w_ref)\n",
    "    #simulation[\"emis_tot_weighted\"] =mod.predict(simulation)*simulation[\"gdp_pc\"]*simulation[\"pop\"]\n",
    "    \n",
    "    #simulation[\"emis_intens_pred\"]\n",
    "    #simulation[\"emis_pc\"] = simulation[\"emis_intens_pred\"]\n",
    "    #simulation[\"emis_tot\"] = simulation[\"emis_pc\"]\n",
    "\n",
    "    #print(\"\\nEmissions increased by {x:0.1%}[{cil:0.1%}, {ciu:0.1%}]\".format(\n",
    "    #        x  =simulation.emis_tot.sum()/emis_ref-1,\n",
    "    #        ciu=(simulation.emis_tot*iv_u/simulation[\"emis_intens_pred\"]).sum()/emis_ref-1,\n",
    "    #        cil=(simulation.emis_tot*iv_l/simulation[\"emis_intens_pred\"]).sum()/emis_ref-1\n",
    "    #     ))\n",
    "    \n",
    "    return mod,mod_weighted"
   ]
  },
  {
   "cell_type": "markdown",
   "metadata": {},
   "source": [
    "### Constant emission intensity using 2011 data"
   ]
  },
  {
   "cell_type": "code",
   "execution_count": null,
   "metadata": {
    "collapsed": false
   },
   "outputs": [],
   "source": [
    "formula=\"emis_intens ~ country - 1\""
   ]
  },
  {
   "cell_type": "code",
   "execution_count": null,
   "metadata": {
    "collapsed": false
   },
   "outputs": [],
   "source": [
    "mod, mod_w= project_emissions(formula, data_all.query(\"year=='2011'\").copy())\n",
    "mod.summary();"
   ]
  },
  {
   "cell_type": "code",
   "execution_count": null,
   "metadata": {
    "collapsed": false
   },
   "outputs": [],
   "source": [
    "mod, mod_w= project_emissions(formula, data_all)"
   ]
  },
  {
   "cell_type": "markdown",
   "metadata": {},
   "source": [
    "###Country fix effect and gdpglobal effect"
   ]
  },
  {
   "cell_type": "markdown",
   "metadata": {},
   "source": [
    "everything signigicant"
   ]
  },
  {
   "cell_type": "code",
   "execution_count": null,
   "metadata": {
    "collapsed": false
   },
   "outputs": [],
   "source": [
    "formula=\"emis_intens ~ gdp_pc+country- 1 \"\n",
    "\n",
    "mod, mod_w  = project_emissions(formula, data_all)\n",
    "#foo.summary()\n",
    "mod.summary();"
   ]
  },
  {
   "cell_type": "code",
   "execution_count": null,
   "metadata": {
    "collapsed": false
   },
   "outputs": [],
   "source": [
    "formula=\"emis_intens ~ gdp_pc+country + emis_intens_last_year- 1\"\n",
    "\n",
    "mod, mod_w  = project_emissions(formula, data_all)\n",
    "#foo.summary()\n",
    "mod.summary();"
   ]
  },
  {
   "cell_type": "markdown",
   "metadata": {},
   "source": [
    "###Square income"
   ]
  },
  {
   "cell_type": "code",
   "execution_count": null,
   "metadata": {
    "collapsed": false
   },
   "outputs": [],
   "source": [
    "formula=\"emis_intens ~ gdp_pc + I(gdp_pc**2)+ country  - 1\"\n",
    "mod, mod_w  = project_emissions(formula, data_all)\n",
    "mod.summary();"
   ]
  },
  {
   "cell_type": "markdown",
   "metadata": {},
   "source": [
    "###income bins"
   ]
  },
  {
   "cell_type": "code",
   "execution_count": null,
   "metadata": {
    "collapsed": false
   },
   "outputs": [],
   "source": [
    "formula=\"emis_pc ~ inc_bins- 1\"\n",
    "mod, mod_w  = project_emissions(formula, data_all)\n",
    "\n",
    "mod.summary()"
   ]
  },
  {
   "cell_type": "code",
   "execution_count": null,
   "metadata": {
    "collapsed": false
   },
   "outputs": [],
   "source": [
    "formula=\"emis_pc ~ inc_bins+country - 1\"\n",
    "mod, mod_w  = project_emissions(formula, data_all)\n",
    "\n",
    "#mod.summary(); #nothing significan"
   ]
  },
  {
   "cell_type": "code",
   "execution_count": null,
   "metadata": {
    "collapsed": false
   },
   "outputs": [],
   "source": [
    "formula=\"I(1e3*emis_intens) ~ inc_bins - 1\"\n",
    "mod, mod_w  = project_emissions(formula, data2011)\n",
    "\n",
    "mod.summary()"
   ]
  },
  {
   "cell_type": "code",
   "execution_count": null,
   "metadata": {
    "collapsed": false
   },
   "outputs": [],
   "source": [
    "formula=\"I(1e3*emis_intens) ~ inc_bins+country - 1\"\n",
    "mod, mod_w  = project_emissions(formula, data2011)\n",
    "\n",
    "mod.summary()"
   ]
  },
  {
   "cell_type": "code",
   "execution_count": null,
   "metadata": {
    "collapsed": false
   },
   "outputs": [],
   "source": [
    "formula=\"(emis_intens) ~ country +(gdp_pc):inc_bins + year+ inc_bins\"\n",
    "mod, mod_w  = project_emissions(formula, data_all)\n",
    "\n",
    "mod.summary()"
   ]
  },
  {
   "cell_type": "code",
   "execution_count": null,
   "metadata": {
    "collapsed": false
   },
   "outputs": [],
   "source": [
    "formula=\"np.log(emis_intens) ~ country +np.log(gdp_pc):inc_bins + inc_bins\"\n",
    "mod, mod_w  = project_emissions(formula, data_all)\n",
    "\n",
    "mod.summary()"
   ]
  },
  {
   "cell_type": "code",
   "execution_count": null,
   "metadata": {
    "collapsed": false
   },
   "outputs": [],
   "source": [
    "formula=\"np.log(emis_pc) ~ country-1 +np.log(gdp_pc):inc_bins +inc_bins\"\n",
    "mod, mod_w  = project_emissions(formula, data_all)\n",
    "\n",
    "mod.summary()"
   ]
  },
  {
   "cell_type": "code",
   "execution_count": null,
   "metadata": {
    "collapsed": false
   },
   "outputs": [],
   "source": [
    "formula=\"emis_intens ~ inc_bins+country - 1\"\n",
    "mod, mod_w  = project_emissions(formula, data_all)\n",
    "\n",
    "mod.summary();"
   ]
  },
  {
   "cell_type": "code",
   "execution_count": null,
   "metadata": {
    "collapsed": false
   },
   "outputs": [],
   "source": [
    "formula=\"I(1e5*emis_intens) ~ inc_bins - 1\"\n",
    "mod, mod_w  = project_emissions(formula, data_all)\n",
    "\n",
    "mod.summary()"
   ]
  },
  {
   "cell_type": "markdown",
   "metadata": {},
   "source": [
    "###Country fix effect, year fix effect, and gdpglobal effect"
   ]
  },
  {
   "cell_type": "markdown",
   "metadata": {},
   "source": [
    "year fixed effect non significant"
   ]
  },
  {
   "cell_type": "code",
   "execution_count": null,
   "metadata": {
    "collapsed": false
   },
   "outputs": [],
   "source": [
    "formula=\"emis_intens ~ gdp_pc+country+year- 1\"\n",
    "m,mw=project_emissions(formula, data_all)\n",
    "m.summary();"
   ]
  },
  {
   "cell_type": "markdown",
   "metadata": {
    "collapsed": true
   },
   "source": [
    "#Projecting "
   ]
  },
  {
   "cell_type": "code",
   "execution_count": null,
   "metadata": {
    "collapsed": true
   },
   "outputs": [],
   "source": [
    "def project_emissions_target(formula, data,target_gdp_pc):\n",
    "    print(\"\\n\"+formula)\n",
    "    \n",
    "    data2011= data.query(\"year=='2011'\").copy()\n",
    "    LICs = data2011.ix[data2011.gdp_pc.clip(lower=target_gdp_pc)==target_gdp_pc].index\n",
    "    \n",
    "    mod = smf.ols(formula, data).fit()\n",
    "    mod_weighted = smf.wls(formula, data, weights = data[\"pop\"]).fit()\n",
    "\n",
    "    \n",
    "    print(\"\\n========= Predicted 2011\")\n",
    "    simulation = data2011\n",
    "    emis_tot =mod.predict(simulation)*simulation[\"gdp_pc\"]*simulation[\"pop\"]\n",
    "    emis_tot_weighted =mod_weighted.predict(simulation)*simulation[\"gdp_pc\"]*simulation[\"pop\"]\n",
    "    print(\"Error in 2011: {x:0.1%} (unweighted)  or {y:0.1%} (weighted)\".format(\n",
    "            x=emis_tot.sum()/emis_ref-1,\n",
    "            y=emis_tot_weighted.sum()/emis_ref-1)\n",
    "         )\n",
    "    \n",
    "    e_ref = emis_tot\n",
    "    e_w_ref = emis_tot_weighted\n",
    "    \n",
    "    \n",
    "    def report(emis_tot,emis_tot_weighted):\n",
    "        print(\"Emissions increased by {x:0.1%} (unweighted)  or {y:0.1%} (weighted)\".format(\n",
    "            x=(emis_tot).sum()/emis_ref,\n",
    "            y=(emis_tot_weighted).sum()/emis_ref)\n",
    "         )\n",
    "    \n",
    "    report(emis_tot-e_ref,emis_tot_weighted-e_w_ref)\n",
    "    \n",
    "    \n",
    "    print('\\n==========Liting Income and population')\n",
    "    simulation = data2011.assign(gdp_pc = data.gdp_pc.clip(lower=target_gdp_pc),inc_bins = pd.cut(data2011.gdp_pc,bins) )\n",
    "    simulation.ix[LICs,\"pop\"] = pop_proj_2030.ix[data.ix[LICs].country].values\n",
    "    \n",
    "    simulation[\"emis_proj\"] =mod.predict(simulation)*simulation[\"gdp_pc\"]*simulation[\"pop\"]\n",
    "    simulation[\"emis_proj_weighted\"] =mod_weighted.predict(simulation)*simulation[\"gdp_pc\"]*simulation[\"pop\"]\n",
    "    report(emis_tot-e_ref,emis_tot_weighted-e_w_ref)\n",
    "    \n",
    "    return mod,mod_weighted"
   ]
  },
  {
   "cell_type": "code",
   "execution_count": null,
   "metadata": {
    "collapsed": true
   },
   "outputs": [],
   "source": []
  },
  {
   "cell_type": "code",
   "execution_count": null,
   "metadata": {
    "collapsed": true
   },
   "outputs": [],
   "source": []
  },
  {
   "cell_type": "code",
   "execution_count": null,
   "metadata": {
    "collapsed": true
   },
   "outputs": [],
   "source": []
  },
  {
   "cell_type": "code",
   "execution_count": null,
   "metadata": {
    "collapsed": true
   },
   "outputs": [],
   "source": []
  },
  {
   "cell_type": "code",
   "execution_count": null,
   "metadata": {
    "collapsed": true
   },
   "outputs": [],
   "source": [
    "def project_from_simul(formula, data, simulation):\n",
    "    \n",
    "    mod = smf.ols(formula, data).fit()\n",
    "    mod_weighted = smf.wls(formula, data, weights = data[\"pop\"]).fit()\n",
    "\n",
    "    data2011= data.query(\"year=='2011'\").copy()\n",
    "    \n",
    "    ##print(\"\\n========= Predicted 2011\")\n",
    "    e_2011 =mod.predict(data2011)*data2011[\"gdp_pc\"]*data2011[\"pop\"]\n",
    "    e_w_2011 =mod_weighted.predict(data2011)*data2011[\"gdp_pc\"]*data2011[\"pop\"]\n",
    "    \"\"\"\"print(\"Error in 2011: {x:0.1%} (unweighted)  or {y:0.1%} (weighted)\".format(\n",
    "            x=emis_tot.sum()/emis_ref-1,\n",
    "            y=emis_tot_weighted.sum()/emis_ref-1)\n",
    "         )\"\"\"\n",
    "    \n",
    "  \n",
    "    #predicted with siuml\n",
    "    simulation[\"emis_proj\"] =mod.predict(simulation)*simulation[\"gdp_pc\"]*simulation[\"pop\"] - e_2011\n",
    "    simulation[\"emis_proj_weighted\"] =mod_weighted.predict(simulation)*simulation[\"gdp_pc\"]*simulation[\"pop\"] - e_w_2011\n",
    "    \n",
    "    #returns difference\n",
    "    return simulation  #,emis_tot_weighted-e_w_ref)\n",
    "    "
   ]
  },
  {
   "cell_type": "code",
   "execution_count": null,
   "metadata": {
    "collapsed": false
   },
   "outputs": [],
   "source": [
    "data2011= data_all.query(\"year=='2011'\").copy()\n",
    "simulation = data2011.set_index(\"country\")\n",
    "for year in [\"2030\",\"2035\",\"2040\",\"2045\",\"2050\"]:\n",
    "\n",
    "    simulation[\"gdp_pc_\"+year] = gdp_proj.ix[data2011.ix[LICs].country,year]\n",
    "    simulation[\"pop_\"+year]= pop_proj.ix[data2011.ix[LICs].country,year]\n"
   ]
  },
  {
   "cell_type": "code",
   "execution_count": null,
   "metadata": {
    "collapsed": false
   },
   "outputs": [],
   "source": [
    "formula=\"emis_intens ~ inc_bins- 1\"\n",
    "\n",
    "data2011= data_all.query(\"year=='2011'\").copy().set_index(\"country\")\n",
    "data2011[\"emis_2011_actual\"]=emis_tot[\"2011\"]\n",
    "data2011=data2011.reset_index();"
   ]
  },
  {
   "cell_type": "code",
   "execution_count": null,
   "metadata": {
    "collapsed": false,
    "scrolled": true
   },
   "outputs": [],
   "source": [
    "\n",
    "mod = smf.ols(formula, data2011).fit()\n",
    "#mod_weighted = smf.wls(formula, data2011, weights = data2011[\"pop\"]).fit()\n",
    "\n",
    "##\"Predicted 2011\")\n",
    "data2011[\"emis_2011_pred\"] =mod.predict(data2011)*data2011[\"gdp_pc\"]*data2011[\"pop\"]\n",
    "#e_w_2011 =mod_weighted.predict(data2011)*data2011[\"gdp_pc\"]*data2011[\"pop\"]\n",
    "\"\"\"\"print(\"Error in 2011: {x:0.1%} (unweighted)  or {y:0.1%} (weighted)\".format(\n",
    "        x=emis_tot.sum()/emis_ref-1,\n",
    "        y=emis_tot_weighted.sum()/emis_ref-1)\n",
    "     )\"\"\"\n",
    "\n",
    "print(\"error in 2011 \",data2011[\"emis_2011_pred\"].sum() / emis_ref-1)\n",
    "\n",
    "#projection parameters\n",
    "LICs = data2011.ix[data2011.gdp_pc<4000].country\n",
    "print(\"number of LIC countries \", len(LICs))\n",
    "\n",
    "simulation = data2011.set_index(\"country\")\n",
    "for year in [\"2030\",\"2035\",\"2040\",\"2045\",\"2050\"]:\n",
    "\n",
    "    simulation[\"gdp_pc_\"+year] = gdp_proj.ix[LICs,year]\n",
    "    simulation[\"pop_\"+year]= pop_proj.ix[LICs,year]\n",
    "\n",
    "simulation = simulation.dropna().reset_index()\n",
    "\n",
    "emis_proj = pd.DataFrame(index = gdp_proj.index)\n",
    "\n",
    "for year in [\"2030\",\"2035\",\"2040\",\"2045\",\"2050\"]:\n",
    "    simulation.inc_bins = pd.cut(simulation[\"gdp_pc_\"+year],bins)\n",
    "\n",
    "    \n",
    "\n",
    "    #predicted with siuml\n",
    "    simulation[\"gdp_\"+year]=simulation[\"gdp_pc_\"+year]*simulation[\"pop_\"+year] \n",
    "    simulation[\"emis_proj_\"+year] =mod.predict(simulation)*simulation[\"gdp_\"+year]# - e_2011[LICs.index].values\n",
    "    #simulation[\"emis_proj_weighted_\"+year] =mod_weighted.predict(simulation)*simulation[\"gdp_\"+year] #- e_w_2011[LICs.index]\n",
    "    emis_proj[year] = simulation[[\"country\",\"emis_proj_\"+year]].set_index(\"country\")\n"
   ]
  },
  {
   "cell_type": "code",
   "execution_count": null,
   "metadata": {
    "collapsed": false
   },
   "outputs": [],
   "source": [
    "simulation.reindex_axis(sorted(simulation.columns), axis=1).to_csv(\"LICs_projeted.csv\")"
   ]
  },
  {
   "cell_type": "code",
   "execution_count": null,
   "metadata": {
    "collapsed": true
   },
   "outputs": [],
   "source": []
  },
  {
   "cell_type": "code",
   "execution_count": null,
   "metadata": {
    "collapsed": true
   },
   "outputs": [],
   "source": []
  },
  {
   "cell_type": "code",
   "execution_count": null,
   "metadata": {
    "collapsed": false
   },
   "outputs": [],
   "source": [
    "simulation.head()"
   ]
  },
  {
   "cell_type": "code",
   "execution_count": null,
   "metadata": {
    "collapsed": false
   },
   "outputs": [],
   "source": [
    "emis_rcp26=pd.read_csv(\"rcp26.csv\",  dtype={'years': object}).set_index('years').squeeze()* 1e9*44/12\n",
    "emis_rcp26"
   ]
  },
  {
   "cell_type": "code",
   "execution_count": null,
   "metadata": {
    "collapsed": false
   },
   "outputs": [],
   "source": [
    "emis_proj[\"gdp_pc\"]=gdp_pc_ppp[\"2011\"]"
   ]
  },
  {
   "cell_type": "code",
   "execution_count": null,
   "metadata": {
    "collapsed": false
   },
   "outputs": [],
   "source": [
    "mydf = pd.DataFrame(emis_proj.query(\"gdp_pc<2500\").sum(),columns=[\"emis 2500\"])"
   ]
  },
  {
   "cell_type": "code",
   "execution_count": null,
   "metadata": {
    "collapsed": false
   },
   "outputs": [],
   "source": [
    "mydf[\"emis 4000\"]=emis_proj.query(\"gdp_pc<4000\").sum()\n",
    "mydf[\"emis tot\"]=emis_rcp26"
   ]
  },
  {
   "cell_type": "code",
   "execution_count": null,
   "metadata": {
    "collapsed": false
   },
   "outputs": [],
   "source": [
    "pop_proj[\"gdp_pc\"]=gdp_pc_ppp[\"2011\"]\n",
    "mydf[\"pop 2500\"]=pop_proj.query(\"gdp_pc<2500\").sum()\n",
    "mydf[\"pop 4000\"]=pop_proj.query(\"gdp_pc<4000\").sum()\n",
    "mydf[\"pop tot\"]=pop_proj.sum()"
   ]
  },
  {
   "cell_type": "code",
   "execution_count": null,
   "metadata": {
    "collapsed": false
   },
   "outputs": [],
   "source": [
    "mydf.to_excel(\"figure6.2.xlsx\")"
   ]
  },
  {
   "cell_type": "code",
   "execution_count": null,
   "metadata": {
    "collapsed": true
   },
   "outputs": [],
   "source": []
  },
  {
   "cell_type": "code",
   "execution_count": null,
   "metadata": {
    "collapsed": false
   },
   "outputs": [],
   "source": [
    "#Version with corrected error on intensity\n",
    "\n",
    "mod = smf.ols(formula, data2011).fit()\n",
    "#mod_weighted = smf.wls(formula, data2011, weights = data2011[\"pop\"]).fit()\n",
    "\n",
    "##\"Predicted 2011\")\n",
    "data2011[\"intens_pred\"] = mod.predict(data2011)\n",
    "data2011[\"emis_2011_pred\"] =data2011[\"intens_pred\"]*data2011[\"gdp_pc\"]*data2011[\"pop\"]\n",
    "#e_w_2011 =mod_weighted.predict(data2011)*data2011[\"gdp_pc\"]*data2011[\"pop\"]\n",
    "\n",
    "data2011[\"intens_error\"] = data2011[\"intens_pred\"] -data2011[\"emis_intens\"]\n",
    "\n",
    "\n",
    "print(\"error in 2011 \",data2011[\"emis_2011_pred\"].sum() / emis_ref-1)\n",
    "\n",
    "#projection parameters\n",
    "LICs = data2011.ix[data2011.gdp_pc<4000].country\n",
    "print(\"number of LIC countries \", len(LICs))\n",
    "\n",
    "simulation = data2011.set_index(\"country\")\n",
    "for year in [\"2030\",\"2035\",\"2040\",\"2045\",\"2050\"]:\n",
    "\n",
    "    simulation[\"gdp_pc_\"+year] = gdp_proj.ix[LICs,year]\n",
    "    simulation[\"pop_\"+year]= pop_proj.ix[LICs,year]\n",
    "\n",
    "simulation = simulation.dropna().reset_index()\n",
    "\n",
    "emis_proj = pd.DataFrame(index = gdp_proj.index)\n",
    "\n",
    "for year in [\"2030\",\"2035\",\"2040\",\"2045\",\"2050\"]:\n",
    "    simulation.inc_bins = pd.cut(simulation[\"gdp_pc_\"+year],bins)\n",
    "\n",
    "    \n",
    "\n",
    "    #predicted with siuml\n",
    "    simulation[\"gdp_\"+year]=simulation[\"gdp_pc_\"+year]*simulation[\"pop_\"+year] \n",
    "    simulation[\"emis_proj_\"+year] =(mod.predict(simulation)-simulation[\"intens_error\"])*simulation[\"gdp_\"+year]# - e_2011[LICs.index].values\n",
    "    #simulation[\"emis_proj_weighted_\"+year] =mod_weighted.predict(simulation)*simulation[\"gdp_\"+year] #- e_w_2011[LICs.index]\n",
    "    emis_proj[year] = simulation[[\"country\",\"emis_proj_\"+year]].set_index(\"country\")\n"
   ]
  },
  {
   "cell_type": "code",
   "execution_count": null,
   "metadata": {
    "collapsed": false
   },
   "outputs": [],
   "source": [
    "simulation.reindex_axis(sorted(simulation.columns), axis=1).to_csv(\"LICs_projeted_corerror.csv\")"
   ]
  },
  {
   "cell_type": "code",
   "execution_count": null,
   "metadata": {
    "collapsed": false
   },
   "outputs": [],
   "source": [
    "simulation[[\"country\",\"emis_proj_\"+year]];"
   ]
  },
  {
   "cell_type": "code",
   "execution_count": null,
   "metadata": {
    "collapsed": false
   },
   "outputs": [],
   "source": [
    "emis_proj.dropna() "
   ]
  },
  {
   "cell_type": "code",
   "execution_count": null,
   "metadata": {
    "collapsed": true
   },
   "outputs": [],
   "source": []
  },
  {
   "cell_type": "code",
   "execution_count": null,
   "metadata": {
    "collapsed": true
   },
   "outputs": [],
   "source": []
  },
  {
   "cell_type": "code",
   "execution_count": null,
   "metadata": {
    "collapsed": true
   },
   "outputs": [],
   "source": []
  },
  {
   "cell_type": "code",
   "execution_count": null,
   "metadata": {
    "collapsed": true
   },
   "outputs": [],
   "source": []
  },
  {
   "cell_type": "code",
   "execution_count": null,
   "metadata": {
    "collapsed": true
   },
   "outputs": [],
   "source": []
  },
  {
   "cell_type": "code",
   "execution_count": null,
   "metadata": {
    "collapsed": true
   },
   "outputs": [],
   "source": []
  },
  {
   "cell_type": "code",
   "execution_count": null,
   "metadata": {
    "collapsed": true
   },
   "outputs": [],
   "source": []
  },
  {
   "cell_type": "code",
   "execution_count": null,
   "metadata": {
    "collapsed": false
   },
   "outputs": [],
   "source": [
    "formula=\"emis_intens ~ inc_bins+country- 1\"\n",
    "\n",
    "data2011= data_all.query(\"year=='2011'\").copy()\n",
    "\n",
    "mod = smf.ols(formula, data2011).fit()\n",
    "mod_weighted = smf.wls(formula, data2011, weights = data2011[\"pop\"]).fit()\n",
    "\n",
    "##print(\"\\n========= Predicted 2011\")\n",
    "e_2011 =mod.predict(data2011)*data2011[\"gdp_pc\"]*data2011[\"pop\"]\n",
    "e_w_2011 =mod_weighted.predict(data2011)*data2011[\"gdp_pc\"]*data2011[\"pop\"]\n",
    "\"\"\"\"print(\"Error in 2011: {x:0.1%} (unweighted)  or {y:0.1%} (weighted)\".format(\n",
    "        x=emis_tot.sum()/emis_ref-1,\n",
    "        y=emis_tot_weighted.sum()/emis_ref-1)\n",
    "     )\"\"\"\n",
    "\n",
    "print(\"error in 2011 \",e_2011.sum() / emis_ref-1)\n",
    "\n",
    "#projection parameters\n",
    "LICs = data2011.ix[data2011.gdp_pc<4000].country\n",
    "\n",
    "print(\"number of LIC countries \", len(LICs))\n",
    "simulation = data2011.set_index(\"country\")\n",
    "simulation.ix[LICs,\"gdp_pc\"] = gdp_pc_proj_2050.ix[LICs]\n",
    "simulation.ix[LICs,\"pop\"]= pop_proj_2050.ix[LICs]\n",
    "\n",
    "\n",
    "simulation.inc_bins = pd.cut(simulation.gdp_pc,bins)\n",
    "\n",
    "simulation = simulation.dropna().reset_index()\n",
    "\n",
    "#predicted with siuml\n",
    "simulation[\"gdp\"]=simulation[\"gdp_pc\"]*simulation[\"pop\"] \n",
    "#simulation[\"emis_proj\"] =mod.predict(simulation)*simulation[\"gdp\"] - e_2011\n",
    "simulation[\"emis_proj\"] =mod.predict(simulation)*simulation[\"gdp\"] - e_2011\n",
    "simulation[\"emis_proj_weighted\"] =mod_weighted.predict(simulation)*simulation[\"gdp_pc\"]*simulation[\"pop\"] - e_w_2011\n",
    "\n",
    "sim = simulation.set_index(\"country\")\n",
    "dat = data2011.set_index(\"country\")\n",
    "\n",
    "print(\"pop increased by\", sim[\"pop\"].sum()/ dat[\"pop\"].sum() - 1)\n",
    "print(\"gdp increased by\", (sim[\"gdp_pc\"]*sim[\"pop\"]).sum()/ (dat[\"gdp_pc\"]*dat[\"pop\"]).sum() - 1)\n",
    "\n",
    "print(\"emisisons increased by \", simulation.emis_proj.sum()/ emis_ref)\n",
    "print(\"emisisons relative to 2050 by \", simulation.emis_proj.sum()/ emissions_RCP_2050)\n",
    "\n",
    "print(\"(weighted) emisisons relative to 2050 by \", simulation.emis_proj_weighted.sum()/ emissions_RCP_2050)"
   ]
  },
  {
   "cell_type": "markdown",
   "metadata": {},
   "source": [
    "###worst case intensitites"
   ]
  },
  {
   "cell_type": "code",
   "execution_count": null,
   "metadata": {
    "collapsed": false
   },
   "outputs": [],
   "source": [
    "\n",
    "simulation = data2011.set_index(\"country\")\n",
    "\n",
    "print(\"ratio emis today\", ((simulation[\"gdp_pc\"]*simulation[\"pop\"]*simulation[\"emis_intens\"]).ix[LICs].sum())/ emis_ref )\n",
    "print(\"pop today\",simulation.ix[LICs,\"pop\"].sum(), simulation.ix[LICs,\"pop\"].sum()/data2011[\"pop\"].sum())\n",
    "\n",
    "\n",
    "simulation.ix[LICs,\"gdp_pc\"] = gdp_pc_proj_2030.ix[LICs]\n",
    "\n",
    "simulation.ix[LICs,\"pop\"]= pop_proj_2030.ix[LICs]\n",
    "print(\"pop 2030\", simulation.ix[LICs,\"pop\"].sum()/pop_proj_2030.sum())\n",
    "simulation[\"emis_intens\"]= mod.predict(simulation.reset_index())\n",
    "\n",
    "((simulation[\"gdp_pc\"]*simulation[\"pop\"] *simulation[\"emis_intens\"]).sum()- emis_ref)/ emissions_RCP_2030 "
   ]
  },
  {
   "cell_type": "code",
   "execution_count": null,
   "metadata": {
    "collapsed": false
   },
   "outputs": [],
   "source": [
    "\n",
    "simulation = data2011.set_index(\"country\")\n",
    "simulation.ix[LICs,\"gdp_pc\"] = gdp_pc_proj_2050.ix[LICs]\n",
    "simulation.ix[LICs,\"pop\"]= pop_proj_2050.ix[LICs]\n",
    "print(simulation.ix[LICs,\"pop\"].sum()/pop_proj_2050.sum())\n",
    "simulation[\"emis_intens\"]= mod.predict(simulation.reset_index())\n",
    "\n",
    "((simulation[\"gdp_pc\"]*simulation[\"pop\"] *simulation[\"emis_intens\"]).sum()- emis_ref)/ emissions_RCP_2050 "
   ]
  },
  {
   "cell_type": "code",
   "execution_count": null,
   "metadata": {
    "collapsed": false
   },
   "outputs": [],
   "source": []
  },
  {
   "cell_type": "code",
   "execution_count": null,
   "metadata": {
    "collapsed": true
   },
   "outputs": [],
   "source": []
  },
  {
   "cell_type": "code",
   "execution_count": null,
   "metadata": {
    "collapsed": true
   },
   "outputs": [],
   "source": []
  },
  {
   "cell_type": "code",
   "execution_count": null,
   "metadata": {
    "collapsed": true
   },
   "outputs": [],
   "source": []
  },
  {
   "cell_type": "code",
   "execution_count": null,
   "metadata": {
    "collapsed": true
   },
   "outputs": [],
   "source": []
  },
  {
   "cell_type": "code",
   "execution_count": null,
   "metadata": {
    "collapsed": true
   },
   "outputs": [],
   "source": []
  },
  {
   "cell_type": "code",
   "execution_count": null,
   "metadata": {
    "collapsed": true
   },
   "outputs": [],
   "source": []
  },
  {
   "cell_type": "code",
   "execution_count": null,
   "metadata": {
    "collapsed": true
   },
   "outputs": [],
   "source": []
  },
  {
   "cell_type": "code",
   "execution_count": null,
   "metadata": {
    "collapsed": true
   },
   "outputs": [],
   "source": []
  },
  {
   "cell_type": "code",
   "execution_count": null,
   "metadata": {
    "collapsed": true
   },
   "outputs": [],
   "source": []
  },
  {
   "cell_type": "code",
   "execution_count": null,
   "metadata": {
    "collapsed": false
   },
   "outputs": [],
   "source": [
    "###Projections of baseline emissions in 2050 for all countries\n",
    "\n",
    "\n",
    "simulation_2050=pd.concat([pop_proj_2050,gdp_pc_proj_2050],axis=1).dropna()\n",
    "simulation_2050=simulation_2050.ix[data_all.dropna().country.unique()].reset_index().rename(columns={\"index\":\"country\"}).dropna()\n",
    "simulation_2050[\"inc_bins\"]=pd.cut(simulation_2050.gdp_pc,bins)\n",
    "simulation_2050.head(3)\n",
    "\n",
    "\n",
    "formula = 'emis_intens ~ gdp_pc:inc_bins+country- 1 '\n",
    "#formula = 'emis_intens ~ gdp_pc+I(gdp_pc**2)+country- 1 '\n",
    "data=data_all\n",
    "simulation=simulation_2050\n",
    "\n",
    "data2011= data.query(\"year=='2011'\").copy()\n",
    "\n",
    "\n",
    "mod = smf.ols(formula, data).fit()\n",
    "mod_weighted = smf.wls(formula, data, weights = data[\"pop\"]).fit()\n",
    "\n",
    "emis_tot =mod.predict(data2011)*data2011[\"gdp_pc\"]*data2011[\"pop\"]\n",
    "emis_tot_weighted =mod_weighted.predict(data2011)*data2011[\"gdp_pc\"]*data2011[\"pop\"]\n",
    "print(\"Error in 2011: {x:0.1%} (unweighted)  or {y:0.1%} (weighted)\".format(\n",
    "        x=emis_tot.sum()/emis_ref-1,\n",
    "        y=emis_tot_weighted.sum()/emis_ref-1)\n",
    "     )\n",
    "e_ref = emis_tot\n",
    "e_w_ref = emis_tot_weighted\n",
    "\n",
    "emis_tot =mod.predict(simulation)*simulation[\"gdp_pc\"]*simulation[\"pop\"]\n",
    "emis_tot_weighted =mod_weighted.predict(simulation)*simulation[\"gdp_pc\"]*simulation[\"pop\"]\n",
    "def report(emis_tot,emis_tot_weighted):\n",
    "    print(\"Emissions increased by {x:0.1%} (unweighted)  or {y:0.1%} (weighted)\".format(\n",
    "        x=(emis_tot).sum()/emis_ref,\n",
    "        y=(emis_tot_weighted).sum()/emis_ref)\n",
    "     )\n",
    "\n",
    "simulation_2050['emis_tot_proj'] =mod.predict(simulation)*simulation[\"gdp_pc\"]*simulation[\"pop\"]\n",
    "simulation_2050['emis_tot_weighted'] =mod_weighted.predict(simulation)*simulation[\"gdp_pc\"]*simulation[\"pop\"]\n",
    "report(simulation_2050['emis_tot_proj'],simulation_2050['emis_tot_weighted'])\n",
    "\n",
    "\n",
    "hop=pd.merge(data2011,simulation_2050,on=\"country\").set_index(\"country\")\n",
    "\n",
    "hop[\"pop_gro\"]=(hop.pop_y/ hop.pop_x)\n",
    "hop[\"gdp_gro\"]=(hop.gdp_pc_y/ hop.gdp_pc_x)\n",
    "hop[\"emi_gro\"]=(hop.emis_tot_proj/ hop.emis_tot)\n",
    "hop[[\"pop_gro\",\"gdp_gro\",\"emi_gro\"]];"
   ]
  }
 ],
 "metadata": {
  "kernelspec": {
   "display_name": "Python 3",
   "language": "python",
   "name": "python3"
  },
  "language_info": {
   "codemirror_mode": {
    "name": "ipython",
    "version": 3
   },
   "file_extension": ".py",
   "mimetype": "text/x-python",
   "name": "python",
   "nbconvert_exporter": "python",
   "pygments_lexer": "ipython3",
   "version": "3.4.4"
  }
 },
 "nbformat": 4,
 "nbformat_minor": 0
}
