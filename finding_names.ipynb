{
 "cells": [
  {
   "cell_type": "code",
   "execution_count": 1,
   "metadata": {
    "collapsed": false
   },
   "outputs": [],
   "source": [
    "from pandas.io import wb\n",
    "import pandas as pd\n",
    "from wb_api_wraper import *"
   ]
  },
  {
   "cell_type": "code",
   "execution_count": 2,
   "metadata": {
    "collapsed": false
   },
   "outputs": [],
   "source": [
    "share20  =(wb.download(indicator='3.0.IncShr.q1'        , start=1990, end=2013,country=\"all\")) #share of income bottom 20%"
   ]
  },
  {
   "cell_type": "code",
   "execution_count": 8,
   "metadata": {
    "collapsed": false
   },
   "outputs": [
    {
     "data": {
      "text/html": [
       "<div style=\"max-height:1000px;max-width:1500px;overflow:auto;\">\n",
       "<table border=\"1\" class=\"dataframe\">\n",
       "  <thead>\n",
       "    <tr style=\"text-align: right;\">\n",
       "      <th></th>\n",
       "      <th>id</th>\n",
       "      <th>name</th>\n",
       "      <th>source</th>\n",
       "      <th>sourceNote</th>\n",
       "      <th>sourceOrganization</th>\n",
       "      <th>topics</th>\n",
       "    </tr>\n",
       "  </thead>\n",
       "  <tbody>\n",
       "    <tr>\n",
       "      <th>4389</th>\n",
       "      <td>EN.ATM.CO2E.FF.KT</td>\n",
       "      <td>CO2 emissions from fossil-fuels, total (thousa...</td>\n",
       "      <td>Africa Development Indicators</td>\n",
       "      <td>Fossil fuel is any hydrocarbon deposit that ca...</td>\n",
       "      <td>b'Food and Agriculture Organization, electroni...</td>\n",
       "      <td></td>\n",
       "    </tr>\n",
       "    <tr>\n",
       "      <th>4390</th>\n",
       "      <td>EN.ATM.CO2E.FF.ZS</td>\n",
       "      <td>CO2 emissions from fossil-fuels (% of total)</td>\n",
       "      <td>Africa Development Indicators</td>\n",
       "      <td>Fossil fuel is any hydrocarbon deposit that ca...</td>\n",
       "      <td>b'Food and Agriculture Organization, electroni...</td>\n",
       "      <td></td>\n",
       "    </tr>\n",
       "    <tr>\n",
       "      <th>4391</th>\n",
       "      <td>EN.ATM.CO2E.GF.KT</td>\n",
       "      <td>CO2 emissions from gaseous fuel consumption (kt)</td>\n",
       "      <td>World Development Indicators</td>\n",
       "      <td>Carbon dioxide emissions from liquid fuel cons...</td>\n",
       "      <td>b'Carbon Dioxide Information Analysis Center, ...</td>\n",
       "      <td>Environment  ; Climate Change</td>\n",
       "    </tr>\n",
       "    <tr>\n",
       "      <th>4392</th>\n",
       "      <td>EN.ATM.CO2E.GF.ZS</td>\n",
       "      <td>CO2 emissions from gaseous fuel consumption (%...</td>\n",
       "      <td>World Development Indicators</td>\n",
       "      <td>Carbon dioxide emissions from liquid fuel cons...</td>\n",
       "      <td>b'Carbon Dioxide Information Analysis Center, ...</td>\n",
       "      <td>Climate Change ; Environment</td>\n",
       "    </tr>\n",
       "    <tr>\n",
       "      <th>4396</th>\n",
       "      <td>EN.ATM.CO2E.LF.KT</td>\n",
       "      <td>CO2 emissions from liquid fuel consumption (kt)</td>\n",
       "      <td>World Development Indicators</td>\n",
       "      <td>Carbon dioxide emissions from liquid fuel cons...</td>\n",
       "      <td>b'Carbon Dioxide Information Analysis Center, ...</td>\n",
       "      <td>Environment  ; Climate Change</td>\n",
       "    </tr>\n",
       "    <tr>\n",
       "      <th>4397</th>\n",
       "      <td>EN.ATM.CO2E.LF.ZS</td>\n",
       "      <td>CO2 emissions from liquid fuel consumption (% ...</td>\n",
       "      <td>World Development Indicators</td>\n",
       "      <td>Carbon dioxide emissions from liquid fuel cons...</td>\n",
       "      <td>b'Carbon Dioxide Information Analysis Center, ...</td>\n",
       "      <td>Climate Change ; Environment</td>\n",
       "    </tr>\n",
       "    <tr>\n",
       "      <th>4401</th>\n",
       "      <td>EN.ATM.CO2E.SF.KT</td>\n",
       "      <td>CO2 emissions from solid fuel consumption (kt)</td>\n",
       "      <td>World Development Indicators</td>\n",
       "      <td>Carbon dioxide emissions from solid fuel consu...</td>\n",
       "      <td>b'Carbon Dioxide Information Analysis Center, ...</td>\n",
       "      <td>Environment  ; Climate Change</td>\n",
       "    </tr>\n",
       "    <tr>\n",
       "      <th>4402</th>\n",
       "      <td>EN.ATM.CO2E.SF.ZS</td>\n",
       "      <td>CO2 emissions from solid fuel consumption (% o...</td>\n",
       "      <td>World Development Indicators</td>\n",
       "      <td>Carbon dioxide emissions from solid fuel consu...</td>\n",
       "      <td>b'Carbon Dioxide Information Analysis Center, ...</td>\n",
       "      <td>Climate Change ; Environment</td>\n",
       "    </tr>\n",
       "    <tr>\n",
       "      <th>4428</th>\n",
       "      <td>EN.CO2.BLDG.ZS</td>\n",
       "      <td>CO2 emissions from residential buildings and c...</td>\n",
       "      <td>World Development Indicators</td>\n",
       "      <td>CO2 emissions from residential buildings and c...</td>\n",
       "      <td>b'IEA Statistics  OECD/IEA, http://www.iea.org...</td>\n",
       "      <td>Environment</td>\n",
       "    </tr>\n",
       "    <tr>\n",
       "      <th>4430</th>\n",
       "      <td>EN.CO2.ETOT.ZS</td>\n",
       "      <td>CO2 emissions from electricity and heat produc...</td>\n",
       "      <td>World Development Indicators</td>\n",
       "      <td>CO2 emissions from electricity and heat produc...</td>\n",
       "      <td>b'IEA Statistics  OECD/IEA, http://www.iea.org...</td>\n",
       "      <td>Environment</td>\n",
       "    </tr>\n",
       "    <tr>\n",
       "      <th>4432</th>\n",
       "      <td>EN.CO2.MANF.ZS</td>\n",
       "      <td>CO2 emissions from manufacturing industries an...</td>\n",
       "      <td>World Development Indicators</td>\n",
       "      <td>CO2 emissions from manufacturing industries an...</td>\n",
       "      <td>b'IEA Statistics  OECD/IEA, http://www.iea.org...</td>\n",
       "      <td>Environment</td>\n",
       "    </tr>\n",
       "    <tr>\n",
       "      <th>4434</th>\n",
       "      <td>EN.CO2.OTHX.ZS</td>\n",
       "      <td>CO2 emissions from other sectors, excluding re...</td>\n",
       "      <td>World Development Indicators</td>\n",
       "      <td>CO2 emissions from other sectors, less residen...</td>\n",
       "      <td>b'IEA Statistics  OECD/IEA, http://www.iea.org...</td>\n",
       "      <td>Environment</td>\n",
       "    </tr>\n",
       "    <tr>\n",
       "      <th>4436</th>\n",
       "      <td>EN.CO2.TRAN.ZS</td>\n",
       "      <td>CO2 emissions from transport (% of total fuel ...</td>\n",
       "      <td>World Development Indicators</td>\n",
       "      <td>CO2 emissions from transport contains emission...</td>\n",
       "      <td>b'IEA Statistics  OECD/IEA, http://www.iea.org...</td>\n",
       "      <td>Environment</td>\n",
       "    </tr>\n",
       "  </tbody>\n",
       "</table>\n",
       "</div>"
      ],
      "text/plain": [
       "                     id                                               name  \\\n",
       "4389  EN.ATM.CO2E.FF.KT  CO2 emissions from fossil-fuels, total (thousa...   \n",
       "4390  EN.ATM.CO2E.FF.ZS       CO2 emissions from fossil-fuels (% of total)   \n",
       "4391  EN.ATM.CO2E.GF.KT  CO2 emissions from gaseous fuel consumption (kt)    \n",
       "4392  EN.ATM.CO2E.GF.ZS  CO2 emissions from gaseous fuel consumption (%...   \n",
       "4396  EN.ATM.CO2E.LF.KT   CO2 emissions from liquid fuel consumption (kt)    \n",
       "4397  EN.ATM.CO2E.LF.ZS  CO2 emissions from liquid fuel consumption (% ...   \n",
       "4401  EN.ATM.CO2E.SF.KT    CO2 emissions from solid fuel consumption (kt)    \n",
       "4402  EN.ATM.CO2E.SF.ZS  CO2 emissions from solid fuel consumption (% o...   \n",
       "4428     EN.CO2.BLDG.ZS  CO2 emissions from residential buildings and c...   \n",
       "4430     EN.CO2.ETOT.ZS  CO2 emissions from electricity and heat produc...   \n",
       "4432     EN.CO2.MANF.ZS  CO2 emissions from manufacturing industries an...   \n",
       "4434     EN.CO2.OTHX.ZS  CO2 emissions from other sectors, excluding re...   \n",
       "4436     EN.CO2.TRAN.ZS  CO2 emissions from transport (% of total fuel ...   \n",
       "\n",
       "                             source  \\\n",
       "4389  Africa Development Indicators   \n",
       "4390  Africa Development Indicators   \n",
       "4391   World Development Indicators   \n",
       "4392   World Development Indicators   \n",
       "4396   World Development Indicators   \n",
       "4397   World Development Indicators   \n",
       "4401   World Development Indicators   \n",
       "4402   World Development Indicators   \n",
       "4428   World Development Indicators   \n",
       "4430   World Development Indicators   \n",
       "4432   World Development Indicators   \n",
       "4434   World Development Indicators   \n",
       "4436   World Development Indicators   \n",
       "\n",
       "                                             sourceNote  \\\n",
       "4389  Fossil fuel is any hydrocarbon deposit that ca...   \n",
       "4390  Fossil fuel is any hydrocarbon deposit that ca...   \n",
       "4391  Carbon dioxide emissions from liquid fuel cons...   \n",
       "4392  Carbon dioxide emissions from liquid fuel cons...   \n",
       "4396  Carbon dioxide emissions from liquid fuel cons...   \n",
       "4397  Carbon dioxide emissions from liquid fuel cons...   \n",
       "4401  Carbon dioxide emissions from solid fuel consu...   \n",
       "4402  Carbon dioxide emissions from solid fuel consu...   \n",
       "4428  CO2 emissions from residential buildings and c...   \n",
       "4430  CO2 emissions from electricity and heat produc...   \n",
       "4432  CO2 emissions from manufacturing industries an...   \n",
       "4434  CO2 emissions from other sectors, less residen...   \n",
       "4436  CO2 emissions from transport contains emission...   \n",
       "\n",
       "                                     sourceOrganization  \\\n",
       "4389  b'Food and Agriculture Organization, electroni...   \n",
       "4390  b'Food and Agriculture Organization, electroni...   \n",
       "4391  b'Carbon Dioxide Information Analysis Center, ...   \n",
       "4392  b'Carbon Dioxide Information Analysis Center, ...   \n",
       "4396  b'Carbon Dioxide Information Analysis Center, ...   \n",
       "4397  b'Carbon Dioxide Information Analysis Center, ...   \n",
       "4401  b'Carbon Dioxide Information Analysis Center, ...   \n",
       "4402  b'Carbon Dioxide Information Analysis Center, ...   \n",
       "4428  b'IEA Statistics  OECD/IEA, http://www.iea.org...   \n",
       "4430  b'IEA Statistics  OECD/IEA, http://www.iea.org...   \n",
       "4432  b'IEA Statistics  OECD/IEA, http://www.iea.org...   \n",
       "4434  b'IEA Statistics  OECD/IEA, http://www.iea.org...   \n",
       "4436  b'IEA Statistics  OECD/IEA, http://www.iea.org...   \n",
       "\n",
       "                             topics  \n",
       "4389                                 \n",
       "4390                                 \n",
       "4391  Environment  ; Climate Change  \n",
       "4392  Climate Change ; Environment   \n",
       "4396  Environment  ; Climate Change  \n",
       "4397  Climate Change ; Environment   \n",
       "4401  Environment  ; Climate Change  \n",
       "4402  Climate Change ; Environment   \n",
       "4428                   Environment   \n",
       "4430                   Environment   \n",
       "4432                   Environment   \n",
       "4434                   Environment   \n",
       "4436                   Environment   "
      ]
     },
     "execution_count": 8,
     "metadata": {},
     "output_type": "execute_result"
    }
   ],
   "source": [
    "wb.search(\"CO2.*fuel.*\")"
   ]
  },
  {
   "cell_type": "code",
   "execution_count": 50,
   "metadata": {
    "collapsed": false
   },
   "outputs": [],
   "source": [
    "\n",
    "a=get_wb_series(\"SL.UEM.TOTL.ZS\",\"u\")\n",
    "wb.search(\"unemployment\").values;"
   ]
  },
  {
   "cell_type": "code",
   "execution_count": 52,
   "metadata": {
    "collapsed": false
   },
   "outputs": [],
   "source": [
    "\"adequacy.*transfer\")[\"name\"].values\n",
    "wb.search(\"Average per capita transfer held by poorest quintile - Private Transfers\").values;"
   ]
  },
  {
   "cell_type": "code",
   "execution_count": 55,
   "metadata": {
    "collapsed": false
   },
   "outputs": [
    {
     "data": {
      "text/html": [
       "<div style=\"max-height:1000px;max-width:1500px;overflow:auto;\">\n",
       "<table border=\"1\" class=\"dataframe\">\n",
       "  <thead>\n",
       "    <tr style=\"text-align: right;\">\n",
       "      <th></th>\n",
       "      <th>id</th>\n",
       "      <th>name</th>\n",
       "      <th>source</th>\n",
       "      <th>sourceNote</th>\n",
       "      <th>sourceOrganization</th>\n",
       "      <th>topics</th>\n",
       "    </tr>\n",
       "  </thead>\n",
       "  <tbody>\n",
       "    <tr>\n",
       "      <th>1602</th>\n",
       "      <td> BX.PEF.TOTL.CD.WD</td>\n",
       "      <td>  Portfolio equity, net inflows (BoP, current US$)</td>\n",
       "      <td>                      World Development Indicators</td>\n",
       "      <td> Portfolio equity includes net inflows from equ...</td>\n",
       "      <td> b'International Monetary Fund, Balance of Paym...</td>\n",
       "      <td> External Debt ; Economy &amp; Growth ; Financial S...</td>\n",
       "    </tr>\n",
       "    <tr>\n",
       "      <th>1634</th>\n",
       "      <td>    CM.MKT.INDX.ZG</td>\n",
       "      <td>       S&amp;P Global Equity Indices (annual % change)</td>\n",
       "      <td>                      World Development Indicators</td>\n",
       "      <td> S&amp;P Global Equity Indices measure the U.S. dol...</td>\n",
       "      <td> b\"Standard &amp; Poor's, Global Stock Markets Fact...</td>\n",
       "      <td>                                 Financial Sector </td>\n",
       "    </tr>\n",
       "    <tr>\n",
       "      <th>4725</th>\n",
       "      <td>        GFDD.AM.04</td>\n",
       "      <td> Investments financed by equity or stock sales (%)</td>\n",
       "      <td>                      Global Financial Development</td>\n",
       "      <td> Estimated proportion of purchases of fixed ass...</td>\n",
       "      <td>                 b'Enterprise Surveys, World Bank'</td>\n",
       "      <td>                                 Financial Sector </td>\n",
       "    </tr>\n",
       "    <tr>\n",
       "      <th>4747</th>\n",
       "      <td>        GFDD.DM.08</td>\n",
       "      <td>     Gross portfolio equity liabilities to GDP (%)</td>\n",
       "      <td>                      Global Financial Development</td>\n",
       "      <td> Ratio of gross portfolio equity liabilities to...</td>\n",
       "      <td> b'International Financial Statistics (IFS), In...</td>\n",
       "      <td>                                 Financial Sector </td>\n",
       "    </tr>\n",
       "    <tr>\n",
       "      <th>4748</th>\n",
       "      <td>        GFDD.DM.09</td>\n",
       "      <td>          Gross portfolio equity assets to GDP (%)</td>\n",
       "      <td>                      Global Financial Development</td>\n",
       "      <td> Ratio of gross portfolio equity assets to GDP....</td>\n",
       "      <td> b'International Financial Statistics (IFS), In...</td>\n",
       "      <td>                                 Financial Sector </td>\n",
       "    </tr>\n",
       "    <tr>\n",
       "      <th>4755</th>\n",
       "      <td>        GFDD.EI.06</td>\n",
       "      <td>              Bank return on equity (%, after tax)</td>\n",
       "      <td>                      Global Financial Development</td>\n",
       "      <td> Raw data are from Bankscope.  Data2115[t] / ((...</td>\n",
       "      <td>               b'Bankscope, Bureau van Dijk (BvD)'</td>\n",
       "      <td>                                 Financial Sector </td>\n",
       "    </tr>\n",
       "    <tr>\n",
       "      <th>4759</th>\n",
       "      <td>        GFDD.EI.10</td>\n",
       "      <td>             Bank return on equity (%, before tax)</td>\n",
       "      <td>                      Global Financial Development</td>\n",
       "      <td> Raw data are from Bankscope.  Data10270[t] / (...</td>\n",
       "      <td>               b'Bankscope, Bureau van Dijk (BvD)'</td>\n",
       "      <td>                                 Financial Sector </td>\n",
       "    </tr>\n",
       "    <tr>\n",
       "      <th>5203</th>\n",
       "      <td>   IC.FRM.FIN.FIN4</td>\n",
       "      <td> Proportion of investment financed by equity or...</td>\n",
       "      <td>                                Enterprise Surveys</td>\n",
       "      <td> Proportion of purchases of fixed assets that w...</td>\n",
       "      <td> b'World Bank, Enterprise Surveys Project(http:...</td>\n",
       "      <td>                                                  </td>\n",
       "    </tr>\n",
       "    <tr>\n",
       "      <th>5505</th>\n",
       "      <td>    IQ.CPA.PRES.XQ</td>\n",
       "      <td> CPIA equity of public resource use rating (1=l...</td>\n",
       "      <td>                      World Development Indicators</td>\n",
       "      <td> Equity of public resource use assesses the ext...</td>\n",
       "      <td> b'World Bank Group, CPIA database (http://www....</td>\n",
       "      <td>                                    Public Sector </td>\n",
       "    </tr>\n",
       "    <tr>\n",
       "      <th>5510</th>\n",
       "      <td>    IQ.CPA.SOCI.XQ</td>\n",
       "      <td> CPIA policies for social inclusion/equity clus...</td>\n",
       "      <td>                      World Development Indicators</td>\n",
       "      <td> The policies for social inclusion and equity c...</td>\n",
       "      <td> b'World Bank Group, CPIA database (http://www....</td>\n",
       "      <td>                                    Public Sector </td>\n",
       "    </tr>\n",
       "    <tr>\n",
       "      <th>7290</th>\n",
       "      <td> SH.MLR.ITN.1HH.ZS</td>\n",
       "      <td> Households with one or more insect-treated mos...</td>\n",
       "      <td>                     Africa Development Indicators</td>\n",
       "      <td> Percentage of households owning at least one i...</td>\n",
       "      <td>                 b'DHS, MICS, MIS or MoH surveys.'</td>\n",
       "      <td>                                                  </td>\n",
       "    </tr>\n",
       "    <tr>\n",
       "      <th>7291</th>\n",
       "      <td> SH.MLR.NETA.Q1.ZS</td>\n",
       "      <td> Mosquito net use by children (any mosquito net...</td>\n",
       "      <td> Health Nutrition and Population Statistics by ...</td>\n",
       "      <td> Mosquito net use by children: Percentage of ch...</td>\n",
       "      <td>                  b'Household Surveys (DHS, MICS)'</td>\n",
       "      <td>                                           Health </td>\n",
       "    </tr>\n",
       "    <tr>\n",
       "      <th>7292</th>\n",
       "      <td> SH.MLR.NETA.Q2.ZS</td>\n",
       "      <td> Mosquito net use by children (any mosquito net...</td>\n",
       "      <td> Health Nutrition and Population Statistics by ...</td>\n",
       "      <td> Mosquito net use by children: Percentage of ch...</td>\n",
       "      <td>                  b'Household Surveys (DHS, MICS)'</td>\n",
       "      <td>                                           Health </td>\n",
       "    </tr>\n",
       "    <tr>\n",
       "      <th>7293</th>\n",
       "      <td> SH.MLR.NETA.Q3.ZS</td>\n",
       "      <td> Mosquito net use by children (any mosquito net...</td>\n",
       "      <td> Health Nutrition and Population Statistics by ...</td>\n",
       "      <td> Mosquito net use by children: Percentage of ch...</td>\n",
       "      <td>                  b'Household Surveys (DHS, MICS)'</td>\n",
       "      <td>                                           Health </td>\n",
       "    </tr>\n",
       "    <tr>\n",
       "      <th>7294</th>\n",
       "      <td> SH.MLR.NETA.Q4.ZS</td>\n",
       "      <td> Mosquito net use by children (any mosquito net...</td>\n",
       "      <td> Health Nutrition and Population Statistics by ...</td>\n",
       "      <td> Mosquito net use by children: Percentage of ch...</td>\n",
       "      <td>                  b'Household Surveys (DHS, MICS)'</td>\n",
       "      <td>                                           Health </td>\n",
       "    </tr>\n",
       "    <tr>\n",
       "      <th>7295</th>\n",
       "      <td> SH.MLR.NETA.Q5.ZS</td>\n",
       "      <td> Mosquito net use by children (any mosquito net...</td>\n",
       "      <td> Health Nutrition and Population Statistics by ...</td>\n",
       "      <td> Mosquito net use by children: Percentage of ch...</td>\n",
       "      <td>                  b'Household Surveys (DHS, MICS)'</td>\n",
       "      <td>                                           Health </td>\n",
       "    </tr>\n",
       "    <tr>\n",
       "      <th>7296</th>\n",
       "      <td> SH.MLR.NETH.Q1.ZS</td>\n",
       "      <td> Household posession of mosquito nets (any type...</td>\n",
       "      <td> Health Nutrition and Population Statistics by ...</td>\n",
       "      <td> Household possession of mosquito nets: Percent...</td>\n",
       "      <td>                  b'Household Surveys (DHS, MICS)'</td>\n",
       "      <td>                                           Health </td>\n",
       "    </tr>\n",
       "    <tr>\n",
       "      <th>7297</th>\n",
       "      <td> SH.MLR.NETH.Q2.ZS</td>\n",
       "      <td> Household posession of mosquito nets (any type...</td>\n",
       "      <td> Health Nutrition and Population Statistics by ...</td>\n",
       "      <td> Household possession of mosquito nets: Percent...</td>\n",
       "      <td>                  b'Household Surveys (DHS, MICS)'</td>\n",
       "      <td>                                           Health </td>\n",
       "    </tr>\n",
       "    <tr>\n",
       "      <th>7298</th>\n",
       "      <td> SH.MLR.NETH.Q3.ZS</td>\n",
       "      <td> Household posession of mosquito nets (any type...</td>\n",
       "      <td> Health Nutrition and Population Statistics by ...</td>\n",
       "      <td> Household possession of mosquito nets: Percent...</td>\n",
       "      <td>                  b'Household Surveys (DHS, MICS)'</td>\n",
       "      <td>                                           Health </td>\n",
       "    </tr>\n",
       "    <tr>\n",
       "      <th>7299</th>\n",
       "      <td> SH.MLR.NETH.Q4.ZS</td>\n",
       "      <td> Household posession of mosquito nets (any type...</td>\n",
       "      <td> Health Nutrition and Population Statistics by ...</td>\n",
       "      <td> Household possession of mosquito nets: Percent...</td>\n",
       "      <td>                  b'Household Surveys (DHS, MICS)'</td>\n",
       "      <td>                                           Health </td>\n",
       "    </tr>\n",
       "    <tr>\n",
       "      <th>7300</th>\n",
       "      <td> SH.MLR.NETH.Q5.ZS</td>\n",
       "      <td> Household posession of mosquito nets (any type...</td>\n",
       "      <td> Health Nutrition and Population Statistics by ...</td>\n",
       "      <td> Household possession of mosquito nets: Percent...</td>\n",
       "      <td>                  b'Household Surveys (DHS, MICS)'</td>\n",
       "      <td>                                           Health </td>\n",
       "    </tr>\n",
       "    <tr>\n",
       "      <th>7301</th>\n",
       "      <td> SH.MLR.NETP.Q1.ZS</td>\n",
       "      <td> Mosquito net use by pregnant women (any mosqui...</td>\n",
       "      <td> Health Nutrition and Population Statistics by ...</td>\n",
       "      <td> Mosquito net use by pregnant women: Percentage...</td>\n",
       "      <td>                  b'Household Surveys (DHS, MICS)'</td>\n",
       "      <td>                                           Health </td>\n",
       "    </tr>\n",
       "    <tr>\n",
       "      <th>7302</th>\n",
       "      <td> SH.MLR.NETP.Q2.ZS</td>\n",
       "      <td> Mosquito net use by pregnant women (any mosqui...</td>\n",
       "      <td> Health Nutrition and Population Statistics by ...</td>\n",
       "      <td> Mosquito net use by pregnant women: Percentage...</td>\n",
       "      <td>                  b'Household Surveys (DHS, MICS)'</td>\n",
       "      <td>                                           Health </td>\n",
       "    </tr>\n",
       "    <tr>\n",
       "      <th>7303</th>\n",
       "      <td> SH.MLR.NETP.Q3.ZS</td>\n",
       "      <td> Mosquito net use by pregnant women (any mosqui...</td>\n",
       "      <td> Health Nutrition and Population Statistics by ...</td>\n",
       "      <td> Mosquito net use by pregnant women: Percentage...</td>\n",
       "      <td>                  b'Household Surveys (DHS, MICS)'</td>\n",
       "      <td>                                           Health </td>\n",
       "    </tr>\n",
       "    <tr>\n",
       "      <th>7304</th>\n",
       "      <td> SH.MLR.NETP.Q4.ZS</td>\n",
       "      <td> Mosquito net use by pregnant women (any mosqui...</td>\n",
       "      <td> Health Nutrition and Population Statistics by ...</td>\n",
       "      <td> Mosquito net use by pregnant women: Percentage...</td>\n",
       "      <td>                  b'Household Surveys (DHS, MICS)'</td>\n",
       "      <td>                                           Health </td>\n",
       "    </tr>\n",
       "    <tr>\n",
       "      <th>7305</th>\n",
       "      <td> SH.MLR.NETP.Q5.ZS</td>\n",
       "      <td> Mosquito net use by pregnant women (any mosqui...</td>\n",
       "      <td> Health Nutrition and Population Statistics by ...</td>\n",
       "      <td> Mosquito net use by pregnant women: Percentage...</td>\n",
       "      <td>                  b'Household Surveys (DHS, MICS)'</td>\n",
       "      <td>                                           Health </td>\n",
       "    </tr>\n",
       "    <tr>\n",
       "      <th>7306</th>\n",
       "      <td> SH.MLR.NETS.Q2.ZS</td>\n",
       "      <td> Mosquito net use by children (insecticide-trea...</td>\n",
       "      <td> Health Nutrition and Population Statistics by ...</td>\n",
       "      <td> Mosquito net use by children: Percentage of ch...</td>\n",
       "      <td>                  b'Household Surveys (DHS, MICS)'</td>\n",
       "      <td>                                           Health </td>\n",
       "    </tr>\n",
       "    <tr>\n",
       "      <th>7307</th>\n",
       "      <td> SH.MLR.NETS.Q3.ZS</td>\n",
       "      <td> Mosquito net use by children (insecticide-trea...</td>\n",
       "      <td> Health Nutrition and Population Statistics by ...</td>\n",
       "      <td> Mosquito net use by children: Percentage of ch...</td>\n",
       "      <td>                  b'Household Surveys (DHS, MICS)'</td>\n",
       "      <td>                                           Health </td>\n",
       "    </tr>\n",
       "    <tr>\n",
       "      <th>7308</th>\n",
       "      <td> SH.MLR.NETS.Q4.ZS</td>\n",
       "      <td> Mosquito net use by children (insecticide-trea...</td>\n",
       "      <td> Health Nutrition and Population Statistics by ...</td>\n",
       "      <td> Mosquito net use by children: Percentage of ch...</td>\n",
       "      <td>                  b'Household Surveys (DHS, MICS)'</td>\n",
       "      <td>                                           Health </td>\n",
       "    </tr>\n",
       "    <tr>\n",
       "      <th>7310</th>\n",
       "      <td> SH.MLR.NTHI.Q1.ZS</td>\n",
       "      <td> Household posession of mosquito nets (insectic...</td>\n",
       "      <td> Health Nutrition and Population Statistics by ...</td>\n",
       "      <td> Household possession of mosquito nets: Percent...</td>\n",
       "      <td>                  b'Household Surveys (DHS, MICS)'</td>\n",
       "      <td>                                           Health </td>\n",
       "    </tr>\n",
       "    <tr>\n",
       "      <th>7311</th>\n",
       "      <td> SH.MLR.NTHI.Q2.ZS</td>\n",
       "      <td> Household posession of mosquito nets (insectic...</td>\n",
       "      <td> Health Nutrition and Population Statistics by ...</td>\n",
       "      <td> Household possession of mosquito nets: Percent...</td>\n",
       "      <td>                  b'Household Surveys (DHS, MICS)'</td>\n",
       "      <td>                                           Health </td>\n",
       "    </tr>\n",
       "    <tr>\n",
       "      <th>7312</th>\n",
       "      <td> SH.MLR.NTHI.Q3.ZS</td>\n",
       "      <td> Household posession of mosquito nets (insectic...</td>\n",
       "      <td> Health Nutrition and Population Statistics by ...</td>\n",
       "      <td> Household possession of mosquito nets: Percent...</td>\n",
       "      <td>                  b'Household Surveys (DHS, MICS)'</td>\n",
       "      <td>                                           Health </td>\n",
       "    </tr>\n",
       "    <tr>\n",
       "      <th>7313</th>\n",
       "      <td> SH.MLR.NTHI.Q4.ZS</td>\n",
       "      <td> Household posession of mosquito nets (insectic...</td>\n",
       "      <td> Health Nutrition and Population Statistics by ...</td>\n",
       "      <td> Household possession of mosquito nets: Percent...</td>\n",
       "      <td>                  b'Household Surveys (DHS, MICS)'</td>\n",
       "      <td>                                           Health </td>\n",
       "    </tr>\n",
       "    <tr>\n",
       "      <th>7314</th>\n",
       "      <td> SH.MLR.NTHI.Q5.ZS</td>\n",
       "      <td> Household posession of mosquito nets (insectic...</td>\n",
       "      <td> Health Nutrition and Population Statistics by ...</td>\n",
       "      <td> Household possession of mosquito nets: Percent...</td>\n",
       "      <td>                  b'Household Surveys (DHS, MICS)'</td>\n",
       "      <td>                                           Health </td>\n",
       "    </tr>\n",
       "    <tr>\n",
       "      <th>7315</th>\n",
       "      <td> SH.MLR.NTPI.Q1.ZS</td>\n",
       "      <td> Mosquito net use by pregnant women (insecticid...</td>\n",
       "      <td> Health Nutrition and Population Statistics by ...</td>\n",
       "      <td> Mosquito net use by pregnant women: Percentage...</td>\n",
       "      <td>                  b'Household Surveys (DHS, MICS)'</td>\n",
       "      <td>                                           Health </td>\n",
       "    </tr>\n",
       "    <tr>\n",
       "      <th>7316</th>\n",
       "      <td> SH.MLR.NTPI.Q2.ZS</td>\n",
       "      <td> Mosquito net use by pregnant women (insecticid...</td>\n",
       "      <td> Health Nutrition and Population Statistics by ...</td>\n",
       "      <td> Mosquito net use by pregnant women: Percentage...</td>\n",
       "      <td>                  b'Household Surveys (DHS, MICS)'</td>\n",
       "      <td>                                           Health </td>\n",
       "    </tr>\n",
       "    <tr>\n",
       "      <th>7317</th>\n",
       "      <td> SH.MLR.NTPI.Q3.ZS</td>\n",
       "      <td> Mosquito net use by pregnant women (insecticid...</td>\n",
       "      <td> Health Nutrition and Population Statistics by ...</td>\n",
       "      <td> Mosquito net use by pregnant women: Percentage...</td>\n",
       "      <td>                  b'Household Surveys (DHS, MICS)'</td>\n",
       "      <td>                                           Health </td>\n",
       "    </tr>\n",
       "    <tr>\n",
       "      <th>7318</th>\n",
       "      <td> SH.MLR.NTPI.Q4.ZS</td>\n",
       "      <td> Mosquito net use by pregnant women (insecticid...</td>\n",
       "      <td> Health Nutrition and Population Statistics by ...</td>\n",
       "      <td> Mosquito net use by pregnant women: Percentage...</td>\n",
       "      <td>                  b'Household Surveys (DHS, MICS)'</td>\n",
       "      <td>                                           Health </td>\n",
       "    </tr>\n",
       "    <tr>\n",
       "      <th>7319</th>\n",
       "      <td> SH.MLR.NTPI.Q5.ZS</td>\n",
       "      <td> Mosquito net use by pregnant women (insecticid...</td>\n",
       "      <td> Health Nutrition and Population Statistics by ...</td>\n",
       "      <td> Mosquito net use by pregnant women: Percentage...</td>\n",
       "      <td>                  b'Household Surveys (DHS, MICS)'</td>\n",
       "      <td>                                           Health </td>\n",
       "    </tr>\n",
       "  </tbody>\n",
       "</table>\n",
       "</div>"
      ],
      "text/plain": [
       "                     id                                               name  \\\n",
       "1602  BX.PEF.TOTL.CD.WD   Portfolio equity, net inflows (BoP, current US$)   \n",
       "1634     CM.MKT.INDX.ZG        S&P Global Equity Indices (annual % change)   \n",
       "4725         GFDD.AM.04  Investments financed by equity or stock sales (%)   \n",
       "4747         GFDD.DM.08      Gross portfolio equity liabilities to GDP (%)   \n",
       "4748         GFDD.DM.09           Gross portfolio equity assets to GDP (%)   \n",
       "4755         GFDD.EI.06               Bank return on equity (%, after tax)   \n",
       "4759         GFDD.EI.10              Bank return on equity (%, before tax)   \n",
       "5203    IC.FRM.FIN.FIN4  Proportion of investment financed by equity or...   \n",
       "5505     IQ.CPA.PRES.XQ  CPIA equity of public resource use rating (1=l...   \n",
       "5510     IQ.CPA.SOCI.XQ  CPIA policies for social inclusion/equity clus...   \n",
       "7290  SH.MLR.ITN.1HH.ZS  Households with one or more insect-treated mos...   \n",
       "7291  SH.MLR.NETA.Q1.ZS  Mosquito net use by children (any mosquito net...   \n",
       "7292  SH.MLR.NETA.Q2.ZS  Mosquito net use by children (any mosquito net...   \n",
       "7293  SH.MLR.NETA.Q3.ZS  Mosquito net use by children (any mosquito net...   \n",
       "7294  SH.MLR.NETA.Q4.ZS  Mosquito net use by children (any mosquito net...   \n",
       "7295  SH.MLR.NETA.Q5.ZS  Mosquito net use by children (any mosquito net...   \n",
       "7296  SH.MLR.NETH.Q1.ZS  Household posession of mosquito nets (any type...   \n",
       "7297  SH.MLR.NETH.Q2.ZS  Household posession of mosquito nets (any type...   \n",
       "7298  SH.MLR.NETH.Q3.ZS  Household posession of mosquito nets (any type...   \n",
       "7299  SH.MLR.NETH.Q4.ZS  Household posession of mosquito nets (any type...   \n",
       "7300  SH.MLR.NETH.Q5.ZS  Household posession of mosquito nets (any type...   \n",
       "7301  SH.MLR.NETP.Q1.ZS  Mosquito net use by pregnant women (any mosqui...   \n",
       "7302  SH.MLR.NETP.Q2.ZS  Mosquito net use by pregnant women (any mosqui...   \n",
       "7303  SH.MLR.NETP.Q3.ZS  Mosquito net use by pregnant women (any mosqui...   \n",
       "7304  SH.MLR.NETP.Q4.ZS  Mosquito net use by pregnant women (any mosqui...   \n",
       "7305  SH.MLR.NETP.Q5.ZS  Mosquito net use by pregnant women (any mosqui...   \n",
       "7306  SH.MLR.NETS.Q2.ZS  Mosquito net use by children (insecticide-trea...   \n",
       "7307  SH.MLR.NETS.Q3.ZS  Mosquito net use by children (insecticide-trea...   \n",
       "7308  SH.MLR.NETS.Q4.ZS  Mosquito net use by children (insecticide-trea...   \n",
       "7310  SH.MLR.NTHI.Q1.ZS  Household posession of mosquito nets (insectic...   \n",
       "7311  SH.MLR.NTHI.Q2.ZS  Household posession of mosquito nets (insectic...   \n",
       "7312  SH.MLR.NTHI.Q3.ZS  Household posession of mosquito nets (insectic...   \n",
       "7313  SH.MLR.NTHI.Q4.ZS  Household posession of mosquito nets (insectic...   \n",
       "7314  SH.MLR.NTHI.Q5.ZS  Household posession of mosquito nets (insectic...   \n",
       "7315  SH.MLR.NTPI.Q1.ZS  Mosquito net use by pregnant women (insecticid...   \n",
       "7316  SH.MLR.NTPI.Q2.ZS  Mosquito net use by pregnant women (insecticid...   \n",
       "7317  SH.MLR.NTPI.Q3.ZS  Mosquito net use by pregnant women (insecticid...   \n",
       "7318  SH.MLR.NTPI.Q4.ZS  Mosquito net use by pregnant women (insecticid...   \n",
       "7319  SH.MLR.NTPI.Q5.ZS  Mosquito net use by pregnant women (insecticid...   \n",
       "\n",
       "                                                 source  \\\n",
       "1602                       World Development Indicators   \n",
       "1634                       World Development Indicators   \n",
       "4725                       Global Financial Development   \n",
       "4747                       Global Financial Development   \n",
       "4748                       Global Financial Development   \n",
       "4755                       Global Financial Development   \n",
       "4759                       Global Financial Development   \n",
       "5203                                 Enterprise Surveys   \n",
       "5505                       World Development Indicators   \n",
       "5510                       World Development Indicators   \n",
       "7290                      Africa Development Indicators   \n",
       "7291  Health Nutrition and Population Statistics by ...   \n",
       "7292  Health Nutrition and Population Statistics by ...   \n",
       "7293  Health Nutrition and Population Statistics by ...   \n",
       "7294  Health Nutrition and Population Statistics by ...   \n",
       "7295  Health Nutrition and Population Statistics by ...   \n",
       "7296  Health Nutrition and Population Statistics by ...   \n",
       "7297  Health Nutrition and Population Statistics by ...   \n",
       "7298  Health Nutrition and Population Statistics by ...   \n",
       "7299  Health Nutrition and Population Statistics by ...   \n",
       "7300  Health Nutrition and Population Statistics by ...   \n",
       "7301  Health Nutrition and Population Statistics by ...   \n",
       "7302  Health Nutrition and Population Statistics by ...   \n",
       "7303  Health Nutrition and Population Statistics by ...   \n",
       "7304  Health Nutrition and Population Statistics by ...   \n",
       "7305  Health Nutrition and Population Statistics by ...   \n",
       "7306  Health Nutrition and Population Statistics by ...   \n",
       "7307  Health Nutrition and Population Statistics by ...   \n",
       "7308  Health Nutrition and Population Statistics by ...   \n",
       "7310  Health Nutrition and Population Statistics by ...   \n",
       "7311  Health Nutrition and Population Statistics by ...   \n",
       "7312  Health Nutrition and Population Statistics by ...   \n",
       "7313  Health Nutrition and Population Statistics by ...   \n",
       "7314  Health Nutrition and Population Statistics by ...   \n",
       "7315  Health Nutrition and Population Statistics by ...   \n",
       "7316  Health Nutrition and Population Statistics by ...   \n",
       "7317  Health Nutrition and Population Statistics by ...   \n",
       "7318  Health Nutrition and Population Statistics by ...   \n",
       "7319  Health Nutrition and Population Statistics by ...   \n",
       "\n",
       "                                             sourceNote  \\\n",
       "1602  Portfolio equity includes net inflows from equ...   \n",
       "1634  S&P Global Equity Indices measure the U.S. dol...   \n",
       "4725  Estimated proportion of purchases of fixed ass...   \n",
       "4747  Ratio of gross portfolio equity liabilities to...   \n",
       "4748  Ratio of gross portfolio equity assets to GDP....   \n",
       "4755  Raw data are from Bankscope.  Data2115[t] / ((...   \n",
       "4759  Raw data are from Bankscope.  Data10270[t] / (...   \n",
       "5203  Proportion of purchases of fixed assets that w...   \n",
       "5505  Equity of public resource use assesses the ext...   \n",
       "5510  The policies for social inclusion and equity c...   \n",
       "7290  Percentage of households owning at least one i...   \n",
       "7291  Mosquito net use by children: Percentage of ch...   \n",
       "7292  Mosquito net use by children: Percentage of ch...   \n",
       "7293  Mosquito net use by children: Percentage of ch...   \n",
       "7294  Mosquito net use by children: Percentage of ch...   \n",
       "7295  Mosquito net use by children: Percentage of ch...   \n",
       "7296  Household possession of mosquito nets: Percent...   \n",
       "7297  Household possession of mosquito nets: Percent...   \n",
       "7298  Household possession of mosquito nets: Percent...   \n",
       "7299  Household possession of mosquito nets: Percent...   \n",
       "7300  Household possession of mosquito nets: Percent...   \n",
       "7301  Mosquito net use by pregnant women: Percentage...   \n",
       "7302  Mosquito net use by pregnant women: Percentage...   \n",
       "7303  Mosquito net use by pregnant women: Percentage...   \n",
       "7304  Mosquito net use by pregnant women: Percentage...   \n",
       "7305  Mosquito net use by pregnant women: Percentage...   \n",
       "7306  Mosquito net use by children: Percentage of ch...   \n",
       "7307  Mosquito net use by children: Percentage of ch...   \n",
       "7308  Mosquito net use by children: Percentage of ch...   \n",
       "7310  Household possession of mosquito nets: Percent...   \n",
       "7311  Household possession of mosquito nets: Percent...   \n",
       "7312  Household possession of mosquito nets: Percent...   \n",
       "7313  Household possession of mosquito nets: Percent...   \n",
       "7314  Household possession of mosquito nets: Percent...   \n",
       "7315  Mosquito net use by pregnant women: Percentage...   \n",
       "7316  Mosquito net use by pregnant women: Percentage...   \n",
       "7317  Mosquito net use by pregnant women: Percentage...   \n",
       "7318  Mosquito net use by pregnant women: Percentage...   \n",
       "7319  Mosquito net use by pregnant women: Percentage...   \n",
       "\n",
       "                                     sourceOrganization  \\\n",
       "1602  b'International Monetary Fund, Balance of Paym...   \n",
       "1634  b\"Standard & Poor's, Global Stock Markets Fact...   \n",
       "4725                  b'Enterprise Surveys, World Bank'   \n",
       "4747  b'International Financial Statistics (IFS), In...   \n",
       "4748  b'International Financial Statistics (IFS), In...   \n",
       "4755                b'Bankscope, Bureau van Dijk (BvD)'   \n",
       "4759                b'Bankscope, Bureau van Dijk (BvD)'   \n",
       "5203  b'World Bank, Enterprise Surveys Project(http:...   \n",
       "5505  b'World Bank Group, CPIA database (http://www....   \n",
       "5510  b'World Bank Group, CPIA database (http://www....   \n",
       "7290                  b'DHS, MICS, MIS or MoH surveys.'   \n",
       "7291                   b'Household Surveys (DHS, MICS)'   \n",
       "7292                   b'Household Surveys (DHS, MICS)'   \n",
       "7293                   b'Household Surveys (DHS, MICS)'   \n",
       "7294                   b'Household Surveys (DHS, MICS)'   \n",
       "7295                   b'Household Surveys (DHS, MICS)'   \n",
       "7296                   b'Household Surveys (DHS, MICS)'   \n",
       "7297                   b'Household Surveys (DHS, MICS)'   \n",
       "7298                   b'Household Surveys (DHS, MICS)'   \n",
       "7299                   b'Household Surveys (DHS, MICS)'   \n",
       "7300                   b'Household Surveys (DHS, MICS)'   \n",
       "7301                   b'Household Surveys (DHS, MICS)'   \n",
       "7302                   b'Household Surveys (DHS, MICS)'   \n",
       "7303                   b'Household Surveys (DHS, MICS)'   \n",
       "7304                   b'Household Surveys (DHS, MICS)'   \n",
       "7305                   b'Household Surveys (DHS, MICS)'   \n",
       "7306                   b'Household Surveys (DHS, MICS)'   \n",
       "7307                   b'Household Surveys (DHS, MICS)'   \n",
       "7308                   b'Household Surveys (DHS, MICS)'   \n",
       "7310                   b'Household Surveys (DHS, MICS)'   \n",
       "7311                   b'Household Surveys (DHS, MICS)'   \n",
       "7312                   b'Household Surveys (DHS, MICS)'   \n",
       "7313                   b'Household Surveys (DHS, MICS)'   \n",
       "7314                   b'Household Surveys (DHS, MICS)'   \n",
       "7315                   b'Household Surveys (DHS, MICS)'   \n",
       "7316                   b'Household Surveys (DHS, MICS)'   \n",
       "7317                   b'Household Surveys (DHS, MICS)'   \n",
       "7318                   b'Household Surveys (DHS, MICS)'   \n",
       "7319                   b'Household Surveys (DHS, MICS)'   \n",
       "\n",
       "                                                 topics  \n",
       "1602  External Debt ; Economy & Growth ; Financial S...  \n",
       "1634                                  Financial Sector   \n",
       "4725                                  Financial Sector   \n",
       "4747                                  Financial Sector   \n",
       "4748                                  Financial Sector   \n",
       "4755                                  Financial Sector   \n",
       "4759                                  Financial Sector   \n",
       "5203                                                     \n",
       "5505                                     Public Sector   \n",
       "5510                                     Public Sector   \n",
       "7290                                                     \n",
       "7291                                            Health   \n",
       "7292                                            Health   \n",
       "7293                                            Health   \n",
       "7294                                            Health   \n",
       "7295                                            Health   \n",
       "7296                                            Health   \n",
       "7297                                            Health   \n",
       "7298                                            Health   \n",
       "7299                                            Health   \n",
       "7300                                            Health   \n",
       "7301                                            Health   \n",
       "7302                                            Health   \n",
       "7303                                            Health   \n",
       "7304                                            Health   \n",
       "7305                                            Health   \n",
       "7306                                            Health   \n",
       "7307                                            Health   \n",
       "7308                                            Health   \n",
       "7310                                            Health   \n",
       "7311                                            Health   \n",
       "7312                                            Health   \n",
       "7313                                            Health   \n",
       "7314                                            Health   \n",
       "7315                                            Health   \n",
       "7316                                            Health   \n",
       "7317                                            Health   \n",
       "7318                                            Health   \n",
       "7319                                            Health   "
      ]
     },
     "execution_count": 55,
     "metadata": {},
     "output_type": "execute_result"
    }
   ],
   "source": [
    "\n",
    "wb.search(\"quit\")"
   ]
  },
  {
   "cell_type": "code",
   "execution_count": 3,
   "metadata": {
    "collapsed": false
   },
   "outputs": [
    {
     "data": {
      "text/html": [
       "<div style=\"max-height:1000px;max-width:1500px;overflow:auto;\">\n",
       "<table border=\"1\" class=\"dataframe\">\n",
       "  <thead>\n",
       "    <tr style=\"text-align: right;\">\n",
       "      <th></th>\n",
       "      <th>id</th>\n",
       "      <th>name</th>\n",
       "      <th>source</th>\n",
       "      <th>sourceNote</th>\n",
       "      <th>sourceOrganization</th>\n",
       "      <th>topics</th>\n",
       "    </tr>\n",
       "  </thead>\n",
       "  <tbody>\n",
       "    <tr>\n",
       "      <th>7527</th>\n",
       "      <td> SI.DST.FRST.20</td>\n",
       "      <td> Income share held by lowest 20%</td>\n",
       "      <td> World Development Indicators</td>\n",
       "      <td> Percentage share of income or consumption is t...</td>\n",
       "      <td> b'World Bank, Development Research Group. Data...</td>\n",
       "      <td> Poverty  ; Aid Effectiveness </td>\n",
       "    </tr>\n",
       "  </tbody>\n",
       "</table>\n",
       "</div>"
      ],
      "text/plain": [
       "                  id                             name  \\\n",
       "7527  SI.DST.FRST.20  Income share held by lowest 20%   \n",
       "\n",
       "                            source  \\\n",
       "7527  World Development Indicators   \n",
       "\n",
       "                                             sourceNote  \\\n",
       "7527  Percentage share of income or consumption is t...   \n",
       "\n",
       "                                     sourceOrganization  \\\n",
       "7527  b'World Bank, Development Research Group. Data...   \n",
       "\n",
       "                             topics  \n",
       "7527  Poverty  ; Aid Effectiveness   "
      ]
     },
     "execution_count": 3,
     "metadata": {},
     "output_type": "execute_result"
    }
   ],
   "source": [
    "wb.search('Income share held by lowest 20').head()"
   ]
  },
  {
   "cell_type": "code",
   "execution_count": 14,
   "metadata": {
    "collapsed": false
   },
   "outputs": [
    {
     "data": {
      "text/plain": [
       "array([ 'Personally paid for agriculture insurance, income quintiles III, IV, and V (highest)  (% who work in farming/fishing/forestry, age 15+)'], dtype=object)"
      ]
     },
     "execution_count": 14,
     "metadata": {},
     "output_type": "execute_result"
    }
   ],
   "source": [
    "a=wb.search('agriculture insurance')\n",
    "a.ix[a[\"id\"]==\"WP11659.9\",\"name\"].values\n"
   ]
  },
  {
   "cell_type": "code",
   "execution_count": 5,
   "metadata": {
    "collapsed": false
   },
   "outputs": [
    {
     "data": {
      "text/plain": [
       "array([ 'Average per capita transfer held by poorest quintile -All Social Protection and Labor '], dtype=object)"
      ]
     },
     "execution_count": 5,
     "metadata": {},
     "output_type": "execute_result"
    }
   ],
   "source": [
    "a=wb.search('Average per capita transfer held by poorest quintile')\n",
    "a.ix[a[\"id\"]==\"per_allsp.avt_q1_tot\",\"name\"].values\n"
   ]
  },
  {
   "cell_type": "code",
   "execution_count": 13,
   "metadata": {
    "collapsed": false
   },
   "outputs": [
    {
     "data": {
      "text/plain": [
       "array([ 'Average per capita transfer held by poorest quintile - Old Age Contributory (preT)',\n",
       "       'Average per capita transfer held by poorest quintile - Old Age Contributory -rural',\n",
       "       'Average per capita transfer held by poorest quintile - Old Age Contributory ',\n",
       "       'Average per capita transfer held by poorest quintile - Old Age Contributory -urban'], dtype=object)"
      ]
     },
     "execution_count": 13,
     "metadata": {},
     "output_type": "execute_result"
    }
   ],
   "source": [
    "wb.search('Average per capita transfer held by poorest quintile - Old Age Contributory')[\"name\"].values"
   ]
  },
  {
   "cell_type": "code",
   "execution_count": 23,
   "metadata": {
    "collapsed": false
   },
   "outputs": [
    {
     "data": {
      "text/html": [
       "<div style=\"max-height:1000px;max-width:1500px;overflow:auto;\">\n",
       "<table border=\"1\" class=\"dataframe\">\n",
       "  <thead>\n",
       "    <tr style=\"text-align: right;\">\n",
       "      <th></th>\n",
       "      <th>id</th>\n",
       "      <th>name</th>\n",
       "      <th>source</th>\n",
       "      <th>sourceNote</th>\n",
       "      <th>sourceOrganization</th>\n",
       "      <th>topics</th>\n",
       "    </tr>\n",
       "  </thead>\n",
       "  <tbody>\n",
       "    <tr>\n",
       "      <th>12875</th>\n",
       "      <td> per_si_oa.cov_q1_preT_tot</td>\n",
       "      <td> Coverage in poorest quintile (%) - Old Age Con...</td>\n",
       "      <td> Global Social Protection</td>\n",
       "      <td> NULL</td>\n",
       "      <td> b'The Atlas of Social Protection: Indicators o...</td>\n",
       "      <td> Social Protection &amp; Labor</td>\n",
       "    </tr>\n",
       "    <tr>\n",
       "      <th>12876</th>\n",
       "      <td>      per_si_oa.cov_q1_rur</td>\n",
       "      <td> Coverage in poorest quintile (%) - Old Age Con...</td>\n",
       "      <td> Global Social Protection</td>\n",
       "      <td> NULL</td>\n",
       "      <td> b'The Atlas of Social Protection: Indicators o...</td>\n",
       "      <td> Social Protection &amp; Labor</td>\n",
       "    </tr>\n",
       "    <tr>\n",
       "      <th>12877</th>\n",
       "      <td>      per_si_oa.cov_q1_tot</td>\n",
       "      <td> Coverage in poorest quintile (%) - Old Age Con...</td>\n",
       "      <td> Global Social Protection</td>\n",
       "      <td> NULL</td>\n",
       "      <td> b'The Atlas of Social Protection: Indicators o...</td>\n",
       "      <td> Social Protection &amp; Labor</td>\n",
       "    </tr>\n",
       "    <tr>\n",
       "      <th>12878</th>\n",
       "      <td>      per_si_oa.cov_q1_urb</td>\n",
       "      <td> Coverage in poorest quintile (%) - Old Age Con...</td>\n",
       "      <td> Global Social Protection</td>\n",
       "      <td> NULL</td>\n",
       "      <td> b'The Atlas of Social Protection: Indicators o...</td>\n",
       "      <td> Social Protection &amp; Labor</td>\n",
       "    </tr>\n",
       "  </tbody>\n",
       "</table>\n",
       "</div>"
      ],
      "text/plain": [
       "                              id  \\\n",
       "12875  per_si_oa.cov_q1_preT_tot   \n",
       "12876       per_si_oa.cov_q1_rur   \n",
       "12877       per_si_oa.cov_q1_tot   \n",
       "12878       per_si_oa.cov_q1_urb   \n",
       "\n",
       "                                                    name  \\\n",
       "12875  Coverage in poorest quintile (%) - Old Age Con...   \n",
       "12876  Coverage in poorest quintile (%) - Old Age Con...   \n",
       "12877  Coverage in poorest quintile (%) - Old Age Con...   \n",
       "12878  Coverage in poorest quintile (%) - Old Age Con...   \n",
       "\n",
       "                         source sourceNote  \\\n",
       "12875  Global Social Protection       NULL   \n",
       "12876  Global Social Protection       NULL   \n",
       "12877  Global Social Protection       NULL   \n",
       "12878  Global Social Protection       NULL   \n",
       "\n",
       "                                      sourceOrganization  \\\n",
       "12875  b'The Atlas of Social Protection: Indicators o...   \n",
       "12876  b'The Atlas of Social Protection: Indicators o...   \n",
       "12877  b'The Atlas of Social Protection: Indicators o...   \n",
       "12878  b'The Atlas of Social Protection: Indicators o...   \n",
       "\n",
       "                          topics  \n",
       "12875  Social Protection & Labor  \n",
       "12876  Social Protection & Labor  \n",
       "12877  Social Protection & Labor  \n",
       "12878  Social Protection & Labor  "
      ]
     },
     "execution_count": 23,
     "metadata": {},
     "output_type": "execute_result"
    }
   ],
   "source": [
    "wb.search('Coverage in poorest quintile.* - Old Age Contributory')"
   ]
  },
  {
   "cell_type": "code",
   "execution_count": 5,
   "metadata": {
    "collapsed": false
   },
   "outputs": [
    {
     "data": {
      "text/html": [
       "<div style=\"max-height:1000px;max-width:1500px;overflow:auto;\">\n",
       "<table border=\"1\" class=\"dataframe\">\n",
       "  <thead>\n",
       "    <tr style=\"text-align: right;\">\n",
       "      <th></th>\n",
       "      <th>id</th>\n",
       "      <th>name</th>\n",
       "    </tr>\n",
       "  </thead>\n",
       "  <tbody>\n",
       "    <tr>\n",
       "      <th>9317</th>\n",
       "      <td> WP11651_5.8</td>\n",
       "      <td> Loan in the past year, income quintiles I (low...</td>\n",
       "    </tr>\n",
       "    <tr>\n",
       "      <th>9318</th>\n",
       "      <td> WP11651_5.9</td>\n",
       "      <td> Loan in the past year, income quintiles III, I...</td>\n",
       "    </tr>\n",
       "  </tbody>\n",
       "</table>\n",
       "</div>"
      ],
      "text/plain": [
       "               id                                               name\n",
       "9317  WP11651_5.8  Loan in the past year, income quintiles I (low...\n",
       "9318  WP11651_5.9  Loan in the past year, income quintiles III, I..."
      ]
     },
     "execution_count": 5,
     "metadata": {},
     "output_type": "execute_result"
    }
   ],
   "source": [
    "wb.search('Loan in the past year, income').iloc[:,:2]"
   ]
  },
  {
   "cell_type": "code",
   "execution_count": 6,
   "metadata": {
    "collapsed": false
   },
   "outputs": [
    {
     "data": {
      "text/html": [
       "<div style=\"max-height:1000px;max-width:1500px;overflow:auto;\">\n",
       "<table border=\"1\" class=\"dataframe\">\n",
       "  <thead>\n",
       "    <tr style=\"text-align: right;\">\n",
       "      <th></th>\n",
       "      <th>id</th>\n",
       "      <th>name</th>\n",
       "    </tr>\n",
       "  </thead>\n",
       "  <tbody>\n",
       "    <tr>\n",
       "      <th>9284</th>\n",
       "      <td> WP11648.8</td>\n",
       "      <td> Saved at a financial institution in the past y...</td>\n",
       "    </tr>\n",
       "    <tr>\n",
       "      <th>9285</th>\n",
       "      <td> WP11648.9</td>\n",
       "      <td> Saved at a financial institution in the past y...</td>\n",
       "    </tr>\n",
       "  </tbody>\n",
       "</table>\n",
       "</div>"
      ],
      "text/plain": [
       "             id                                               name\n",
       "9284  WP11648.8  Saved at a financial institution in the past y...\n",
       "9285  WP11648.9  Saved at a financial institution in the past y..."
      ]
     },
     "execution_count": 6,
     "metadata": {},
     "output_type": "execute_result"
    }
   ],
   "source": [
    "wb.search('Saved at a financial institution in the past year.*income').iloc[:,:2]"
   ]
  },
  {
   "cell_type": "code",
   "execution_count": 7,
   "metadata": {
    "collapsed": false
   },
   "outputs": [
    {
     "data": {
      "text/html": [
       "<div style=\"max-height:1000px;max-width:1500px;overflow:auto;\">\n",
       "<table border=\"1\" class=\"dataframe\">\n",
       "  <thead>\n",
       "    <tr style=\"text-align: right;\">\n",
       "      <th></th>\n",
       "      <th>id</th>\n",
       "      <th>name</th>\n",
       "    </tr>\n",
       "  </thead>\n",
       "  <tbody>\n",
       "  </tbody>\n",
       "</table>\n",
       "</div>"
      ],
      "text/plain": [
       "Empty DataFrame\n",
       "Columns: [id, name]\n",
       "Index: []"
      ]
     },
     "execution_count": 7,
     "metadata": {},
     "output_type": "execute_result"
    }
   ],
   "source": [
    "wb.search('income.*group').iloc[:,:2]"
   ]
  },
  {
   "cell_type": "code",
   "execution_count": 44,
   "metadata": {
    "collapsed": false
   },
   "outputs": [
    {
     "data": {
      "text/plain": [
       "array([ 'Problems in accessing health care (any of the specified problems) (% of women): Q2'], dtype=object)"
      ]
     },
     "execution_count": 44,
     "metadata": {},
     "output_type": "execute_result"
    }
   ],
   "source": [
    "a=wb.search(\"problems in accessing health care\")\n",
    "a\n",
    "a.ix[a[\"id\"]==\"SH.ACS.PROB.Q2.ZS\",\"name\"].values"
   ]
  },
  {
   "cell_type": "code",
   "execution_count": 54,
   "metadata": {
    "collapsed": false
   },
   "outputs": [
    {
     "data": {
      "text/plain": [
       "array([ 'Poverty Gap reduction (%) - All Social Protection and Labor -poorest quintile (preT)'], dtype=object)"
      ]
     },
     "execution_count": 54,
     "metadata": {},
     "output_type": "execute_result"
    }
   ],
   "source": [
    "a=wb.search(\"poverty gap reduction .*all.*poorest quintile\")\n",
    "a   # \tper_allsp_p1_preT_tot, \n",
    "a.ix[a[\"id\"]==\"per_allsp_p1_preT_tot\",\"name\"].values"
   ]
  },
  {
   "cell_type": "code",
   "execution_count": 35,
   "metadata": {
    "collapsed": false
   },
   "outputs": [
    {
     "data": {
      "text/plain": [
       "array([ 'Problems in accessing health care (any of the specified problems) (% of women): Q2'], dtype=object)"
      ]
     },
     "execution_count": 35,
     "metadata": {},
     "output_type": "execute_result"
    }
   ],
   "source": [
    "\n",
    "\n"
   ]
  },
  {
   "cell_type": "code",
   "execution_count": 40,
   "metadata": {
    "collapsed": false
   },
   "outputs": [
    {
     "data": {
      "text/plain": [
       "array(['Out-of-pocket health expenditure (% of total expenditure on health)'], dtype=object)"
      ]
     },
     "execution_count": 40,
     "metadata": {},
     "output_type": "execute_result"
    }
   ],
   "source": [
    "a=wb.search(\"pocket\")\n",
    "a.ix[a[\"id\"]==\"SH.XPD.OOPC.TO.ZS\",\"name\"].values"
   ]
  },
  {
   "cell_type": "code",
   "execution_count": 43,
   "metadata": {
    "collapsed": false
   },
   "outputs": [
    {
     "data": {
      "text/plain": [
       "array(['Persistence to last grade of primary, total (% of cohort)'], dtype=object)"
      ]
     },
     "execution_count": 43,
     "metadata": {},
     "output_type": "execute_result"
    }
   ],
   "source": [
    "a=wb.search(\"persistence to last grade of \")\n",
    "a.ix[a[\"id\"]==\"SE.PRM.PRSL.ZS\",\"name\"].values\n"
   ]
  },
  {
   "cell_type": "code",
   "execution_count": 9,
   "metadata": {
    "collapsed": false
   },
   "outputs": [
    {
     "data": {
      "text/plain": [
       "\"b'hh'\""
      ]
     },
     "execution_count": 9,
     "metadata": {},
     "output_type": "execute_result"
    }
   ],
   "source": [
    "str(b\"hh\")"
   ]
  },
  {
   "cell_type": "code",
   "execution_count": 10,
   "metadata": {
    "collapsed": true
   },
   "outputs": [],
   "source": [
    "a=b\"hhh\""
   ]
  },
  {
   "cell_type": "code",
   "execution_count": 14,
   "metadata": {
    "collapsed": false
   },
   "outputs": [
    {
     "data": {
      "text/plain": [
       "'hhh'"
      ]
     },
     "execution_count": 14,
     "metadata": {},
     "output_type": "execute_result"
    }
   ],
   "source": [
    "a.decode(\"utf-8\")"
   ]
  },
  {
   "cell_type": "code",
   "execution_count": null,
   "metadata": {
    "collapsed": true
   },
   "outputs": [],
   "source": []
  }
 ],
 "metadata": {
  "kernelspec": {
   "display_name": "Python 3",
   "language": "python",
   "name": "python3"
  },
  "language_info": {
   "codemirror_mode": {
    "name": "ipython",
    "version": 3
   },
   "file_extension": ".py",
   "mimetype": "text/x-python",
   "name": "python",
   "nbconvert_exporter": "python",
   "pygments_lexer": "ipython3",
   "version": "3.4.1"
  }
 },
 "nbformat": 4,
 "nbformat_minor": 0
}
