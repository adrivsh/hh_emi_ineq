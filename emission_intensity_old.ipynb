{
 "cells": [
  {
   "cell_type": "markdown",
   "metadata": {},
   "source": [
    "In this notebook I investigate the effect of inequality reduction on GHG emissions"
   ]
  },
  {
   "cell_type": "code",
   "execution_count": 106,
   "metadata": {
    "collapsed": false
   },
   "outputs": [],
   "source": [
    "import pandas as pd\n",
    "import numpy as np\n",
    "import matplotlib.pyplot as plt\n",
    "from kde import *\n",
    "from perc import *\n",
    "%matplotlib inline\n",
    "\n",
    "from wb_api_wraper import *\n",
    "\n",
    "\n",
    "pd.set_option('display.max_colwidth', 200)\n",
    "pd.set_option('display.width', 200)\n",
    "pd.set_option('display.precision', 2)\n",
    "pd.set_option('display.max_rows', 500)\n"
   ]
  },
  {
   "cell_type": "code",
   "execution_count": 2,
   "metadata": {
    "collapsed": false
   },
   "outputs": [],
   "source": [
    "datadir = \"csvdata/\";"
   ]
  },
  {
   "cell_type": "code",
   "execution_count": 3,
   "metadata": {
    "collapsed": false
   },
   "outputs": [],
   "source": [
    "any_name_to_wb_name = pd.read_csv(\"any_name_to_wb_name.csv\",index_col=\"any\",squeeze=True)\n",
    "iso_to_name = pd.read_csv(\"iso3_to_wb_name.csv\",usecols=[\"iso3\",\"country\"],index_col=\"iso3\",squeeze=True)\n",
    "names_to_iso = pd.read_csv(\"names_to_iso.csv\",usecols=[\"country\",\"iso3\"],index_col=\"country\",squeeze=True)"
   ]
  },
  {
   "cell_type": "markdown",
   "metadata": {},
   "source": [
    "###Data from World bank API"
   ]
  },
  {
   "cell_type": "code",
   "execution_count": 170,
   "metadata": {
    "collapsed": false
   },
   "outputs": [],
   "source": [
    "wb_pop = get_wb_mrv(\"SP.POP.TOTL\",\"wb_pop\").wb_pop\n",
    "wb_emis = get_wb_mrv(\"EN.ATM.CO2E.FF.KT\",\"wb_emis\").wb_emis #CO2 emissions from fossil fuels, total;"
   ]
  },
  {
   "cell_type": "markdown",
   "metadata": {},
   "source": [
    "###Data from Maros"
   ]
  },
  {
   "cell_type": "code",
   "execution_count": 10,
   "metadata": {
    "collapsed": false
   },
   "outputs": [
    {
     "data": {
      "text/plain": [
       "array(['alb05', 'arm12', 'gha06', 'ind05', 'irq06', 'lbr07', 'mda12',\n",
       "       'mwi11', 'ner11', 'rwa11', 'sen11', 'sle11', 'vnm12'], dtype=object)"
      ]
     },
     "execution_count": 10,
     "metadata": {},
     "output_type": "execute_result"
    }
   ],
   "source": [
    "#personal data\n",
    "persdata=pd.read_csv(\"csvdata/PERSDATA.csv\").replace(iso_to_name)  #here emost of weights are 1 but some weights are 0.6\n",
    "persdata.columns = map(str.lower, persdata.columns)\n",
    "persdata=persdata.set_index(\"schema\").drop(\"arm04\").reset_index()#drops armenia 2004 since we have armenia 2012\n",
    "persdata.schema.unique() #countries should apper only once"
   ]
  },
  {
   "cell_type": "code",
   "execution_count": 11,
   "metadata": {
    "collapsed": false
   },
   "outputs": [
    {
     "data": {
      "text/plain": [
       "array(['alb05', 'arm12', 'bgd05', 'gha06', 'ind05', 'irq06', 'lbr07',\n",
       "       'mda12', 'mwi11', 'ner11', 'rwa11', 'sen11', 'sle11', 'vnm12'], dtype=object)"
      ]
     },
     "execution_count": 11,
     "metadata": {},
     "output_type": "execute_result"
    }
   ],
   "source": [
    "#household data\n",
    "hhdata = pd.read_csv(\"csvdata/HHLDDATA.csv\").replace(iso_to_name)\n",
    "hhdata.columns = map(str.lower, hhdata.columns)\n",
    "hhdata = hhdata.set_index(\"schema\").drop(\"arm04\").reset_index()#drops armenia 2004 since we have armenia 2012\n",
    "hhdata.schema.unique()#countries should apper only once"
   ]
  },
  {
   "cell_type": "code",
   "execution_count": 2,
   "metadata": {
    "collapsed": false
   },
   "outputs": [
    {
     "ename": "NameError",
     "evalue": "name 'persdata' is not defined",
     "output_type": "error",
     "traceback": [
      "\u001b[1;31m---------------------------------------------------------------------------\u001b[0m",
      "\u001b[1;31mNameError\u001b[0m                                 Traceback (most recent call last)",
      "\u001b[1;32m<ipython-input-2-9e600b06849f>\u001b[0m in \u001b[0;36m<module>\u001b[1;34m()\u001b[0m\n\u001b[1;32m----> 1\u001b[1;33m \u001b[0mpersdata\u001b[0m\u001b[1;33m.\u001b[0m\u001b[0mhead\u001b[0m\u001b[1;33m(\u001b[0m\u001b[1;33m)\u001b[0m\u001b[1;33m\u001b[0m\u001b[0m\n\u001b[0m",
      "\u001b[1;31mNameError\u001b[0m: name 'persdata' is not defined"
     ]
    }
   ],
   "source": [
    "persdata.head()"
   ]
  },
  {
   "cell_type": "code",
   "execution_count": 3,
   "metadata": {
    "collapsed": false
   },
   "outputs": [
    {
     "ename": "NameError",
     "evalue": "name 'pd' is not defined",
     "output_type": "error",
     "traceback": [
      "\u001b[1;31m---------------------------------------------------------------------------\u001b[0m",
      "\u001b[1;31mNameError\u001b[0m                                 Traceback (most recent call last)",
      "\u001b[1;32m<ipython-input-3-3a1a76d83c76>\u001b[0m in \u001b[0;36m<module>\u001b[1;34m()\u001b[0m\n\u001b[0;32m      1\u001b[0m \u001b[1;31m#emissions per household and per capita\u001b[0m\u001b[1;33m\u001b[0m\u001b[1;33m\u001b[0m\u001b[0m\n\u001b[1;32m----> 2\u001b[1;33m \u001b[0memis_hh\u001b[0m \u001b[1;33m=\u001b[0m \u001b[0mpd\u001b[0m\u001b[1;33m.\u001b[0m\u001b[0mread_csv\u001b[0m\u001b[1;33m(\u001b[0m\u001b[1;34m\"csvdata/emissionsbyhousehold.csv\"\u001b[0m\u001b[1;33m)\u001b[0m\u001b[1;33m.\u001b[0m\u001b[0mreplace\u001b[0m\u001b[1;33m(\u001b[0m\u001b[0miso_to_name\u001b[0m\u001b[1;33m)\u001b[0m\u001b[1;33m.\u001b[0m\u001b[0mrename\u001b[0m\u001b[1;33m(\u001b[0m\u001b[0mcolumns\u001b[0m\u001b[1;33m=\u001b[0m\u001b[1;33m{\u001b[0m\u001b[1;34m\"value\"\u001b[0m\u001b[1;33m:\u001b[0m \u001b[1;34m\"emis_hh\"\u001b[0m\u001b[1;33m}\u001b[0m\u001b[1;33m)\u001b[0m\u001b[1;33m\u001b[0m\u001b[0m\n\u001b[0m\u001b[0;32m      3\u001b[0m \u001b[0memis_hh\u001b[0m\u001b[1;33m.\u001b[0m\u001b[0mschema\u001b[0m\u001b[1;33m.\u001b[0m\u001b[0munique\u001b[0m\u001b[1;33m(\u001b[0m\u001b[1;33m)\u001b[0m \u001b[1;31m#countries should apper only once (Armenia  is only once in emissionsbyhousehold)\u001b[0m\u001b[1;33m\u001b[0m\u001b[0m\n",
      "\u001b[1;31mNameError\u001b[0m: name 'pd' is not defined"
     ]
    }
   ],
   "source": [
    "#emissions per household and per capita\n",
    "emis_hh = pd.read_csv(\"csvdata/emissionsbyhousehold.csv\").replace(iso_to_name).rename(columns={\"value\": \"emis_hh\"})\n",
    "emis_hh.schema.unique() #countries should apper only once (Armenia  is only once in emissionsbyhousehold)"
   ]
  },
  {
   "cell_type": "code",
   "execution_count": 13,
   "metadata": {
    "collapsed": true
   },
   "outputs": [],
   "source": [
    "weight_hh = hhdata.set_index(['country',\"hid\"])[\"weight\"]"
   ]
  },
  {
   "cell_type": "code",
   "execution_count": 14,
   "metadata": {
    "collapsed": false
   },
   "outputs": [
    {
     "data": {
      "text/plain": [
       "country\n",
       "Albania         0.412566\n",
       "Armenia         0.759794\n",
       "Ghana           0.872517\n",
       "India           0.796689\n",
       "Iraq            0.900637\n",
       "Liberia         0.630027\n",
       "Malawi          0.861687\n",
       "Moldova         0.942429\n",
       "Niger           0.933535\n",
       "Rwanda          0.190569\n",
       "Senegal         0.964585\n",
       "Sierra Leone    0.971050\n",
       "Vietnam         0.995079\n",
       "dtype: float64"
      ]
     },
     "execution_count": 14,
     "metadata": {},
     "output_type": "execute_result"
    }
   ],
   "source": [
    "#number of persons per household\n",
    "nb_people_in_hh =persdata.groupby([\"country\",\"hid\"])[\"pid\"].count()\n",
    "nb_people_in_hh.name = \"nb_people_in_hh\"\n",
    "nb_people_in_hh.head();\n",
    "#total number of people in the economy\n",
    "nb_people_tot = (weight_hh*nb_people_in_hh).sum(level=\"country\")\n",
    "(nb_people_tot/wb_pop).dropna()"
   ]
  },
  {
   "cell_type": "markdown",
   "metadata": {},
   "source": [
    "Previous cell confirms how I should compute population from HHdata"
   ]
  },
  {
   "cell_type": "code",
   "execution_count": 54,
   "metadata": {
    "collapsed": false
   },
   "outputs": [
    {
     "data": {
      "text/plain": [
       "array(['alb05', 'arm12', 'gha06', 'ind05', 'irq06', 'lbr07', 'mda12',\n",
       "       'mwi11', 'ner11', 'rwa11', 'sen11', 'sle11', 'vnm12'], dtype=object)"
      ]
     },
     "execution_count": 54,
     "metadata": {},
     "output_type": "execute_result"
    }
   ],
   "source": [
    "#emissions per household and per capita\n",
    "expend = pd.read_csv(\"csvdata/PerCapitaExpenditures.csv\").replace(iso_to_name).rename(columns={\"value\": \"expend\"})\n",
    "expend.schema.unique()"
   ]
  },
  {
   "cell_type": "code",
   "execution_count": 156,
   "metadata": {
    "collapsed": false
   },
   "outputs": [],
   "source": [
    "df[\"expend\"] = expend.set_index([\"country\",\"hid\"]).expend"
   ]
  },
  {
   "cell_type": "code",
   "execution_count": 161,
   "metadata": {
    "collapsed": false
   },
   "outputs": [
    {
     "data": {
      "text/plain": [
       "<matplotlib.axes._subplots.AxesSubplot at 0x20f72d30>"
      ]
     },
     "execution_count": 161,
     "metadata": {},
     "output_type": "execute_result"
    },
    {
     "data": {
      "image/png": "[encoded data removed]",
      "text/plain": [
       "<matplotlib.figure.Figure at 0x20f72710>"
      ]
     },
     "metadata": {},
     "output_type": "display_data"
    }
   ],
   "source": [
    "df.ix[\"Vietnam\"].plot(x=\"expend\",y=\"emis_hh\",kind=\"scatter\")"
   ]
  },
  {
   "cell_type": "markdown",
   "metadata": {},
   "source": [
    "###Gtap"
   ]
  },
  {
   "cell_type": "code",
   "execution_count": 86,
   "metadata": {
    "collapsed": false
   },
   "outputs": [],
   "source": [
    "gtap_to_wb_name = pd.read_csv(\"gtap_to_wb_name.csv\",index_col=\"gtap_region\",squeeze=True)\n",
    "gtap_to_wb_name;"
   ]
  },
  {
   "cell_type": "code",
   "execution_count": 92,
   "metadata": {
    "collapsed": false
   },
   "outputs": [],
   "source": [
    "gtap = pd.read_csv(\"sec_data_gtap.csv\").replace(gtap_to_wb_name)\n",
    "gtap[\"country\"]=gtap.gtap_region.str.upper().str.strip().replace(gtap_to_wb_name)\n",
    "gtap =gtap.set_index([\"country\",\"cpc2\"]).drop([\"gtap_region\"],axis=1)"
   ]
  },
  {
   "cell_type": "code",
   "execution_count": 95,
   "metadata": {
    "collapsed": false
   },
   "outputs": [],
   "source": [
    "gtap.conso_usd.sum(level=\"country\");"
   ]
  },
  {
   "cell_type": "code",
   "execution_count": 99,
   "metadata": {
    "collapsed": false
   },
   "outputs": [
    {
     "data": {
      "text/plain": [
       "country\n",
       "Albania     1373.707753\n",
       "Armenia    71490.357402\n",
       "Ghana       1694.098739\n",
       "India          0.017943\n",
       "Malawi      3751.635446\n",
       "Rwanda      8300.920880\n",
       "Senegal     3299.749168\n",
       "Vietnam      644.993301\n",
       "dtype: float64"
      ]
     },
     "execution_count": 99,
     "metadata": {},
     "output_type": "execute_result"
    }
   ],
   "source": [
    "((expend.set_index([\"country\",\"hid\"]).expend * nb_people_in_hh ).sum(level=\"country\") / gtap.conso_usd.sum(level=\"country\")).dropna()"
   ]
  },
  {
   "cell_type": "markdown",
   "metadata": {},
   "source": [
    "NY.GDP.MKTP.CD \tGDP (current US$)  #mean .55, not that bad\n",
    "NY.GDP.MKTP.CN \tGDP (current LCU)\n",
    "NY.GDP.MKTP.KD \tGDP (constant 2005 US$)\n",
    "NY.GDP.MKTP.KN \tGDP (constant LCU)\n",
    "NY.GDP.MKTP.PP.CD \tGDP, PPP (current international $)\n",
    "NY.GDP.MKTP.PP.KD \tGDP, PPP (constant 2011 international $)"
   ]
  },
  {
   "cell_type": "code",
   "execution_count": 134,
   "metadata": {
    "collapsed": false
   },
   "outputs": [],
   "source": [
    "(1e6* gtap.conso_usd.sum(level=\"country\") / get_wb_mrv(\"NY.GDP.MKTP.KN\",\"foo\").foo).dropna();"
   ]
  },
  {
   "cell_type": "code",
   "execution_count": 167,
   "metadata": {
    "collapsed": false
   },
   "outputs": [
    {
     "data": {
      "text/plain": [
       "country\n",
       "Albania                 1.1\n",
       "Argentina               0.5\n",
       "Armenia                 1.1\n",
       "Australia               0.7\n",
       "Austria                 1.3\n",
       "Azerbaijan              0.6\n",
       "Bahrain                 0.4\n",
       "Bangladesh              0.9\n",
       "Belarus                 0.5\n",
       "Belgium                 0.8\n",
       "Benin                   1.0\n",
       "Bolivia                 0.5\n",
       "Botswana                0.6\n",
       "Brazil                  1.2\n",
       "Brunei Darussalam       0.3\n",
       "Bulgaria                0.5\n",
       "Burkina Faso            1.3\n",
       "Cambodia                1.5\n",
       "Cameroon                1.0\n",
       "Canada                  0.8\n",
       "Chile                   0.8\n",
       "China                   0.1\n",
       "Colombia                1.1\n",
       "Costa Rica              1.3\n",
       "Cote d'Ivoire           1.3\n",
       "Croatia                 0.9\n",
       "Cyprus                  1.0\n",
       "Czech Republic          0.5\n",
       "Denmark                 0.9\n",
       "Dominican Republic      1.1\n",
       "Ecuador                 0.8\n",
       "Egypt, Arab Rep.        0.5\n",
       "El Salvador             1.6\n",
       "Estonia                 0.3\n",
       "Ethiopia                1.9\n",
       "Finland                 0.9\n",
       "France                  1.4\n",
       "Georgia                 1.4\n",
       "Germany                 1.0\n",
       "Ghana                   1.3\n",
       "Greece                  1.0\n",
       "Guatemala               1.3\n",
       "Guinea                  1.5\n",
       "Honduras                0.7\n",
       "Hong Kong SAR, China    2.0\n",
       "Hungary                 0.7\n",
       "India                   0.3\n",
       "Indonesia               0.5\n",
       "Iran, Islamic Rep.      0.4\n",
       "Ireland                 0.8\n",
       "Israel                  0.6\n",
       "Italy                   1.1\n",
       "Jamaica                 0.8\n",
       "Japan                   1.1\n",
       "Jordan                  0.9\n",
       "Kazakhstan              0.2\n",
       "Kenya                   0.8\n",
       "Korea, Rep.             0.4\n",
       "Kuwait                  0.3\n",
       "Kyrgyz Republic         1.0\n",
       "Lao PDR                 1.5\n",
       "Latvia                  1.3\n",
       "Lithuania               1.1\n",
       "Luxembourg              0.9\n",
       "Madagascar              1.7\n",
       "Malawi                  1.6\n",
       "Malaysia                0.4\n",
       "Malta                   1.4\n",
       "Mauritius               0.8\n",
       "Mexico                  0.9\n",
       "Mongolia                0.5\n",
       "Morocco                 0.6\n",
       "Mozambique              2.4\n",
       "Namibia                 0.8\n",
       "Nepal                   2.2\n",
       "Netherlands             0.7\n",
       "New Zealand             1.0\n",
       "Nicaragua               0.8\n",
       "Nigeria                 0.9\n",
       "Norway                  1.1\n",
       "Oman                    0.3\n",
       "Pakistan                0.8\n",
       "Panama                  1.1\n",
       "Paraguay                1.6\n",
       "Peru                    0.9\n",
       "Philippines             1.0\n",
       "Poland                  0.4\n",
       "Portugal                1.0\n",
       "Qatar                   0.2\n",
       "Romania                 0.8\n",
       "Russian Federation      0.4\n",
       "Rwanda                  2.3\n",
       "Saudi Arabia            0.4\n",
       "Senegal                 0.7\n",
       "Singapore               2.5\n",
       "Slovak Republic         0.8\n",
       "Slovenia                0.8\n",
       "South Africa            0.2\n",
       "Spain                   1.0\n",
       "Sri Lanka               1.8\n",
       "Sweden                  1.6\n",
       "Switzerland             2.8\n",
       "Tanzania                1.1\n",
       "Thailand                0.3\n",
       "Togo                    1.3\n",
       "Trinidad and Tobago     0.1\n",
       "Tunisia                 0.6\n",
       "Turkey                  0.8\n",
       "Uganda                  1.2\n",
       "Ukraine                 0.4\n",
       "United Arab Emirates    0.7\n",
       "United Kingdom          1.2\n",
       "United States           0.7\n",
       "Uruguay                 1.8\n",
       "Venezuela, RB           0.4\n",
       "Vietnam                 0.5\n",
       "Zambia                  3.4\n",
       "Zimbabwe                0.8\n",
       "dtype: float64"
      ]
     },
     "execution_count": 167,
     "metadata": {},
     "output_type": "execute_result"
    }
   ],
   "source": [
    "((gtap.conso_usd*gtap.emissions_g_usd).sum(level=\"country\")/wb_emis).dropna()"
   ]
  },
  {
   "cell_type": "markdown",
   "metadata": {},
   "source": [
    "###df"
   ]
  },
  {
   "cell_type": "code",
   "execution_count": 15,
   "metadata": {
    "collapsed": false
   },
   "outputs": [
    {
     "data": {
      "text/plain": [
       "(0, 0)"
      ]
     },
     "execution_count": 15,
     "metadata": {},
     "output_type": "execute_result"
    }
   ],
   "source": [
    "#checks sanity with the index\n",
    "emis_hh[['country',\"hid\"]].duplicated().sum()  , hhdata[['country',\"hid\"]].duplicated().sum()"
   ]
  },
  {
   "cell_type": "code",
   "execution_count": 149,
   "metadata": {
    "collapsed": false
   },
   "outputs": [],
   "source": [
    "df= pd.concat([nb_people_in_hh,weight_hh,emis_hh.set_index([\"country\",\"hid\"])[\"emis_hh\"]],axis=1)"
   ]
  },
  {
   "cell_type": "code",
   "execution_count": 150,
   "metadata": {
    "collapsed": false
   },
   "outputs": [
    {
     "data": {
      "text/plain": [
       "Index(['nb_people_in_hh', 'weight', 'emis_hh'], dtype='object')"
      ]
     },
     "execution_count": 150,
     "metadata": {},
     "output_type": "execute_result"
    }
   ],
   "source": [
    "df.columns"
   ]
  },
  {
   "cell_type": "code",
   "execution_count": 172,
   "metadata": {
    "collapsed": false
   },
   "outputs": [
    {
     "data": {
      "text/plain": [
       "country\n",
       "Ghana           1.7\n",
       "Liberia         1.8\n",
       "Malawi          1.9\n",
       "Niger           5.7\n",
       "Rwanda          2.5\n",
       "Senegal         1.9\n",
       "Sierra Leone    1.2\n",
       "dtype: float64"
      ]
     },
     "execution_count": 172,
     "metadata": {},
     "output_type": "execute_result"
    }
   ],
   "source": [
    "(df[[ 'weight', 'emis_hh']].prod(axis=1).sum(level=\"country\")/(1e6*wb_emis)).dropna()"
   ]
  },
  {
   "cell_type": "code",
   "execution_count": 163,
   "metadata": {
    "collapsed": false
   },
   "outputs": [
    {
     "data": {
      "text/plain": [
       "country\n",
       "Albania           1040.7\n",
       "Armenia          73540.8\n",
       "Bangladesh          28.6\n",
       "Ghana            12608.7\n",
       "India           190666.9\n",
       "Iraq             32023.0\n",
       "Liberia            938.0\n",
       "Malawi            1989.7\n",
       "Moldova          39824.4\n",
       "Niger             6601.2\n",
       "Rwanda            1796.0\n",
       "Senegal           8885.2\n",
       "Sierra Leone      1653.7\n",
       "Vietnam          57155.5\n",
       "dtype: float64"
      ]
     },
     "execution_count": 163,
     "metadata": {},
     "output_type": "execute_result"
    }
   ],
   "source": [
    "df[[ 'weight', 'emis_hh']].prod(axis=1).sum(level=\"country\")/1e6"
   ]
  },
  {
   "cell_type": "code",
   "execution_count": 153,
   "metadata": {
    "collapsed": false
   },
   "outputs": [
    {
     "data": {
      "text/plain": [
       "country\n",
       "Albania         1.0e+09\n",
       "Armenia         7.4e+10\n",
       "Bangladesh      2.9e+07\n",
       "Ghana           1.3e+10\n",
       "India           1.9e+11\n",
       "Iraq            3.2e+10\n",
       "Liberia         9.4e+08\n",
       "Malawi          2.0e+09\n",
       "Moldova         4.0e+10\n",
       "Niger           6.6e+09\n",
       "Rwanda          1.8e+09\n",
       "Senegal         8.9e+09\n",
       "Sierra Leone    1.7e+09\n",
       "Vietnam         5.7e+10\n",
       "dtype: float64"
      ]
     },
     "execution_count": 153,
     "metadata": {},
     "output_type": "execute_result"
    }
   ],
   "source": [
    "(df[[ 'weight', 'emis_hh']].prod(axis=1).sum(level=\"country\"))"
   ]
  },
  {
   "cell_type": "code",
   "execution_count": 25,
   "metadata": {
    "collapsed": false
   },
   "outputs": [
    {
     "data": {
      "text/plain": [
       "country\n",
       "Ghana            11569.724725\n",
       "Liberia          74623.075227\n",
       "Malawi           39678.283600\n",
       "Niger           171889.152776\n",
       "Rwanda           16620.793017\n",
       "Senegal          68731.240231\n",
       "Sierra Leone     50327.673803\n",
       "dtype: float64"
      ]
     },
     "execution_count": 25,
     "metadata": {},
     "output_type": "execute_result"
    }
   ],
   "source": [
    "(df[['nb_people_in_hh',  'emis_hh']].prod(axis=1).sum(level=\"country\")/wb_emis).dropna()"
   ]
  },
  {
   "cell_type": "code",
   "execution_count": 44,
   "metadata": {
    "collapsed": false
   },
   "outputs": [
    {
     "data": {
      "text/plain": [
       "Index(['nb_people_in_hh', 'weight', 'emis_hh', 'prod'], dtype='object')"
      ]
     },
     "execution_count": 44,
     "metadata": {},
     "output_type": "execute_result"
    }
   ],
   "source": [
    "df.columns"
   ]
  },
  {
   "cell_type": "code",
   "execution_count": 51,
   "metadata": {
    "collapsed": false
   },
   "outputs": [
    {
     "data": {
      "text/plain": [
       "country\n",
       "Ghana             1.584868\n",
       "Liberia          40.918310\n",
       "Malawi           15.435595\n",
       "Niger            31.996557\n",
       "Rwanda          119.544156\n",
       "Senegal          11.144409\n",
       "Sierra Leone     15.401058\n",
       "dtype: float64"
      ]
     },
     "execution_count": 51,
     "metadata": {},
     "output_type": "execute_result"
    }
   ],
   "source": [
    "((df.emis_hh/(df.weight*df.nb_people_in_hh)).sum(level=\"country\")/wb_emis).dropna()"
   ]
  },
  {
   "cell_type": "code",
   "execution_count": null,
   "metadata": {
    "collapsed": true
   },
   "outputs": [],
   "source": [
    "(df[['nb_people_in_hh', 'weight', 'emis_hh']].prod(axis=1).sum(level=\"country\")/wb_emis).dropna()"
   ]
  },
  {
   "cell_type": "markdown",
   "metadata": {},
   "source": [
    "###Data from GTAP and computation in SQL"
   ]
  },
  {
   "cell_type": "code",
   "execution_count": 35,
   "metadata": {
    "collapsed": false
   },
   "outputs": [],
   "source": [
    "gtap_emis = pd.read_csv(\"tot_emis_gtap.csv\",header=None,names=[\"country\",\"emis\"],index_col = \"country\", squeeze=True)"
   ]
  },
  {
   "cell_type": "code",
   "execution_count": 36,
   "metadata": {
    "collapsed": false
   },
   "outputs": [],
   "source": [
    "gtap_emis;"
   ]
  },
  {
   "cell_type": "code",
   "execution_count": 38,
   "metadata": {
    "collapsed": false
   },
   "outputs": [
    {
     "data": {
      "text/plain": [
       "country\n",
       "Benin               1.110148\n",
       "Botswana            0.678491\n",
       "Burkina Faso        1.268314\n",
       "Cote d'Ivoire       1.109351\n",
       "Egypt, Arab Rep.    0.512281\n",
       "Ethiopia            1.524031\n",
       "Ghana               1.599943\n",
       "Guinea              1.541588\n",
       "Kenya               0.837620\n",
       "Madagascar          1.847151\n",
       "Malawi              1.886472\n",
       "Mauritius           0.878304\n",
       "Morocco             0.648597\n",
       "Mozambique          2.624023\n",
       "Namibia             0.743559\n",
       "Nigeria             1.002656\n",
       "Rwanda              1.891985\n",
       "Senegal             1.120419\n",
       "South Africa        0.194588\n",
       "Tanzania            1.059062\n",
       "Togo                1.326361\n",
       "Tunisia             0.621414\n",
       "Uganda              1.259882\n",
       "Zambia              4.171393\n",
       "Zimbabwe            0.879348\n",
       "dtype: float64"
      ]
     },
     "execution_count": 38,
     "metadata": {},
     "output_type": "execute_result"
    }
   ],
   "source": [
    "(gtap_emis / wb_emis).dropna()"
   ]
  },
  {
   "cell_type": "code",
   "execution_count": 52,
   "metadata": {
    "collapsed": false
   },
   "outputs": [
    {
     "data": {
      "text/html": [
       "<div style=\"max-height:1000px;max-width:1500px;overflow:auto;\">\n",
       "<table border=\"1\" class=\"dataframe\">\n",
       "  <thead>\n",
       "    <tr style=\"text-align: right;\">\n",
       "      <th></th>\n",
       "      <th>Albania</th>\n",
       "      <th>Argentina</th>\n",
       "      <th>Armenia</th>\n",
       "      <th>Australia</th>\n",
       "      <th>Austria</th>\n",
       "      <th>Azerbaijan</th>\n",
       "      <th>Bahrain</th>\n",
       "      <th>Bangladesh</th>\n",
       "      <th>Belarus</th>\n",
       "      <th>Belgium</th>\n",
       "      <th>...</th>\n",
       "      <th>XSE</th>\n",
       "      <th>XSM</th>\n",
       "      <th>XSU</th>\n",
       "      <th>XTW</th>\n",
       "      <th>XWF</th>\n",
       "      <th>XWS</th>\n",
       "      <th>Zambia</th>\n",
       "      <th>Zimbabwe</th>\n",
       "      <th>emis_hh</th>\n",
       "      <th>year</th>\n",
       "    </tr>\n",
       "    <tr>\n",
       "      <th>country</th>\n",
       "      <th></th>\n",
       "      <th></th>\n",
       "      <th></th>\n",
       "      <th></th>\n",
       "      <th></th>\n",
       "      <th></th>\n",
       "      <th></th>\n",
       "      <th></th>\n",
       "      <th></th>\n",
       "      <th></th>\n",
       "      <th></th>\n",
       "      <th></th>\n",
       "      <th></th>\n",
       "      <th></th>\n",
       "      <th></th>\n",
       "      <th></th>\n",
       "      <th></th>\n",
       "      <th></th>\n",
       "      <th></th>\n",
       "      <th></th>\n",
       "      <th></th>\n",
       "    </tr>\n",
       "  </thead>\n",
       "  <tbody>\n",
       "  </tbody>\n",
       "</table>\n",
       "<p>0 rows × 142 columns</p>\n",
       "</div>"
      ],
      "text/plain": [
       "Empty DataFrame\n",
       "Columns: [Albania, Argentina, Armenia, Australia, Austria, Azerbaijan, Bahrain, Bangladesh, Belarus, Belgium, Benin, Bolivia, Botswana, Brazil, Brunei Darussalam, Bulgaria, Burkina Faso, Cambodia, Cameroon, Canada, Chile, China, Colombia, Costa Rica, Cote d'Ivoire, Croatia, Cyprus, Czech Republic, Denmark, Dominican Republic, Ecuador, Egypt, Arab Rep., El Salvador, Estonia, Ethiopia, Finland, France, Georgia, Germany, Ghana, Greece, Guatemala, Guinea, Honduras, Hong Kong SAR, China, Hungary, India, Indonesia, Iran, Islamic Rep., Ireland, Israel, Italy, Jamaica, Japan, Jordan, Kazakhstan, Kenya, Korea, Rep., Kuwait, Kyrgyz Republic, Lao PDR, Latvia, Lithuania, Luxembourg, Madagascar, Malawi, Malaysia, Malta, Mauritius, Mexico, Mongolia, Morocco, Mozambique, Namibia, Nepal, Netherlands, New Zealand, Nicaragua, Nigeria, Norway, Oman, Pakistan, Panama, Paraguay, Peru, Philippines, Poland, Portugal, Puerto Rico, Qatar, Romania, Russian Federation, Rwanda, Saudi Arabia, Senegal, Singapore, Slovak Republic, Slovenia, South Africa, Spain, ...]\n",
       "Index: []\n",
       "\n",
       "[0 rows x 142 columns]"
      ]
     },
     "execution_count": 52,
     "metadata": {},
     "output_type": "execute_result"
    }
   ],
   "source": [
    "(gta{ap_emis / tot_emis_maybe).dropna()"
   ]
  },
  {
   "cell_type": "code",
   "execution_count": 29,
   "metadata": {
    "collapsed": false
   },
   "outputs": [
    {
     "data": {
      "text/plain": [
       "country\n",
       "Albania              NaN\n",
       "Armenia              NaN\n",
       "Bangladesh           NaN\n",
       "Ghana           7444.010\n",
       "India                NaN\n",
       "Iraq                 NaN\n",
       "Liberia          524.381\n",
       "Malawi          1059.763\n",
       "Moldova              NaN\n",
       "Niger           1158.772\n",
       "Rwanda           726.066\n",
       "Senegal         4576.416\n",
       "Sierra Leone    1415.462\n",
       "Vietnam              NaN\n",
       "Name: wb_emis, dtype: float64"
      ]
     },
     "execution_count": 29,
     "metadata": {},
     "output_type": "execute_result"
    }
   ],
   "source": [
    "wb_emis.ix[wb_emis.index]"
   ]
  },
  {
   "cell_type": "code",
   "execution_count": 16,
   "metadata": {
    "collapsed": true
   },
   "outputs": [],
   "source": [
    "wb_emis = wb_emis.ix[tot_emis.index]"
   ]
  },
  {
   "cell_type": "code",
   "execution_count": 27,
   "metadata": {
    "collapsed": false
   },
   "outputs": [
    {
     "data": {
      "text/plain": [
       "country\n",
       "Albania         1.040662e+09\n",
       "Armenia         1.282214e+11\n",
       "Bangladesh               NaN\n",
       "Ghana           1.260871e+10\n",
       "India           1.906669e+11\n",
       "Iraq            3.202297e+10\n",
       "Liberia         9.380252e+08\n",
       "Malawi          1.989655e+09\n",
       "Moldova         3.982440e+10\n",
       "Niger           6.601154e+09\n",
       "Rwanda          1.795978e+09\n",
       "Senegal         8.885214e+09\n",
       "Sierra Leone    1.653691e+09\n",
       "Vietnam         5.715552e+10\n",
       "dtype: float64"
      ]
     },
     "execution_count": 27,
     "metadata": {},
     "output_type": "execute_result"
    }
   ],
   "source": [
    "tot_emis"
   ]
  },
  {
   "cell_type": "markdown",
   "metadata": {},
   "source": [
    "###Data from IEA"
   ]
  },
  {
   "cell_type": "code",
   "execution_count": 144,
   "metadata": {
    "collapsed": false
   },
   "outputs": [],
   "source": [
    "\n",
    "iea_emis=pd.read_csv(\"carbon_emissions_from_iea.csv\",skiprows=[1],na_values=[\"..\"]).dropna(axis=1,how=\"all\").dropna().replace(any_name_to_wb_name).set_index(\"country\")\n",
    "iea_emis = iea_emis.ix[wb_emis.index].astype(\"float\")"
   ]
  },
  {
   "cell_type": "code",
   "execution_count": 145,
   "metadata": {
    "collapsed": false
   },
   "outputs": [
    {
     "data": {
      "text/html": [
       "<div style=\"max-height:1000px;max-width:1500px;overflow:auto;\">\n",
       "<table border=\"1\" class=\"dataframe\">\n",
       "  <thead>\n",
       "    <tr style=\"text-align: right;\">\n",
       "      <th></th>\n",
       "      <th>2003</th>\n",
       "      <th>2004</th>\n",
       "      <th>2005</th>\n",
       "      <th>2006</th>\n",
       "      <th>2007</th>\n",
       "      <th>2008</th>\n",
       "      <th>2009</th>\n",
       "      <th>2010</th>\n",
       "      <th>2011</th>\n",
       "      <th>2012</th>\n",
       "    </tr>\n",
       "    <tr>\n",
       "      <th>country</th>\n",
       "      <th></th>\n",
       "      <th></th>\n",
       "      <th></th>\n",
       "      <th></th>\n",
       "      <th></th>\n",
       "      <th></th>\n",
       "      <th></th>\n",
       "      <th></th>\n",
       "      <th></th>\n",
       "      <th></th>\n",
       "    </tr>\n",
       "  </thead>\n",
       "  <tbody>\n",
       "    <tr>\n",
       "      <th>Africa</th>\n",
       "      <td>6.5e+01</td>\n",
       "      <td>7.1e+01</td>\n",
       "      <td>7.9e+01</td>\n",
       "      <td>8.4e+01</td>\n",
       "      <td>8.6e+01</td>\n",
       "      <td>9.1e+01</td>\n",
       "      <td>9.4e+01</td>\n",
       "      <td>9.9e+01</td>\n",
       "      <td>1.1e+02</td>\n",
       "      <td>1.1e+02</td>\n",
       "    </tr>\n",
       "    <tr>\n",
       "      <th>Algeria</th>\n",
       "      <td>1.8e+01</td>\n",
       "      <td>1.9e+01</td>\n",
       "      <td>2.0e+01</td>\n",
       "      <td>2.1e+01</td>\n",
       "      <td>2.1e+01</td>\n",
       "      <td>2.3e+01</td>\n",
       "      <td>2.4e+01</td>\n",
       "      <td>2.4e+01</td>\n",
       "      <td>2.6e+01</td>\n",
       "      <td>2.8e+01</td>\n",
       "    </tr>\n",
       "    <tr>\n",
       "      <th>Angola</th>\n",
       "      <td>0.0e+00</td>\n",
       "      <td>0.0e+00</td>\n",
       "      <td>0.0e+00</td>\n",
       "      <td>0.0e+00</td>\n",
       "      <td>0.0e+00</td>\n",
       "      <td>0.0e+00</td>\n",
       "      <td>0.0e+00</td>\n",
       "      <td>0.0e+00</td>\n",
       "      <td>0.0e+00</td>\n",
       "      <td>0.0e+00</td>\n",
       "    </tr>\n",
       "    <tr>\n",
       "      <th>Benin</th>\n",
       "      <td>0.0e+00</td>\n",
       "      <td>0.0e+00</td>\n",
       "      <td>0.0e+00</td>\n",
       "      <td>0.0e+00</td>\n",
       "      <td>0.0e+00</td>\n",
       "      <td>0.0e+00</td>\n",
       "      <td>0.0e+00</td>\n",
       "      <td>0.0e+00</td>\n",
       "      <td>0.0e+00</td>\n",
       "      <td>0.0e+00</td>\n",
       "    </tr>\n",
       "    <tr>\n",
       "      <th>Botswana</th>\n",
       "      <td>0.0e+00</td>\n",
       "      <td>0.0e+00</td>\n",
       "      <td>0.0e+00</td>\n",
       "      <td>0.0e+00</td>\n",
       "      <td>0.0e+00</td>\n",
       "      <td>0.0e+00</td>\n",
       "      <td>0.0e+00</td>\n",
       "      <td>0.0e+00</td>\n",
       "      <td>0.0e+00</td>\n",
       "      <td>0.0e+00</td>\n",
       "    </tr>\n",
       "    <tr>\n",
       "      <th>Burkina Faso</th>\n",
       "      <td>NaN</td>\n",
       "      <td>NaN</td>\n",
       "      <td>NaN</td>\n",
       "      <td>NaN</td>\n",
       "      <td>NaN</td>\n",
       "      <td>NaN</td>\n",
       "      <td>NaN</td>\n",
       "      <td>NaN</td>\n",
       "      <td>NaN</td>\n",
       "      <td>NaN</td>\n",
       "    </tr>\n",
       "    <tr>\n",
       "      <th>Burundi</th>\n",
       "      <td>NaN</td>\n",
       "      <td>NaN</td>\n",
       "      <td>NaN</td>\n",
       "      <td>NaN</td>\n",
       "      <td>NaN</td>\n",
       "      <td>NaN</td>\n",
       "      <td>NaN</td>\n",
       "      <td>NaN</td>\n",
       "      <td>NaN</td>\n",
       "      <td>NaN</td>\n",
       "    </tr>\n",
       "    <tr>\n",
       "      <th>Cape Verde</th>\n",
       "      <td>NaN</td>\n",
       "      <td>NaN</td>\n",
       "      <td>NaN</td>\n",
       "      <td>NaN</td>\n",
       "      <td>NaN</td>\n",
       "      <td>NaN</td>\n",
       "      <td>NaN</td>\n",
       "      <td>NaN</td>\n",
       "      <td>NaN</td>\n",
       "      <td>NaN</td>\n",
       "    </tr>\n",
       "    <tr>\n",
       "      <th>Central African Republic</th>\n",
       "      <td>NaN</td>\n",
       "      <td>NaN</td>\n",
       "      <td>NaN</td>\n",
       "      <td>NaN</td>\n",
       "      <td>NaN</td>\n",
       "      <td>NaN</td>\n",
       "      <td>NaN</td>\n",
       "      <td>NaN</td>\n",
       "      <td>NaN</td>\n",
       "      <td>NaN</td>\n",
       "    </tr>\n",
       "    <tr>\n",
       "      <th>Chad</th>\n",
       "      <td>NaN</td>\n",
       "      <td>NaN</td>\n",
       "      <td>NaN</td>\n",
       "      <td>NaN</td>\n",
       "      <td>NaN</td>\n",
       "      <td>NaN</td>\n",
       "      <td>NaN</td>\n",
       "      <td>NaN</td>\n",
       "      <td>NaN</td>\n",
       "      <td>NaN</td>\n",
       "    </tr>\n",
       "    <tr>\n",
       "      <th>Comoros</th>\n",
       "      <td>NaN</td>\n",
       "      <td>NaN</td>\n",
       "      <td>NaN</td>\n",
       "      <td>NaN</td>\n",
       "      <td>NaN</td>\n",
       "      <td>NaN</td>\n",
       "      <td>NaN</td>\n",
       "      <td>NaN</td>\n",
       "      <td>NaN</td>\n",
       "      <td>NaN</td>\n",
       "    </tr>\n",
       "    <tr>\n",
       "      <th>Congo, Dem. Rep.</th>\n",
       "      <td>NaN</td>\n",
       "      <td>NaN</td>\n",
       "      <td>NaN</td>\n",
       "      <td>NaN</td>\n",
       "      <td>NaN</td>\n",
       "      <td>NaN</td>\n",
       "      <td>NaN</td>\n",
       "      <td>NaN</td>\n",
       "      <td>NaN</td>\n",
       "      <td>NaN</td>\n",
       "    </tr>\n",
       "    <tr>\n",
       "      <th>Congo, Rep.</th>\n",
       "      <td>3.0e-02</td>\n",
       "      <td>4.0e-02</td>\n",
       "      <td>4.0e-02</td>\n",
       "      <td>5.0e-02</td>\n",
       "      <td>4.0e-02</td>\n",
       "      <td>5.0e-02</td>\n",
       "      <td>1.1e-01</td>\n",
       "      <td>2.0e-01</td>\n",
       "      <td>2.9e-01</td>\n",
       "      <td>3.0e-01</td>\n",
       "    </tr>\n",
       "    <tr>\n",
       "      <th>Cote d'Ivoire</th>\n",
       "      <td>1.9e+00</td>\n",
       "      <td>1.9e+00</td>\n",
       "      <td>2.6e+00</td>\n",
       "      <td>2.2e+00</td>\n",
       "      <td>2.3e+00</td>\n",
       "      <td>2.6e+00</td>\n",
       "      <td>2.3e+00</td>\n",
       "      <td>2.7e+00</td>\n",
       "      <td>2.6e+00</td>\n",
       "      <td>3.0e+00</td>\n",
       "    </tr>\n",
       "    <tr>\n",
       "      <th>Djibouti</th>\n",
       "      <td>NaN</td>\n",
       "      <td>NaN</td>\n",
       "      <td>NaN</td>\n",
       "      <td>NaN</td>\n",
       "      <td>NaN</td>\n",
       "      <td>NaN</td>\n",
       "      <td>NaN</td>\n",
       "      <td>NaN</td>\n",
       "      <td>NaN</td>\n",
       "      <td>NaN</td>\n",
       "    </tr>\n",
       "    <tr>\n",
       "      <th>Egypt, Arab Rep.</th>\n",
       "      <td>3.3e+01</td>\n",
       "      <td>3.7e+01</td>\n",
       "      <td>4.0e+01</td>\n",
       "      <td>4.1e+01</td>\n",
       "      <td>4.2e+01</td>\n",
       "      <td>4.4e+01</td>\n",
       "      <td>4.7e+01</td>\n",
       "      <td>4.6e+01</td>\n",
       "      <td>5.2e+01</td>\n",
       "      <td>5.2e+01</td>\n",
       "    </tr>\n",
       "    <tr>\n",
       "      <th>Equatorial Guinea</th>\n",
       "      <td>NaN</td>\n",
       "      <td>NaN</td>\n",
       "      <td>NaN</td>\n",
       "      <td>NaN</td>\n",
       "      <td>NaN</td>\n",
       "      <td>NaN</td>\n",
       "      <td>NaN</td>\n",
       "      <td>NaN</td>\n",
       "      <td>NaN</td>\n",
       "      <td>NaN</td>\n",
       "    </tr>\n",
       "    <tr>\n",
       "      <th>Eritrea</th>\n",
       "      <td>0.0e+00</td>\n",
       "      <td>0.0e+00</td>\n",
       "      <td>0.0e+00</td>\n",
       "      <td>0.0e+00</td>\n",
       "      <td>0.0e+00</td>\n",
       "      <td>0.0e+00</td>\n",
       "      <td>0.0e+00</td>\n",
       "      <td>0.0e+00</td>\n",
       "      <td>0.0e+00</td>\n",
       "      <td>0.0e+00</td>\n",
       "    </tr>\n",
       "    <tr>\n",
       "      <th>Ethiopia</th>\n",
       "      <td>0.0e+00</td>\n",
       "      <td>0.0e+00</td>\n",
       "      <td>0.0e+00</td>\n",
       "      <td>0.0e+00</td>\n",
       "      <td>0.0e+00</td>\n",
       "      <td>0.0e+00</td>\n",
       "      <td>0.0e+00</td>\n",
       "      <td>0.0e+00</td>\n",
       "      <td>0.0e+00</td>\n",
       "      <td>0.0e+00</td>\n",
       "    </tr>\n",
       "    <tr>\n",
       "      <th>Gabon</th>\n",
       "      <td>1.4e-01</td>\n",
       "      <td>1.5e-01</td>\n",
       "      <td>1.5e-01</td>\n",
       "      <td>1.7e-01</td>\n",
       "      <td>1.9e-01</td>\n",
       "      <td>2.4e-01</td>\n",
       "      <td>3.6e-01</td>\n",
       "      <td>5.1e-01</td>\n",
       "      <td>5.9e-01</td>\n",
       "      <td>5.9e-01</td>\n",
       "    </tr>\n",
       "    <tr>\n",
       "      <th>Gambia, The</th>\n",
       "      <td>NaN</td>\n",
       "      <td>NaN</td>\n",
       "      <td>NaN</td>\n",
       "      <td>NaN</td>\n",
       "      <td>NaN</td>\n",
       "      <td>NaN</td>\n",
       "      <td>NaN</td>\n",
       "      <td>NaN</td>\n",
       "      <td>NaN</td>\n",
       "      <td>NaN</td>\n",
       "    </tr>\n",
       "    <tr>\n",
       "      <th>Ghana</th>\n",
       "      <td>0.0e+00</td>\n",
       "      <td>0.0e+00</td>\n",
       "      <td>0.0e+00</td>\n",
       "      <td>0.0e+00</td>\n",
       "      <td>0.0e+00</td>\n",
       "      <td>0.0e+00</td>\n",
       "      <td>1.0e-02</td>\n",
       "      <td>8.3e-01</td>\n",
       "      <td>1.6e+00</td>\n",
       "      <td>8.2e-01</td>\n",
       "    </tr>\n",
       "    <tr>\n",
       "      <th>Guinea</th>\n",
       "      <td>NaN</td>\n",
       "      <td>NaN</td>\n",
       "      <td>NaN</td>\n",
       "      <td>NaN</td>\n",
       "      <td>NaN</td>\n",
       "      <td>NaN</td>\n",
       "      <td>NaN</td>\n",
       "      <td>NaN</td>\n",
       "      <td>NaN</td>\n",
       "      <td>NaN</td>\n",
       "    </tr>\n",
       "    <tr>\n",
       "      <th>Guinea-Bissau</th>\n",
       "      <td>NaN</td>\n",
       "      <td>NaN</td>\n",
       "      <td>NaN</td>\n",
       "      <td>NaN</td>\n",
       "      <td>NaN</td>\n",
       "      <td>NaN</td>\n",
       "      <td>NaN</td>\n",
       "      <td>NaN</td>\n",
       "      <td>NaN</td>\n",
       "      <td>NaN</td>\n",
       "    </tr>\n",
       "    <tr>\n",
       "      <th>Kenya</th>\n",
       "      <td>0.0e+00</td>\n",
       "      <td>0.0e+00</td>\n",
       "      <td>0.0e+00</td>\n",
       "      <td>0.0e+00</td>\n",
       "      <td>0.0e+00</td>\n",
       "      <td>0.0e+00</td>\n",
       "      <td>0.0e+00</td>\n",
       "      <td>0.0e+00</td>\n",
       "      <td>0.0e+00</td>\n",
       "      <td>0.0e+00</td>\n",
       "    </tr>\n",
       "    <tr>\n",
       "      <th>Liberia</th>\n",
       "      <td>NaN</td>\n",
       "      <td>NaN</td>\n",
       "      <td>NaN</td>\n",
       "      <td>NaN</td>\n",
       "      <td>NaN</td>\n",
       "      <td>NaN</td>\n",
       "      <td>NaN</td>\n",
       "      <td>NaN</td>\n",
       "      <td>NaN</td>\n",
       "      <td>NaN</td>\n",
       "    </tr>\n",
       "    <tr>\n",
       "      <th>Libya</th>\n",
       "      <td>2.4e+00</td>\n",
       "      <td>2.6e+00</td>\n",
       "      <td>4.2e+00</td>\n",
       "      <td>6.1e+00</td>\n",
       "      <td>6.5e+00</td>\n",
       "      <td>7.0e+00</td>\n",
       "      <td>6.3e+00</td>\n",
       "      <td>8.1e+00</td>\n",
       "      <td>8.2e+00</td>\n",
       "      <td>8.0e+00</td>\n",
       "    </tr>\n",
       "    <tr>\n",
       "      <th>Madagascar</th>\n",
       "      <td>NaN</td>\n",
       "      <td>NaN</td>\n",
       "      <td>NaN</td>\n",
       "      <td>NaN</td>\n",
       "      <td>NaN</td>\n",
       "      <td>NaN</td>\n",
       "      <td>NaN</td>\n",
       "      <td>NaN</td>\n",
       "      <td>NaN</td>\n",
       "      <td>NaN</td>\n",
       "    </tr>\n",
       "    <tr>\n",
       "      <th>Malawi</th>\n",
       "      <td>NaN</td>\n",
       "      <td>NaN</td>\n",
       "      <td>NaN</td>\n",
       "      <td>NaN</td>\n",
       "      <td>NaN</td>\n",
       "      <td>NaN</td>\n",
       "      <td>NaN</td>\n",
       "      <td>NaN</td>\n",
       "      <td>NaN</td>\n",
       "      <td>NaN</td>\n",
       "    </tr>\n",
       "    <tr>\n",
       "      <th>Mali</th>\n",
       "      <td>NaN</td>\n",
       "      <td>NaN</td>\n",
       "      <td>NaN</td>\n",
       "      <td>NaN</td>\n",
       "      <td>NaN</td>\n",
       "      <td>NaN</td>\n",
       "      <td>NaN</td>\n",
       "      <td>NaN</td>\n",
       "      <td>NaN</td>\n",
       "      <td>NaN</td>\n",
       "    </tr>\n",
       "    <tr>\n",
       "      <th>Mauritania</th>\n",
       "      <td>NaN</td>\n",
       "      <td>NaN</td>\n",
       "      <td>NaN</td>\n",
       "      <td>NaN</td>\n",
       "      <td>NaN</td>\n",
       "      <td>NaN</td>\n",
       "      <td>NaN</td>\n",
       "      <td>NaN</td>\n",
       "      <td>NaN</td>\n",
       "      <td>NaN</td>\n",
       "    </tr>\n",
       "    <tr>\n",
       "      <th>Mauritius</th>\n",
       "      <td>0.0e+00</td>\n",
       "      <td>0.0e+00</td>\n",
       "      <td>0.0e+00</td>\n",
       "      <td>0.0e+00</td>\n",
       "      <td>0.0e+00</td>\n",
       "      <td>0.0e+00</td>\n",
       "      <td>0.0e+00</td>\n",
       "      <td>0.0e+00</td>\n",
       "      <td>0.0e+00</td>\n",
       "      <td>0.0e+00</td>\n",
       "    </tr>\n",
       "    <tr>\n",
       "      <th>Morocco</th>\n",
       "      <td>0.0e+00</td>\n",
       "      <td>0.0e+00</td>\n",
       "      <td>8.0e-01</td>\n",
       "      <td>9.9e-01</td>\n",
       "      <td>1.1e+00</td>\n",
       "      <td>1.0e+00</td>\n",
       "      <td>1.1e+00</td>\n",
       "      <td>1.2e+00</td>\n",
       "      <td>1.6e+00</td>\n",
       "      <td>2.3e+00</td>\n",
       "    </tr>\n",
       "    <tr>\n",
       "      <th>Mozambique</th>\n",
       "      <td>1.0e-02</td>\n",
       "      <td>1.0e-02</td>\n",
       "      <td>1.0e-02</td>\n",
       "      <td>1.0e-02</td>\n",
       "      <td>1.0e-02</td>\n",
       "      <td>1.0e-02</td>\n",
       "      <td>1.0e-02</td>\n",
       "      <td>1.0e-02</td>\n",
       "      <td>2.0e-02</td>\n",
       "      <td>2.0e-02</td>\n",
       "    </tr>\n",
       "    <tr>\n",
       "      <th>Namibia</th>\n",
       "      <td>0.0e+00</td>\n",
       "      <td>0.0e+00</td>\n",
       "      <td>0.0e+00</td>\n",
       "      <td>0.0e+00</td>\n",
       "      <td>0.0e+00</td>\n",
       "      <td>0.0e+00</td>\n",
       "      <td>0.0e+00</td>\n",
       "      <td>0.0e+00</td>\n",
       "      <td>0.0e+00</td>\n",
       "      <td>0.0e+00</td>\n",
       "    </tr>\n",
       "    <tr>\n",
       "      <th>Niger</th>\n",
       "      <td>NaN</td>\n",
       "      <td>NaN</td>\n",
       "      <td>NaN</td>\n",
       "      <td>NaN</td>\n",
       "      <td>NaN</td>\n",
       "      <td>NaN</td>\n",
       "      <td>NaN</td>\n",
       "      <td>NaN</td>\n",
       "      <td>NaN</td>\n",
       "      <td>NaN</td>\n",
       "    </tr>\n",
       "    <tr>\n",
       "      <th>Nigeria</th>\n",
       "      <td>3.9e+00</td>\n",
       "      <td>5.0e+00</td>\n",
       "      <td>4.9e+00</td>\n",
       "      <td>5.5e+00</td>\n",
       "      <td>5.5e+00</td>\n",
       "      <td>5.0e+00</td>\n",
       "      <td>5.1e+00</td>\n",
       "      <td>6.6e+00</td>\n",
       "      <td>7.2e+00</td>\n",
       "      <td>7.9e+00</td>\n",
       "    </tr>\n",
       "    <tr>\n",
       "      <th>North Africa</th>\n",
       "      <td>NaN</td>\n",
       "      <td>NaN</td>\n",
       "      <td>NaN</td>\n",
       "      <td>NaN</td>\n",
       "      <td>NaN</td>\n",
       "      <td>NaN</td>\n",
       "      <td>NaN</td>\n",
       "      <td>NaN</td>\n",
       "      <td>NaN</td>\n",
       "      <td>NaN</td>\n",
       "    </tr>\n",
       "    <tr>\n",
       "      <th>Rwanda</th>\n",
       "      <td>NaN</td>\n",
       "      <td>NaN</td>\n",
       "      <td>NaN</td>\n",
       "      <td>NaN</td>\n",
       "      <td>NaN</td>\n",
       "      <td>NaN</td>\n",
       "      <td>NaN</td>\n",
       "      <td>NaN</td>\n",
       "      <td>NaN</td>\n",
       "      <td>NaN</td>\n",
       "    </tr>\n",
       "    <tr>\n",
       "      <th>Sao Tome and Principe</th>\n",
       "      <td>NaN</td>\n",
       "      <td>NaN</td>\n",
       "      <td>NaN</td>\n",
       "      <td>NaN</td>\n",
       "      <td>NaN</td>\n",
       "      <td>NaN</td>\n",
       "      <td>NaN</td>\n",
       "      <td>NaN</td>\n",
       "      <td>NaN</td>\n",
       "      <td>NaN</td>\n",
       "    </tr>\n",
       "    <tr>\n",
       "      <th>Senegal</th>\n",
       "      <td>3.0e-02</td>\n",
       "      <td>3.0e-02</td>\n",
       "      <td>3.0e-02</td>\n",
       "      <td>2.0e-02</td>\n",
       "      <td>2.0e-02</td>\n",
       "      <td>2.0e-02</td>\n",
       "      <td>3.0e-02</td>\n",
       "      <td>5.0e-02</td>\n",
       "      <td>4.0e-02</td>\n",
       "      <td>5.0e-02</td>\n",
       "    </tr>\n",
       "    <tr>\n",
       "      <th>Seychelles</th>\n",
       "      <td>NaN</td>\n",
       "      <td>NaN</td>\n",
       "      <td>NaN</td>\n",
       "      <td>NaN</td>\n",
       "      <td>NaN</td>\n",
       "      <td>NaN</td>\n",
       "      <td>NaN</td>\n",
       "      <td>NaN</td>\n",
       "      <td>NaN</td>\n",
       "      <td>NaN</td>\n",
       "    </tr>\n",
       "    <tr>\n",
       "      <th>Sierra Leone</th>\n",
       "      <td>NaN</td>\n",
       "      <td>NaN</td>\n",
       "      <td>NaN</td>\n",
       "      <td>NaN</td>\n",
       "      <td>NaN</td>\n",
       "      <td>NaN</td>\n",
       "      <td>NaN</td>\n",
       "      <td>NaN</td>\n",
       "      <td>NaN</td>\n",
       "      <td>NaN</td>\n",
       "    </tr>\n",
       "    <tr>\n",
       "      <th>Somalia</th>\n",
       "      <td>NaN</td>\n",
       "      <td>NaN</td>\n",
       "      <td>NaN</td>\n",
       "      <td>NaN</td>\n",
       "      <td>NaN</td>\n",
       "      <td>NaN</td>\n",
       "      <td>NaN</td>\n",
       "      <td>NaN</td>\n",
       "      <td>NaN</td>\n",
       "      <td>NaN</td>\n",
       "    </tr>\n",
       "    <tr>\n",
       "      <th>South Africa</th>\n",
       "      <td>0.0e+00</td>\n",
       "      <td>0.0e+00</td>\n",
       "      <td>0.0e+00</td>\n",
       "      <td>0.0e+00</td>\n",
       "      <td>0.0e+00</td>\n",
       "      <td>0.0e+00</td>\n",
       "      <td>0.0e+00</td>\n",
       "      <td>0.0e+00</td>\n",
       "      <td>0.0e+00</td>\n",
       "      <td>0.0e+00</td>\n",
       "    </tr>\n",
       "    <tr>\n",
       "      <th>Sub-Saharan Africa (all income levels)</th>\n",
       "      <td>NaN</td>\n",
       "      <td>NaN</td>\n",
       "      <td>NaN</td>\n",
       "      <td>NaN</td>\n",
       "      <td>NaN</td>\n",
       "      <td>NaN</td>\n",
       "      <td>NaN</td>\n",
       "      <td>NaN</td>\n",
       "      <td>NaN</td>\n",
       "      <td>NaN</td>\n",
       "    </tr>\n",
       "    <tr>\n",
       "      <th>Sub-Saharan Africa (developing only)</th>\n",
       "      <td>NaN</td>\n",
       "      <td>NaN</td>\n",
       "      <td>NaN</td>\n",
       "      <td>NaN</td>\n",
       "      <td>NaN</td>\n",
       "      <td>NaN</td>\n",
       "      <td>NaN</td>\n",
       "      <td>NaN</td>\n",
       "      <td>NaN</td>\n",
       "      <td>NaN</td>\n",
       "    </tr>\n",
       "    <tr>\n",
       "      <th>Sub-Saharan Africa excluding South Africa</th>\n",
       "      <td>NaN</td>\n",
       "      <td>NaN</td>\n",
       "      <td>NaN</td>\n",
       "      <td>NaN</td>\n",
       "      <td>NaN</td>\n",
       "      <td>NaN</td>\n",
       "      <td>NaN</td>\n",
       "      <td>NaN</td>\n",
       "      <td>NaN</td>\n",
       "      <td>NaN</td>\n",
       "    </tr>\n",
       "    <tr>\n",
       "      <th>Sub-Saharan Africa excluding South Africa and Nigeria</th>\n",
       "      <td>NaN</td>\n",
       "      <td>NaN</td>\n",
       "      <td>NaN</td>\n",
       "      <td>NaN</td>\n",
       "      <td>NaN</td>\n",
       "      <td>NaN</td>\n",
       "      <td>NaN</td>\n",
       "      <td>NaN</td>\n",
       "      <td>NaN</td>\n",
       "      <td>NaN</td>\n",
       "    </tr>\n",
       "    <tr>\n",
       "      <th>Sudan</th>\n",
       "      <td>0.0e+00</td>\n",
       "      <td>0.0e+00</td>\n",
       "      <td>0.0e+00</td>\n",
       "      <td>0.0e+00</td>\n",
       "      <td>0.0e+00</td>\n",
       "      <td>0.0e+00</td>\n",
       "      <td>0.0e+00</td>\n",
       "      <td>0.0e+00</td>\n",
       "      <td>0.0e+00</td>\n",
       "      <td>0.0e+00</td>\n",
       "    </tr>\n",
       "    <tr>\n",
       "      <th>Swaziland</th>\n",
       "      <td>NaN</td>\n",
       "      <td>NaN</td>\n",
       "      <td>NaN</td>\n",
       "      <td>NaN</td>\n",
       "      <td>NaN</td>\n",
       "      <td>NaN</td>\n",
       "      <td>NaN</td>\n",
       "      <td>NaN</td>\n",
       "      <td>NaN</td>\n",
       "      <td>NaN</td>\n",
       "    </tr>\n",
       "    <tr>\n",
       "      <th>Tanzania</th>\n",
       "      <td>NaN</td>\n",
       "      <td>NaN</td>\n",
       "      <td>NaN</td>\n",
       "      <td>NaN</td>\n",
       "      <td>NaN</td>\n",
       "      <td>NaN</td>\n",
       "      <td>NaN</td>\n",
       "      <td>NaN</td>\n",
       "      <td>NaN</td>\n",
       "      <td>NaN</td>\n",
       "    </tr>\n",
       "    <tr>\n",
       "      <th>Togo</th>\n",
       "      <td>0.0e+00</td>\n",
       "      <td>0.0e+00</td>\n",
       "      <td>0.0e+00</td>\n",
       "      <td>0.0e+00</td>\n",
       "      <td>0.0e+00</td>\n",
       "      <td>0.0e+00</td>\n",
       "      <td>0.0e+00</td>\n",
       "      <td>0.0e+00</td>\n",
       "      <td>0.0e+00</td>\n",
       "      <td>0.0e+00</td>\n",
       "    </tr>\n",
       "    <tr>\n",
       "      <th>Tunisia</th>\n",
       "      <td>5.4e+00</td>\n",
       "      <td>5.6e+00</td>\n",
       "      <td>5.8e+00</td>\n",
       "      <td>5.7e+00</td>\n",
       "      <td>5.9e+00</td>\n",
       "      <td>6.6e+00</td>\n",
       "      <td>6.8e+00</td>\n",
       "      <td>7.4e+00</td>\n",
       "      <td>7.4e+00</td>\n",
       "      <td>8.1e+00</td>\n",
       "    </tr>\n",
       "    <tr>\n",
       "      <th>Uganda</th>\n",
       "      <td>NaN</td>\n",
       "      <td>NaN</td>\n",
       "      <td>NaN</td>\n",
       "      <td>NaN</td>\n",
       "      <td>NaN</td>\n",
       "      <td>NaN</td>\n",
       "      <td>NaN</td>\n",
       "      <td>NaN</td>\n",
       "      <td>NaN</td>\n",
       "      <td>NaN</td>\n",
       "    </tr>\n",
       "    <tr>\n",
       "      <th>Zambia</th>\n",
       "      <td>0.0e+00</td>\n",
       "      <td>0.0e+00</td>\n",
       "      <td>0.0e+00</td>\n",
       "      <td>0.0e+00</td>\n",
       "      <td>0.0e+00</td>\n",
       "      <td>0.0e+00</td>\n",
       "      <td>0.0e+00</td>\n",
       "      <td>0.0e+00</td>\n",
       "      <td>0.0e+00</td>\n",
       "      <td>0.0e+00</td>\n",
       "    </tr>\n",
       "    <tr>\n",
       "      <th>Zimbabwe</th>\n",
       "      <td>0.0e+00</td>\n",
       "      <td>0.0e+00</td>\n",
       "      <td>0.0e+00</td>\n",
       "      <td>0.0e+00</td>\n",
       "      <td>0.0e+00</td>\n",
       "      <td>0.0e+00</td>\n",
       "      <td>0.0e+00</td>\n",
       "      <td>0.0e+00</td>\n",
       "      <td>0.0e+00</td>\n",
       "      <td>0.0e+00</td>\n",
       "    </tr>\n",
       "  </tbody>\n",
       "</table>\n",
       "</div>"
      ],
      "text/plain": [
       "                                                          2003     2004     2005     2006     2007     2008     2009     2010     2011     2012\n",
       "country                                                                                                                                        \n",
       "Africa                                                 6.5e+01  7.1e+01  7.9e+01  8.4e+01  8.6e+01  9.1e+01  9.4e+01  9.9e+01  1.1e+02  1.1e+02\n",
       "Algeria                                                1.8e+01  1.9e+01  2.0e+01  2.1e+01  2.1e+01  2.3e+01  2.4e+01  2.4e+01  2.6e+01  2.8e+01\n",
       "Angola                                                 0.0e+00  0.0e+00  0.0e+00  0.0e+00  0.0e+00  0.0e+00  0.0e+00  0.0e+00  0.0e+00  0.0e+00\n",
       "Benin                                                  0.0e+00  0.0e+00  0.0e+00  0.0e+00  0.0e+00  0.0e+00  0.0e+00  0.0e+00  0.0e+00  0.0e+00\n",
       "Botswana                                               0.0e+00  0.0e+00  0.0e+00  0.0e+00  0.0e+00  0.0e+00  0.0e+00  0.0e+00  0.0e+00  0.0e+00\n",
       "Burkina Faso                                               NaN      NaN      NaN      NaN      NaN      NaN      NaN      NaN      NaN      NaN\n",
       "Burundi                                                    NaN      NaN      NaN      NaN      NaN      NaN      NaN      NaN      NaN      NaN\n",
       "Cape Verde                                                 NaN      NaN      NaN      NaN      NaN      NaN      NaN      NaN      NaN      NaN\n",
       "Central African Republic                                   NaN      NaN      NaN      NaN      NaN      NaN      NaN      NaN      NaN      NaN\n",
       "Chad                                                       NaN      NaN      NaN      NaN      NaN      NaN      NaN      NaN      NaN      NaN\n",
       "Comoros                                                    NaN      NaN      NaN      NaN      NaN      NaN      NaN      NaN      NaN      NaN\n",
       "Congo, Dem. Rep.                                           NaN      NaN      NaN      NaN      NaN      NaN      NaN      NaN      NaN      NaN\n",
       "Congo, Rep.                                            3.0e-02  4.0e-02  4.0e-02  5.0e-02  4.0e-02  5.0e-02  1.1e-01  2.0e-01  2.9e-01  3.0e-01\n",
       "Cote d'Ivoire                                          1.9e+00  1.9e+00  2.6e+00  2.2e+00  2.3e+00  2.6e+00  2.3e+00  2.7e+00  2.6e+00  3.0e+00\n",
       "Djibouti                                                   NaN      NaN      NaN      NaN      NaN      NaN      NaN      NaN      NaN      NaN\n",
       "Egypt, Arab Rep.                                       3.3e+01  3.7e+01  4.0e+01  4.1e+01  4.2e+01  4.4e+01  4.7e+01  4.6e+01  5.2e+01  5.2e+01\n",
       "Equatorial Guinea                                          NaN      NaN      NaN      NaN      NaN      NaN      NaN      NaN      NaN      NaN\n",
       "Eritrea                                                0.0e+00  0.0e+00  0.0e+00  0.0e+00  0.0e+00  0.0e+00  0.0e+00  0.0e+00  0.0e+00  0.0e+00\n",
       "Ethiopia                                               0.0e+00  0.0e+00  0.0e+00  0.0e+00  0.0e+00  0.0e+00  0.0e+00  0.0e+00  0.0e+00  0.0e+00\n",
       "Gabon                                                  1.4e-01  1.5e-01  1.5e-01  1.7e-01  1.9e-01  2.4e-01  3.6e-01  5.1e-01  5.9e-01  5.9e-01\n",
       "Gambia, The                                                NaN      NaN      NaN      NaN      NaN      NaN      NaN      NaN      NaN      NaN\n",
       "Ghana                                                  0.0e+00  0.0e+00  0.0e+00  0.0e+00  0.0e+00  0.0e+00  1.0e-02  8.3e-01  1.6e+00  8.2e-01\n",
       "Guinea                                                     NaN      NaN      NaN      NaN      NaN      NaN      NaN      NaN      NaN      NaN\n",
       "Guinea-Bissau                                              NaN      NaN      NaN      NaN      NaN      NaN      NaN      NaN      NaN      NaN\n",
       "Kenya                                                  0.0e+00  0.0e+00  0.0e+00  0.0e+00  0.0e+00  0.0e+00  0.0e+00  0.0e+00  0.0e+00  0.0e+00\n",
       "Liberia                                                    NaN      NaN      NaN      NaN      NaN      NaN      NaN      NaN      NaN      NaN\n",
       "Libya                                                  2.4e+00  2.6e+00  4.2e+00  6.1e+00  6.5e+00  7.0e+00  6.3e+00  8.1e+00  8.2e+00  8.0e+00\n",
       "Madagascar                                                 NaN      NaN      NaN      NaN      NaN      NaN      NaN      NaN      NaN      NaN\n",
       "Malawi                                                     NaN      NaN      NaN      NaN      NaN      NaN      NaN      NaN      NaN      NaN\n",
       "Mali                                                       NaN      NaN      NaN      NaN      NaN      NaN      NaN      NaN      NaN      NaN\n",
       "Mauritania                                                 NaN      NaN      NaN      NaN      NaN      NaN      NaN      NaN      NaN      NaN\n",
       "Mauritius                                              0.0e+00  0.0e+00  0.0e+00  0.0e+00  0.0e+00  0.0e+00  0.0e+00  0.0e+00  0.0e+00  0.0e+00\n",
       "Morocco                                                0.0e+00  0.0e+00  8.0e-01  9.9e-01  1.1e+00  1.0e+00  1.1e+00  1.2e+00  1.6e+00  2.3e+00\n",
       "Mozambique                                             1.0e-02  1.0e-02  1.0e-02  1.0e-02  1.0e-02  1.0e-02  1.0e-02  1.0e-02  2.0e-02  2.0e-02\n",
       "Namibia                                                0.0e+00  0.0e+00  0.0e+00  0.0e+00  0.0e+00  0.0e+00  0.0e+00  0.0e+00  0.0e+00  0.0e+00\n",
       "Niger                                                      NaN      NaN      NaN      NaN      NaN      NaN      NaN      NaN      NaN      NaN\n",
       "Nigeria                                                3.9e+00  5.0e+00  4.9e+00  5.5e+00  5.5e+00  5.0e+00  5.1e+00  6.6e+00  7.2e+00  7.9e+00\n",
       "North Africa                                               NaN      NaN      NaN      NaN      NaN      NaN      NaN      NaN      NaN      NaN\n",
       "Rwanda                                                     NaN      NaN      NaN      NaN      NaN      NaN      NaN      NaN      NaN      NaN\n",
       "Sao Tome and Principe                                      NaN      NaN      NaN      NaN      NaN      NaN      NaN      NaN      NaN      NaN\n",
       "Senegal                                                3.0e-02  3.0e-02  3.0e-02  2.0e-02  2.0e-02  2.0e-02  3.0e-02  5.0e-02  4.0e-02  5.0e-02\n",
       "Seychelles                                                 NaN      NaN      NaN      NaN      NaN      NaN      NaN      NaN      NaN      NaN\n",
       "Sierra Leone                                               NaN      NaN      NaN      NaN      NaN      NaN      NaN      NaN      NaN      NaN\n",
       "Somalia                                                    NaN      NaN      NaN      NaN      NaN      NaN      NaN      NaN      NaN      NaN\n",
       "South Africa                                           0.0e+00  0.0e+00  0.0e+00  0.0e+00  0.0e+00  0.0e+00  0.0e+00  0.0e+00  0.0e+00  0.0e+00\n",
       "Sub-Saharan Africa (all income levels)                     NaN      NaN      NaN      NaN      NaN      NaN      NaN      NaN      NaN      NaN\n",
       "Sub-Saharan Africa (developing only)                       NaN      NaN      NaN      NaN      NaN      NaN      NaN      NaN      NaN      NaN\n",
       "Sub-Saharan Africa excluding South Africa                  NaN      NaN      NaN      NaN      NaN      NaN      NaN      NaN      NaN      NaN\n",
       "Sub-Saharan Africa excluding South Africa and Nigeria      NaN      NaN      NaN      NaN      NaN      NaN      NaN      NaN      NaN      NaN\n",
       "Sudan                                                  0.0e+00  0.0e+00  0.0e+00  0.0e+00  0.0e+00  0.0e+00  0.0e+00  0.0e+00  0.0e+00  0.0e+00\n",
       "Swaziland                                                  NaN      NaN      NaN      NaN      NaN      NaN      NaN      NaN      NaN      NaN\n",
       "Tanzania                                                   NaN      NaN      NaN      NaN      NaN      NaN      NaN      NaN      NaN      NaN\n",
       "Togo                                                   0.0e+00  0.0e+00  0.0e+00  0.0e+00  0.0e+00  0.0e+00  0.0e+00  0.0e+00  0.0e+00  0.0e+00\n",
       "Tunisia                                                5.4e+00  5.6e+00  5.8e+00  5.7e+00  5.9e+00  6.6e+00  6.8e+00  7.4e+00  7.4e+00  8.1e+00\n",
       "Uganda                                                     NaN      NaN      NaN      NaN      NaN      NaN      NaN      NaN      NaN      NaN\n",
       "Zambia                                                 0.0e+00  0.0e+00  0.0e+00  0.0e+00  0.0e+00  0.0e+00  0.0e+00  0.0e+00  0.0e+00  0.0e+00\n",
       "Zimbabwe                                               0.0e+00  0.0e+00  0.0e+00  0.0e+00  0.0e+00  0.0e+00  0.0e+00  0.0e+00  0.0e+00  0.0e+00"
      ]
     },
     "execution_count": 145,
     "metadata": {},
     "output_type": "execute_result"
    }
   ],
   "source": [
    "iea_emis"
   ]
  },
  {
   "cell_type": "code",
   "execution_count": 19,
   "metadata": {
    "collapsed": false
   },
   "outputs": [
    {
     "data": {
      "text/plain": [
       "country\n",
       "Albania              NaN\n",
       "Armenia              NaN\n",
       "Bangladesh           NaN\n",
       "Ghana           7444.010\n",
       "India                NaN\n",
       "Iraq                 NaN\n",
       "Liberia          524.381\n",
       "Malawi          1059.763\n",
       "Moldova              NaN\n",
       "Niger           1158.772\n",
       "Rwanda           726.066\n",
       "Senegal         4576.416\n",
       "Sierra Leone    1415.462\n",
       "Vietnam              NaN\n",
       "Name: wb_emis, dtype: float64"
      ]
     },
     "execution_count": 19,
     "metadata": {},
     "output_type": "execute_result"
    }
   ],
   "source": [
    "wb_emis"
   ]
  },
  {
   "cell_type": "code",
   "execution_count": 20,
   "metadata": {
    "collapsed": false
   },
   "outputs": [
    {
     "ename": "NameError",
     "evalue": "name 'iea_emis' is not defined",
     "output_type": "error",
     "traceback": [
      "\u001b[1;31m---------------------------------------------------------------------------\u001b[0m",
      "\u001b[1;31mNameError\u001b[0m                                 Traceback (most recent call last)",
      "\u001b[1;32m<ipython-input-20-f80185ac3e4c>\u001b[0m in \u001b[0;36m<module>\u001b[1;34m()\u001b[0m\n\u001b[1;32m----> 1\u001b[1;33m \u001b[0miea_emis\u001b[0m\u001b[1;33m.\u001b[0m\u001b[0miloc\u001b[0m\u001b[1;33m[\u001b[0m\u001b[1;33m:\u001b[0m\u001b[1;33m,\u001b[0m\u001b[1;33m-\u001b[0m\u001b[1;36m1\u001b[0m\u001b[1;33m]\u001b[0m\u001b[1;33m\u001b[0m\u001b[0m\n\u001b[0m",
      "\u001b[1;31mNameError\u001b[0m: name 'iea_emis' is not defined"
     ]
    }
   ],
   "source": [
    "iea_emis.iloc[:,-1]"
   ]
  },
  {
   "cell_type": "markdown",
   "metadata": {},
   "source": [
    "###Comparing various sources"
   ]
  },
  {
   "cell_type": "code",
   "execution_count": 21,
   "metadata": {
    "collapsed": false
   },
   "outputs": [
    {
     "data": {
      "text/plain": [
       "country\n",
       "Albania         0.412566\n",
       "Armenia         3.624206\n",
       "Ghana           0.872517\n",
       "India           0.796689\n",
       "Iraq            0.900637\n",
       "Liberia         0.630027\n",
       "Malawi          0.861687\n",
       "Moldova         0.942429\n",
       "Niger           0.933535\n",
       "Rwanda          0.190569\n",
       "Senegal         0.964585\n",
       "Sierra Leone    0.971050\n",
       "Vietnam         0.995079\n",
       "dtype: float64"
      ]
     },
     "execution_count": 21,
     "metadata": {},
     "output_type": "execute_result"
    }
   ],
   "source": [
    "(tot_pop/wb_pop).dropna()"
   ]
  },
  {
   "cell_type": "code",
   "execution_count": null,
   "metadata": {
    "collapsed": false
   },
   "outputs": [],
   "source": []
  },
  {
   "cell_type": "code",
   "execution_count": 22,
   "metadata": {
    "collapsed": false
   },
   "outputs": [
    {
     "ename": "NameError",
     "evalue": "name 'wb_emis_pc' is not defined",
     "output_type": "error",
     "traceback": [
      "\u001b[1;31m---------------------------------------------------------------------------\u001b[0m",
      "\u001b[1;31mNameError\u001b[0m                                 Traceback (most recent call last)",
      "\u001b[1;32m<ipython-input-22-33350e24a6c9>\u001b[0m in \u001b[0;36m<module>\u001b[1;34m()\u001b[0m\n\u001b[1;32m----> 1\u001b[1;33m \u001b[0mwb_emis_pc\u001b[0m\u001b[1;33m=\u001b[0m\u001b[0mwb_emis_pc\u001b[0m\u001b[1;33m.\u001b[0m\u001b[0mix\u001b[0m\u001b[1;33m[\u001b[0m\u001b[0mtot_emis\u001b[0m\u001b[1;33m.\u001b[0m\u001b[0mindex\u001b[0m\u001b[1;33m]\u001b[0m\u001b[1;33m\u001b[0m\u001b[0m\n\u001b[0m\u001b[0;32m      2\u001b[0m \u001b[0mwb_emis\u001b[0m \u001b[1;33m=\u001b[0m \u001b[0mwb_emis\u001b[0m\u001b[1;33m.\u001b[0m\u001b[0mix\u001b[0m\u001b[1;33m[\u001b[0m\u001b[0mtot_emis\u001b[0m\u001b[1;33m.\u001b[0m\u001b[0mindex\u001b[0m\u001b[1;33m]\u001b[0m \u001b[1;31m#kilotons, for some reason\u001b[0m\u001b[1;33m\u001b[0m\u001b[0m\n\u001b[0;32m      3\u001b[0m \u001b[0mwb_emis\u001b[0m\u001b[1;33m;\u001b[0m\u001b[1;33m\u001b[0m\u001b[0m\n",
      "\u001b[1;31mNameError\u001b[0m: name 'wb_emis_pc' is not defined"
     ]
    }
   ],
   "source": [
    "wb_emis_pc=wb_emis_pc.ix[tot_emis.index]\n",
    "wb_emis = wb_emis.ix[tot_emis.index] #kilotons, for some reason\n",
    "wb_emis;"
   ]
  },
  {
   "cell_type": "code",
   "execution_count": 23,
   "metadata": {
    "collapsed": false
   },
   "outputs": [
    {
     "data": {
      "text/plain": [
       "country\n",
       "Albania                    NaN\n",
       "Armenia                    NaN\n",
       "Bangladesh                 NaN\n",
       "Ghana           1693805.518934\n",
       "India                      NaN\n",
       "Iraq                       NaN\n",
       "Liberia         1788823.758953\n",
       "Malawi          1877452.705637\n",
       "Moldova                    NaN\n",
       "Niger           5696680.335304\n",
       "Rwanda          2473574.510851\n",
       "Senegal         1941522.382588\n",
       "Sierra Leone    1168304.614147\n",
       "Vietnam                    NaN\n",
       "dtype: float64"
      ]
     },
     "execution_count": 23,
     "metadata": {},
     "output_type": "execute_result"
    }
   ],
   "source": [
    "tot_emis/wb_emis"
   ]
  },
  {
   "cell_type": "code",
   "execution_count": 26,
   "metadata": {
    "collapsed": false
   },
   "outputs": [
    {
     "ename": "NameError",
     "evalue": "name 'wb_emis_pc' is not defined",
     "output_type": "error",
     "traceback": [
      "\u001b[1;31m---------------------------------------------------------------------------\u001b[0m",
      "\u001b[1;31mNameError\u001b[0m                                 Traceback (most recent call last)",
      "\u001b[1;32m<ipython-input-26-6e0f06f4fa40>\u001b[0m in \u001b[0;36m<module>\u001b[1;34m()\u001b[0m\n\u001b[1;32m----> 1\u001b[1;33m \u001b[1;33m(\u001b[0m\u001b[0mtot_emis\u001b[0m\u001b[1;33m/\u001b[0m\u001b[0mtot_pop\u001b[0m\u001b[1;33m)\u001b[0m\u001b[1;33m/\u001b[0m\u001b[1;33m(\u001b[0m\u001b[0mwb_emis_pc\u001b[0m\u001b[1;33m)\u001b[0m\u001b[1;33m\u001b[0m\u001b[0m\n\u001b[0m",
      "\u001b[1;31mNameError\u001b[0m: name 'wb_emis_pc' is not defined"
     ]
    }
   ],
   "source": [
    "(tot_emis/tot_pop)/(wb_emis_pc)"
   ]
  },
  {
   "cell_type": "code",
   "execution_count": 25,
   "metadata": {
    "collapsed": true
   },
   "outputs": [],
   "source": [
    "#expenditures per capita\n",
    "hh_exp = pd.read_csv(\"csvdata/PerCapitaExpenditures.csv\").replace(iso_to_name)\n",
    "hh_exp.rename(columns={\"value\": \"hh_exp_pc\"},inplace=True)\n",
    "hh_exp.set_index([\"country\",\"hid\"],inplace=\"True\")"
   ]
  },
  {
   "cell_type": "code",
   "execution_count": null,
   "metadata": {
    "collapsed": false
   },
   "outputs": [],
   "source": [
    "#builds dataframe indexed by country and hid with all the data\n",
    "df = pd.DataFrame(hh_exp[\"hh_exp_pc\"])\n",
    "df[\"hh_emi\"]=hh_emi[\"hh_emis\"]\n",
    "df[\"hh_emi_pc\"]=hh_emi_pc\n",
    "df[\"nb_people\"]=nb_people\n",
    "df[\"w\"]=hop[\"weight\"]\n",
    "df[\"hh_emis_perdol\"]=df[\"hh_emi_pc\"]/df[\"hh_exp_pc\"]\n",
    "\n",
    "#Vietnam \n",
    "vn=df.ix[\"VNM\",:]"
   ]
  },
  {
   "cell_type": "code",
   "execution_count": null,
   "metadata": {
    "collapsed": false
   },
   "outputs": [],
   "source": [
    "def wavg(val_col_name, wt_col_name):\n",
    "    \"\"\"computes the average of val_col_name weighted by wt_col_name\"\"\"\n",
    "    def inner(group):\n",
    "        return (group[val_col_name] * group[wt_col_name]).sum() / group[wt_col_name].sum()\n",
    "    #inner.__name__ = res_name\n",
    "    return inner"
   ]
  },
  {
   "cell_type": "code",
   "execution_count": null,
   "metadata": {
    "collapsed": false
   },
   "outputs": [],
   "source": [
    "flat_df =  df.reset_index()\n",
    "country_list = flat_df.country.unique()"
   ]
  },
  {
   "cell_type": "code",
   "execution_count": null,
   "metadata": {
    "collapsed": false
   },
   "outputs": [],
   "source": [
    "#Categories USD per day categories\n",
    "income_bins = np.array([0,1,1.25,2,2.5,4]+[10*2.**i for i in range(0,15,1)]) \n",
    "income_cut = pd.cut(flat_df[\"hh_exp_pc\"]/365, income_bins)\n",
    "\n",
    "income_cut.unique()\n"
   ]
  },
  {
   "cell_type": "code",
   "execution_count": null,
   "metadata": {
    "collapsed": false
   },
   "outputs": [],
   "source": [
    "flat_df"
   ]
  },
  {
   "cell_type": "code",
   "execution_count": null,
   "metadata": {
    "collapsed": false
   },
   "outputs": [],
   "source": [
    "#\n",
    "stats = pd.DataFrame()\n",
    "grouped =flat_df.groupby([\"country\",income_cut])\n",
    "stats[\"avg_emis_pc\"]=grouped.apply(wavg('hh_emi_pc', 'w'))\n",
    "stats[\"nb_people0\"] =grouped[\"nb_people\"].sum()\n",
    "#stats.sort_index(inplace=True)\n",
    "#stats[\"nb_people1\"]=grouped[\"nb_people\"]\n",
    "stats"
   ]
  },
  {
   "cell_type": "code",
   "execution_count": null,
   "metadata": {
    "collapsed": false
   },
   "outputs": [],
   "source": [
    "#stats.ix[c]\n",
    "#country_stats"
   ]
  },
  {
   "cell_type": "code",
   "execution_count": null,
   "metadata": {
    "collapsed": true
   },
   "outputs": [],
   "source": [
    "#for c in country_list:\n",
    "#def lift_folks(country_stats):\n",
    "def lift_folks(country_stats):\n",
    "    #out = pd.DataFrame(index=country_stats.index)\n",
    "    emis =pd.DataFrame(index=[\"emis\"])\n",
    "    out= country_stats.ix[:,[\"nb_people0\"]]\n",
    "    for i in range(1,10):\n",
    "        nam = 'min'+str(income_bins[i])\n",
    "        out[nam] = country_stats[\"nb_people0\"]\n",
    "        out.ix[i,nam] = country_stats.ix[0:i+1,\"nb_people0\"].sum()\n",
    "        out.ix[0:i,nam] =0\n",
    "        #emis[str(i)]= np.average(country_stats[\"avg_emis_pc\"],weights=out[nam])\n",
    "    return out\n",
    " #   stats.ix[c,[out.columns.values]]=out"
   ]
  },
  {
   "cell_type": "code",
   "execution_count": null,
   "metadata": {
    "collapsed": false
   },
   "outputs": [],
   "source": [
    "emis_sce_country = pd.DataFrame()\n",
    "#computes new emissions at once\n",
    "for c in country_list:\n",
    "    emis_sce_country[c]= stats.ix[c][\"avg_emis_pc\"].dot(lift_folks(stats.ix[c,:]))/(stats.ix[c][\"nb_people0\"].sum())\n",
    "    \n",
    "emis_sce_country    "
   ]
  },
  {
   "cell_type": "code",
   "execution_count": null,
   "metadata": {
    "collapsed": false
   },
   "outputs": [],
   "source": [
    "#emis_sce_country['tot']=emis_sce_country.sum(axis=1)  "
   ]
  },
  {
   "cell_type": "code",
   "execution_count": null,
   "metadata": {
    "collapsed": false
   },
   "outputs": [],
   "source": [
    "(emis_sce_country/emis_sce_country.ix[\"nb_people0\",:]-1)*100"
   ]
  },
  {
   "cell_type": "code",
   "execution_count": null,
   "metadata": {
    "collapsed": false
   },
   "outputs": [],
   "source": [
    "#paf = stats.reset_index().groupby(\"country\").apply(lift_folks)\n",
    "#paf.reset_index().groupby(\"country\").apply(wavg(\"avg_emis_pc\",\"nb_people1\"))\n",
    "#paf"
   ]
  },
  {
   "cell_type": "code",
   "execution_count": null,
   "metadata": {
    "collapsed": false
   },
   "outputs": [],
   "source": [
    "#pd.concat([flat_df,pd.get_dummies(income_cut)],axis=1).set_index([\"country\",\"hid\"])\n",
    "income_cut = pd.cut(df[\"hh_exp_pc\"]/365, income_bins)\n",
    "\n",
    "income_dummies= pd.get_dummies(income_cut)\n",
    "df= pd.concat([df,income_dummies],axis=1)\n",
    "df"
   ]
  },
  {
   "cell_type": "code",
   "execution_count": null,
   "metadata": {
    "collapsed": false
   },
   "outputs": [],
   "source": [
    "stats.ix[:,\"nb_people1\"] = stats.ix[:,\"nb_people\"]\n",
    "stats.ix[:,\"nb_people1\"]"
   ]
  },
  {
   "cell_type": "code",
   "execution_count": null,
   "metadata": {
    "collapsed": false
   },
   "outputs": [],
   "source": [
    "stats.ix[pd.MultiIndex(\"ALB)]"
   ]
  },
  {
   "cell_type": "code",
   "execution_count": null,
   "metadata": {
    "collapsed": false
   },
   "outputs": [],
   "source": [
    "wp(vn[\"hh_exp_pc\"],vn[\"nb_people\"],np.arange(0,1,0.1))"
   ]
  },
  {
   "cell_type": "code",
   "execution_count": null,
   "metadata": {
    "collapsed": false
   },
   "outputs": [],
   "source": [
    "font = {'family' : 'serif',\n",
    "        'weight' : 'normal',\n",
    "        'size'   : 15}\n",
    "plt.rc('font', **font)\n",
    "plt.figure(figsize=(9,7))\n",
    "plt.plot((df[\"hh_exp_pc\"]),df[\"hh_emi_pc\"]/df[\"hh_exp_pc\"],color=\"blue\",marker='.',markeredgewidth=1,linestyle='None',markersize=12,clip_on=False)\n",
    "plt.xlabel(\"$\\$/yr$\")\n",
    "plt.ylabel(\"$gCO_2/\\$$\")\n",
    "plt.xscale(\"log\")"
   ]
  },
  {
   "cell_type": "code",
   "execution_count": null,
   "metadata": {
    "collapsed": false
   },
   "outputs": [],
   "source": [
    "stats."
   ]
  },
  {
   "cell_type": "code",
   "execution_count": null,
   "metadata": {
    "collapsed": false
   },
   "outputs": [],
   "source": [
    "def weighted_rolling_mean(x,y,w,kernel):\n",
    "    "
   ]
  },
  {
   "cell_type": "code",
   "execution_count": null,
   "metadata": {
    "collapsed": false
   },
   "outputs": [],
   "source": [
    "from statsmodels.nonparametric.kernel_regression import KernelReg\n",
    "import numpy as np\n",
    "import matplotlib.pyplot as plt\n",
    "x = np.linspace(0,2*np.pi,100)\n",
    "y = np.sin(x) + np.random.random(100) * 0.2\n",
    "kr = KernelReg(y,x,'o')\n",
    "plt.plot(x, y, '+')\n",
    "y_pred, y_std = kr.fit(x)\n",
    "plt.plot(x, y_pred)"
   ]
  },
  {
   "cell_type": "code",
   "execution_count": null,
   "metadata": {
    "collapsed": false
   },
   "outputs": [],
   "source": [
    "def plot_distribution(y,w,thecolor=\"red\"):\n",
    "    hist, bin_edges = np.histogram(y,bins=100,weights=w,density=True)\n",
    "    width = 0.5 * (bin_edges[1] - bin_edges[0])\n",
    "    center = (bin_edges[:-1] + bin_edges[1:]) / 2\n",
    "    xs = np.linspace(center.min(),center.max(),300)\n",
    "    plt.bar(center, hist, align='center', width=width,alpha=0.0,color=thecolor)\n",
    "    density = gaussian_kde(y,weights=w)\n",
    "    density._compute_covariance()\n",
    "    plt.plot(xs,density(xs),linewidth=2,color=thecolor)\n"
   ]
  },
  {
   "cell_type": "code",
   "execution_count": null,
   "metadata": {
    "collapsed": false
   },
   "outputs": [],
   "source": [
    "plot_distribution(np.log(vn.hh_emi_pc),vn.w)\n",
    "\n"
   ]
  },
  {
   "cell_type": "code",
   "execution_count": null,
   "metadata": {
    "collapsed": false
   },
   "outputs": [],
   "source": []
  }
 ],
 "metadata": {
  "kernelspec": {
   "display_name": "Python 3",
   "language": "python",
   "name": "python3"
  },
  "language_info": {
   "codemirror_mode": {
    "name": "ipython",
    "version": 3
   },
   "file_extension": ".py",
   "mimetype": "text/x-python",
   "name": "python",
   "nbconvert_exporter": "python",
   "pygments_lexer": "ipython3",
   "version": "3.4.1"
  }
 },
 "nbformat": 4,
 "nbformat_minor": 0
}
