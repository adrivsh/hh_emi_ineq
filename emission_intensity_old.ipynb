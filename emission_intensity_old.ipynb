{
 "cells": [
  {
   "cell_type": "markdown",
   "metadata": {},
   "source": [
    "In this notebook I investigate the effect of inequality reduction on GHG emissions"
   ]
  },
  {
   "cell_type": "code",
   "execution_count": 1,
   "metadata": {
    "collapsed": false
   },
   "outputs": [
    {
     "name": "stderr",
     "output_type": "stream",
     "text": [
      "C:\\Users\\Admin\\Anaconda3\\lib\\site-packages\\pandas\\io\\wb.py:19: FutureWarning: \n",
      "The pandas.io.wb module is moved to a separate package (pandas-datareader) and will be removed from pandas in a future version.\n",
      "After installing the pandas-datareader package (https://github.com/pydata/pandas-datareader), you can change the import ``from pandas.io import data, wb`` to ``from pandas_datareader import data, wb``.\n",
      "  FutureWarning)\n"
     ]
    }
   ],
   "source": [
    "import pandas as pd\n",
    "import numpy as np\n",
    "import matplotlib.pyplot as plt\n",
    "from kde import *\n",
    "from perc import *\n",
    "%matplotlib inline\n",
    "\n",
    "from wb_api_wrapper import *\n",
    "\n",
    "\n",
    "pd.set_option('display.max_colwidth', 200)\n",
    "pd.set_option('display.width', 200)\n",
    "pd.set_option('display.precision', 2)\n",
    "pd.set_option('display.max_rows', 500)\n"
   ]
  },
  {
   "cell_type": "code",
   "execution_count": 2,
   "metadata": {
    "collapsed": false
   },
   "outputs": [],
   "source": [
    "datadir = \"csvdata/\";"
   ]
  },
  {
   "cell_type": "code",
   "execution_count": 3,
   "metadata": {
    "collapsed": false
   },
   "outputs": [],
   "source": [
    "any_name_to_wb_name = pd.read_csv(\"any_name_to_wb_name.csv\",index_col=\"any\",squeeze=True)\n",
    "iso_to_name = pd.read_csv(\"iso3_to_wb_name.csv\",usecols=[\"iso3\",\"country\"],index_col=\"iso3\",squeeze=True)\n",
    "names_to_iso = pd.read_csv(\"names_to_iso.csv\",usecols=[\"country\",\"iso3\"],index_col=\"country\",squeeze=True)"
   ]
  },
  {
   "cell_type": "markdown",
   "metadata": {},
   "source": [
    "### Data from World bank API"
   ]
  },
  {
   "cell_type": "code",
   "execution_count": 4,
   "metadata": {
    "collapsed": false
   },
   "outputs": [],
   "source": [
    "wb_pop = get_wb_mrv(\"SP.POP.TOTL\",\"wb_pop\")\n",
    "wb_emis = get_wb_mrv(\"EN.ATM.CO2E.FF.KT\",\"wb_emis\") #CO2 emissions from fossil fuels, total;"
   ]
  },
  {
   "cell_type": "markdown",
   "metadata": {},
   "source": [
    "### Data from Maros"
   ]
  },
  {
   "cell_type": "code",
   "execution_count": null,
   "metadata": {
    "collapsed": false
   },
   "outputs": [],
   "source": [
    "#personal data\n",
    "persdata=pd.read_csv(\"csvdata/PERSDATA.csv\").replace(iso_to_name)  #here emost of weights are 1 but some weights are 0.6\n",
    "persdata.columns = map(str.lower, persdata.columns)\n",
    "persdata=persdata.set_index(\"schema\").drop(\"arm04\").reset_index()#drops armenia 2004 since we have armenia 2012\n",
    "persdata.schema.unique() #countries should apper only once"
   ]
  },
  {
   "cell_type": "code",
   "execution_count": null,
   "metadata": {
    "collapsed": false
   },
   "outputs": [],
   "source": [
    "#household data\n",
    "hhdata = pd.read_csv(\"csvdata/HHLDDATA.csv\").replace(iso_to_name)\n",
    "hhdata.columns = map(str.lower, hhdata.columns)\n",
    "hhdata = hhdata.set_index(\"schema\").drop(\"arm04\").reset_index()#drops armenia 2004 since we have armenia 2012\n",
    "hhdata.schema.unique()#countries should apper only once"
   ]
  },
  {
   "cell_type": "code",
   "execution_count": null,
   "metadata": {
    "collapsed": false
   },
   "outputs": [],
   "source": [
    "persdata.head()"
   ]
  },
  {
   "cell_type": "code",
   "execution_count": null,
   "metadata": {
    "collapsed": false
   },
   "outputs": [],
   "source": [
    "#emissions per household and per capita\n",
    "emis_hh = pd.read_csv(\"csvdata/emissionsbyhousehold.csv\").replace(iso_to_name).rename(columns={\"value\": \"emis_hh\"})\n",
    "emis_hh.schema.unique() #countries should apper only once (Armenia  is only once in emissionsbyhousehold)"
   ]
  },
  {
   "cell_type": "code",
   "execution_count": null,
   "metadata": {
    "collapsed": true
   },
   "outputs": [],
   "source": [
    "weight_hh = hhdata.set_index(['country',\"hid\"])[\"weight\"]"
   ]
  },
  {
   "cell_type": "code",
   "execution_count": null,
   "metadata": {
    "collapsed": false
   },
   "outputs": [],
   "source": [
    "#number of persons per household\n",
    "nb_people_in_hh =persdata.groupby([\"country\",\"hid\"])[\"pid\"].count()\n",
    "nb_people_in_hh.name = \"nb_people_in_hh\"\n",
    "nb_people_in_hh.head();\n",
    "#total number of people in the economy\n",
    "nb_people_tot = (weight_hh*nb_people_in_hh).sum(level=\"country\")\n",
    "(nb_people_tot/wb_pop).dropna()"
   ]
  },
  {
   "cell_type": "markdown",
   "metadata": {},
   "source": [
    "Previous cell confirms how I should compute population from HHdata"
   ]
  },
  {
   "cell_type": "code",
   "execution_count": null,
   "metadata": {
    "collapsed": false
   },
   "outputs": [],
   "source": [
    "#emissions per household and per capita\n",
    "expend = pd.read_csv(\"csvdata/PerCapitaExpenditures.csv\").replace(iso_to_name).rename(columns={\"value\": \"expend\"})\n",
    "expend.schema.unique()"
   ]
  },
  {
   "cell_type": "code",
   "execution_count": null,
   "metadata": {
    "collapsed": false
   },
   "outputs": [],
   "source": [
    "df[\"expend\"] = expend.set_index([\"country\",\"hid\"]).expend"
   ]
  },
  {
   "cell_type": "code",
   "execution_count": null,
   "metadata": {
    "collapsed": false
   },
   "outputs": [],
   "source": [
    "df.ix[\"Vietnam\"].plot(x=\"expend\",y=\"emis_hh\",kind=\"scatter\")"
   ]
  },
  {
   "cell_type": "markdown",
   "metadata": {},
   "source": [
    "### Gtap"
   ]
  },
  {
   "cell_type": "code",
   "execution_count": null,
   "metadata": {
    "collapsed": false
   },
   "outputs": [],
   "source": [
    "gtap_to_wb_name = pd.read_csv(\"gtap_to_wb_name.csv\",index_col=\"gtap_region\",squeeze=True)\n",
    "gtap_to_wb_name;"
   ]
  },
  {
   "cell_type": "code",
   "execution_count": null,
   "metadata": {
    "collapsed": false
   },
   "outputs": [],
   "source": [
    "gtap = pd.read_csv(\"sec_data_gtap.csv\").replace(gtap_to_wb_name)\n",
    "gtap[\"country\"]=gtap.gtap_region.str.upper().str.strip().replace(gtap_to_wb_name)\n",
    "gtap =gtap.set_index([\"country\",\"cpc2\"]).drop([\"gtap_region\"],axis=1)"
   ]
  },
  {
   "cell_type": "code",
   "execution_count": null,
   "metadata": {
    "collapsed": false
   },
   "outputs": [],
   "source": [
    "gtap.conso_usd.sum(level=\"country\");"
   ]
  },
  {
   "cell_type": "markdown",
   "metadata": {},
   "source": [
    "NY.GDP.MKTP.CD \tGDP (current US$)  #mean .55, not that bad\n",
    "NY.GDP.MKTP.CN \tGDP (current LCU)\n",
    "NY.GDP.MKTP.KD \tGDP (constant 2005 US$)\n",
    "NY.GDP.MKTP.KN \tGDP (constant LCU)\n",
    "NY.GDP.MKTP.PP.CD \tGDP, PPP (current international $)\n",
    "NY.GDP.MKTP.PP.KD \tGDP, PPP (constant 2011 international $)"
   ]
  },
  {
   "cell_type": "code",
   "execution_count": null,
   "metadata": {
    "collapsed": true
   },
   "outputs": [],
   "source": [
    "((expend.set_index([\"country\",\"hid\"]).expend * nb_people_in_hh ).sum(level=\"country\") / gtap.conso_usd.sum(level=\"country\")).dropna()"
   ]
  },
  {
   "cell_type": "code",
   "execution_count": null,
   "metadata": {
    "collapsed": false
   },
   "outputs": [],
   "source": [
    "(1e6* gtap.conso_usd.sum(level=\"country\") / get_wb_mrv(\"NY.GDP.MKTP.KN\",\"foo\")).dropna();"
   ]
  },
  {
   "cell_type": "code",
   "execution_count": null,
   "metadata": {
    "collapsed": false
   },
   "outputs": [],
   "source": [
    "((gtap.conso_usd*gtap.emissions_g_usd).sum(level=\"country\")/wb_emis).dropna()"
   ]
  },
  {
   "cell_type": "markdown",
   "metadata": {},
   "source": [
    "###df"
   ]
  },
  {
   "cell_type": "code",
   "execution_count": null,
   "metadata": {
    "collapsed": false
   },
   "outputs": [],
   "source": [
    "#checks sanity with the index\n",
    "emis_hh[['country',\"hid\"]].duplicated().sum()  , hhdata[['country',\"hid\"]].duplicated().sum()"
   ]
  },
  {
   "cell_type": "code",
   "execution_count": null,
   "metadata": {
    "collapsed": false
   },
   "outputs": [],
   "source": [
    "df= pd.concat([nb_people_in_hh,weight_hh,emis_hh.set_index([\"country\",\"hid\"])[\"emis_hh\"]],axis=1)"
   ]
  },
  {
   "cell_type": "code",
   "execution_count": null,
   "metadata": {
    "collapsed": false
   },
   "outputs": [],
   "source": [
    "df.columns"
   ]
  },
  {
   "cell_type": "code",
   "execution_count": null,
   "metadata": {
    "collapsed": false
   },
   "outputs": [],
   "source": [
    "(df[[ 'weight', 'emis_hh']].prod(axis=1).sum(level=\"country\")/(1e6*wb_emis)).dropna()"
   ]
  },
  {
   "cell_type": "code",
   "execution_count": null,
   "metadata": {
    "collapsed": false
   },
   "outputs": [],
   "source": [
    "df[[ 'weight', 'emis_hh']].prod(axis=1).sum(level=\"country\")/1e6"
   ]
  },
  {
   "cell_type": "code",
   "execution_count": null,
   "metadata": {
    "collapsed": false
   },
   "outputs": [],
   "source": [
    "(df[[ 'weight', 'emis_hh']].prod(axis=1).sum(level=\"country\"))"
   ]
  },
  {
   "cell_type": "code",
   "execution_count": null,
   "metadata": {
    "collapsed": false
   },
   "outputs": [],
   "source": [
    "(df[['nb_people_in_hh',  'emis_hh']].prod(axis=1).sum(level=\"country\")/wb_emis).dropna()"
   ]
  },
  {
   "cell_type": "code",
   "execution_count": null,
   "metadata": {
    "collapsed": false
   },
   "outputs": [],
   "source": [
    "df.columns"
   ]
  },
  {
   "cell_type": "code",
   "execution_count": null,
   "metadata": {
    "collapsed": false
   },
   "outputs": [],
   "source": [
    "((df.emis_hh/(df.weight*df.nb_people_in_hh)).sum(level=\"country\")/wb_emis).dropna()"
   ]
  },
  {
   "cell_type": "code",
   "execution_count": null,
   "metadata": {
    "collapsed": true
   },
   "outputs": [],
   "source": [
    "(df[['nb_people_in_hh', 'weight', 'emis_hh']].prod(axis=1).sum(level=\"country\")/wb_emis).dropna()"
   ]
  },
  {
   "cell_type": "markdown",
   "metadata": {},
   "source": [
    "###Data from GTAP and computation in SQL"
   ]
  },
  {
   "cell_type": "code",
   "execution_count": null,
   "metadata": {
    "collapsed": false
   },
   "outputs": [],
   "source": [
    "gtap_emis = pd.read_csv(\"tot_emis_gtap.csv\",header=None,names=[\"country\",\"emis\"],index_col = \"country\", squeeze=True)"
   ]
  },
  {
   "cell_type": "code",
   "execution_count": null,
   "metadata": {
    "collapsed": false
   },
   "outputs": [],
   "source": [
    "gtap_emis;"
   ]
  },
  {
   "cell_type": "code",
   "execution_count": null,
   "metadata": {
    "collapsed": false
   },
   "outputs": [],
   "source": [
    "(gtap_emis / wb_emis).dropna()"
   ]
  },
  {
   "cell_type": "code",
   "execution_count": null,
   "metadata": {
    "collapsed": false
   },
   "outputs": [],
   "source": [
    "(gta{ap_emis / tot_emis_maybe).dropna()"
   ]
  },
  {
   "cell_type": "code",
   "execution_count": null,
   "metadata": {
    "collapsed": false
   },
   "outputs": [],
   "source": [
    "wb_emis.ix[wb_emis.index]"
   ]
  },
  {
   "cell_type": "code",
   "execution_count": null,
   "metadata": {
    "collapsed": true
   },
   "outputs": [],
   "source": [
    "wb_emis = wb_emis.ix[tot_emis.index]"
   ]
  },
  {
   "cell_type": "code",
   "execution_count": null,
   "metadata": {
    "collapsed": false
   },
   "outputs": [],
   "source": [
    "tot_emis"
   ]
  },
  {
   "cell_type": "markdown",
   "metadata": {},
   "source": [
    "###Data from IEA"
   ]
  },
  {
   "cell_type": "code",
   "execution_count": null,
   "metadata": {
    "collapsed": false
   },
   "outputs": [],
   "source": [
    "\n",
    "iea_emis=pd.read_csv(\"carbon_emissions_from_iea.csv\",skiprows=[1],na_values=[\"..\"]).dropna(axis=1,how=\"all\").dropna().replace(any_name_to_wb_name).set_index(\"country\")\n",
    "iea_emis = iea_emis.ix[wb_emis.index].astype(\"float\")"
   ]
  },
  {
   "cell_type": "code",
   "execution_count": null,
   "metadata": {
    "collapsed": false
   },
   "outputs": [],
   "source": [
    "iea_emis"
   ]
  },
  {
   "cell_type": "code",
   "execution_count": null,
   "metadata": {
    "collapsed": false
   },
   "outputs": [],
   "source": [
    "wb_emis"
   ]
  },
  {
   "cell_type": "code",
   "execution_count": null,
   "metadata": {
    "collapsed": false
   },
   "outputs": [],
   "source": [
    "iea_emis.iloc[:,-1]"
   ]
  },
  {
   "cell_type": "markdown",
   "metadata": {},
   "source": [
    "###Comparing various sources"
   ]
  },
  {
   "cell_type": "code",
   "execution_count": null,
   "metadata": {
    "collapsed": false
   },
   "outputs": [],
   "source": [
    "(tot_pop/wb_pop).dropna()"
   ]
  },
  {
   "cell_type": "code",
   "execution_count": null,
   "metadata": {
    "collapsed": false
   },
   "outputs": [],
   "source": []
  },
  {
   "cell_type": "code",
   "execution_count": null,
   "metadata": {
    "collapsed": false
   },
   "outputs": [],
   "source": [
    "wb_emis_pc=wb_emis_pc.ix[tot_emis.index]\n",
    "wb_emis = wb_emis.ix[tot_emis.index] #kilotons, for some reason\n",
    "wb_emis;"
   ]
  },
  {
   "cell_type": "code",
   "execution_count": null,
   "metadata": {
    "collapsed": false
   },
   "outputs": [],
   "source": [
    "tot_emis/wb_emis"
   ]
  },
  {
   "cell_type": "code",
   "execution_count": null,
   "metadata": {
    "collapsed": false
   },
   "outputs": [],
   "source": [
    "(tot_emis/tot_pop)/(wb_emis_pc)"
   ]
  },
  {
   "cell_type": "code",
   "execution_count": null,
   "metadata": {
    "collapsed": true
   },
   "outputs": [],
   "source": [
    "#expenditures per capita\n",
    "hh_exp = pd.read_csv(\"csvdata/PerCapitaExpenditures.csv\").replace(iso_to_name)\n",
    "hh_exp.rename(columns={\"value\": \"hh_exp_pc\"},inplace=True)\n",
    "hh_exp.set_index([\"country\",\"hid\"],inplace=\"True\")"
   ]
  },
  {
   "cell_type": "code",
   "execution_count": null,
   "metadata": {
    "collapsed": false
   },
   "outputs": [],
   "source": [
    "#builds dataframe indexed by country and hid with all the data\n",
    "df = pd.DataFrame(hh_exp[\"hh_exp_pc\"])\n",
    "df[\"hh_emi\"]=hh_emi[\"hh_emis\"]\n",
    "df[\"hh_emi_pc\"]=hh_emi_pc\n",
    "df[\"nb_people\"]=nb_people\n",
    "df[\"w\"]=hop[\"weight\"]\n",
    "df[\"hh_emis_perdol\"]=df[\"hh_emi_pc\"]/df[\"hh_exp_pc\"]\n",
    "\n",
    "#Vietnam \n",
    "vn=df.ix[\"VNM\",:]"
   ]
  },
  {
   "cell_type": "code",
   "execution_count": null,
   "metadata": {
    "collapsed": false
   },
   "outputs": [],
   "source": [
    "def wavg(val_col_name, wt_col_name):\n",
    "    \"\"\"computes the average of val_col_name weighted by wt_col_name\"\"\"\n",
    "    def inner(group):\n",
    "        return (group[val_col_name] * group[wt_col_name]).sum() / group[wt_col_name].sum()\n",
    "    #inner.__name__ = res_name\n",
    "    return inner"
   ]
  },
  {
   "cell_type": "code",
   "execution_count": null,
   "metadata": {
    "collapsed": false
   },
   "outputs": [],
   "source": [
    "flat_df =  df.reset_index()\n",
    "country_list = flat_df.country.unique()"
   ]
  },
  {
   "cell_type": "code",
   "execution_count": null,
   "metadata": {
    "collapsed": false
   },
   "outputs": [],
   "source": [
    "#Categories USD per day categories\n",
    "income_bins = np.array([0,1,1.25,2,2.5,4]+[10*2.**i for i in range(0,15,1)]) \n",
    "income_cut = pd.cut(flat_df[\"hh_exp_pc\"]/365, income_bins)\n",
    "\n",
    "income_cut.unique()\n"
   ]
  },
  {
   "cell_type": "code",
   "execution_count": null,
   "metadata": {
    "collapsed": false
   },
   "outputs": [],
   "source": [
    "flat_df"
   ]
  },
  {
   "cell_type": "code",
   "execution_count": null,
   "metadata": {
    "collapsed": false
   },
   "outputs": [],
   "source": [
    "#\n",
    "stats = pd.DataFrame()\n",
    "grouped =flat_df.groupby([\"country\",income_cut])\n",
    "stats[\"avg_emis_pc\"]=grouped.apply(wavg('hh_emi_pc', 'w'))\n",
    "stats[\"nb_people0\"] =grouped[\"nb_people\"].sum()\n",
    "#stats.sort_index(inplace=True)\n",
    "#stats[\"nb_people1\"]=grouped[\"nb_people\"]\n",
    "stats"
   ]
  },
  {
   "cell_type": "code",
   "execution_count": null,
   "metadata": {
    "collapsed": false
   },
   "outputs": [],
   "source": [
    "#stats.ix[c]\n",
    "#country_stats"
   ]
  },
  {
   "cell_type": "code",
   "execution_count": null,
   "metadata": {
    "collapsed": true
   },
   "outputs": [],
   "source": [
    "#for c in country_list:\n",
    "#def lift_folks(country_stats):\n",
    "def lift_folks(country_stats):\n",
    "    #out = pd.DataFrame(index=country_stats.index)\n",
    "    emis =pd.DataFrame(index=[\"emis\"])\n",
    "    out= country_stats.ix[:,[\"nb_people0\"]]\n",
    "    for i in range(1,10):\n",
    "        nam = 'min'+str(income_bins[i])\n",
    "        out[nam] = country_stats[\"nb_people0\"]\n",
    "        out.ix[i,nam] = country_stats.ix[0:i+1,\"nb_people0\"].sum()\n",
    "        out.ix[0:i,nam] =0\n",
    "        #emis[str(i)]= np.average(country_stats[\"avg_emis_pc\"],weights=out[nam])\n",
    "    return out\n",
    " #   stats.ix[c,[out.columns.values]]=out"
   ]
  },
  {
   "cell_type": "code",
   "execution_count": null,
   "metadata": {
    "collapsed": false
   },
   "outputs": [],
   "source": [
    "emis_sce_country = pd.DataFrame()\n",
    "#computes new emissions at once\n",
    "for c in country_list:\n",
    "    emis_sce_country[c]= stats.ix[c][\"avg_emis_pc\"].dot(lift_folks(stats.ix[c,:]))/(stats.ix[c][\"nb_people0\"].sum())\n",
    "    \n",
    "emis_sce_country    "
   ]
  },
  {
   "cell_type": "code",
   "execution_count": null,
   "metadata": {
    "collapsed": false
   },
   "outputs": [],
   "source": [
    "#emis_sce_country['tot']=emis_sce_country.sum(axis=1)  "
   ]
  },
  {
   "cell_type": "code",
   "execution_count": null,
   "metadata": {
    "collapsed": false
   },
   "outputs": [],
   "source": [
    "(emis_sce_country/emis_sce_country.ix[\"nb_people0\",:]-1)*100"
   ]
  },
  {
   "cell_type": "code",
   "execution_count": null,
   "metadata": {
    "collapsed": false
   },
   "outputs": [],
   "source": [
    "#paf = stats.reset_index().groupby(\"country\").apply(lift_folks)\n",
    "#paf.reset_index().groupby(\"country\").apply(wavg(\"avg_emis_pc\",\"nb_people1\"))\n",
    "#paf"
   ]
  },
  {
   "cell_type": "code",
   "execution_count": null,
   "metadata": {
    "collapsed": false
   },
   "outputs": [],
   "source": [
    "#pd.concat([flat_df,pd.get_dummies(income_cut)],axis=1).set_index([\"country\",\"hid\"])\n",
    "income_cut = pd.cut(df[\"hh_exp_pc\"]/365, income_bins)\n",
    "\n",
    "income_dummies= pd.get_dummies(income_cut)\n",
    "df= pd.concat([df,income_dummies],axis=1)\n",
    "df"
   ]
  },
  {
   "cell_type": "code",
   "execution_count": null,
   "metadata": {
    "collapsed": false
   },
   "outputs": [],
   "source": [
    "stats.ix[:,\"nb_people1\"] = stats.ix[:,\"nb_people\"]\n",
    "stats.ix[:,\"nb_people1\"]"
   ]
  },
  {
   "cell_type": "code",
   "execution_count": null,
   "metadata": {
    "collapsed": false
   },
   "outputs": [],
   "source": [
    "stats.ix[pd.MultiIndex(\"ALB)]"
   ]
  },
  {
   "cell_type": "code",
   "execution_count": null,
   "metadata": {
    "collapsed": false
   },
   "outputs": [],
   "source": [
    "wp(vn[\"hh_exp_pc\"],vn[\"nb_people\"],np.arange(0,1,0.1))"
   ]
  },
  {
   "cell_type": "code",
   "execution_count": null,
   "metadata": {
    "collapsed": false
   },
   "outputs": [],
   "source": [
    "font = {'family' : 'serif',\n",
    "        'weight' : 'normal',\n",
    "        'size'   : 15}\n",
    "plt.rc('font', **font)\n",
    "plt.figure(figsize=(9,7))\n",
    "plt.plot((df[\"hh_exp_pc\"]),df[\"hh_emi_pc\"]/df[\"hh_exp_pc\"],color=\"blue\",marker='.',markeredgewidth=1,linestyle='None',markersize=12,clip_on=False)\n",
    "plt.xlabel(\"$\\$/yr$\")\n",
    "plt.ylabel(\"$gCO_2/\\$$\")\n",
    "plt.xscale(\"log\")"
   ]
  },
  {
   "cell_type": "code",
   "execution_count": null,
   "metadata": {
    "collapsed": false
   },
   "outputs": [],
   "source": [
    "def weighted_rolling_mean(x,y,w,kernel):\n",
    "    "
   ]
  },
  {
   "cell_type": "code",
   "execution_count": null,
   "metadata": {
    "collapsed": false
   },
   "outputs": [],
   "source": [
    "from statsmodels.nonparametric.kernel_regression import KernelReg\n",
    "import numpy as np\n",
    "import matplotlib.pyplot as plt\n",
    "x = np.linspace(0,2*np.pi,100)\n",
    "y = np.sin(x) + np.random.random(100) * 0.2\n",
    "kr = KernelReg(y,x,'o')\n",
    "plt.plot(x, y, '+')\n",
    "y_pred, y_std = kr.fit(x)\n",
    "plt.plot(x, y_pred)"
   ]
  },
  {
   "cell_type": "code",
   "execution_count": null,
   "metadata": {
    "collapsed": false
   },
   "outputs": [],
   "source": [
    "def plot_distribution(y,w,thecolor=\"red\"):\n",
    "    hist, bin_edges = np.histogram(y,bins=100,weights=w,density=True)\n",
    "    width = 0.5 * (bin_edges[1] - bin_edges[0])\n",
    "    center = (bin_edges[:-1] + bin_edges[1:]) / 2\n",
    "    xs = np.linspace(center.min(),center.max(),300)\n",
    "    plt.bar(center, hist, align='center', width=width,alpha=0.0,color=thecolor)\n",
    "    density = gaussian_kde(y,weights=w)\n",
    "    density._compute_covariance()\n",
    "    plt.plot(xs,density(xs),linewidth=2,color=thecolor)\n"
   ]
  },
  {
   "cell_type": "code",
   "execution_count": null,
   "metadata": {
    "collapsed": false
   },
   "outputs": [],
   "source": [
    "plot_distribution(np.log(vn.hh_emi_pc),vn.w)\n",
    "\n"
   ]
  },
  {
   "cell_type": "code",
   "execution_count": null,
   "metadata": {
    "collapsed": false
   },
   "outputs": [],
   "source": []
  }
 ],
 "metadata": {
  "kernelspec": {
   "display_name": "Python 3",
   "language": "python",
   "name": "python3"
  },
  "language_info": {
   "codemirror_mode": {
    "name": "ipython",
    "version": 3
   },
   "file_extension": ".py",
   "mimetype": "text/x-python",
   "name": "python",
   "nbconvert_exporter": "python",
   "pygments_lexer": "ipython3",
   "version": "3.4.3"
  }
 },
 "nbformat": 4,
 "nbformat_minor": 0
}
