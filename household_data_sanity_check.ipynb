{
 "cells": [
  {
   "cell_type": "markdown",
   "metadata": {},
   "source": [
    "In this notebook I investigate the effect of inequality reduction on GHG emissions"
   ]
  },
  {
   "cell_type": "code",
   "execution_count": 1,
   "metadata": {
    "collapsed": false
   },
   "outputs": [],
   "source": [
    "%load_ext autoreload\n",
    "%autoreload\n",
    "import pandas as pd\n",
    "import numpy as np\n",
    "import matplotlib.pyplot as plt\n",
    "from kde import *\n",
    "from perc import *\n",
    "%matplotlib inline\n",
    "\n",
    "from wb_api_wraper import *\n",
    "\n",
    "\n",
    "pd.set_option('display.max_colwidth', 200)\n",
    "pd.set_option('display.width', 200)\n",
    "pd.set_option('display.precision', 2)\n",
    "pd.set_option('display.max_rows', 500)\n"
   ]
  },
  {
   "cell_type": "code",
   "execution_count": 2,
   "metadata": {
    "collapsed": false
   },
   "outputs": [],
   "source": [
    "datadir = \"csvdata/\";"
   ]
  },
  {
   "cell_type": "code",
   "execution_count": 3,
   "metadata": {
    "collapsed": false
   },
   "outputs": [],
   "source": [
    "any_name_to_wb_name = pd.read_csv(\"any_name_to_wb_name.csv\",index_col=\"any\",squeeze=True)\n",
    "iso_to_name = pd.read_csv(\"iso3_to_wb_name.csv\",usecols=[\"iso3\",\"country\"],index_col=\"iso3\",squeeze=True)\n",
    "names_to_iso = pd.read_csv(\"names_to_iso.csv\",usecols=[\"country\",\"iso3\"],index_col=\"country\",squeeze=True)"
   ]
  },
  {
   "cell_type": "markdown",
   "metadata": {},
   "source": [
    "#Data from World bank API"
   ]
  },
  {
   "cell_type": "code",
   "execution_count": 31,
   "metadata": {
    "collapsed": true
   },
   "outputs": [],
   "source": [
    "\n",
    "#TOTAL GDP\n",
    "#NY.GDP.MKTP.CD \tGDP (current US$) \tWorld Development Indicators\n",
    "#NY.GDP.MKTP.CN \tGDP (current LCU) \tWorld Development Indicators\n",
    "#NY.GDP.MKTP.KD \tGDP (constant 2005 US$)\n",
    "\n",
    "#GDP per capital\n",
    "#NY.GDP.PCAP.KD\tGDP per capita (constant 2005 US$)\n",
    "#NY.GDP.PCAP.CD \tGDP per capita (current US$) \t\n",
    "#NY.GDP.PCAP.CN \tGDP per capita (current LCU) \n",
    "#NY.GDP.PCAP.KD \tGDP per capita (constant 2005 US$)\n"
   ]
  },
  {
   "cell_type": "code",
   "execution_count": 47,
   "metadata": {
    "collapsed": false
   },
   "outputs": [],
   "source": [
    "a=search_wb(\"gdp\")\n",
    "a[a.source==\"World Development Indicators\"];"
   ]
  },
  {
   "cell_type": "code",
   "execution_count": 34,
   "metadata": {
    "collapsed": false
   },
   "outputs": [],
   "source": [
    "wb_pop = get_wb_mrv(\"SP.POP.TOTL\",\"wb_pop\")\n",
    "wb_emis = get_wb_mrv(\"EN.ATM.CO2E.FF.KT\",\"wb_emis\")#CO2 emissions from fossil fuels, total;\n",
    "wb_gdp = get_wb_mrv(\"NY.GDP.MKTP.KD\",\"gdp\").dropna() ; #GDP (constant 2005 US$)"
   ]
  },
  {
   "cell_type": "markdown",
   "metadata": {},
   "source": [
    "#Data from Maros"
   ]
  },
  {
   "cell_type": "code",
   "execution_count": 35,
   "metadata": {
    "collapsed": false
   },
   "outputs": [
    {
     "data": {
      "text/plain": [
       "array(['alb05', 'arm12', 'gha06', 'ind05', 'irq06', 'lbr07', 'mda12',\n",
       "       'mwi11', 'ner11', 'rwa11', 'sen11', 'sle11', 'vnm12'], dtype=object)"
      ]
     },
     "execution_count": 35,
     "metadata": {},
     "output_type": "execute_result"
    }
   ],
   "source": [
    "#personal data\n",
    "persdata=pd.read_csv(\"csvdata/PERSDATA.csv\").replace(iso_to_name)  #here emost of weights are 1 but some weights are 0.6\n",
    "persdata.columns = map(str.lower, persdata.columns)\n",
    "persdata=persdata.set_index(\"schema\").drop(\"arm04\").reset_index()#drops armenia 2004 since we have armenia 2012\n",
    "persdata.schema.unique() #countries should apper only once"
   ]
  },
  {
   "cell_type": "code",
   "execution_count": 37,
   "metadata": {
    "collapsed": false
   },
   "outputs": [
    {
     "data": {
      "text/plain": [
       "array(['alb05', 'arm12', 'bgd05', 'gha06', 'ind05', 'irq06', 'lbr07',\n",
       "       'mda12', 'mwi11', 'ner11', 'rwa11', 'sen11', 'sle11', 'vnm12'], dtype=object)"
      ]
     },
     "execution_count": 37,
     "metadata": {},
     "output_type": "execute_result"
    }
   ],
   "source": [
    "#household data\n",
    "hhdata = pd.read_csv(\"csvdata/HHLDDATA.csv\").replace(iso_to_name)\n",
    "hhdata.columns = map(str.lower, hhdata.columns)\n",
    "hhdata = hhdata.set_index(\"schema\").drop(\"arm04\").reset_index()#drops armenia 2004 since we have armenia 2012\n",
    "hhdata.schema.unique()#countries should apper only once"
   ]
  },
  {
   "cell_type": "code",
   "execution_count": 38,
   "metadata": {
    "collapsed": false
   },
   "outputs": [],
   "source": [
    "persdata;"
   ]
  },
  {
   "cell_type": "code",
   "execution_count": 40,
   "metadata": {
    "collapsed": true
   },
   "outputs": [],
   "source": [
    "weight_hh = hhdata.set_index(['country',\"hid\"])[\"weight\"]"
   ]
  },
  {
   "cell_type": "markdown",
   "metadata": {},
   "source": [
    "###Population is good"
   ]
  },
  {
   "cell_type": "code",
   "execution_count": 41,
   "metadata": {
    "collapsed": false
   },
   "outputs": [
    {
     "data": {
      "text/plain": [
       "country\n",
       "Albania         0.4\n",
       "Armenia         0.8\n",
       "Ghana           0.9\n",
       "India           0.8\n",
       "Iraq            0.9\n",
       "Liberia         0.6\n",
       "Malawi          0.8\n",
       "Moldova         0.9\n",
       "Niger           0.9\n",
       "Rwanda          0.2\n",
       "Senegal         0.9\n",
       "Sierra Leone    1.0\n",
       "Vietnam         1.0\n",
       "dtype: float64"
      ]
     },
     "execution_count": 41,
     "metadata": {},
     "output_type": "execute_result"
    }
   ],
   "source": [
    "#number of persons per household\n",
    "nb_people_in_hh =persdata.groupby([\"country\",\"hid\"])[\"pid\"].count()\n",
    "nb_people_in_hh.name = \"nb_people_in_hh\"\n",
    "nb_people_in_hh.head();\n",
    "#total number of people in the economy\n",
    "pop_hh = (weight_hh*nb_people_in_hh).sum(level=\"country\")\n",
    "(pop_hh/wb_pop).dropna()"
   ]
  },
  {
   "cell_type": "markdown",
   "metadata": {},
   "source": [
    "###expenditure is not good"
   ]
  },
  {
   "cell_type": "code",
   "execution_count": 42,
   "metadata": {
    "collapsed": false
   },
   "outputs": [
    {
     "data": {
      "text/plain": [
       "array(['alb05', 'arm12', 'gha06', 'ind05', 'irq06', 'lbr07', 'mda12',\n",
       "       'mwi11', 'ner11', 'rwa11', 'sen11', 'sle11', 'vnm12'], dtype=object)"
      ]
     },
     "execution_count": 42,
     "metadata": {},
     "output_type": "execute_result"
    }
   ],
   "source": [
    "#expenditures\n",
    "expend = pd.read_csv(\"csvdata/PerCapitaExpenditures.csv\").replace(iso_to_name).rename(columns={\"value\": \"expend\"})\n",
    "expend.schema.unique()"
   ]
  },
  {
   "cell_type": "code",
   "execution_count": 43,
   "metadata": {
    "collapsed": false
   },
   "outputs": [],
   "source": [
    "expend_hh = expend.set_index([\"country\",\"hid\"]).expend "
   ]
  },
  {
   "cell_type": "code",
   "execution_count": 49,
   "metadata": {
    "collapsed": false
   },
   "outputs": [],
   "source": [
    "expend_pc = 1e3 * (expend_hh*  weight_hh ).sum(level=\"country\") / pop_hh #this suggests that expend_hh is not in the right currency"
   ]
  },
  {
   "cell_type": "code",
   "execution_count": 48,
   "metadata": {
    "collapsed": true
   },
   "outputs": [],
   "source": [
    "#GDP per capital\n",
    "#NY.GDP.PCAP.CD \tGDP per capita (current US$) \t\n",
    "#NY.GDP.PCAP.CN \tGDP per capita (current LCU) \n",
    "#NY.GDP.PCAP.KD \tGDP per capita (constant 2005 US$)\n",
    "wb_gdp_pc = get_wb_mrv(\"NY.GDP.PCAP.KD\",\"gdp\").dropna() ; #GDP (constant 2005 US$)"
   ]
  },
  {
   "cell_type": "code",
   "execution_count": 67,
   "metadata": {
    "collapsed": false
   },
   "outputs": [
    {
     "data": {
      "text/plain": [
       "country\n",
       "Albania          386957.9\n",
       "Armenia         6064236.6\n",
       "Ghana            605426.2\n",
       "India                 8.5\n",
       "Iraq             117971.9\n",
       "Liberia          510032.2\n",
       "Malawi           240675.1\n",
       "Moldova         8806416.5\n",
       "Niger            812615.7\n",
       "Rwanda          6039584.1\n",
       "Senegal          149269.0\n",
       "Sierra Leone     287263.6\n",
       "Vietnam          387896.3\n",
       "dtype: float64"
      ]
     },
     "execution_count": 67,
     "metadata": {},
     "output_type": "execute_result"
    }
   ],
   "source": [
    "1e3*(expend_pc/ get_wb_mrv(\"NY.GDP.PCAP.KD\",\"gdp\")).dropna()"
   ]
  },
  {
   "cell_type": "markdown",
   "metadata": {},
   "source": [
    "### emisions is not good"
   ]
  },
  {
   "cell_type": "code",
   "execution_count": 59,
   "metadata": {
    "collapsed": false
   },
   "outputs": [
    {
     "data": {
      "text/plain": [
       "array(['alb05', 'arm12', 'gha06', 'ind05', 'irq06', 'lbr07', 'mda12',\n",
       "       'mwi11', 'ner11', 'rwa11', 'sen11', 'sle11', 'vnm12'], dtype=object)"
      ]
     },
     "execution_count": 59,
     "metadata": {},
     "output_type": "execute_result"
    }
   ],
   "source": [
    "#emissions per household and per capita\n",
    "emis = pd.read_csv(\"csvdata/emissionsbyhousehold.csv\").replace(iso_to_name).rename(columns={\"value\": \"emis_hh\"})\n",
    "emis.schema.unique() #countries should apper only once (Armenia  is only once in emissionsbyhousehold)"
   ]
  },
  {
   "cell_type": "code",
   "execution_count": 61,
   "metadata": {
    "collapsed": false
   },
   "outputs": [],
   "source": [
    "emis_hh=emis.set_index([\"country\",\"hid\"]).emis_hh"
   ]
  },
  {
   "cell_type": "code",
   "execution_count": 65,
   "metadata": {
    "collapsed": false
   },
   "outputs": [
    {
     "data": {
      "text/plain": [
       "country\n",
       "Ghana           1693805.5\n",
       "Liberia         1788823.8\n",
       "Malawi          1877452.7\n",
       "Niger           5696680.3\n",
       "Rwanda          2473574.5\n",
       "Senegal         1941522.4\n",
       "Sierra Leone    1168304.6\n",
       "dtype: float64"
      ]
     },
     "execution_count": 65,
     "metadata": {},
     "output_type": "execute_result"
    }
   ],
   "source": [
    "((emis_hh*weight_hh).sum(level=\"country\")/wb_emis).dropna()"
   ]
  },
  {
   "cell_type": "markdown",
   "metadata": {},
   "source": [
    "#Gtap"
   ]
  },
  {
   "cell_type": "code",
   "execution_count": 14,
   "metadata": {
    "collapsed": false
   },
   "outputs": [],
   "source": [
    "gtap_to_wb_name = pd.read_csv(\"gtap_to_wb_name.csv\",index_col=\"gtap_region\",squeeze=True)\n",
    "gtap_to_wb_name;"
   ]
  },
  {
   "cell_type": "code",
   "execution_count": 15,
   "metadata": {
    "collapsed": false
   },
   "outputs": [],
   "source": [
    "gtap = pd.read_csv(\"sec_data_gtap.csv\").replace(gtap_to_wb_name)\n",
    "gtap[\"country\"]=gtap.gtap_region.str.upper().str.strip().replace(gtap_to_wb_name)\n",
    "gtap =gtap.set_index([\"country\",\"cpc2\"]).drop([\"gtap_region\"],axis=1)"
   ]
  },
  {
   "cell_type": "code",
   "execution_count": 16,
   "metadata": {
    "collapsed": false
   },
   "outputs": [
    {
     "data": {
      "text/plain": [
       "country\n",
       "Albania    9228.4\n",
       "Armenia    3335.9\n",
       "Ghana      1164.1\n",
       "India      1123.6\n",
       "Malawi      284.6\n",
       "Rwanda     2059.4\n",
       "Senegal     827.0\n",
       "Vietnam     910.3\n",
       "dtype: float64"
      ]
     },
     "execution_count": 16,
     "metadata": {},
     "output_type": "execute_result"
    }
   ],
   "source": [
    "1e6*(gtap.conso_usd.sum(level=\"country\")/pop_hh ).dropna()#to check whether this is close to gdp per capita"
   ]
  },
  {
   "cell_type": "markdown",
   "metadata": {},
   "source": [
    "### The problem here is that total expenditures from HH survey do not match gtap "
   ]
  },
  {
   "cell_type": "code",
   "execution_count": 17,
   "metadata": {
    "collapsed": false
   },
   "outputs": [
    {
     "data": {
      "text/plain": [
       "country\n",
       "Albania     167499.1\n",
       "Armenia    4330763.9\n",
       "Ghana       403299.4\n",
       "India            9.6\n",
       "Malawi      230189.0\n",
       "Rwanda     1224912.5\n",
       "Senegal     146061.3\n",
       "Vietnam     459305.3\n",
       "dtype: float64"
      ]
     },
     "execution_count": 17,
     "metadata": {},
     "output_type": "execute_result"
    }
   ],
   "source": [
    "((expend_hh * weight_hh ).sum(level=\"country\") / gtap.conso_usd.sum(level=\"country\")).dropna()"
   ]
  },
  {
   "cell_type": "markdown",
   "metadata": {},
   "source": [
    "###expenses from gtap kindamatch gdpfrom WB"
   ]
  },
  {
   "cell_type": "code",
   "execution_count": 27,
   "metadata": {
    "collapsed": false
   },
   "outputs": [
    {
     "data": {
      "text/plain": [
       "country\n",
       "Albania                 1.0\n",
       "Argentina               0.7\n",
       "Armenia                 1.1\n",
       "Australia               0.8\n",
       "Austria                 0.6\n",
       "Azerbaijan              1.1\n",
       "Bahrain                 0.7\n",
       "Bangladesh              0.7\n",
       "Belarus                 0.6\n",
       "Belgium                 0.6\n",
       "Benin                   1.3\n",
       "Bolivia                 1.0\n",
       "Botswana                0.4\n",
       "Brazil                  1.1\n",
       "Brunei Darussalam       0.4\n",
       "Bulgaria                1.0\n",
       "Burkina Faso            0.6\n",
       "Cambodia                0.9\n",
       "Cameroon                0.7\n",
       "Canada                  0.7\n",
       "Chile                   0.8\n",
       "China                   0.4\n",
       "Colombia                0.9\n",
       "Costa Rica              0.7\n",
       "Cote d'Ivoire           0.6\n",
       "Croatia                 0.8\n",
       "Cyprus                  0.9\n",
       "Czech Republic          0.6\n",
       "Denmark                 0.5\n",
       "Dominican Republic      0.8\n",
       "Ecuador                 0.8\n",
       "Egypt, Arab Rep.        1.4\n",
       "El Salvador             1.0\n",
       "Estonia                 0.7\n",
       "Ethiopia                0.8\n",
       "Finland                 0.6\n",
       "France                  0.6\n",
       "Georgia                 1.1\n",
       "Germany                 0.6\n",
       "Ghana                   1.3\n",
       "Greece                  1.0\n",
       "Guatemala               1.0\n",
       "Guinea                  1.2\n",
       "Honduras                0.9\n",
       "Hong Kong SAR, China    0.6\n",
       "Hungary                 0.5\n",
       "India                   0.7\n",
       "Indonesia               1.0\n",
       "Iran, Islamic Rep.      1.1\n",
       "Ireland                 0.3\n",
       "Israel                  0.6\n",
       "Italy                   0.7\n",
       "Jamaica                 1.0\n",
       "Japan                   0.7\n",
       "Jordan                  1.3\n",
       "Kazakhstan              1.1\n",
       "Kenya                   0.9\n",
       "Korea, Rep.             0.4\n",
       "Kuwait                  0.5\n",
       "Kyrgyz Republic         2.1\n",
       "Lao PDR                 1.0\n",
       "Latvia                  0.9\n",
       "Lithuania               0.8\n",
       "Luxembourg              0.6\n",
       "Madagascar              1.3\n",
       "Malawi                  0.9\n",
       "Malaysia                0.6\n",
       "Malta                   1.2\n",
       "Mauritius               0.8\n",
       "Mexico                  0.7\n",
       "Mongolia                0.9\n",
       "Morocco                 0.7\n",
       "Mozambique              0.7\n",
       "Namibia                 0.5\n",
       "Nepal                   1.3\n",
       "Netherlands             0.5\n",
       "New Zealand             0.6\n",
       "Nicaragua               0.8\n",
       "Nigeria                 0.9\n",
       "Norway                  0.6\n",
       "Oman                    0.6\n",
       "Pakistan                1.2\n",
       "Panama                  0.8\n",
       "Paraguay                1.4\n",
       "Peru                    0.8\n",
       "Philippines             1.0\n",
       "Poland                  0.7\n",
       "Portugal                0.7\n",
       "Puerto Rico             1.1\n",
       "Qatar                   0.3\n",
       "Romania                 1.0\n",
       "Russian Federation      0.9\n",
       "Rwanda                  0.9\n",
       "Saudi Arabia            0.4\n",
       "Senegal                 1.0\n",
       "Singapore               0.4\n",
       "Slovak Republic         0.6\n",
       "Slovenia                0.7\n",
       "South Africa            0.7\n",
       "Spain                   0.7\n",
       "Sri Lanka               1.0\n",
       "Sweden                  0.5\n",
       "Switzerland             0.8\n",
       "Tanzania                0.5\n",
       "Thailand                0.8\n",
       "Togo                    1.3\n",
       "Trinidad and Tobago     0.4\n",
       "Tunisia                 0.7\n",
       "Turkey                  0.7\n",
       "Uganda                  0.7\n",
       "Ukraine                 1.1\n",
       "United Arab Emirates    1.1\n",
       "United Kingdom          0.6\n",
       "United States           0.7\n",
       "Uruguay                 1.0\n",
       "Venezuela, RB           1.0\n",
       "Vietnam                 0.8\n",
       "Zambia                  0.5\n",
       "Zimbabwe                1.4\n",
       "dtype: float64"
      ]
     },
     "execution_count": 27,
     "metadata": {},
     "output_type": "execute_result"
    }
   ],
   "source": [
    "(1e6* gtap.conso_usd.sum(level=\"country\") / "
   ]
  },
  {
   "cell_type": "markdown",
   "metadata": {},
   "source": [
    "###emissions directly from gtap are consistent with those from wb api"
   ]
  },
  {
   "cell_type": "code",
   "execution_count": 19,
   "metadata": {
    "collapsed": false
   },
   "outputs": [
    {
     "data": {
      "text/plain": [
       "country\n",
       "Benin               1.1\n",
       "Botswana            0.7\n",
       "Burkina Faso        1.3\n",
       "Cote d'Ivoire       1.1\n",
       "Egypt, Arab Rep.    0.5\n",
       "Ethiopia            1.5\n",
       "Ghana               1.6\n",
       "Guinea              1.5\n",
       "Kenya               0.8\n",
       "Madagascar          1.8\n",
       "Malawi              1.9\n",
       "Mauritius           0.9\n",
       "Morocco             0.6\n",
       "Mozambique          2.6\n",
       "Namibia             0.7\n",
       "Nigeria             1.0\n",
       "Rwanda              1.9\n",
       "Senegal             1.1\n",
       "South Africa        0.2\n",
       "Tanzania            1.1\n",
       "Togo                1.3\n",
       "Tunisia             0.6\n",
       "Uganda              1.3\n",
       "Zambia              4.2\n",
       "Zimbabwe            0.9\n",
       "dtype: float64"
      ]
     },
     "execution_count": 19,
     "metadata": {},
     "output_type": "execute_result"
    }
   ],
   "source": [
    "((gtap.conso_usd*gtap.emissions_g_usd).sum(level=\"country\")/wb_emis).dropna()"
   ]
  },
  {
   "cell_type": "markdown",
   "metadata": {},
   "source": [
    "###But emissions from HH surveys are not consistent with GTAP"
   ]
  },
  {
   "cell_type": "code",
   "execution_count": 68,
   "metadata": {
    "collapsed": false
   },
   "outputs": [
    {
     "data": {
      "text/plain": [
       "country\n",
       "Albania      227221.8\n",
       "Armenia    15822126.5\n",
       "Ghana       1058665.9\n",
       "India        327611.5\n",
       "Malawi       995219.1\n",
       "Rwanda      1307396.2\n",
       "Senegal     1732853.5\n",
       "Vietnam      767561.6\n",
       "dtype: float64"
      ]
     },
     "execution_count": 68,
     "metadata": {},
     "output_type": "execute_result"
    }
   ],
   "source": [
    "((emis_hh*weight_hh).sum(level=\"country\") / (gtap.conso_usd*gtap.emissions_g_usd).sum(level=\"country\")).dropna()"
   ]
  },
  {
   "cell_type": "code",
   "execution_count": null,
   "metadata": {
    "collapsed": true
   },
   "outputs": [],
   "source": []
  },
  {
   "cell_type": "code",
   "execution_count": null,
   "metadata": {
    "collapsed": true
   },
   "outputs": [],
   "source": []
  },
  {
   "cell_type": "code",
   "execution_count": null,
   "metadata": {
    "collapsed": true
   },
   "outputs": [],
   "source": []
  },
  {
   "cell_type": "code",
   "execution_count": null,
   "metadata": {
    "collapsed": true
   },
   "outputs": [],
   "source": []
  },
  {
   "cell_type": "code",
   "execution_count": null,
   "metadata": {
    "collapsed": true
   },
   "outputs": [],
   "source": []
  },
  {
   "cell_type": "markdown",
   "metadata": {},
   "source": [
    "###df"
   ]
  },
  {
   "cell_type": "code",
   "execution_count": 20,
   "metadata": {
    "collapsed": false
   },
   "outputs": [
    {
     "data": {
      "text/plain": [
       "(0, 0)"
      ]
     },
     "execution_count": 20,
     "metadata": {},
     "output_type": "execute_result"
    }
   ],
   "source": [
    "#checks sanity with the index\n",
    "emis_hh[['country',\"hid\"]].duplicated().sum()  , hhdata[['country',\"hid\"]].duplicated().sum()"
   ]
  },
  {
   "cell_type": "code",
   "execution_count": 21,
   "metadata": {
    "collapsed": false
   },
   "outputs": [],
   "source": [
    "df= pd.concat([nb_people_in_hh,weight_hh,emis_hh.set_index([\"country\",\"hid\"])[\"emis_hh\"]],axis=1)"
   ]
  },
  {
   "cell_type": "code",
   "execution_count": 22,
   "metadata": {
    "collapsed": false
   },
   "outputs": [
    {
     "data": {
      "text/plain": [
       "<matplotlib.axes._subplots.AxesSubplot at 0x8669470>"
      ]
     },
     "execution_count": 22,
     "metadata": {},
     "output_type": "execute_result"
    },
    {
     "data": {
      "image/png": "[encoded data removed]",
      "text/plain": [
       "<matplotlib.figure.Figure at 0x865c358>"
      ]
     },
     "metadata": {},
     "output_type": "display_data"
    }
   ],
   "source": [
    "df[\"expend\"] = expend.set_index([\"country\",\"hid\"]).expend\n",
    "df.ix[\"Vietnam\"].plot(x=\"expend\",y=\"emis_hh\",kind=\"scatter\")"
   ]
  },
  {
   "cell_type": "code",
   "execution_count": 23,
   "metadata": {
    "collapsed": false
   },
   "outputs": [],
   "source": [
    "pov_head = get_wb(\"SI.POV.2DAY\")\n",
    "pov_head.stack();"
   ]
  },
  {
   "cell_type": "markdown",
   "metadata": {
    "collapsed": false
   },
   "source": [
    "\n",
    "todo:a\n",
    "    \n",
    "    -find poverty headcount\n",
    "    -infer exchange rate\n",
    "    -move distributions"
   ]
  },
  {
   "cell_type": "markdown",
   "metadata": {},
   "source": [
    "###Data from GTAP and computation in SQL"
   ]
  },
  {
   "cell_type": "code",
   "execution_count": 71,
   "metadata": {
    "collapsed": false
   },
   "outputs": [],
   "source": [
    "gtap_emis = pd.read_csv(\"tot_emis_gtap.csv\",header=None,names=[\"country\",\"emis\"],index_col = \"country\", squeeze=True)"
   ]
  },
  {
   "cell_type": "code",
   "execution_count": 74,
   "metadata": {
    "collapsed": false
   },
   "outputs": [
    {
     "data": {
      "text/plain": [
       "country\n",
       "Albania                 1\n",
       "Argentina               1\n",
       "Armenia                 1\n",
       "Australia               1\n",
       "Austria                 1\n",
       "Azerbaijan              1\n",
       "Bahrain                 1\n",
       "Bangladesh              1\n",
       "Belarus                 1\n",
       "Belgium                 1\n",
       "Benin                   1\n",
       "Bolivia                 1\n",
       "Botswana                1\n",
       "Brazil                  1\n",
       "Brunei Darussalam       1\n",
       "Bulgaria                1\n",
       "Burkina Faso            1\n",
       "Cambodia                1\n",
       "Cameroon                1\n",
       "Canada                  1\n",
       "Chile                   1\n",
       "China                   1\n",
       "Colombia                1\n",
       "Costa Rica              1\n",
       "Cote d'Ivoire           1\n",
       "Croatia                 1\n",
       "Cyprus                  1\n",
       "Czech Republic          1\n",
       "Denmark                 1\n",
       "Dominican Republic      1\n",
       "Ecuador                 1\n",
       "Egypt, Arab Rep.        1\n",
       "El Salvador             1\n",
       "Estonia                 1\n",
       "Ethiopia                1\n",
       "Finland                 1\n",
       "France                  1\n",
       "Georgia                 1\n",
       "Germany                 1\n",
       "Ghana                   1\n",
       "Greece                  1\n",
       "Guatemala               1\n",
       "Guinea                  1\n",
       "Honduras                1\n",
       "Hong Kong SAR, China    1\n",
       "Hungary                 1\n",
       "India                   1\n",
       "Indonesia               1\n",
       "Iran, Islamic Rep.      1\n",
       "Ireland                 1\n",
       "Israel                  1\n",
       "Italy                   1\n",
       "Jamaica                 1\n",
       "Japan                   1\n",
       "Jordan                  1\n",
       "Kazakhstan              1\n",
       "Kenya                   1\n",
       "Korea, Rep.             1\n",
       "Kuwait                  1\n",
       "Kyrgyz Republic         1\n",
       "Lao PDR                 1\n",
       "Latvia                  1\n",
       "Lithuania               1\n",
       "Luxembourg              1\n",
       "Madagascar              1\n",
       "Malawi                  1\n",
       "Malaysia                1\n",
       "Malta                   1\n",
       "Mauritius               1\n",
       "Mexico                  1\n",
       "Mongolia                1\n",
       "Morocco                 1\n",
       "Mozambique              1\n",
       "Namibia                 1\n",
       "Nepal                   1\n",
       "Netherlands             1\n",
       "New Zealand             1\n",
       "Nicaragua               1\n",
       "Nigeria                 1\n",
       "Norway                  1\n",
       "Oman                    1\n",
       "Pakistan                1\n",
       "Panama                  1\n",
       "Paraguay                1\n",
       "Peru                    1\n",
       "Philippines             1\n",
       "Poland                  1\n",
       "Portugal                1\n",
       "Puerto Rico             1\n",
       "Qatar                   1\n",
       "Romania                 1\n",
       "Russian Federation      1\n",
       "Rwanda                  1\n",
       "Saudi Arabia            1\n",
       "Senegal                 1\n",
       "Singapore               1\n",
       "Slovak Republic         1\n",
       "Slovenia                1\n",
       "South Africa            1\n",
       "Spain                   1\n",
       "Sri Lanka               1\n",
       "Sweden                  1\n",
       "Switzerland             1\n",
       "Taiwan                  1\n",
       "Tanzania                1\n",
       "Thailand                1\n",
       "Togo                    1\n",
       "Trinidad and Tobago     1\n",
       "Tunisia                 1\n",
       "Turkey                  1\n",
       "Uganda                  1\n",
       "Ukraine                 1\n",
       "United Arab Emirates    1\n",
       "United Kingdom          1\n",
       "United States           1\n",
       "Uruguay                 1\n",
       "Venezuela, RB           1\n",
       "Vietnam                 1\n",
       "XAC                     1\n",
       "XCA                     1\n",
       "XCB                     1\n",
       "XCF                     1\n",
       "XEA                     1\n",
       "XEC                     1\n",
       "XEE                     1\n",
       "XEF                     1\n",
       "XER                     1\n",
       "XNA                     1\n",
       "XNF                     1\n",
       "XOC                     1\n",
       "XSA                     1\n",
       "XSC                     1\n",
       "XSE                     1\n",
       "XSM                     1\n",
       "XSU                     1\n",
       "XTW                     1\n",
       "XWF                     1\n",
       "XWS                     1\n",
       "Zambia                  1\n",
       "Zimbabwe                1\n",
       "dtype: float64"
      ]
     },
     "execution_count": 74,
     "metadata": {},
     "output_type": "execute_result"
    }
   ],
   "source": [
    "gtap_emis / ((gtap.conso_usd*gtap.emissions_g_usd).sum(level=\"country\"))"
   ]
  },
  {
   "cell_type": "markdown",
   "metadata": {},
   "source": [
    "###Data from IEA"
   ]
  },
  {
   "cell_type": "code",
   "execution_count": null,
   "metadata": {
    "collapsed": false
   },
   "outputs": [],
   "source": [
    "\n",
    "iea_emis=pd.read_csv(\"carbon_emissions_from_iea.csv\",skiprows=[1],na_values=[\"..\"]).dropna(axis=1,how=\"all\").dropna().replace(any_name_to_wb_name).set_index(\"country\")\n",
    "iea_emis = iea_emis.ix[wb_emis.index].astype(\"float\")"
   ]
  },
  {
   "cell_type": "code",
   "execution_count": null,
   "metadata": {
    "collapsed": false
   },
   "outputs": [],
   "source": [
    "iea_emis"
   ]
  },
  {
   "cell_type": "code",
   "execution_count": null,
   "metadata": {
    "collapsed": false
   },
   "outputs": [],
   "source": [
    "wb_emis"
   ]
  },
  {
   "cell_type": "code",
   "execution_count": null,
   "metadata": {
    "collapsed": false
   },
   "outputs": [],
   "source": [
    "iea_emis.iloc[:,-1]"
   ]
  },
  {
   "cell_type": "markdown",
   "metadata": {},
   "source": [
    "###Comparing various sources"
   ]
  },
  {
   "cell_type": "code",
   "execution_count": null,
   "metadata": {
    "collapsed": false
   },
   "outputs": [],
   "source": [
    "def wavg(val_col_name, wt_col_name):\n",
    "    \"\"\"computes the average of val_col_name weighted by wt_col_name\"\"\"\n",
    "    def inner(group):\n",
    "        return (group[val_col_name] * group[wt_col_name]).sum() / group[wt_col_name].sum()\n",
    "    #inner.__name__ = res_name\n",
    "    return inner"
   ]
  },
  {
   "cell_type": "code",
   "execution_count": null,
   "metadata": {
    "collapsed": false
   },
   "outputs": [],
   "source": [
    "flat_df =  df.reset_index()\n",
    "country_list = flat_df.country.unique()dd"
   ]
  },
  {
   "cell_type": "code",
   "execution_count": null,
   "metadata": {
    "collapsed": false
   },
   "outputs": [],
   "source": [
    "#Categories USD per day categories\n",
    "income_bins = np.array([0,1,1.25,2,2.5,4]+[10*2.**i for i in range(0,15,1)]) \n",
    "income_cut = pd.cut(flat_df[\"hh_exp_pc\"]/365, income_bins)\n",
    "\n",
    "income_cut.unique()\n"
   ]
  },
  {
   "cell_type": "code",
   "execution_count": null,
   "metadata": {
    "collapsed": false
   },
   "outputs": [],
   "source": [
    "flat_df"
   ]
  },
  {
   "cell_type": "code",
   "execution_count": null,
   "metadata": {
    "collapsed": false
   },
   "outputs": [],
   "source": [
    "#\n",
    "stats = pd.DataFrame()\n",
    "grouped =flat_df.groupby([\"country\",income_cut])\n",
    "stats[\"avg_emis_pc\"]=grouped.apply(wavg('hh_emi_pc', 'w'))\n",
    "stats[\"nb_people0\"] =grouped[\"nb_people\"].sum()\n",
    "#stats.sort_index(inplace=True)\n",
    "#stats[\"nb_people1\"]=grouped[\"nb_people\"]\n",
    "stats"
   ]
  },
  {
   "cell_type": "code",
   "execution_count": null,
   "metadata": {
    "collapsed": false
   },
   "outputs": [],
   "source": [
    "#stats.ix[c]\n",
    "#country_stats"
   ]
  },
  {
   "cell_type": "code",
   "execution_count": null,
   "metadata": {
    "collapsed": true
   },
   "outputs": [],
   "source": [
    "#for c in country_list:\n",
    "#def lift_folks(country_stats):\n",
    "def lift_folks(country_stats):\n",
    "    #out = pd.DataFrame(index=country_stats.index)\n",
    "    emis =pd.DataFrame(index=[\"emis\"])\n",
    "    out= country_stats.ix[:,[\"nb_people0\"]]\n",
    "    for i in range(1,10):\n",
    "        nam = 'min'+str(income_bins[i])\n",
    "        out[nam] = country_stats[\"nb_people0\"]\n",
    "        out.ix[i,nam] = country_stats.ix[0:i+1,\"nb_people0\"].sum()\n",
    "        out.ix[0:i,nam] =0\n",
    "        #emis[str(i)]= np.average(country_stats[\"avg_emis_pc\"],weights=out[nam])\n",
    "    return out\n",
    " #   stats.ix[c,[out.columns.values]]=out"
   ]
  },
  {
   "cell_type": "code",
   "execution_count": null,
   "metadata": {
    "collapsed": false
   },
   "outputs": [],
   "source": [
    "emis_sce_country = pd.DataFrame()\n",
    "#computes new emissions at once\n",
    "for c in country_list:\n",
    "    emis_sce_country[c]= stats.ix[c][\"avg_emis_pc\"].dot(lift_folks(stats.ix[c,:]))/(stats.ix[c][\"nb_people0\"].sum())\n",
    "    \n",
    "emis_sce_country    "
   ]
  },
  {
   "cell_type": "code",
   "execution_count": null,
   "metadata": {
    "collapsed": false
   },
   "outputs": [],
   "source": [
    "#emis_sce_country['tot']=emis_sce_country.sum(axis=1)  "
   ]
  },
  {
   "cell_type": "code",
   "execution_count": null,
   "metadata": {
    "collapsed": false
   },
   "outputs": [],
   "source": [
    "(emis_sce_country/emis_sce_country.ix[\"nb_people0\",:]-1)*100"
   ]
  },
  {
   "cell_type": "code",
   "execution_count": null,
   "metadata": {
    "collapsed": false
   },
   "outputs": [],
   "source": [
    "#paf = stats.reset_index().groupby(\"country\").apply(lift_folks)\n",
    "#paf.reset_index().groupby(\"country\").apply(wavg(\"avg_emis_pc\",\"nb_people1\"))\n",
    "#paf"
   ]
  },
  {
   "cell_type": "code",
   "execution_count": null,
   "metadata": {
    "collapsed": false
   },
   "outputs": [],
   "source": [
    "#pd.concat([flat_df,pd.get_dummies(income_cut)],axis=1).set_index([\"country\",\"hid\"])\n",
    "income_cut = pd.cut(df[\"hh_exp_pc\"]/365, income_bins)\n",
    "\n",
    "income_dummies= pd.get_dummies(income_cut)\n",
    "df= pd.concat([df,income_dummies],axis=1)\n",
    "df"
   ]
  },
  {
   "cell_type": "code",
   "execution_count": null,
   "metadata": {
    "collapsed": false
   },
   "outputs": [],
   "source": [
    "stats.ix[:,\"nb_people1\"] = stats.ix[:,\"nb_people\"]\n",
    "stats.ix[:,\"nb_people1\"]"
   ]
  },
  {
   "cell_type": "code",
   "execution_count": null,
   "metadata": {
    "collapsed": false
   },
   "outputs": [],
   "source": [
    "stats.ix[pd.MultiIndex(\"ALB)]"
   ]
  },
  {
   "cell_type": "code",
   "execution_count": null,
   "metadata": {
    "collapsed": false
   },
   "outputs": [],
   "source": [
    "wp(vn[\"hh_exp_pc\"],vn[\"nb_people\"],np.arange(0,1,0.1))"
   ]
  },
  {
   "cell_type": "code",
   "execution_count": null,
   "metadata": {
    "collapsed": false
   },
   "outputs": [],
   "source": [
    "font = {'family' : 'serif',\n",
    "        'weight' : 'normal',\n",
    "        'size'   : 15}\n",
    "plt.rc('font', **font)\n",
    "plt.figure(figsize=(9,7))\n",
    "plt.plot((df[\"hh_exp_pc\"]),df[\"hh_emi_pc\"]/df[\"hh_exp_pc\"],color=\"blue\",marker='.',markeredgewidth=1,linestyle='None',markersize=12,clip_on=False)\n",
    "plt.xlabel(\"$\\$/yr$\")\n",
    "plt.ylabel(\"$gCO_2/\\$$\")\n",
    "plt.xscale(\"log\")"
   ]
  },
  {
   "cell_type": "code",
   "execution_count": null,
   "metadata": {
    "collapsed": false
   },
   "outputs": [],
   "source": [
    "stats."
   ]
  },
  {
   "cell_type": "code",
   "execution_count": null,
   "metadata": {
    "collapsed": false
   },
   "outputs": [],
   "source": [
    "def weighted_rolling_mean(x,y,w,kernel):\n",
    "    "
   ]
  },
  {
   "cell_type": "code",
   "execution_count": null,
   "metadata": {
    "collapsed": false
   },
   "outputs": [],
   "source": [
    "from statsmodels.nonparametric.kernel_regression import KernelReg\n",
    "import numpy as np\n",
    "import matplotlib.pyplot as plt\n",
    "x = np.linspace(0,2*np.pi,100)\n",
    "y = np.sin(x) + np.random.random(100) * 0.2\n",
    "kr = KernelReg(y,x,'o')\n",
    "plt.plot(x, y, '+')\n",
    "y_pred, y_std = kr.fit(x)\n",
    "plt.plot(x, y_pred)"
   ]
  },
  {
   "cell_type": "code",
   "execution_count": null,
   "metadata": {
    "collapsed": false
   },
   "outputs": [],
   "source": [
    "def plot_distribution(y,w,thecolor=\"red\"):\n",
    "    hist, bin_edges = np.histogram(y,bins=100,weights=w,density=True)\n",
    "    width = 0.5 * (bin_edges[1] - bin_edges[0])\n",
    "    center = (bin_edges[:-1] + bin_edges[1:]) / 2\n",
    "    xs = np.linspace(center.min(),center.max(),300)\n",
    "    plt.bar(center, hist, align='center', width=width,alpha=0.0,color=thecolor)\n",
    "    density = gaussian_kde(y,weights=w)\n",
    "    density._compute_covariance()\n",
    "    plt.plot(xs,density(xs),linewidth=2,color=thecolor)\n"
   ]
  },
  {
   "cell_type": "code",
   "execution_count": null,
   "metadata": {
    "collapsed": false
   },
   "outputs": [],
   "source": [
    "plot_distribution(np.log(vn.hh_emi_pc),vn.w)\n",
    "\n"
   ]
  },
  {
   "cell_type": "code",
   "execution_count": null,
   "metadata": {
    "collapsed": false
   },
   "outputs": [],
   "source": []
  }
 ],
 "metadata": {
  "kernelspec": {
   "display_name": "Python 3",
   "language": "python",
   "name": "python3"
  },
  "language_info": {
   "codemirror_mode": {
    "name": "ipython",
    "version": 3
   },
   "file_extension": ".py",
   "mimetype": "text/x-python",
   "name": "python",
   "nbconvert_exporter": "python",
   "pygments_lexer": "ipython3",
   "version": "3.4.1"
  }
 },
 "nbformat": 4,
 "nbformat_minor": 0
}
