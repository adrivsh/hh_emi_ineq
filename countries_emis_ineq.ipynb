{
 "cells": [
  {
   "cell_type": "code",
   "execution_count": 18,
   "metadata": {
    "collapsed": false
   },
   "outputs": [
    {
     "name": "stdout",
     "output_type": "stream",
     "text": [
      "The autoreload extension is already loaded. To reload it, use:\n",
      "  %reload_ext autoreload\n"
     ]
    }
   ],
   "source": [
    "%load_ext autoreload\n",
    "%autoreload 2\n",
    "\n",
    "from wb_api_wraper import *\n",
    "\n",
    "import pandas as pd\n",
    "import numpy as np\n",
    "import statsmodels.formula.api as smf\n",
    "import statsmodels.api as sm\n",
    "from statsmodels.sandbox.regression.predstd import wls_prediction_std\n",
    "\n",
    "from IPython.display import display, HTML\n",
    "\n",
    "import matplotlib.pyplot as plt \n",
    "%matplotlib inline\n"
   ]
  },
  {
   "cell_type": "code",
   "execution_count": 19,
   "metadata": {
    "collapsed": true
   },
   "outputs": [],
   "source": [
    "#Pandas display options\n",
    "pd.set_option('display.max_colwidth', 200)\n",
    "pd.set_option('display.width', 200)\n",
    "pd.set_option('display.precision', 2)\n",
    "pd.set_option('display.max_rows', 20)"
   ]
  },
  {
   "cell_type": "code",
   "execution_count": 20,
   "metadata": {
    "collapsed": true
   },
   "outputs": [],
   "source": [
    "#Options for plots\n",
    "font = {'family' : 'serif',\n",
    "    'weight' : 'normal',\n",
    "    'size'   : 12}\n",
    "\n",
    "plt.rc('font', **font)\n",
    "plt.rcParams[\"legend.fancybox\"]=True\n",
    "plt.rcParams[\"savefig.dpi\"]=90\n",
    "\n",
    "plot_options = dict(alpha=0.5,clip_on=False)\n",
    "\n",
    "def format_fig(ax):\n",
    "    ax.set_xlim(0)\n",
    "    ax.set_ylim(0)"
   ]
  },
  {
   "cell_type": "code",
   "execution_count": 290,
   "metadata": {
    "collapsed": false
   },
   "outputs": [],
   "source": [
    "#Searching the WB API database\n",
    "\n",
    "search_wb(\"GDP\");\n",
    "search_wb(\"emissions\");"
   ]
  },
  {
   "cell_type": "markdown",
   "metadata": {},
   "source": [
    "#Data"
   ]
  },
  {
   "cell_type": "code",
   "execution_count": 326,
   "metadata": {
    "collapsed": true
   },
   "outputs": [],
   "source": [
    "gni = True #use GDP per capita if if false"
   ]
  },
  {
   "cell_type": "code",
   "execution_count": 402,
   "metadata": {
    "collapsed": true
   },
   "outputs": [],
   "source": [
    "all_ghg = False  #use only CO2 if false, all GHG if true"
   ]
  },
  {
   "cell_type": "markdown",
   "metadata": {
    "collapsed": true
   },
   "source": [
    "###Pop and gdp"
   ]
  },
  {
   "cell_type": "code",
   "execution_count": 403,
   "metadata": {
    "collapsed": false
   },
   "outputs": [],
   "source": [
    "#gdp_pc_ppp  = get_wb(\"NY.GNP.PCAP.PP.CD\") if gni else get_wb(\"NY.GDP.PCAP.PP.CD\")#GDP per capita, PPP (constant 2011 international $)\n",
    "gdp = get_wb(\"NY.GDP.MKTP.PP.KD\")#GGDP, PPP (constant 2011 international $)\n",
    "pop = get_wb(\"SP.POP.TOTL\") #population\n",
    "\n",
    "gdp_pc_ppp="
   ]
  },
  {
   "cell_type": "code",
   "execution_count": 404,
   "metadata": {
    "collapsed": false
   },
   "outputs": [],
   "source": [
    "#(pop*gdp_pc_ppp)/gdp #sanity check: pop, gdp and gdp_pc are consistent, notably in recent years"
   ]
  },
  {
   "cell_type": "markdown",
   "metadata": {},
   "source": [
    "###Emissions"
   ]
  },
  {
   "cell_type": "code",
   "execution_count": 460,
   "metadata": {
    "collapsed": false
   },
   "outputs": [],
   "source": [
    "if all_ghg:\n",
    "    other_ghg_tot = (get_wb(\"EN.ATM.METH.KT.CE\")  #total methane\n",
    "                      +get_wb(\"EN.ATM.NOXE.KT.CE\")  #total nitrous o\n",
    "                      +get_wb(\"EN.ATM.GHGO.KT.CE\") #total other\n",
    "                      )*1000 #emissions in tons\n",
    "\n",
    "\n",
    "    for c in range(2000,2011):\n",
    "        if str(c) not in other_ghg_tot.columns:\n",
    "            other_ghg_tot[str(c)]=np.nan\n",
    "\n",
    "\n",
    "    from scipy.interpolate import interp1d\n",
    "\n",
    "    other_ghg_tot=other_ghg_tot.sort_index(axis=1).interpolate(axis=1)\n",
    "    other_ghg_tot[\"2011\"]=2*other_ghg_tot[\"2010\"]-other_ghg_tot[\"2009\"]\n",
    "\n",
    "    emis_tot=(emis_tot+other_ghg_tot).fillna(emis_tot)\n",
    "    \n",
    "    emis_intens = emis_tot /gdp \n",
    "\n",
    "else:\n",
    "    #emis_intens = get_wb_mrv(\"EN.ATM.CO2E.KD.GD\",\"emis_intens\") /1000 #CO2 emissions (data in kg per 2005 US$ of GDP), converted in tons per ...\n",
    "    #emis_intens = get_wb(\"EN.ATM.CO2E.PP.GD.KD\")/1000 #CO2 emissions in tons, from  #CO2 emissions (kg per 2011 PPP $ of GDP)\n",
    "    emis_tot = get_wb(\"EN.ATM.CO2E.KT\")*1000 #emissions in tons\n",
    "    #Both series end in 2011\n",
    "    \n",
    "emis_intens = emis_tot /gdp "
   ]
  },
  {
   "cell_type": "code",
   "execution_count": 461,
   "metadata": {
    "collapsed": false
   },
   "outputs": [
    {
     "data": {
      "text/plain": [
       "66038056000.0"
      ]
     },
     "execution_count": 461,
     "metadata": {},
     "output_type": "execute_result"
    }
   ],
   "source": [
    "other_ghg_tot[\"2011\"].sum()"
   ]
  },
  {
   "cell_type": "code",
   "execution_count": 462,
   "metadata": {
    "collapsed": false
   },
   "outputs": [],
   "source": [
    "#(emis_intens*gdp/emis_tot) #sanity check: these amtch exactly (intens must be computed this way)"
   ]
  },
  {
   "cell_type": "markdown",
   "metadata": {},
   "source": [
    "###Dataframe"
   ]
  },
  {
   "cell_type": "code",
   "execution_count": 463,
   "metadata": {
    "collapsed": false
   },
   "outputs": [],
   "source": [
    "#Income gorups for countries and HIPC status\n",
    "groups = pd.read_csv(\"counry_income_groups.csv\",header =4,index_col=2).replace({\"ROM\":\"ROU\",\"ZAR\":\"COD\"})  #they used old iso3 country for Zair (Congo) and Romania\n",
    "groups.dropna(axis=0,how=\"all\",inplace=True);"
   ]
  },
  {
   "cell_type": "code",
   "execution_count": 464,
   "metadata": {
    "collapsed": false
   },
   "outputs": [
    {
     "name": "stdout",
     "output_type": "stream",
     "text": [
      "[0, 2180.0, 5610.0, 10934.0, 25122.0, 10000000.0]\n"
     ]
    }
   ],
   "source": [
    "df=pd.DataFrame()\n",
    "df[\"emis_intens\"]=emis_intens.stack()\n",
    "df[\"gdp_pc\"] = gdp_pc_ppp.stack()\n",
    "df[\"pop\"] = pop.stack()\n",
    "df[\"emis_tot\"] = emis_tot.stack()\n",
    "\n",
    "emis_pc = emis_tot.stack()/pop.stack()\n",
    "df[\"emis_pc\"]= emis_pc\n",
    "\n",
    "df= df.ix[groups.index.values] #keeps only actula countries (no macro regions or groups of countries)\n",
    "\n",
    "data_all = df.reset_index()\n",
    "\n",
    "#emission intensity last year\n",
    "emis_intens_peryear=data_all.set_index([\"country\",\"year\"]).emis_intens.unstack()\n",
    "emis_intens_last_year =emis_intens_peryear[0:-1]\n",
    "emis_intens_last_year.columns=emis_intens_last_year.columns.map(lambda x: str(1+eval(x)))\n",
    "emis_intens_last_year.columns.name=\"year\"\n",
    "emis_intens_last_year.stack().reset_index()\n",
    "\n",
    "data_all=pd.merge(data_all,emis_intens_last_year.stack().reset_index(),on=[\"country\",\"year\"],how=\"outer\").dropna().rename(columns={0:\"emis_intens_last_year\"})\n",
    "\n",
    "\n",
    "#income bins\n",
    "bins = [0]+ data_all.gdp_pc.quantile([.2,.4,.6,.8,1]).tolist()\n",
    "bins[-1]=1e7 #\"makes sure the last bins covers future incomes\"\n",
    "print(bins)\n",
    "\n",
    "x=pd.cut(data_all.gdp_pc,bins);\n",
    "x.name=\"inc_bins\"\n",
    "\n",
    "data_all = pd.concat([data_all,x],axis=1)\n",
    "\n",
    "\n",
    "#dummy for 2011 to center the rpediciton there\n",
    "data_all[\"dummy2011\"]=(data_all[\"year\"]==\"2011\")+0\n"
   ]
  },
  {
   "cell_type": "code",
   "execution_count": 465,
   "metadata": {
    "collapsed": false
   },
   "outputs": [
    {
     "name": "stdout",
     "output_type": "stream",
     "text": [
      "Global CO2 emissions in the sample: 31 GtCO2\n"
     ]
    }
   ],
   "source": [
    "#Current emissions\n",
    "emis_ref = data_all.dropna().query(\"year=='2011'\").emis_tot.sum()\n",
    "print(\"Global CO2 emissions in the sample: {emis:0.0f} GtCO2\".format(emis=emis_ref*1e-9)+(\"eq\" if all_ghg else \"\"))"
   ]
  },
  {
   "cell_type": "code",
   "execution_count": 466,
   "metadata": {
    "collapsed": false
   },
   "outputs": [
    {
     "data": {
      "text/plain": [
       "1.2467532467532467"
      ]
     },
     "execution_count": 466,
     "metadata": {},
     "output_type": "execute_result"
    }
   ],
   "source": [
    "emissions_2030_RCP = 7*44/12\n",
    "32/emissions_2030_RCP"
   ]
  },
  {
   "cell_type": "markdown",
   "metadata": {},
   "source": [
    "###Population and GDP from SSP"
   ]
  },
  {
   "cell_type": "code",
   "execution_count": 467,
   "metadata": {
    "collapsed": true
   },
   "outputs": [],
   "source": [
    "pop_proj_2050 = pd.read_csv(\"population_ssp.csv\", index_col=\"country\", dtype={\"scenario\":str}).query(\"scenario=='SSP4'\")[\"2050\"]*1e6\n",
    "pop_proj_2050 = pop_proj_2050.sort_index().copy()\n",
    "pop_proj_2050.name=\"pop\""
   ]
  },
  {
   "cell_type": "code",
   "execution_count": 468,
   "metadata": {
    "collapsed": false
   },
   "outputs": [],
   "source": [
    "pop_proj = pd.read_csv(\"population_ssp.csv\", index_col=\"country\", dtype={\"scenario\":str}).query(\"scenario=='SSP4'\")[\"2030\"]*1e6\n",
    "pop_proj = pop_proj.sort_index().copy()"
   ]
  },
  {
   "cell_type": "code",
   "execution_count": 469,
   "metadata": {
    "collapsed": false
   },
   "outputs": [],
   "source": [
    "gdp_proj = pd.read_csv(\"gdp_ssp.csv\", index_col=\"country\", dtype={\"scenario\":str}).query(\"scenario=='SSP4'\")[\"2030\"]\n"
   ]
  },
  {
   "cell_type": "code",
   "execution_count": 470,
   "metadata": {
    "collapsed": false
   },
   "outputs": [],
   "source": [
    "gdp_pc_proj_2050 = pd.read_csv(\"gdp_ssp.csv\", index_col=\"country\", dtype={\"scenario\":str}).query(\"scenario=='SSP4'\")[\"2050\"]/ pop_proj_2050  *1e9  #GDP per capita in $\n",
    "gdp_pc_proj_2050.name=\"gdp_pc\""
   ]
  },
  {
   "cell_type": "markdown",
   "metadata": {},
   "source": [
    "###Emissions in LICs today"
   ]
  },
  {
   "cell_type": "code",
   "execution_count": 471,
   "metadata": {
    "collapsed": true
   },
   "outputs": [],
   "source": [
    "#What ending povety means\n",
    "target_gdp_pc = 3500"
   ]
  },
  {
   "cell_type": "code",
   "execution_count": 472,
   "metadata": {
    "collapsed": false
   },
   "outputs": [
    {
     "data": {
      "text/plain": [
       "0.7220997788557768"
      ]
     },
     "execution_count": 472,
     "metadata": {},
     "output_type": "execute_result"
    }
   ],
   "source": [
    "data2011= data_all.query(\"year=='2011'\").copy()\n",
    "LICs = data2011.ix[data2011.gdp_pc<target_gdp_pc].index\n",
    "data2011.ix[LICs].emis_tot.sum()/emis_ref*100"
   ]
  },
  {
   "cell_type": "code",
   "execution_count": 473,
   "metadata": {
    "collapsed": false
   },
   "outputs": [
    {
     "name": "stdout",
     "output_type": "stream",
     "text": [
      "['Afghanistan', 'Bangladesh', 'Benin', 'Burkina Faso', 'Burundi', 'Cambodia', 'Cameroon', 'Central African Republic', 'Chad', 'Comoros', 'Congo, Dem. Rep.', 'Eritrea', 'Ethiopia', 'Gambia, The', 'Ghana', 'Guinea', 'Guinea-Bissau', 'Haiti', 'Kenya', 'Kiribati', 'Kyrgyz Republic', 'Lesotho', 'Liberia', 'Madagascar', 'Malawi', 'Mali', 'Mauritania', 'Mozambique', 'Nepal', 'Niger', 'Papua New Guinea', 'Rwanda', 'Senegal', 'Sierra Leone', 'Solomon Islands', 'Sudan', 'Tajikistan', 'Tanzania', 'Togo', 'Uganda', 'Vanuatu', 'Yemen, Rep.', 'Zambia']\n"
     ]
    },
    {
     "data": {
      "text/plain": [
       "43"
      ]
     },
     "execution_count": 473,
     "metadata": {},
     "output_type": "execute_result"
    }
   ],
   "source": [
    "print(data2011.ix[LICs].country.tolist())\n",
    "len(LICs)"
   ]
  },
  {
   "cell_type": "markdown",
   "metadata": {},
   "source": [
    "#Simulations"
   ]
  },
  {
   "cell_type": "code",
   "execution_count": 474,
   "metadata": {
    "collapsed": true
   },
   "outputs": [],
   "source": [
    "def project_special(formula, data, simulation):\n",
    "    print(\"\\n\"+formula)\n",
    "    \n",
    "    data2011= data.query(\"year=='2011'\").copy()\n",
    "\n",
    "    mod = smf.ols(formula, data).fit()\n",
    "    mod_weighted = smf.wls(formula, data, weights = data[\"pop\"]).fit()\n",
    "\n",
    "    \n",
    "    print(\"\\n========= Predicted 2011\")\n",
    "    emis_tot =mod.predict(data2011)*data2011[\"gdp_pc\"]*data2011[\"pop\"]\n",
    "    emis_tot_weighted =mod_weighted.predict(data2011)*data2011[\"gdp_pc\"]*data2011[\"pop\"]\n",
    "    print(\"Error in 2011: {x:0.1%} (unweighted)  or {y:0.1%} (weighted)\".format(\n",
    "            x=emis_tot.sum()/emis_ref-1,\n",
    "            y=emis_tot_weighted.sum()/emis_ref-1)\n",
    "         )\n",
    "    \n",
    "    e_ref = emis_tot\n",
    "    e_w_ref = emis_tot_weighted\n",
    "    \n",
    "    def report(emis_tot,emis_tot_weighted):\n",
    "        print(\"Emissions increased by {x:0.1%} (unweighted)  or {y:0.1%} (weighted)\".format(\n",
    "            x=(emis_tot).sum()/emis_ref,\n",
    "            y=(emis_tot_weighted).sum()/emis_ref)\n",
    "         )\n",
    "    \n",
    "    report(emis_tot-e_ref,emis_tot_weighted-e_w_ref)\n",
    "    \n",
    "    \n",
    "    print(\"prediction not de-biased\")\n",
    "    emis_tot =mod.predict(simulation)*simulation[\"gdp_pc\"]*simulation[\"pop\"]\n",
    "    emis_tot_weighted =mod_weighted.predict(simulation)*simulation[\"gdp_pc\"]*simulation[\"pop\"]\n",
    "    \n",
    "    return mod,mod_weighted,emis_tot,emis_tot_weighted\n",
    "    "
   ]
  },
  {
   "cell_type": "markdown",
   "metadata": {},
   "source": [
    "###Projections of emissions in 2050"
   ]
  },
  {
   "cell_type": "code",
   "execution_count": null,
   "metadata": {
    "collapsed": true
   },
   "outputs": [],
   "source": []
  },
  {
   "cell_type": "code",
   "execution_count": 475,
   "metadata": {
    "collapsed": false
   },
   "outputs": [
    {
     "data": {
      "text/html": [
       "<div>\n",
       "<table border=\"1\" class=\"dataframe\">\n",
       "  <thead>\n",
       "    <tr style=\"text-align: right;\">\n",
       "      <th></th>\n",
       "      <th>country</th>\n",
       "      <th>pop</th>\n",
       "      <th>gdp_pc</th>\n",
       "      <th>inc_bins</th>\n",
       "    </tr>\n",
       "  </thead>\n",
       "  <tbody>\n",
       "    <tr>\n",
       "      <th>0</th>\n",
       "      <td>Afghanistan</td>\n",
       "      <td>87831301.4</td>\n",
       "      <td>2616.7</td>\n",
       "      <td>(2180, 5610]</td>\n",
       "    </tr>\n",
       "    <tr>\n",
       "      <th>1</th>\n",
       "      <td>Albania</td>\n",
       "      <td>3004167.8</td>\n",
       "      <td>18734.3</td>\n",
       "      <td>(10934, 25122]</td>\n",
       "    </tr>\n",
       "    <tr>\n",
       "      <th>2</th>\n",
       "      <td>Algeria</td>\n",
       "      <td>46018487.4</td>\n",
       "      <td>16668.0</td>\n",
       "      <td>(10934, 25122]</td>\n",
       "    </tr>\n",
       "  </tbody>\n",
       "</table>\n",
       "</div>"
      ],
      "text/plain": [
       "       country         pop   gdp_pc        inc_bins\n",
       "0  Afghanistan  87831301.4   2616.7    (2180, 5610]\n",
       "1      Albania   3004167.8  18734.3  (10934, 25122]\n",
       "2      Algeria  46018487.4  16668.0  (10934, 25122]"
      ]
     },
     "execution_count": 475,
     "metadata": {},
     "output_type": "execute_result"
    }
   ],
   "source": [
    "simulation_2050=pd.concat([pop_proj_2050,gdp_pc_proj_2050],axis=1).dropna()\n",
    "simulation_2050=simulation_2050.ix[data_all.dropna().country.unique()].reset_index().rename(columns={\"index\":\"country\"}).dropna()\n",
    "simulation_2050[\"inc_bins\"]=pd.cut(simulation_2050.gdp_pc,bins)\n",
    "simulation_2050.head(3)"
   ]
  },
  {
   "cell_type": "code",
   "execution_count": 476,
   "metadata": {
    "collapsed": true
   },
   "outputs": [],
   "source": [
    "formula = 'emis_intens ~ country- 1 '\n",
    "data=data_all\n",
    "simulation=simulation_2050\n",
    "\n",
    "data2011= data.query(\"year=='2011'\").copy()"
   ]
  },
  {
   "cell_type": "code",
   "execution_count": 477,
   "metadata": {
    "collapsed": true
   },
   "outputs": [],
   "source": [
    "mod = smf.ols(formula, data2011).fit()\n",
    "mod_weighted = smf.wls(formula, data2011, weights = data2011[\"pop\"]).fit()"
   ]
  },
  {
   "cell_type": "code",
   "execution_count": 478,
   "metadata": {
    "collapsed": false
   },
   "outputs": [
    {
     "name": "stdout",
     "output_type": "stream",
     "text": [
      "Error in 2011: -0.7% (unweighted)  or -0.7% (weighted)\n",
      "Emissions increased by 0.0% (unweighted)  or 0.0% (weighted)\n"
     ]
    }
   ],
   "source": [
    "emis_tot =mod.predict(data2011)*data2011[\"gdp_pc\"]*data2011[\"pop\"]\n",
    "emis_tot_weighted =mod_weighted.predict(data2011)*data2011[\"gdp_pc\"]*data2011[\"pop\"]\n",
    "print(\"Error in 2011: {x:0.1%} (unweighted)  or {y:0.1%} (weighted)\".format(\n",
    "        x=emis_tot.sum()/emis_ref-1,\n",
    "        y=emis_tot_weighted.sum()/emis_ref-1)\n",
    "     )\n",
    "e_ref = emis_tot\n",
    "e_w_ref = emis_tot_weighted\n",
    "\n",
    "\n",
    "def report(emis_tot,emis_tot_weighted):\n",
    "    print(\"Emissions increased by {x:0.1%} (unweighted)  or {y:0.1%} (weighted)\".format(\n",
    "        x=(emis_tot).sum()/emis_ref,\n",
    "        y=(emis_tot_weighted).sum()/emis_ref)\n",
    "     )\n",
    "\n",
    "report(emis_tot-e_ref,emis_tot_weighted-e_w_ref)"
   ]
  },
  {
   "cell_type": "code",
   "execution_count": 479,
   "metadata": {
    "collapsed": false
   },
   "outputs": [
    {
     "ename": "PatsyError",
     "evalue": "Error converting data to categorical: observation with value 'Brunei Darussalam' does not match any of the expected levels (expected: ['Afghanistan', 'Albania', ..., 'Yemen, Rep.', 'Zambia'])\n    emis_intens ~ country- 1\n                  ^^^^^^^",
     "output_type": "error",
     "traceback": [
      "\u001b[1;31m---------------------------------------------------------------------------\u001b[0m",
      "\u001b[1;31mKeyError\u001b[0m                                  Traceback (most recent call last)",
      "\u001b[1;32mC:\\Users\\Admin\\Anaconda3\\lib\\site-packages\\patsy\\categorical.py\u001b[0m in \u001b[0;36mcategorical_to_int\u001b[1;34m(data, levels, NA_action, origin)\u001b[0m\n\u001b[0;32m    345\u001b[0m             \u001b[1;32mtry\u001b[0m\u001b[1;33m:\u001b[0m\u001b[1;33m\u001b[0m\u001b[0m\n\u001b[1;32m--> 346\u001b[1;33m                 \u001b[0mout\u001b[0m\u001b[1;33m[\u001b[0m\u001b[0mi\u001b[0m\u001b[1;33m]\u001b[0m \u001b[1;33m=\u001b[0m \u001b[0mlevel_to_int\u001b[0m\u001b[1;33m[\u001b[0m\u001b[0mvalue\u001b[0m\u001b[1;33m]\u001b[0m\u001b[1;33m\u001b[0m\u001b[0m\n\u001b[0m\u001b[0;32m    347\u001b[0m             \u001b[1;32mexcept\u001b[0m \u001b[0mKeyError\u001b[0m\u001b[1;33m:\u001b[0m\u001b[1;33m\u001b[0m\u001b[0m\n",
      "\u001b[1;31mKeyError\u001b[0m: 'Brunei Darussalam'",
      "\nDuring handling of the above exception, another exception occurred:\n",
      "\u001b[1;31mPatsyError\u001b[0m                                Traceback (most recent call last)",
      "\u001b[1;32m<ipython-input-479-c420e8bfe784>\u001b[0m in \u001b[0;36m<module>\u001b[1;34m()\u001b[0m\n\u001b[1;32m----> 1\u001b[1;33m \u001b[0msimulation_2050\u001b[0m\u001b[1;33m[\u001b[0m\u001b[1;34m'emis_tot_proj'\u001b[0m\u001b[1;33m]\u001b[0m \u001b[1;33m=\u001b[0m\u001b[0mmod\u001b[0m\u001b[1;33m.\u001b[0m\u001b[0mpredict\u001b[0m\u001b[1;33m(\u001b[0m\u001b[0msimulation\u001b[0m\u001b[1;33m)\u001b[0m\u001b[1;33m*\u001b[0m\u001b[0msimulation\u001b[0m\u001b[1;33m[\u001b[0m\u001b[1;34m\"gdp_pc\"\u001b[0m\u001b[1;33m]\u001b[0m\u001b[1;33m*\u001b[0m\u001b[0msimulation\u001b[0m\u001b[1;33m[\u001b[0m\u001b[1;34m\"pop\"\u001b[0m\u001b[1;33m]\u001b[0m\u001b[1;33m\u001b[0m\u001b[0m\n\u001b[0m\u001b[0;32m      2\u001b[0m \u001b[0msimulation_2050\u001b[0m\u001b[1;33m[\u001b[0m\u001b[1;34m'emis_tot_weighted'\u001b[0m\u001b[1;33m]\u001b[0m \u001b[1;33m=\u001b[0m\u001b[0mmod_weighted\u001b[0m\u001b[1;33m.\u001b[0m\u001b[0mpredict\u001b[0m\u001b[1;33m(\u001b[0m\u001b[0msimulation\u001b[0m\u001b[1;33m)\u001b[0m\u001b[1;33m*\u001b[0m\u001b[0msimulation\u001b[0m\u001b[1;33m[\u001b[0m\u001b[1;34m\"gdp_pc\"\u001b[0m\u001b[1;33m]\u001b[0m\u001b[1;33m*\u001b[0m\u001b[0msimulation\u001b[0m\u001b[1;33m[\u001b[0m\u001b[1;34m\"pop\"\u001b[0m\u001b[1;33m]\u001b[0m\u001b[1;33m\u001b[0m\u001b[0m\n\u001b[0;32m      3\u001b[0m \u001b[0mreport\u001b[0m\u001b[1;33m(\u001b[0m\u001b[0msimulation_2050\u001b[0m\u001b[1;33m[\u001b[0m\u001b[1;34m'emis_tot'\u001b[0m\u001b[1;33m]\u001b[0m\u001b[1;33m-\u001b[0m\u001b[0me_ref\u001b[0m\u001b[1;33m,\u001b[0m\u001b[0msimulation_2050\u001b[0m\u001b[1;33m[\u001b[0m\u001b[1;34m'emis_tot_weighted'\u001b[0m\u001b[1;33m]\u001b[0m\u001b[1;33m-\u001b[0m\u001b[0me_w_ref\u001b[0m\u001b[1;33m)\u001b[0m\u001b[1;33m\u001b[0m\u001b[0m\n",
      "\u001b[1;32mC:\\Users\\Admin\\Anaconda3\\lib\\site-packages\\statsmodels\\base\\model.py\u001b[0m in \u001b[0;36mpredict\u001b[1;34m(self, exog, transform, *args, **kwargs)\u001b[0m\n\u001b[0;32m    738\u001b[0m             \u001b[1;32mfrom\u001b[0m \u001b[0mpatsy\u001b[0m \u001b[1;32mimport\u001b[0m \u001b[0mdmatrix\u001b[0m\u001b[1;33m\u001b[0m\u001b[0m\n\u001b[0;32m    739\u001b[0m             exog = dmatrix(self.model.data.orig_exog.design_info.builder,\n\u001b[1;32m--> 740\u001b[1;33m                            exog)\n\u001b[0m\u001b[0;32m    741\u001b[0m \u001b[1;33m\u001b[0m\u001b[0m\n\u001b[0;32m    742\u001b[0m         \u001b[1;32mif\u001b[0m \u001b[0mexog\u001b[0m \u001b[1;32mis\u001b[0m \u001b[1;32mnot\u001b[0m \u001b[1;32mNone\u001b[0m\u001b[1;33m:\u001b[0m\u001b[1;33m\u001b[0m\u001b[0m\n",
      "\u001b[1;32mC:\\Users\\Admin\\Anaconda3\\lib\\site-packages\\patsy\\highlevel.py\u001b[0m in \u001b[0;36mdmatrix\u001b[1;34m(formula_like, data, eval_env, NA_action, return_type)\u001b[0m\n\u001b[0;32m    276\u001b[0m     \u001b[0meval_env\u001b[0m \u001b[1;33m=\u001b[0m \u001b[0mEvalEnvironment\u001b[0m\u001b[1;33m.\u001b[0m\u001b[0mcapture\u001b[0m\u001b[1;33m(\u001b[0m\u001b[0meval_env\u001b[0m\u001b[1;33m,\u001b[0m \u001b[0mreference\u001b[0m\u001b[1;33m=\u001b[0m\u001b[1;36m1\u001b[0m\u001b[1;33m)\u001b[0m\u001b[1;33m\u001b[0m\u001b[0m\n\u001b[0;32m    277\u001b[0m     (lhs, rhs) = _do_highlevel_design(formula_like, data, eval_env,\n\u001b[1;32m--> 278\u001b[1;33m                                       NA_action, return_type)\n\u001b[0m\u001b[0;32m    279\u001b[0m     \u001b[1;32mif\u001b[0m \u001b[0mlhs\u001b[0m\u001b[1;33m.\u001b[0m\u001b[0mshape\u001b[0m\u001b[1;33m[\u001b[0m\u001b[1;36m1\u001b[0m\u001b[1;33m]\u001b[0m \u001b[1;33m!=\u001b[0m \u001b[1;36m0\u001b[0m\u001b[1;33m:\u001b[0m\u001b[1;33m\u001b[0m\u001b[0m\n\u001b[0;32m    280\u001b[0m         raise PatsyError(\"encountered outcome variables for a model \"\n",
      "\u001b[1;32mC:\\Users\\Admin\\Anaconda3\\lib\\site-packages\\patsy\\highlevel.py\u001b[0m in \u001b[0;36m_do_highlevel_design\u001b[1;34m(formula_like, data, eval_env, NA_action, return_type)\u001b[0m\n\u001b[0;32m    154\u001b[0m         return build_design_matrices(design_infos, data,\n\u001b[0;32m    155\u001b[0m                                      \u001b[0mNA_action\u001b[0m\u001b[1;33m=\u001b[0m\u001b[0mNA_action\u001b[0m\u001b[1;33m,\u001b[0m\u001b[1;33m\u001b[0m\u001b[0m\n\u001b[1;32m--> 156\u001b[1;33m                                      return_type=return_type)\n\u001b[0m\u001b[0;32m    157\u001b[0m     \u001b[1;32melse\u001b[0m\u001b[1;33m:\u001b[0m\u001b[1;33m\u001b[0m\u001b[0m\n\u001b[0;32m    158\u001b[0m         \u001b[1;31m# No builders, but maybe we can still get matrices\u001b[0m\u001b[1;33m\u001b[0m\u001b[1;33m\u001b[0m\u001b[0m\n",
      "\u001b[1;32mC:\\Users\\Admin\\Anaconda3\\lib\\site-packages\\patsy\\build.py\u001b[0m in \u001b[0;36mbuild_design_matrices\u001b[1;34m(design_infos, data, NA_action, return_type, dtype)\u001b[0m\n\u001b[0;32m    886\u001b[0m         \u001b[1;32mfor\u001b[0m \u001b[0mfactor_info\u001b[0m \u001b[1;32min\u001b[0m \u001b[0msix\u001b[0m\u001b[1;33m.\u001b[0m\u001b[0mitervalues\u001b[0m\u001b[1;33m(\u001b[0m\u001b[0mdesign_info\u001b[0m\u001b[1;33m.\u001b[0m\u001b[0mfactor_infos\u001b[0m\u001b[1;33m)\u001b[0m\u001b[1;33m:\u001b[0m\u001b[1;33m\u001b[0m\u001b[0m\n\u001b[0;32m    887\u001b[0m             \u001b[1;32mif\u001b[0m \u001b[0mfactor_info\u001b[0m \u001b[1;32mnot\u001b[0m \u001b[1;32min\u001b[0m \u001b[0mfactor_info_to_values\u001b[0m\u001b[1;33m:\u001b[0m\u001b[1;33m\u001b[0m\u001b[0m\n\u001b[1;32m--> 888\u001b[1;33m                 \u001b[0mvalue\u001b[0m\u001b[1;33m,\u001b[0m \u001b[0mis_NA\u001b[0m \u001b[1;33m=\u001b[0m \u001b[0m_eval_factor\u001b[0m\u001b[1;33m(\u001b[0m\u001b[0mfactor_info\u001b[0m\u001b[1;33m,\u001b[0m \u001b[0mdata\u001b[0m\u001b[1;33m,\u001b[0m \u001b[0mNA_action\u001b[0m\u001b[1;33m)\u001b[0m\u001b[1;33m\u001b[0m\u001b[0m\n\u001b[0m\u001b[0;32m    889\u001b[0m                 \u001b[0mfactor_info_to_isNAs\u001b[0m\u001b[1;33m[\u001b[0m\u001b[0mfactor_info\u001b[0m\u001b[1;33m]\u001b[0m \u001b[1;33m=\u001b[0m \u001b[0mis_NA\u001b[0m\u001b[1;33m\u001b[0m\u001b[0m\n\u001b[0;32m    890\u001b[0m                 \u001b[1;31m# value may now be a Series, DataFrame, or ndarray\u001b[0m\u001b[1;33m\u001b[0m\u001b[1;33m\u001b[0m\u001b[0m\n",
      "\u001b[1;32mC:\\Users\\Admin\\Anaconda3\\lib\\site-packages\\patsy\\build.py\u001b[0m in \u001b[0;36m_eval_factor\u001b[1;34m(factor_info, data, NA_action)\u001b[0m\n\u001b[0;32m     83\u001b[0m         \u001b[1;32massert\u001b[0m \u001b[0mfactor_info\u001b[0m\u001b[1;33m.\u001b[0m\u001b[0mtype\u001b[0m \u001b[1;33m==\u001b[0m \u001b[1;34m\"categorical\"\u001b[0m\u001b[1;33m\u001b[0m\u001b[0m\n\u001b[0;32m     84\u001b[0m         result = categorical_to_int(result, factor_info.categories, NA_action,\n\u001b[1;32m---> 85\u001b[1;33m                                     origin=factor_info.factor)\n\u001b[0m\u001b[0;32m     86\u001b[0m         \u001b[1;32massert\u001b[0m \u001b[0mresult\u001b[0m\u001b[1;33m.\u001b[0m\u001b[0mndim\u001b[0m \u001b[1;33m==\u001b[0m \u001b[1;36m1\u001b[0m\u001b[1;33m\u001b[0m\u001b[0m\n\u001b[0;32m     87\u001b[0m         \u001b[1;32mreturn\u001b[0m \u001b[0mresult\u001b[0m\u001b[1;33m,\u001b[0m \u001b[0mnp\u001b[0m\u001b[1;33m.\u001b[0m\u001b[0masarray\u001b[0m\u001b[1;33m(\u001b[0m\u001b[0mresult\u001b[0m \u001b[1;33m==\u001b[0m \u001b[1;33m-\u001b[0m\u001b[1;36m1\u001b[0m\u001b[1;33m)\u001b[0m\u001b[1;33m\u001b[0m\u001b[0m\n",
      "\u001b[1;32mC:\\Users\\Admin\\Anaconda3\\lib\\site-packages\\patsy\\categorical.py\u001b[0m in \u001b[0;36mcategorical_to_int\u001b[1;34m(data, levels, NA_action, origin)\u001b[0m\n\u001b[0;32m    360\u001b[0m                                  \u001b[1;34m\"observation with value %r does not match \"\u001b[0m\u001b[1;33m\u001b[0m\u001b[0m\n\u001b[0;32m    361\u001b[0m                                  \u001b[1;34m\"any of the expected levels (expected: %s)\"\u001b[0m\u001b[1;33m\u001b[0m\u001b[0m\n\u001b[1;32m--> 362\u001b[1;33m                                  % (value, level_str), origin)\n\u001b[0m\u001b[0;32m    363\u001b[0m             \u001b[1;32mexcept\u001b[0m \u001b[0mTypeError\u001b[0m\u001b[1;33m:\u001b[0m\u001b[1;33m\u001b[0m\u001b[0m\n\u001b[0;32m    364\u001b[0m                 raise PatsyError(\"Error converting data to categorical: \"\n",
      "\u001b[1;31mPatsyError\u001b[0m: Error converting data to categorical: observation with value 'Brunei Darussalam' does not match any of the expected levels (expected: ['Afghanistan', 'Albania', ..., 'Yemen, Rep.', 'Zambia'])\n    emis_intens ~ country- 1\n                  ^^^^^^^"
     ]
    }
   ],
   "source": [
    "simulation_2050['emis_tot_proj'] =mod.predict(simulation)*simulation[\"gdp_pc\"]*simulation[\"pop\"]\n",
    "simulation_2050['emis_tot_weighted'] =mod_weighted.predict(simulation)*simulation[\"gdp_pc\"]*simulation[\"pop\"]\n",
    "report(simulation_2050['emis_tot']-e_ref,simulation_2050['emis_tot_weighted']-e_w_ref)"
   ]
  },
  {
   "cell_type": "code",
   "execution_count": null,
   "metadata": {
    "collapsed": false
   },
   "outputs": [],
   "source": [
    "hop=pd.merge(data2011,simulation_2050[[\"country\",\"emis_tot_proj\",\"emis_tot_weighted\"]],on=\"country\").set_index(\"country\")"
   ]
  },
  {
   "cell_type": "code",
   "execution_count": 480,
   "metadata": {
    "collapsed": false
   },
   "outputs": [
    {
     "data": {
      "text/plain": [
       "<matplotlib.axes._subplots.AxesSubplot at 0xa6a3588>"
      ]
     },
     "execution_count": 480,
     "metadata": {},
     "output_type": "execute_result"
    },
    {
     "data": {
      "image/png": "[encoded data removed]",
      "text/plain": [
       "<matplotlib.figure.Figure at 0x9c99d68>"
      ]
     },
     "metadata": {},
     "output_type": "display_data"
    }
   ],
   "source": [
    "(hop.emis_tot_proj-hop.emis_tot).hist(bins=20)"
   ]
  },
  {
   "cell_type": "code",
   "execution_count": 481,
   "metadata": {
    "collapsed": false
   },
   "outputs": [
    {
     "name": "stdout",
     "output_type": "stream",
     "text": [
      "\n",
      "emis_intens ~ gdp_pc+country- 1 \n",
      "\n",
      "========= Predicted 2011\n",
      "Error in 2011: 3.0% (unweighted)  or -1.9% (weighted)\n",
      "Emissions increased by 0.0% (unweighted)  or 0.0% (weighted)\n",
      "prediction not de-biased\n"
     ]
    },
    {
     "data": {
      "text/plain": [
       "0      2.3e+07\n",
       "1      7.6e+06\n",
       "2      1.7e+08\n",
       "3      6.9e+07\n",
       "5      8.8e+06\n",
       "6      6.4e+08\n",
       "7      4.1e+07\n",
       "8      6.3e+07\n",
       "9      1.7e+06\n",
       "10     5.7e+07\n",
       "        ...   \n",
       "172    5.0e+08\n",
       "173    6.9e+09\n",
       "174    2.6e+06\n",
       "175    7.2e+08\n",
       "176    4.8e+05\n",
       "177    3.6e+08\n",
       "178    4.4e+08\n",
       "179    6.9e+06\n",
       "180    6.3e+07\n",
       "181    9.1e+06\n",
       "dtype: float64"
      ]
     },
     "execution_count": 481,
     "metadata": {},
     "output_type": "execute_result"
    }
   ],
   "source": [
    "formula=\"emis_intens ~ gdp_pc+country- 1 \"\n",
    "mod,mod_weighted,emis_tot,emis_tot_weighted = project_special(formula, data_all, simulation_2050)\n",
    "mod.summary();\n",
    "\n",
    "emis_tot"
   ]
  },
  {
   "cell_type": "code",
   "execution_count": 482,
   "metadata": {
    "collapsed": false
   },
   "outputs": [],
   "source": [
    "def project_emissions(formula, data):\n",
    "    print(\"\\n\"+formula)\n",
    "    \n",
    "    data2011= data.query(\"year=='2011'\").copy()\n",
    "    LICs = data2011.ix[data2011.gdp_pc.clip(lower=target_gdp_pc)==target_gdp_pc].index\n",
    "    \n",
    "    mod = smf.ols(formula, data).fit()\n",
    "    mod_weighted = smf.wls(formula, data, weights = data[\"pop\"]).fit()\n",
    "\n",
    "    \n",
    "    print(\"\\n========= Predicted 2011\")\n",
    "    simulation = data2011\n",
    "    emis_tot =mod.predict(simulation)*simulation[\"gdp_pc\"]*simulation[\"pop\"]\n",
    "    emis_tot_weighted =mod_weighted.predict(simulation)*simulation[\"gdp_pc\"]*simulation[\"pop\"]\n",
    "    print(\"Error in 2011: {x:0.1%} (unweighted)  or {y:0.1%} (weighted)\".format(\n",
    "            x=emis_tot.sum()/emis_ref-1,\n",
    "            y=emis_tot_weighted.sum()/emis_ref-1)\n",
    "         )\n",
    "    \n",
    "    e_ref = emis_tot\n",
    "    e_w_ref = emis_tot_weighted\n",
    "    \n",
    "    \n",
    "    def report(emis_tot,emis_tot_weighted):\n",
    "        print(\"Emissions increased by {x:0.1%} (unweighted)  or {y:0.1%} (weighted)\".format(\n",
    "            x=(emis_tot).sum()/emis_ref,\n",
    "            y=(emis_tot_weighted).sum()/emis_ref)\n",
    "         )\n",
    "    \n",
    "    report(emis_tot-e_ref,emis_tot_weighted-e_w_ref)\n",
    "    \n",
    "    print(\"\\n========= Liting Income\")\n",
    "    simulation = data2011.assign(gdp_pc = data.gdp_pc.clip(lower=target_gdp_pc), inc_bins = pd.cut(data2011.gdp_pc,bins))\n",
    "    emis_tot =mod.predict(simulation)*simulation[\"gdp_pc\"]*simulation[\"pop\"]\n",
    "    emis_tot_weighted =mod_weighted.predict(simulation)*simulation[\"gdp_pc\"]*simulation[\"pop\"]\n",
    "    report(emis_tot-e_ref,emis_tot_weighted-e_w_ref)\n",
    "    \n",
    "    print('\\n==========Liting Income and population')\n",
    "    simulation = data2011.assign(gdp_pc = data.gdp_pc.clip(lower=target_gdp_pc),inc_bins = pd.cut(data2011.gdp_pc,bins) )\n",
    "    simulation.ix[LICs,\"pop\"] = pop_proj.ix[data.ix[LICs].country].values\n",
    "    \n",
    "    emis_tot =mod.predict(simulation)*simulation[\"gdp_pc\"]*simulation[\"pop\"]\n",
    "    emis_tot_weighted =mod_weighted.predict(simulation)*simulation[\"gdp_pc\"]*simulation[\"pop\"]\n",
    "    report(emis_tot-e_ref,emis_tot_weighted-e_w_ref)\n",
    "    \n",
    "    print('\\n==========new POPULATION, old income')\n",
    "    simulation = data2011\n",
    "    simulation.ix[LICs,\"pop\"] = pop_proj.ix[data.ix[LICs].country].values\n",
    "    emis_tot =mod.predict(simulation)*simulation[\"gdp_pc\"]*simulation[\"pop\"]\n",
    "\n",
    "    emis_tot_weighted =mod_weighted.predict(simulation)*simulation[\"gdp_pc\"]*simulation[\"pop\"]\n",
    "    report(emis_tot-e_ref,emis_tot_weighted-e_w_ref)\n",
    "    #simulation[\"emis_tot_weighted\"] =mod.predict(simulation)*simulation[\"gdp_pc\"]*simulation[\"pop\"]\n",
    "    \n",
    "    #simulation[\"emis_intens_pred\"]\n",
    "    #simulation[\"emis_pc\"] = simulation[\"emis_intens_pred\"]\n",
    "    #simulation[\"emis_tot\"] = simulation[\"emis_pc\"]\n",
    "\n",
    "    #print(\"\\nEmissions increased by {x:0.1%}[{cil:0.1%}, {ciu:0.1%}]\".format(\n",
    "    #        x  =simulation.emis_tot.sum()/emis_ref-1,\n",
    "    #        ciu=(simulation.emis_tot*iv_u/simulation[\"emis_intens_pred\"]).sum()/emis_ref-1,\n",
    "    #        cil=(simulation.emis_tot*iv_l/simulation[\"emis_intens_pred\"]).sum()/emis_ref-1\n",
    "    #     ))\n",
    "    \n",
    "\n",
    "    \n",
    "    return mod,mod_weighted\n",
    "    "
   ]
  },
  {
   "cell_type": "markdown",
   "metadata": {},
   "source": [
    "###Constant emission intensity using 2011 data"
   ]
  },
  {
   "cell_type": "code",
   "execution_count": 483,
   "metadata": {
    "collapsed": false
   },
   "outputs": [],
   "source": [
    "formula=\"emis_intens ~ country - 1\""
   ]
  },
  {
   "cell_type": "code",
   "execution_count": 484,
   "metadata": {
    "collapsed": false
   },
   "outputs": [
    {
     "data": {
      "text/plain": [
       "0.0"
      ]
     },
     "execution_count": 484,
     "metadata": {},
     "output_type": "execute_result"
    }
   ],
   "source": [
    "data2011.emis_tot.sum()/emis_ref-1"
   ]
  },
  {
   "cell_type": "code",
   "execution_count": 485,
   "metadata": {
    "collapsed": false
   },
   "outputs": [
    {
     "name": "stdout",
     "output_type": "stream",
     "text": [
      "\n",
      "========= Predicted 2011\n",
      "Error in 2011: 3.0% (unweighted)  or -1.9% (weighted)\n"
     ]
    }
   ],
   "source": [
    "print(\"\\n========= Predicted 2011\")\n",
    "simulation = data2011\n",
    "emis_tot =mod.predict(simulation)*simulation[\"gdp_pc\"]*simulation[\"pop\"]\n",
    "emis_tot_weighted =mod_weighted.predict(simulation)*simulation[\"gdp_pc\"]*simulation[\"pop\"]\n",
    "print(\"Error in 2011: {x:0.1%} (unweighted)  or {y:0.1%} (weighted)\".format(\n",
    "        x=emis_tot.sum()/emis_ref-1,\n",
    "        y=emis_tot_weighted.sum()/emis_ref-1)\n",
    "     )"
   ]
  },
  {
   "cell_type": "code",
   "execution_count": 486,
   "metadata": {
    "collapsed": false
   },
   "outputs": [
    {
     "name": "stdout",
     "output_type": "stream",
     "text": [
      "\n",
      "emis_intens ~ country - 1\n",
      "\n",
      "========= Predicted 2011\n",
      "Error in 2011: -0.7% (unweighted)  or -0.7% (weighted)\n",
      "Emissions increased by 0.0% (unweighted)  or 0.0% (weighted)\n",
      "\n",
      "========= Liting Income\n",
      "Emissions increased by 0.5% (unweighted)  or 0.5% (weighted)\n",
      "\n",
      "==========Liting Income and population\n",
      "Emissions increased by 1.1% (unweighted)  or 1.1% (weighted)\n",
      "\n",
      "==========new POPULATION, old income\n",
      "Emissions increased by 0.3% (unweighted)  or 0.3% (weighted)\n"
     ]
    }
   ],
   "source": [
    "mod, mod_w= project_emissions(formula, data_all.query(\"year=='2011'\").copy())\n",
    "mod.summary();"
   ]
  },
  {
   "cell_type": "code",
   "execution_count": 443,
   "metadata": {
    "collapsed": false
   },
   "outputs": [
    {
     "name": "stdout",
     "output_type": "stream",
     "text": [
      "\n",
      "emis_intens ~ country - 1\n",
      "\n",
      "========= Predicted 2011\n",
      "Error in 2011: 8.8% (unweighted)  or 8.7% (weighted)\n",
      "Emissions increased by 0.0% (unweighted)  or 0.0% (weighted)\n",
      "\n",
      "========= Liting Income\n",
      "Emissions increased by 0.4% (unweighted)  or 0.4% (weighted)\n",
      "\n",
      "==========Liting Income and population\n",
      "Emissions increased by 1.0% (unweighted)  or 1.0% (weighted)\n",
      "\n",
      "==========new POPULATION, old income\n",
      "Emissions increased by 0.3% (unweighted)  or 0.3% (weighted)\n"
     ]
    }
   ],
   "source": [
    "mod, mod_w= project_emissions(formula, data_all)"
   ]
  },
  {
   "cell_type": "markdown",
   "metadata": {},
   "source": [
    "###Country fix effect and gdpglobal effect"
   ]
  },
  {
   "cell_type": "markdown",
   "metadata": {},
   "source": [
    "everything signigicant"
   ]
  },
  {
   "cell_type": "code",
   "execution_count": 426,
   "metadata": {
    "collapsed": false
   },
   "outputs": [
    {
     "name": "stdout",
     "output_type": "stream",
     "text": [
      "\n",
      "emis_intens ~ gdp_pc+country- 1 \n",
      "\n",
      "========= Predicted 2011\n",
      "Error in 2011: 3.0% (unweighted)  or -1.9% (weighted)\n",
      "Emissions increased by 0.0% (unweighted)  or 0.0% (weighted)\n",
      "\n",
      "========= Liting Income\n",
      "Emissions increased by 0.4% (unweighted)  or 0.3% (weighted)\n",
      "\n",
      "==========Liting Income and population\n",
      "Emissions increased by 0.9% (unweighted)  or 0.8% (weighted)\n",
      "\n",
      "==========new POPULATION, old income\n",
      "Emissions increased by 0.3% (unweighted)  or 0.3% (weighted)\n"
     ]
    }
   ],
   "source": [
    "formula=\"emis_intens ~ gdp_pc+country- 1 \"\n",
    "\n",
    "mod, mod_w  = project_emissions(formula, data_all)\n",
    "#foo.summary()\n",
    "mod.summary();"
   ]
  },
  {
   "cell_type": "code",
   "execution_count": 433,
   "metadata": {
    "collapsed": false
   },
   "outputs": [
    {
     "name": "stdout",
     "output_type": "stream",
     "text": [
      "\n",
      "emis_intens ~ gdp_pc+country + emis_intens_last_year- 1\n",
      "\n",
      "========= Predicted 2011\n",
      "Error in 2011: -0.5% (unweighted)  or -1.6% (weighted)\n",
      "Emissions increased by 0.0% (unweighted)  or 0.0% (weighted)\n",
      "\n",
      "========= Liting Income\n",
      "Emissions increased by 0.4% (unweighted)  or 0.4% (weighted)\n",
      "\n",
      "==========Liting Income and population\n",
      "Emissions increased by 1.0% (unweighted)  or 1.0% (weighted)\n",
      "\n",
      "==========new POPULATION, old income\n",
      "Emissions increased by 0.3% (unweighted)  or 0.3% (weighted)\n"
     ]
    }
   ],
   "source": [
    "formula=\"emis_intens ~ gdp_pc+country + emis_intens_last_year- 1\"\n",
    "\n",
    "mod, mod_w  = project_emissions(formula, data_all)\n",
    "#foo.summary()\n",
    "mod.summary();"
   ]
  },
  {
   "cell_type": "markdown",
   "metadata": {},
   "source": [
    "###Square income"
   ]
  },
  {
   "cell_type": "code",
   "execution_count": 434,
   "metadata": {
    "collapsed": false
   },
   "outputs": [
    {
     "name": "stdout",
     "output_type": "stream",
     "text": [
      "\n",
      "emis_intens ~ gdp_pc + I(gdp_pc**2)+ country  - 1\n",
      "\n",
      "========= Predicted 2011\n",
      "Error in 2011: 0.1% (unweighted)  or -1.2% (weighted)\n",
      "Emissions increased by 0.0% (unweighted)  or 0.0% (weighted)\n",
      "\n",
      "========= Liting Income\n",
      "Emissions increased by 0.3% (unweighted)  or 0.2% (weighted)\n",
      "\n",
      "==========Liting Income and population\n",
      "Emissions increased by 0.7% (unweighted)  or 0.6% (weighted)\n",
      "\n",
      "==========new POPULATION, old income\n",
      "Emissions increased by 0.3% (unweighted)  or 0.3% (weighted)\n"
     ]
    }
   ],
   "source": [
    "formula=\"emis_intens ~ gdp_pc + I(gdp_pc**2)+ country  - 1\"\n",
    "mod, mod_w  = project_emissions(formula, data_all)\n",
    "mod.summary();"
   ]
  },
  {
   "cell_type": "markdown",
   "metadata": {},
   "source": [
    "###income bins"
   ]
  },
  {
   "cell_type": "code",
   "execution_count": 436,
   "metadata": {
    "collapsed": false
   },
   "outputs": [
    {
     "name": "stdout",
     "output_type": "stream",
     "text": [
      "\n",
      "emis_intens ~ gdp_pc:inc_bins+country - 1\n",
      "\n",
      "========= Predicted 2011\n",
      "Error in 2011: 2.3% (unweighted)  or -1.2% (weighted)\n",
      "Emissions increased by 0.0% (unweighted)  or 0.0% (weighted)\n",
      "\n",
      "========= Liting Income\n",
      "Emissions increased by 0.8% (unweighted)  or 0.6% (weighted)\n",
      "\n",
      "==========Liting Income and population\n",
      "Emissions increased by 1.5% (unweighted)  or 1.2% (weighted)\n",
      "\n",
      "==========new POPULATION, old income\n",
      "Emissions increased by 0.3% (unweighted)  or 0.3% (weighted)\n"
     ]
    }
   ],
   "source": [
    "formula=\"emis_intens ~ gdp_pc:inc_bins+country - 1\"\n",
    "mod, mod_w  = project_emissions(formula, data_all)\n",
    "\n",
    "mod.summary();"
   ]
  },
  {
   "cell_type": "markdown",
   "metadata": {},
   "source": [
    "###Country fix effect, year fix effect, and gdpglobal effect"
   ]
  },
  {
   "cell_type": "markdown",
   "metadata": {},
   "source": [
    "year fixed effect non significant"
   ]
  },
  {
   "cell_type": "code",
   "execution_count": 431,
   "metadata": {
    "collapsed": false
   },
   "outputs": [
    {
     "name": "stdout",
     "output_type": "stream",
     "text": [
      "\n",
      "emis_intens ~ gdp_pc+country+year- 1\n",
      "\n",
      "========= Predicted 2011\n",
      "Error in 2011: 2.6% (unweighted)  or -2.1% (weighted)\n",
      "Emissions increased by 0.0% (unweighted)  or 0.0% (weighted)\n",
      "\n",
      "========= Liting Income\n",
      "Emissions increased by 0.4% (unweighted)  or 0.3% (weighted)\n",
      "\n",
      "==========Liting Income and population\n",
      "Emissions increased by 0.8% (unweighted)  or 0.7% (weighted)\n",
      "\n",
      "==========new POPULATION, old income\n",
      "Emissions increased by 0.3% (unweighted)  or 0.3% (weighted)\n"
     ]
    }
   ],
   "source": [
    "formula=\"emis_intens ~ gdp_pc+country+year- 1\"\n",
    "m,mw=project_emissions(formula, data_all)\n",
    "m.summary();"
   ]
  },
  {
   "cell_type": "markdown",
   "metadata": {},
   "source": [
    "###Plots"
   ]
  },
  {
   "cell_type": "code",
   "execution_count": 432,
   "metadata": {
    "collapsed": false
   },
   "outputs": [
    {
     "data": {
      "image/png": "[encoded data removed]",
      "text/plain": [
       "<matplotlib.figure.Figure at 0xd1429e8>"
      ]
     },
     "metadata": {},
     "output_type": "display_data"
    }
   ],
   "source": [
    "fig, ax = plt.subplots(1,1)\n",
    "ax.scatter(data2011.gdp_pc,data2011.emis_pc,**plot_options)\n",
    "ax.set_xlabel('GDP per capita')\n",
    "ax.set_ylabel('tCO2 per capita')\n",
    "format_fig(ax)"
   ]
  },
  {
   "cell_type": "code",
   "execution_count": null,
   "metadata": {
    "collapsed": true
   },
   "outputs": [],
   "source": []
  },
  {
   "cell_type": "code",
   "execution_count": null,
   "metadata": {
    "collapsed": true
   },
   "outputs": [],
   "source": []
  },
  {
   "cell_type": "code",
   "execution_count": null,
   "metadata": {
    "collapsed": true
   },
   "outputs": [],
   "source": []
  },
  {
   "cell_type": "code",
   "execution_count": null,
   "metadata": {
    "collapsed": true
   },
   "outputs": [],
   "source": []
  }
 ],
 "metadata": {
  "kernelspec": {
   "display_name": "Python 3",
   "language": "python",
   "name": "python3"
  },
  "language_info": {
   "codemirror_mode": {
    "name": "ipython",
    "version": 3
   },
   "file_extension": ".py",
   "mimetype": "text/x-python",
   "name": "python",
   "nbconvert_exporter": "python",
   "pygments_lexer": "ipython3",
   "version": "3.4.1"
  }
 },
 "nbformat": 4,
 "nbformat_minor": 0
}
