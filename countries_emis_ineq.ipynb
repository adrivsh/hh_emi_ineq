{
 "cells": [
  {
   "cell_type": "code",
   "execution_count": 64,
   "metadata": {
    "collapsed": false
   },
   "outputs": [
    {
     "name": "stdout",
     "output_type": "stream",
     "text": [
      "The autoreload extension is already loaded. To reload it, use:\n",
      "  %reload_ext autoreload\n"
     ]
    }
   ],
   "source": [
    "%load_ext autoreload\n",
    "%autoreload 2\n",
    "\n",
    "from wb_api_wraper import *\n",
    "\n",
    "import pandas as pd\n",
    "import numpy as np\n",
    "import statsmodels.formula.api as smf\n",
    "import statsmodels.api as sm\n",
    "from statsmodels.sandbox.regression.predstd import wls_prediction_std\n",
    "\n",
    "from IPython.display import display, HTML\n",
    "\n",
    "import matplotlib.pyplot as plt \n",
    "%matplotlib inline\n"
   ]
  },
  {
   "cell_type": "code",
   "execution_count": 65,
   "metadata": {
    "collapsed": true
   },
   "outputs": [],
   "source": [
    "#Pandas display options\n",
    "pd.set_option('display.max_colwidth', 200)\n",
    "pd.set_option('display.width', 200)\n",
    "pd.set_option('display.precision', 2)\n",
    "pd.set_option('display.max_rows', 200)"
   ]
  },
  {
   "cell_type": "code",
   "execution_count": 66,
   "metadata": {
    "collapsed": true
   },
   "outputs": [],
   "source": [
    "#Options for plots\n",
    "font = {'family' : 'serif',\n",
    "    'weight' : 'normal',\n",
    "    'size'   : 12}\n",
    "\n",
    "plt.rc('font', **font)\n",
    "plt.rcParams[\"legend.fancybox\"]=True\n",
    "plt.rcParams[\"savefig.dpi\"]=90\n",
    "\n",
    "plot_options = dict(alpha=0.5,clip_on=False)\n",
    "\n",
    "def format_fig(ax):\n",
    "    ax.set_xlim(0)\n",
    "    ax.set_ylim(0)"
   ]
  },
  {
   "cell_type": "code",
   "execution_count": 67,
   "metadata": {
    "collapsed": false
   },
   "outputs": [],
   "source": [
    "#Searching the WB API database\n",
    "\n",
    "search_wb(\"GDP\");\n",
    "search_wb(\"emissions\");"
   ]
  },
  {
   "cell_type": "markdown",
   "metadata": {},
   "source": [
    "#Data"
   ]
  },
  {
   "cell_type": "code",
   "execution_count": 68,
   "metadata": {
    "collapsed": true
   },
   "outputs": [],
   "source": [
    "gni = True #use GDP per capita if if false"
   ]
  },
  {
   "cell_type": "code",
   "execution_count": 69,
   "metadata": {
    "collapsed": true
   },
   "outputs": [],
   "source": [
    "all_ghg = False  #use only CO2 if false, all GHG if true"
   ]
  },
  {
   "cell_type": "markdown",
   "metadata": {
    "collapsed": true
   },
   "source": [
    "###Pop and gdp"
   ]
  },
  {
   "cell_type": "code",
   "execution_count": 70,
   "metadata": {
    "collapsed": false
   },
   "outputs": [],
   "source": [
    "#gdp_pc_ppp  = get_wb(\"NY.GNP.PCAP.PP.CD\") if gni else get_wb(\"NY.GDP.PCAP.PP.CD\")#GDP per capita, PPP (constant 2011 international $)\n",
    "gdp = get_wb(\"NY.GDP.MKTP.PP.KD\")#GGDP, PPP (constant 2011 international $)\n",
    "pop = get_wb(\"SP.POP.TOTL\") #population\n",
    "\n",
    "gdp_pc_ppp=gdp/pop"
   ]
  },
  {
   "cell_type": "code",
   "execution_count": 71,
   "metadata": {
    "collapsed": false
   },
   "outputs": [],
   "source": [
    "#(pop*gdp_pc_ppp)/gdp #sanity check: pop, gdp and gdp_pc are consistent, notably in recent years"
   ]
  },
  {
   "cell_type": "markdown",
   "metadata": {},
   "source": [
    "###Emissions"
   ]
  },
  {
   "cell_type": "code",
   "execution_count": 72,
   "metadata": {
    "collapsed": false
   },
   "outputs": [],
   "source": [
    "if all_ghg:\n",
    "    other_ghg_tot = (get_wb(\"EN.ATM.METH.KT.CE\")  #total methane\n",
    "                      +get_wb(\"EN.ATM.NOXE.KT.CE\")  #total nitrous o\n",
    "                      +get_wb(\"EN.ATM.GHGO.KT.CE\") #total other\n",
    "                      )*1000 #emissions in tons\n",
    "\n",
    "\n",
    "    for c in range(2000,2011):\n",
    "        if str(c) not in other_ghg_tot.columns:\n",
    "            other_ghg_tot[str(c)]=np.nan\n",
    "\n",
    "\n",
    "    from scipy.interpolate import interp1d\n",
    "\n",
    "    other_ghg_tot=other_ghg_tot.sort_index(axis=1).interpolate(axis=1)\n",
    "    other_ghg_tot[\"2011\"]=2*other_ghg_tot[\"2010\"]-other_ghg_tot[\"2009\"]\n",
    "\n",
    "    emis_tot=(emis_tot+other_ghg_tot).fillna(emis_tot)\n",
    "    \n",
    "    emis_intens = emis_tot /gdp \n",
    "\n",
    "else:\n",
    "    #emis_intens = get_wb_mrv(\"EN.ATM.CO2E.KD.GD\",\"emis_intens\") /1000 #CO2 emissions (data in kg per 2005 US$ of GDP), converted in tons per ...\n",
    "    #emis_intens = get_wb(\"EN.ATM.CO2E.PP.GD.KD\")/1000 #CO2 emissions in tons, from  #CO2 emissions (kg per 2011 PPP $ of GDP)\n",
    "    emis_tot = get_wb(\"EN.ATM.CO2E.KT\")*1000 #emissions in tons\n",
    "    #Both series end in 2011\n",
    "    \n",
    "emis_intens = emis_tot /gdp "
   ]
  },
  {
   "cell_type": "code",
   "execution_count": 73,
   "metadata": {
    "collapsed": false
   },
   "outputs": [],
   "source": [
    "#(emis_intens*gdp/emis_tot) #sanity check: these amtch exactly (intens must be computed this way)"
   ]
  },
  {
   "cell_type": "code",
   "execution_count": null,
   "metadata": {
    "collapsed": true
   },
   "outputs": [],
   "source": []
  },
  {
   "cell_type": "code",
   "execution_count": null,
   "metadata": {
    "collapsed": true
   },
   "outputs": [],
   "source": []
  },
  {
   "cell_type": "markdown",
   "metadata": {},
   "source": [
    "###Dataframe"
   ]
  },
  {
   "cell_type": "code",
   "execution_count": 74,
   "metadata": {
    "collapsed": false
   },
   "outputs": [],
   "source": [
    "#Income gorups for countries and HIPC status\n",
    "groups = pd.read_csv(\"counry_income_groups.csv\",header =4,index_col=2).replace({\"ROM\":\"ROU\",\"ZAR\":\"COD\"})  #they used old iso3 country for Zair (Congo) and Romania\n",
    "groups.dropna(axis=0,how=\"all\",inplace=True);"
   ]
  },
  {
   "cell_type": "code",
   "execution_count": 75,
   "metadata": {
    "collapsed": false
   },
   "outputs": [
    {
     "name": "stdout",
     "output_type": "stream",
     "text": [
      "[0, 2402.8887684883011, 6354.2476397140972, 12494.067035906739, 28177.540230618019, 10000000.0]\n"
     ]
    }
   ],
   "source": [
    "df=pd.DataFrame()\n",
    "df[\"emis_intens\"]=emis_intens.stack()\n",
    "df[\"gdp_pc\"] = gdp_pc_ppp.stack()\n",
    "df[\"pop\"] = pop.stack()\n",
    "df[\"emis_tot\"] = emis_tot.stack()\n",
    "\n",
    "emis_pc = emis_tot.stack()/pop.stack()\n",
    "df[\"emis_pc\"]= emis_pc\n",
    "\n",
    "df= df.ix[groups.index.values] #keeps only actula countries (no macro regions or groups of countries)\n",
    "\n",
    "data_all = df.reset_index()\n",
    "\n",
    "#emission intensity last year\n",
    "emis_intens_peryear=data_all.set_index([\"country\",\"year\"]).emis_intens.unstack()\n",
    "emis_intens_last_year =emis_intens_peryear[0:-1]\n",
    "emis_intens_last_year.columns=emis_intens_last_year.columns.map(lambda x: str(1+eval(x)))\n",
    "emis_intens_last_year.columns.name=\"year\"\n",
    "emis_intens_last_year.stack().reset_index()\n",
    "\n",
    "data_all=pd.merge(data_all,emis_intens_last_year.stack().reset_index(),on=[\"country\",\"year\"],how=\"outer\").dropna().rename(columns={0:\"emis_intens_last_year\"})\n",
    "\n",
    "\n",
    "#income bins\n",
    "bins = [0]+ data_all.gdp_pc.quantile([.2,.4,.6,.8,1]).tolist()\n",
    "bins[-1]=1e7 #\"makes sure the last bins covers future incomes\"\n",
    "print(bins)\n",
    "\n",
    "x=pd.cut(data_all.gdp_pc,bins);\n",
    "x.name=\"inc_bins\"\n",
    "\n",
    "data_all = pd.concat([data_all,x],axis=1)\n",
    "\n",
    "\n",
    "#dummy for 2011 to center the rpediciton there\n",
    "data_all[\"dummy2011\"]=(data_all[\"year\"]==\"2011\")+0\n"
   ]
  },
  {
   "cell_type": "code",
   "execution_count": 76,
   "metadata": {
    "collapsed": false
   },
   "outputs": [
    {
     "name": "stdout",
     "output_type": "stream",
     "text": [
      "Global CO2 emissions in the sample: 32 GtCO2\n"
     ]
    }
   ],
   "source": [
    "#Current emissions\n",
    "emis_ref = data_all.dropna().query(\"year=='2011'\").emis_tot.sum()\n",
    "print(\"Global CO2 emissions in the sample: {emis:0.0f} GtCO2\".format(emis=emis_ref*1e-9)+(\"eq\" if all_ghg else \"\"))"
   ]
  },
  {
   "cell_type": "code",
   "execution_count": 77,
   "metadata": {
    "collapsed": false
   },
   "outputs": [
    {
     "data": {
      "text/plain": [
       "1.2467532467532467"
      ]
     },
     "execution_count": 77,
     "metadata": {},
     "output_type": "execute_result"
    }
   ],
   "source": [
    "emissions_2030_RCP = 7*44/12\n",
    "32/emissions_2030_RCP"
   ]
  },
  {
   "cell_type": "markdown",
   "metadata": {},
   "source": [
    "##Lorenz curve"
   ]
  },
  {
   "cell_type": "code",
   "execution_count": 78,
   "metadata": {
    "collapsed": false
   },
   "outputs": [
    {
     "data": {
      "text/html": [
       "<div>\n",
       "<table border=\"1\" class=\"dataframe\">\n",
       "  <thead>\n",
       "    <tr style=\"text-align: right;\">\n",
       "      <th></th>\n",
       "      <th>country</th>\n",
       "      <th>pop</th>\n",
       "      <th>gdp_pc</th>\n",
       "      <th>emis_tot</th>\n",
       "      <th>cum_emis</th>\n",
       "      <th>cum_pop</th>\n",
       "    </tr>\n",
       "  </thead>\n",
       "  <tbody>\n",
       "    <tr>\n",
       "      <th>455</th>\n",
       "      <td>Congo, Dem. Rep.</td>\n",
       "      <td>63931512</td>\n",
       "      <td>657.3</td>\n",
       "      <td>3424978</td>\n",
       "      <td>3424978</td>\n",
       "      <td>6.4e+07</td>\n",
       "    </tr>\n",
       "    <tr>\n",
       "      <th>1130</th>\n",
       "      <td>Liberia</td>\n",
       "      <td>4079697</td>\n",
       "      <td>729.0</td>\n",
       "      <td>891081</td>\n",
       "      <td>4316059</td>\n",
       "      <td>6.8e+07</td>\n",
       "    </tr>\n",
       "    <tr>\n",
       "      <th>322</th>\n",
       "      <td>Burundi</td>\n",
       "      <td>9540362</td>\n",
       "      <td>731.3</td>\n",
       "      <td>209019</td>\n",
       "      <td>4525078</td>\n",
       "      <td>7.8e+07</td>\n",
       "    </tr>\n",
       "    <tr>\n",
       "      <th>1209</th>\n",
       "      <td>Malawi</td>\n",
       "      <td>15457531</td>\n",
       "      <td>747.3</td>\n",
       "      <td>1206443</td>\n",
       "      <td>5731521</td>\n",
       "      <td>9.3e+07</td>\n",
       "    </tr>\n",
       "    <tr>\n",
       "      <th>1443</th>\n",
       "      <td>Niger</td>\n",
       "      <td>16511462</td>\n",
       "      <td>828.5</td>\n",
       "      <td>1422796</td>\n",
       "      <td>7154317</td>\n",
       "      <td>1.1e+08</td>\n",
       "    </tr>\n",
       "  </tbody>\n",
       "</table>\n",
       "</div>"
      ],
      "text/plain": [
       "               country       pop  gdp_pc  emis_tot  cum_emis  cum_pop\n",
       "455   Congo, Dem. Rep.  63931512   657.3   3424978   3424978  6.4e+07\n",
       "1130           Liberia   4079697   729.0    891081   4316059  6.8e+07\n",
       "322            Burundi   9540362   731.3    209019   4525078  7.8e+07\n",
       "1209            Malawi  15457531   747.3   1206443   5731521  9.3e+07\n",
       "1443             Niger  16511462   828.5   1422796   7154317  1.1e+08"
      ]
     },
     "execution_count": 78,
     "metadata": {},
     "output_type": "execute_result"
    }
   ],
   "source": [
    "dflor = data_all.query(\"year=='2011'\")[[\"country\",\"pop\",\"gdp_pc\",\"emis_tot\"]].sort(\"gdp_pc\")\n",
    "dflor[\"cum_emis\"]=dflor.emis_tot.cumsum()\n",
    "dflor[\"cum_pop\"]=dflor[\"pop\"].cumsum()\n",
    "#dflor.plot(x=\"cum_pop\",y=\"cum_emis\")\n",
    "\n",
    "dflor.head(5)"
   ]
  },
  {
   "cell_type": "code",
   "execution_count": 79,
   "metadata": {
    "collapsed": false,
    "scrolled": true
   },
   "outputs": [
    {
     "data": {
      "image/png": "[encoded data removed]",
      "text/plain": [
       "<matplotlib.figure.Figure at 0xa849908>"
      ]
     },
     "metadata": {},
     "output_type": "display_data"
    }
   ],
   "source": [
    "plt.step(dflor.cum_pop/1e9, dflor.cum_emis/1e9)\n",
    "plt.xlabel(\"Population (billions)\")\n",
    "plt.ylabel('Emissions (GtCO$_2$)')\n",
    "plt.savefig(\"lorentz_2011.png\")\n"
   ]
  },
  {
   "cell_type": "code",
   "execution_count": 80,
   "metadata": {
    "collapsed": false
   },
   "outputs": [
    {
     "data": {
      "image/png": "[encoded data removed]",
      "text/plain": [
       "<matplotlib.figure.Figure at 0xa849080>"
      ]
     },
     "metadata": {},
     "output_type": "display_data"
    }
   ],
   "source": [
    "plt.xlabel(\"Population (billions)\")\n",
    "plt.ylabel('Emissions (GtCO$_2$)')\n",
    "plt.plot(dflor.cum_pop/1e9, dflor.cum_emis/1e9)\n",
    "plt.savefig(\"lorentz_2011_lisse.png\")"
   ]
  },
  {
   "cell_type": "code",
   "execution_count": null,
   "metadata": {
    "collapsed": true
   },
   "outputs": [],
   "source": []
  },
  {
   "cell_type": "code",
   "execution_count": null,
   "metadata": {
    "collapsed": true
   },
   "outputs": [],
   "source": []
  },
  {
   "cell_type": "code",
   "execution_count": null,
   "metadata": {
    "collapsed": true
   },
   "outputs": [],
   "source": []
  },
  {
   "cell_type": "markdown",
   "metadata": {},
   "source": [
    "###Population and GDP from SSP"
   ]
  },
  {
   "cell_type": "code",
   "execution_count": 81,
   "metadata": {
    "collapsed": true
   },
   "outputs": [],
   "source": [
    "pop_proj_2050 = pd.read_csv(\"population_ssp.csv\", index_col=\"country\", dtype={\"scenario\":str}).query(\"scenario=='SSP4'\")[\"2050\"]*1e6\n",
    "pop_proj_2050 = pop_proj_2050.sort_index().copy()\n",
    "pop_proj_2050.name=\"pop\""
   ]
  },
  {
   "cell_type": "code",
   "execution_count": 82,
   "metadata": {
    "collapsed": false
   },
   "outputs": [],
   "source": [
    "pop_proj = pd.read_csv(\"population_ssp.csv\", index_col=\"country\", dtype={\"scenario\":str}).query(\"scenario=='SSP4'\")[\"2030\"]*1e6\n",
    "pop_proj = pop_proj.sort_index().copy()"
   ]
  },
  {
   "cell_type": "code",
   "execution_count": 83,
   "metadata": {
    "collapsed": false
   },
   "outputs": [],
   "source": [
    "gdp_proj = pd.read_csv(\"gdp_ssp.csv\", index_col=\"country\", dtype={\"scenario\":str}).query(\"scenario=='SSP4'\")[\"2030\"]\n"
   ]
  },
  {
   "cell_type": "code",
   "execution_count": 84,
   "metadata": {
    "collapsed": false
   },
   "outputs": [],
   "source": [
    "gdp_pc_proj_2050 = pd.read_csv(\"gdp_ssp.csv\", index_col=\"country\", dtype={\"scenario\":str}).query(\"scenario=='SSP4'\")[\"2050\"]/ pop_proj_2050  *1e9  #GDP per capita in $\n",
    "gdp_pc_proj_2050.name=\"gdp_pc\""
   ]
  },
  {
   "cell_type": "markdown",
   "metadata": {},
   "source": [
    "###Emissions in LICs today"
   ]
  },
  {
   "cell_type": "code",
   "execution_count": 85,
   "metadata": {
    "collapsed": true
   },
   "outputs": [],
   "source": [
    "#What ending povety means\n",
    "target_gdp_pc = 3500"
   ]
  },
  {
   "cell_type": "code",
   "execution_count": 86,
   "metadata": {
    "collapsed": false
   },
   "outputs": [
    {
     "data": {
      "text/plain": [
       "0.5803000722772105"
      ]
     },
     "execution_count": 86,
     "metadata": {},
     "output_type": "execute_result"
    }
   ],
   "source": [
    "data2011= data_all.query(\"year=='2011'\").copy()\n",
    "LICs = data2011.ix[data2011.gdp_pc<target_gdp_pc].index\n",
    "data2011.ix[LICs].emis_tot.sum()/emis_ref*100"
   ]
  },
  {
   "cell_type": "code",
   "execution_count": 87,
   "metadata": {
    "collapsed": false
   },
   "outputs": [
    {
     "name": "stdout",
     "output_type": "stream",
     "text": [
      "['Afghanistan', 'Bangladesh', 'Benin', 'Burkina Faso', 'Burundi', 'Cambodia', 'Cameroon', 'Central African Republic', 'Chad', 'Comoros', 'Congo, Dem. Rep.', 'Djibouti', 'Eritrea', 'Ethiopia', 'Gambia, The', 'Ghana', 'Guinea', 'Guinea-Bissau', 'Haiti', 'Kenya', 'Kiribati', 'Kyrgyz Republic', 'Lesotho', 'Liberia', 'Madagascar', 'Malawi', 'Mali', 'Mauritania', 'Micronesia, Fed. Sts.', 'Mozambique', 'Nepal', 'Niger', 'Papua New Guinea', 'Rwanda', 'Senegal', 'Sierra Leone', 'Solomon Islands', 'Tajikistan', 'Tanzania', 'Timor-Leste', 'Togo', 'Uganda', 'Vanuatu']\n"
     ]
    },
    {
     "data": {
      "text/plain": [
       "43"
      ]
     },
     "execution_count": 87,
     "metadata": {},
     "output_type": "execute_result"
    }
   ],
   "source": [
    "print(data2011.ix[LICs].country.tolist())\n",
    "len(LICs)"
   ]
  },
  {
   "cell_type": "markdown",
   "metadata": {},
   "source": [
    "#Simulations"
   ]
  },
  {
   "cell_type": "markdown",
   "metadata": {},
   "source": [
    "###Projections of emissions in 2050"
   ]
  },
  {
   "cell_type": "code",
   "execution_count": 88,
   "metadata": {
    "collapsed": false
   },
   "outputs": [
    {
     "data": {
      "text/html": [
       "<div>\n",
       "<table border=\"1\" class=\"dataframe\">\n",
       "  <thead>\n",
       "    <tr style=\"text-align: right;\">\n",
       "      <th></th>\n",
       "      <th>country</th>\n",
       "      <th>pop</th>\n",
       "      <th>gdp_pc</th>\n",
       "      <th>inc_bins</th>\n",
       "    </tr>\n",
       "  </thead>\n",
       "  <tbody>\n",
       "    <tr>\n",
       "      <th>0</th>\n",
       "      <td>Afghanistan</td>\n",
       "      <td>87831301.4</td>\n",
       "      <td>2616.7</td>\n",
       "      <td>(2402.889, 6354.248]</td>\n",
       "    </tr>\n",
       "    <tr>\n",
       "      <th>1</th>\n",
       "      <td>Albania</td>\n",
       "      <td>3004167.8</td>\n",
       "      <td>18734.3</td>\n",
       "      <td>(12494.067, 28177.54]</td>\n",
       "    </tr>\n",
       "    <tr>\n",
       "      <th>2</th>\n",
       "      <td>Algeria</td>\n",
       "      <td>46018487.4</td>\n",
       "      <td>16668.0</td>\n",
       "      <td>(12494.067, 28177.54]</td>\n",
       "    </tr>\n",
       "  </tbody>\n",
       "</table>\n",
       "</div>"
      ],
      "text/plain": [
       "       country         pop   gdp_pc               inc_bins\n",
       "0  Afghanistan  87831301.4   2616.7   (2402.889, 6354.248]\n",
       "1      Albania   3004167.8  18734.3  (12494.067, 28177.54]\n",
       "2      Algeria  46018487.4  16668.0  (12494.067, 28177.54]"
      ]
     },
     "execution_count": 88,
     "metadata": {},
     "output_type": "execute_result"
    }
   ],
   "source": [
    "simulation_2050=pd.concat([pop_proj_2050,gdp_pc_proj_2050],axis=1).dropna()\n",
    "simulation_2050=simulation_2050.ix[data_all.dropna().country.unique()].reset_index().rename(columns={\"index\":\"country\"}).dropna()\n",
    "simulation_2050[\"inc_bins\"]=pd.cut(simulation_2050.gdp_pc,bins)\n",
    "simulation_2050.head(3)"
   ]
  },
  {
   "cell_type": "code",
   "execution_count": 89,
   "metadata": {
    "collapsed": true
   },
   "outputs": [],
   "source": [
    "formula = 'emis_intens ~ gdp_pc:inc_bins+country- 1 '\n",
    "#formula = 'emis_intens ~ gdp_pc+I(gdp_pc**2)+country- 1 '\n",
    "data=data_all\n",
    "simulation=simulation_2050\n",
    "\n",
    "data2011= data.query(\"year=='2011'\").copy()"
   ]
  },
  {
   "cell_type": "code",
   "execution_count": 90,
   "metadata": {
    "collapsed": false
   },
   "outputs": [
    {
     "name": "stdout",
     "output_type": "stream",
     "text": [
      "Error in 2011: 5.8% (unweighted)  or 2.9% (weighted)\n",
      "Emissions increased by 203.3% (unweighted)  or 123.3% (weighted)\n"
     ]
    }
   ],
   "source": [
    "mod = smf.ols(formula, data).fit()\n",
    "mod_weighted = smf.wls(formula, data, weights = data[\"pop\"]).fit()\n",
    "\n",
    "emis_tot =mod.predict(data2011)*data2011[\"gdp_pc\"]*data2011[\"pop\"]\n",
    "emis_tot_weighted =mod_weighted.predict(data2011)*data2011[\"gdp_pc\"]*data2011[\"pop\"]\n",
    "print(\"Error in 2011: {x:0.1%} (unweighted)  or {y:0.1%} (weighted)\".format(\n",
    "        x=emis_tot.sum()/emis_ref-1,\n",
    "        y=emis_tot_weighted.sum()/emis_ref-1)\n",
    "     )\n",
    "e_ref = emis_tot\n",
    "e_w_ref = emis_tot_weighted\n",
    "\n",
    "emis_tot =mod.predict(simulation)*simulation[\"gdp_pc\"]*simulation[\"pop\"]\n",
    "emis_tot_weighted =mod_weighted.predict(simulation)*simulation[\"gdp_pc\"]*simulation[\"pop\"]\n",
    "def report(emis_tot,emis_tot_weighted):\n",
    "    print(\"Emissions increased by {x:0.1%} (unweighted)  or {y:0.1%} (weighted)\".format(\n",
    "        x=(emis_tot).sum()/emis_ref,\n",
    "        y=(emis_tot_weighted).sum()/emis_ref)\n",
    "     )\n",
    "\n",
    "simulation_2050['emis_tot_proj'] =mod.predict(simulation)*simulation[\"gdp_pc\"]*simulation[\"pop\"]\n",
    "simulation_2050['emis_tot_weighted'] =mod_weighted.predict(simulation)*simulation[\"gdp_pc\"]*simulation[\"pop\"]\n",
    "report(simulation_2050['emis_tot_proj'],simulation_2050['emis_tot_weighted'])"
   ]
  },
  {
   "cell_type": "code",
   "execution_count": 91,
   "metadata": {
    "collapsed": false
   },
   "outputs": [],
   "source": [
    "mod.summary();"
   ]
  },
  {
   "cell_type": "code",
   "execution_count": 92,
   "metadata": {
    "collapsed": false
   },
   "outputs": [],
   "source": [
    "hop=pd.merge(data2011,simulation_2050,on=\"country\").set_index(\"country\")\n",
    "\n",
    "hop[\"pop_gro\"]=(hop.pop_y/ hop.pop_x)\n",
    "hop[\"gdp_gro\"]=(hop.gdp_pc_y/ hop.gdp_pc_x)\n",
    "hop[\"emi_gro\"]=(hop.emis_tot_proj/ hop.emis_tot)\n",
    "hop[[\"pop_gro\",\"gdp_gro\",\"emi_gro\"]];\n",
    "\n"
   ]
  },
  {
   "cell_type": "code",
   "execution_count": 111,
   "metadata": {
    "collapsed": false
   },
   "outputs": [],
   "source": [
    "\n",
    "\n",
    "def project_emissions(formula, data):\n",
    "    print(\"\\n\"+formula)\n",
    "    \n",
    "    data2011= data.query(\"year=='2011'\").copy()\n",
    "    LICs = data2011.ix[data2011.gdp_pc.clip(lower=target_gdp_pc)==target_gdp_pc].index\n",
    "    \n",
    "    mod = smf.ols(formula, data).fit()\n",
    "    mod_weighted = smf.wls(formula, data, weights = data[\"pop\"]).fit()\n",
    "\n",
    "    \n",
    "    print(\"\\n========= Predicted 2011\")\n",
    "    simulation = data2011\n",
    "    emis_tot =mod.predict(simulation)*simulation[\"gdp_pc\"]*simulation[\"pop\"]\n",
    "    emis_tot_weighted =mod_weighted.predict(simulation)*simulation[\"gdp_pc\"]*simulation[\"pop\"]\n",
    "    print(\"Error in 2011: {x:0.1%} (unweighted)  or {y:0.1%} (weighted)\".format(\n",
    "            x=emis_tot.sum()/emis_ref-1,\n",
    "            y=emis_tot_weighted.sum()/emis_ref-1)\n",
    "         )\n",
    "    \n",
    "    e_ref = emis_tot\n",
    "    e_w_ref = emis_tot_weighted\n",
    "    \n",
    "    \n",
    "    def report(emis_tot,emis_tot_weighted):\n",
    "        print(\"Emissions increased by {x:0.1%} (unweighted)  or {y:0.1%} (weighted)\".format(\n",
    "            x=(emis_tot).sum()/emis_ref,\n",
    "            y=(emis_tot_weighted).sum()/emis_ref)\n",
    "         )\n",
    "    \n",
    "    report(emis_tot-e_ref,emis_tot_weighted-e_w_ref)\n",
    "    \n",
    "    print(\"\\n========= Liting Income\")\n",
    "    simulation = data2011.assign(gdp_pc = data.gdp_pc.clip(lower=target_gdp_pc), inc_bins = pd.cut(data2011.gdp_pc,bins))\n",
    "    emis_tot =mod.predict(simulation)*simulation[\"gdp_pc\"]*simulation[\"pop\"]\n",
    "    emis_tot_weighted =mod_weighted.predict(simulation)*simulation[\"gdp_pc\"]*simulation[\"pop\"]\n",
    "    report(emis_tot-e_ref,emis_tot_weighted-e_w_ref)\n",
    "    \n",
    "    print('\\n==========Liting Income and population')\n",
    "    simulation = data2011.assign(gdp_pc = data.gdp_pc.clip(lower=target_gdp_pc),inc_bins = pd.cut(data2011.gdp_pc,bins) )\n",
    "    simulation.ix[LICs,\"pop\"] = pop_proj.ix[data.ix[LICs].country].values\n",
    "    \n",
    "    emis_tot =mod.predict(simulation)*simulation[\"gdp_pc\"]*simulation[\"pop\"]\n",
    "    emis_tot_weighted =mod_weighted.predict(simulation)*simulation[\"gdp_pc\"]*simulation[\"pop\"]\n",
    "    report(emis_tot-e_ref,emis_tot_weighted-e_w_ref)\n",
    "    \n",
    "    print('\\n==========new POPULATION, old income')\n",
    "    simulation = data2011\n",
    "    simulation.ix[LICs,\"pop\"] = pop_proj.ix[data.ix[LICs].country].values\n",
    "    emis_tot =mod.predict(simulation)*simulation[\"gdp_pc\"]*simulation[\"pop\"]\n",
    "\n",
    "    emis_tot_weighted =mod_weighted.predict(simulation)*simulation[\"gdp_pc\"]*simulation[\"pop\"]\n",
    "    report(emis_tot-e_ref,emis_tot_weighted-e_w_ref)\n",
    "    #simulation[\"emis_tot_weighted\"] =mod.predict(simulation)*simulation[\"gdp_pc\"]*simulation[\"pop\"]\n",
    "    \n",
    "    #simulation[\"emis_intens_pred\"]\n",
    "    #simulation[\"emis_pc\"] = simulation[\"emis_intens_pred\"]\n",
    "    #simulation[\"emis_tot\"] = simulation[\"emis_pc\"]\n",
    "\n",
    "    #print(\"\\nEmissions increased by {x:0.1%}[{cil:0.1%}, {ciu:0.1%}]\".format(\n",
    "    #        x  =simulation.emis_tot.sum()/emis_ref-1,\n",
    "    #        ciu=(simulation.emis_tot*iv_u/simulation[\"emis_intens_pred\"]).sum()/emis_ref-1,\n",
    "    #        cil=(simulation.emis_tot*iv_l/simulation[\"emis_intens_pred\"]).sum()/emis_ref-1\n",
    "    #     ))\n",
    "    \n",
    "\n",
    "    \n",
    "    return mod,mod_weighted\n",
    "    "
   ]
  },
  {
   "cell_type": "markdown",
   "metadata": {},
   "source": [
    "###Constant emission intensity using 2011 data"
   ]
  },
  {
   "cell_type": "code",
   "execution_count": 112,
   "metadata": {
    "collapsed": false
   },
   "outputs": [],
   "source": [
    "formula=\"emis_intens ~ country - 1\""
   ]
  },
  {
   "cell_type": "code",
   "execution_count": 113,
   "metadata": {
    "collapsed": false
   },
   "outputs": [
    {
     "name": "stdout",
     "output_type": "stream",
     "text": [
      "\n",
      "emis_intens ~ country - 1\n",
      "\n",
      "========= Predicted 2011\n",
      "Error in 2011: 0.0% (unweighted)  or 0.0% (weighted)\n",
      "Emissions increased by 0.0% (unweighted)  or 0.0% (weighted)\n",
      "\n",
      "========= Liting Income\n",
      "Emissions increased by 0.5% (unweighted)  or 0.5% (weighted)\n",
      "\n",
      "==========Liting Income and population\n",
      "Emissions increased by 0.9% (unweighted)  or 0.9% (weighted)\n",
      "\n",
      "==========new POPULATION, old income\n",
      "Emissions increased by 0.2% (unweighted)  or 0.2% (weighted)\n"
     ]
    }
   ],
   "source": [
    "mod, mod_w= project_emissions(formula, data_all.query(\"year=='2011'\").copy())\n",
    "mod.summary();"
   ]
  },
  {
   "cell_type": "code",
   "execution_count": 107,
   "metadata": {
    "collapsed": false
   },
   "outputs": [
    {
     "name": "stdout",
     "output_type": "stream",
     "text": [
      "\n",
      "emis_intens ~ country - 1\n",
      "\n",
      "========= Predicted 2011\n",
      "Error in 2011: 109.5% (unweighted)  or 109.3% (weighted)\n",
      "Emissions increased by -100.0% (unweighted)  or -100.0% (weighted)\n",
      "\n",
      "========= Liting Income\n",
      "Emissions increased by -99.6% (unweighted)  or -99.6% (weighted)\n",
      "\n",
      "==========Liting Income and population\n",
      "Emissions increased by -99.1% (unweighted)  or -99.1% (weighted)\n",
      "\n",
      "==========new POPULATION, old income\n",
      "Emissions increased by -99.8% (unweighted)  or -99.8% (weighted)\n"
     ]
    }
   ],
   "source": [
    "mod, mod_w= project_emissions(formula, data_all)"
   ]
  },
  {
   "cell_type": "markdown",
   "metadata": {},
   "source": [
    "###Country fix effect and gdpglobal effect"
   ]
  },
  {
   "cell_type": "markdown",
   "metadata": {},
   "source": [
    "everything signigicant"
   ]
  },
  {
   "cell_type": "code",
   "execution_count": 97,
   "metadata": {
    "collapsed": false
   },
   "outputs": [
    {
     "name": "stdout",
     "output_type": "stream",
     "text": [
      "\n",
      "emis_intens ~ gdp_pc+country- 1 \n",
      "\n",
      "========= Predicted 2011\n",
      "Error in 2011: 106.9% (unweighted)  or 102.7% (weighted)\n",
      "Emissions increased by 0.0% (unweighted)  or 0.0% (weighted)\n",
      "\n",
      "========= Liting Income\n",
      "Emissions increased by 0.4% (unweighted)  or 0.2% (weighted)\n",
      "\n",
      "==========Liting Income and population\n",
      "Emissions increased by 0.8% (unweighted)  or 0.6% (weighted)\n",
      "\n",
      "==========new POPULATION, old income\n",
      "Emissions increased by 0.2% (unweighted)  or 0.2% (weighted)\n"
     ]
    }
   ],
   "source": [
    "formula=\"emis_intens ~ gdp_pc+country- 1 \"\n",
    "\n",
    "mod, mod_w  = project_emissions(formula, data_all)\n",
    "#foo.summary()\n",
    "mod.summary();"
   ]
  },
  {
   "cell_type": "code",
   "execution_count": 98,
   "metadata": {
    "collapsed": false
   },
   "outputs": [
    {
     "name": "stdout",
     "output_type": "stream",
     "text": [
      "\n",
      "emis_intens ~ gdp_pc+country + emis_intens_last_year- 1\n",
      "\n",
      "========= Predicted 2011\n",
      "Error in 2011: 100.8% (unweighted)  or 99.7% (weighted)\n",
      "Emissions increased by 0.0% (unweighted)  or 0.0% (weighted)\n",
      "\n",
      "========= Liting Income\n",
      "Emissions increased by 0.4% (unweighted)  or 0.4% (weighted)\n",
      "\n",
      "==========Liting Income and population\n",
      "Emissions increased by 0.9% (unweighted)  or 0.8% (weighted)\n",
      "\n",
      "==========new POPULATION, old income\n",
      "Emissions increased by 0.2% (unweighted)  or 0.2% (weighted)\n"
     ]
    }
   ],
   "source": [
    "formula=\"emis_intens ~ gdp_pc+country + emis_intens_last_year- 1\"\n",
    "\n",
    "mod, mod_w  = project_emissions(formula, data_all)\n",
    "#foo.summary()\n",
    "mod.summary();"
   ]
  },
  {
   "cell_type": "markdown",
   "metadata": {},
   "source": [
    "###Square income"
   ]
  },
  {
   "cell_type": "code",
   "execution_count": 99,
   "metadata": {
    "collapsed": false
   },
   "outputs": [
    {
     "name": "stdout",
     "output_type": "stream",
     "text": [
      "\n",
      "emis_intens ~ gdp_pc + I(gdp_pc**2)+ country  - 1\n",
      "\n",
      "========= Predicted 2011\n",
      "Error in 2011: 102.4% (unweighted)  or 101.9% (weighted)\n",
      "Emissions increased by 0.0% (unweighted)  or 0.0% (weighted)\n",
      "\n",
      "========= Liting Income\n",
      "Emissions increased by 0.2% (unweighted)  or 0.2% (weighted)\n",
      "\n",
      "==========Liting Income and population\n",
      "Emissions increased by 0.5% (unweighted)  or 0.4% (weighted)\n",
      "\n",
      "==========new POPULATION, old income\n",
      "Emissions increased by 0.2% (unweighted)  or 0.2% (weighted)\n"
     ]
    }
   ],
   "source": [
    "formula=\"emis_intens ~ gdp_pc + I(gdp_pc**2)+ country  - 1\"\n",
    "mod, mod_w  = project_emissions(formula, data_all)\n",
    "mod.summary();"
   ]
  },
  {
   "cell_type": "markdown",
   "metadata": {},
   "source": [
    "###income bins"
   ]
  },
  {
   "cell_type": "code",
   "execution_count": 100,
   "metadata": {
    "collapsed": false
   },
   "outputs": [
    {
     "name": "stdout",
     "output_type": "stream",
     "text": [
      "\n",
      "emis_intens ~ gdp_pc:inc_bins+country - 1\n",
      "\n",
      "========= Predicted 2011\n",
      "Error in 2011: 105.8% (unweighted)  or 102.9% (weighted)\n",
      "Emissions increased by 0.0% (unweighted)  or 0.0% (weighted)\n",
      "\n",
      "========= Liting Income\n",
      "Emissions increased by 0.5% (unweighted)  or 0.2% (weighted)\n",
      "\n",
      "==========Liting Income and population\n",
      "Emissions increased by 1.0% (unweighted)  or 0.6% (weighted)\n",
      "\n",
      "==========new POPULATION, old income\n",
      "Emissions increased by 0.2% (unweighted)  or 0.2% (weighted)\n"
     ]
    }
   ],
   "source": [
    "formula=\"emis_intens ~ gdp_pc:inc_bins+country - 1\"\n",
    "mod, mod_w  = project_emissions(formula, data_all)\n",
    "\n",
    "mod.summary();"
   ]
  },
  {
   "cell_type": "markdown",
   "metadata": {},
   "source": [
    "###Country fix effect, year fix effect, and gdpglobal effect"
   ]
  },
  {
   "cell_type": "markdown",
   "metadata": {},
   "source": [
    "year fixed effect non significant"
   ]
  },
  {
   "cell_type": "code",
   "execution_count": 101,
   "metadata": {
    "collapsed": false
   },
   "outputs": [
    {
     "name": "stdout",
     "output_type": "stream",
     "text": [
      "\n",
      "emis_intens ~ gdp_pc+country+year- 1\n",
      "\n",
      "========= Predicted 2011\n",
      "Error in 2011: 104.4% (unweighted)  or 100.7% (weighted)\n",
      "Emissions increased by 0.0% (unweighted)  or 0.0% (weighted)\n",
      "\n",
      "========= Liting Income\n",
      "Emissions increased by 0.3% (unweighted)  or 0.2% (weighted)\n",
      "\n",
      "==========Liting Income and population\n",
      "Emissions increased by 0.7% (unweighted)  or 0.5% (weighted)\n",
      "\n",
      "==========new POPULATION, old income\n",
      "Emissions increased by 0.2% (unweighted)  or 0.2% (weighted)\n"
     ]
    }
   ],
   "source": [
    "formula=\"emis_intens ~ gdp_pc+country+year- 1\"\n",
    "m,mw=project_emissions(formula, data_all)\n",
    "m.summary();"
   ]
  },
  {
   "cell_type": "code",
   "execution_count": 114,
   "metadata": {
    "collapsed": true
   },
   "outputs": [],
   "source": [
    "##With pop and gdp projections"
   ]
  },
  {
   "cell_type": "code",
   "execution_count": 137,
   "metadata": {
    "collapsed": true
   },
   "outputs": [],
   "source": [
    "\n",
    "def project_from_simul(formula, data, simulation):\n",
    "    \n",
    "    mod = smf.ols(formula, data).fit()\n",
    "    mod_weighted = smf.wls(formula, data, weights = data[\"pop\"]).fit()\n",
    "\n",
    "    data2011= data.query(\"year=='2011'\").copy()\n",
    "    \n",
    "    ##print(\"\\n========= Predicted 2011\")\n",
    "    e_ref =mod.predict(data2011)*data2011[\"gdp_pc\"]*data2011[\"pop\"]\n",
    "    e_w_ref =mod_weighted.predict(data2011)*data2011[\"gdp_pc\"]*data2011[\"pop\"]\n",
    "    \"\"\"\"print(\"Error in 2011: {x:0.1%} (unweighted)  or {y:0.1%} (weighted)\".format(\n",
    "            x=emis_tot.sum()/emis_ref-1,\n",
    "            y=emis_tot_weighted.sum()/emis_ref-1)\n",
    "         )\"\"\"\n",
    "    \n",
    "  \n",
    "    #predicted with siuml\n",
    "    emis_tot =mod.predict(simulation)*simulation[\"gdp_pc\"]*simulation[\"pop\"]\n",
    "    emis_tot_weighted =mod_weighted.predict(simulation)*simulation[\"gdp_pc\"]*simulation[\"pop\"]\n",
    "    \n",
    "    #returns difference\n",
    "    return (emis_tot-e_ref).sum()   #,emis_tot_weighted-e_w_ref)\n",
    "    \n"
   ]
  },
  {
   "cell_type": "code",
   "execution_count": 142,
   "metadata": {
    "collapsed": false
   },
   "outputs": [
    {
     "data": {
      "text/plain": [
       "0.037759910737435516"
      ]
     },
     "execution_count": 142,
     "metadata": {},
     "output_type": "execute_result"
    }
   ],
   "source": [
    "formula=\"emis_intens ~ gdp_pc:inc_bins+country - 1\"\n",
    "\n",
    "data2011= data.query(\"year=='2011'\").copy()\n",
    "LICs = data2011.ix[data2011.gdp_pc<4000].country\n",
    "\n",
    "simulation = data2011.set_index(\"country\")\n",
    "simulation.ix[LICs,\"gdp_pc\"] = gdp_pc_proj_2050.ix[LICs]\n",
    "simulation.ix[LICs,\"pop\"] / pop_proj_2050.ix[LICs]\n",
    "\n",
    "simulation.inc_bins = pd.cut(simulation.gdp_pc,bins)\n",
    "\n",
    "project_from_simul(formula, data, simulation.reset_index().dropna())/ emis_ref\n"
   ]
  },
  {
   "cell_type": "code",
   "execution_count": null,
   "metadata": {
    "collapsed": true
   },
   "outputs": [],
   "source": [
    "project_from_simul(formula, data, simulation.reset_index())"
   ]
  },
  {
   "cell_type": "code",
   "execution_count": null,
   "metadata": {
    "collapsed": true
   },
   "outputs": [],
   "source": []
  },
  {
   "cell_type": "code",
   "execution_count": null,
   "metadata": {
    "collapsed": true
   },
   "outputs": [],
   "source": []
  },
  {
   "cell_type": "markdown",
   "metadata": {},
   "source": [
    "###Plots"
   ]
  },
  {
   "cell_type": "code",
   "execution_count": 102,
   "metadata": {
    "collapsed": false
   },
   "outputs": [
    {
     "data": {
      "image/png": "[encoded data removed]",
      "text/plain": [
       "<matplotlib.figure.Figure at 0xa8767f0>"
      ]
     },
     "metadata": {},
     "output_type": "display_data"
    }
   ],
   "source": [
    "fig, ax = plt.subplots(1,1)\n",
    "ax.scatter(data2011.gdp_pc,data2011.emis_pc,**plot_options)\n",
    "ax.set_xlabel('GDP per capita')\n",
    "ax.set_ylabel('tCO2 per capita')\n",
    "format_fig(ax)"
   ]
  },
  {
   "cell_type": "code",
   "execution_count": null,
   "metadata": {
    "collapsed": true
   },
   "outputs": [],
   "source": []
  },
  {
   "cell_type": "code",
   "execution_count": null,
   "metadata": {
    "collapsed": true
   },
   "outputs": [],
   "source": []
  },
  {
   "cell_type": "code",
   "execution_count": null,
   "metadata": {
    "collapsed": true
   },
   "outputs": [],
   "source": []
  },
  {
   "cell_type": "code",
   "execution_count": null,
   "metadata": {
    "collapsed": true
   },
   "outputs": [],
   "source": []
  }
 ],
 "metadata": {
  "kernelspec": {
   "display_name": "Python 3",
   "language": "python",
   "name": "python3"
  },
  "language_info": {
   "codemirror_mode": {
    "name": "ipython",
    "version": 3
   },
   "file_extension": ".py",
   "mimetype": "text/x-python",
   "name": "python",
   "nbconvert_exporter": "python",
   "pygments_lexer": "ipython3",
   "version": "3.4.1"
  }
 },
 "nbformat": 4,
 "nbformat_minor": 0
}
