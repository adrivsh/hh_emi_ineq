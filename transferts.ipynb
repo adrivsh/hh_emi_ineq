{
 "cells": [
  {
   "cell_type": "code",
   "execution_count": 101,
   "metadata": {
    "collapsed": false
   },
   "outputs": [
    {
     "name": "stdout",
     "output_type": "stream",
     "text": [
      "The autoreload extension is already loaded. To reload it, use:\n",
      "  %reload_ext autoreload\n"
     ]
    }
   ],
   "source": [
    "%reset-f\n"
   ]
  },
  {
   "cell_type": "code",
   "execution_count": 118,
   "metadata": {
    "collapsed": false
   },
   "outputs": [
    {
     "name": "stdout",
     "output_type": "stream",
     "text": [
      "The autoreload extension is already loaded. To reload it, use:\n",
      "  %reload_ext autoreload\n"
     ]
    }
   ],
   "source": [
    "%load_ext autoreload\n",
    "%autoreload\n",
    "from wb_api_wraper import *\n",
    "from scat import *\n",
    "import pandas as pd\n",
    "import matplotlib.pyplot as plt \n",
    "%matplotlib inline"
   ]
  },
  {
   "cell_type": "markdown",
   "metadata": {},
   "source": [
    "###Income of each quitinile in 2005 USD PPP"
   ]
  },
  {
   "cell_type": "code",
   "execution_count": 102,
   "metadata": {
    "collapsed": true
   },
   "outputs": [],
   "source": [
    "share1   =get_wb_mrv('SI.DST.FRST.20'   ,\"share1\")/100#share of income bottom 20%\n",
    "share2   =get_wb_mrv('SI.DST.02nd.20'   ,\"share2\")/100#share of income second \n",
    "share3   =get_wb_mrv('SI.DST.03rd.20'   ,\"share3\")/100#share of income 3rd\n",
    "share4   =get_wb_mrv('SI.DST.04th.20'   ,\"share4\")/100#share of income 4th\n",
    "share5   =get_wb_mrv('SI.DST.05th.20'   ,\"share5\")/100#share of income 5th"
   ]
  },
  {
   "cell_type": "code",
   "execution_count": 103,
   "metadata": {
    "collapsed": true
   },
   "outputs": [],
   "source": [
    "gdp_pc_pp=get_wb_mrv('NY.GDP.PCAP.pp.kd',\"gdp_pc_pp\")/ 1.152 #Gdp per capita from 2011PPP to 2005 PPP\n",
    "gdp_tot_pp=get_wb_mrv('NY.GDP.MKTP.PP.KD',\"gdp_tot_pp\")/ 1.152 #Gdp from 2011PPP to 2005 PPP\n"
   ]
  },
  {
   "cell_type": "code",
   "execution_count": 214,
   "metadata": {
    "collapsed": false
   },
   "outputs": [],
   "source": [
    "y1=share1*gdp_pc_pp*5\n",
    "y2=share2*gdp_pc_pp*5\n",
    "y3=share3*gdp_pc_pp*5\n",
    "y4=share4*gdp_pc_pp*5\n",
    "y5=share5*gdp_pc_pp*5\n",
    "\n",
    "\n",
    "income=pd.DataFrame()\n",
    "income[\"poor\"]=y1\n",
    "income[\"nonpoor\"]=(y2+y3+y4+y5)\n",
    "income[\"pop\"]=gdp_pc_pp\n",
    "income[\"extreme\"]=1.25 * 365\n"
   ]
  },
  {
   "cell_type": "markdown",
   "metadata": {},
   "source": [
    "Gets list of all aspire indicators"
   ]
  },
  {
   "cell_type": "code",
   "execution_count": 198,
   "metadata": {
    "collapsed": false
   },
   "outputs": [],
   "source": [
    "#Get all wb indicators \n",
    "a=wb.search(\".*\")\n",
    "a.to_csv(\"wb_indicators_library.csv\")\n",
    "all_aspire_indicators = a.ix[[\"ASPIRE\" in s.decode(\"utf-8\") for s in a.sourceOrganization.tolist()]] #ASPIRE cited in source\n",
    "all_aspire_indicators.to_csv(\"hop.csv\")"
   ]
  },
  {
   "cell_type": "code",
   "execution_count": null,
   "metadata": {
    "collapsed": true
   },
   "outputs": [],
   "source": []
  },
  {
   "cell_type": "code",
   "execution_count": 199,
   "metadata": {
    "collapsed": false
   },
   "outputs": [
    {
     "data": {
      "text/plain": [
       "desc\n",
       "Coverage               cov\n",
       "Adequacy               adq\n",
       "Per Capita Transfer    avt\n",
       "Name: code, dtype: object"
      ]
     },
     "execution_count": 199,
     "metadata": {},
     "output_type": "execute_result"
    }
   ],
   "source": [
    "what_to_code = pd.read_csv(\"aspire_what_codes.csv\",index_col=0,squeeze=True) #disct from Mook\n",
    "what_to_code\n",
    "list_what_names=  what_to_code.index.tolist()\n",
    "what_to_code"
   ]
  },
  {
   "cell_type": "code",
   "execution_count": 200,
   "metadata": {
    "collapsed": false
   },
   "outputs": [
    {
     "data": {
      "text/plain": [
       "Description\n",
       "Active Labor Market                   _lm_ac\n",
       "All Labor Market                   _lm_alllm\n",
       "All Private Transfers                   _rem\n",
       "All Social Assistance              _sa_allsa\n",
       "All Social Insurance               _si_allsi\n",
       "Cash Transfer                         _sa_ct\n",
       "Conditional Cash Transfers           _sa_cct\n",
       "Contributory Pensions                 _si_oa\n",
       "Domestic Private Transfers            _pr_dp\n",
       "In-Kind                               _sa_ik\n",
       "International Private Transfers       _pr_ip\n",
       "Other Social Assistance              _sa_osa\n",
       "Other Social Insurance                _si_ss\n",
       "Passive Labor Market                  _lm_ub\n",
       "Public Works                          _sa_pw\n",
       "School Feeding                        _sa_sf\n",
       "Social Pensions                       _sa_sp\n",
       "Subsidies                             _sa_su\n",
       "All Social Protection and Labor       _allsp\n",
       "Name: Middle Code, dtype: object"
      ]
     },
     "execution_count": 200,
     "metadata": {},
     "output_type": "execute_result"
    }
   ],
   "source": [
    "cat_to_code = pd.read_csv(\"aspire_cat_codes.csv\",index_col=0,squeeze=True) #disct from Mook\n",
    "cat_to_code"
   ]
  },
  {
   "cell_type": "code",
   "execution_count": 201,
   "metadata": {
    "collapsed": false
   },
   "outputs": [
    {
     "data": {
      "text/plain": [
       "['_lm_alllm', '_sa_allsa', '_si_allsi', '_rem']"
      ]
     },
     "execution_count": 201,
     "metadata": {},
     "output_type": "execute_result"
    }
   ],
   "source": [
    "list_cat_names =  [\"All Labor Market\" ,\"All Social Assistance\" ,\"All Social Insurance\" ,\"All Private Transfers\"]\n",
    "#convinience\n",
    "alm,asa,asi,apt = list_cat_names\n",
    "list_cat_codes = [cat_to_code[desc] for desc in list_cat_names ]\n",
    "list_cat_codes"
   ]
  },
  {
   "cell_type": "code",
   "execution_count": null,
   "metadata": {
    "collapsed": false
   },
   "outputs": [],
   "source": [
    "\n"
   ]
  },
  {
   "cell_type": "code",
   "execution_count": 202,
   "metadata": {
    "collapsed": false
   },
   "outputs": [
    {
     "data": {
      "text/plain": [
       "group\n",
       "poor                      [\"q1\"]\n",
       "nonpoor    [\"q2\",\"q3\",\"q4\",\"q5\"]\n",
       "pop                      [\"pop\"]\n",
       "extreme                   [\"ep\"]\n",
       "Name: keys, dtype: object"
      ]
     },
     "execution_count": 202,
     "metadata": {},
     "output_type": "execute_result"
    }
   ],
   "source": [
    "income_group_to_keys = pd.read_csv(\"income_groups.csv\",index_col=0,squeeze=True)\n",
    "list_income_groups = income_group_to_keys.index.tolist()\n",
    "income_group_to_keys"
   ]
  },
  {
   "cell_type": "code",
   "execution_count": 203,
   "metadata": {
    "collapsed": true
   },
   "outputs": [],
   "source": [
    "#todo: get the querry out of the loop"
   ]
  },
  {
   "cell_type": "code",
   "execution_count": 208,
   "metadata": {
    "collapsed": false
   },
   "outputs": [
    {
     "data": {
      "text/html": [
       "<div style=\"max-height:1000px;max-width:1500px;overflow:auto;\">\n",
       "<table border=\"1\" class=\"dataframe\">\n",
       "  <thead>\n",
       "    <tr>\n",
       "      <th>category</th>\n",
       "      <th colspan=\"4\" halign=\"left\">All Labor Market</th>\n",
       "      <th colspan=\"4\" halign=\"left\">All Social Assistance</th>\n",
       "      <th colspan=\"4\" halign=\"left\">All Social Insurance</th>\n",
       "      <th colspan=\"4\" halign=\"left\">All Private Transfers</th>\n",
       "    </tr>\n",
       "    <tr>\n",
       "      <th>income_group</th>\n",
       "      <th>poor</th>\n",
       "      <th>nonpoor</th>\n",
       "      <th>pop</th>\n",
       "      <th>extreme</th>\n",
       "      <th>poor</th>\n",
       "      <th>nonpoor</th>\n",
       "      <th>pop</th>\n",
       "      <th>extreme</th>\n",
       "      <th>poor</th>\n",
       "      <th>nonpoor</th>\n",
       "      <th>pop</th>\n",
       "      <th>extreme</th>\n",
       "      <th>poor</th>\n",
       "      <th>nonpoor</th>\n",
       "      <th>pop</th>\n",
       "      <th>extreme</th>\n",
       "    </tr>\n",
       "    <tr>\n",
       "      <th>country</th>\n",
       "      <th></th>\n",
       "      <th></th>\n",
       "      <th></th>\n",
       "      <th></th>\n",
       "      <th></th>\n",
       "      <th></th>\n",
       "      <th></th>\n",
       "      <th></th>\n",
       "      <th></th>\n",
       "      <th></th>\n",
       "      <th></th>\n",
       "      <th></th>\n",
       "      <th></th>\n",
       "      <th></th>\n",
       "      <th></th>\n",
       "      <th></th>\n",
       "    </tr>\n",
       "  </thead>\n",
       "  <tbody>\n",
       "    <tr>\n",
       "      <th>Albania</th>\n",
       "      <td>0.004972</td>\n",
       "      <td>0.005311</td>\n",
       "      <td>0.004439</td>\n",
       "      <td>99.874308</td>\n",
       "      <td>0.017007</td>\n",
       "      <td>0.020071</td>\n",
       "      <td>0.014549</td>\n",
       "      <td>21.111684</td>\n",
       "      <td>0.104308</td>\n",
       "      <td>0.074550</td>\n",
       "      <td>0.075796</td>\n",
       "      <td>140.375518</td>\n",
       "      <td>0.029324</td>\n",
       "      <td>0.024297</td>\n",
       "      <td>0.024583</td>\n",
       "      <td>6.599146</td>\n",
       "    </tr>\n",
       "    <tr>\n",
       "      <th>Armenia</th>\n",
       "      <td>0.071696</td>\n",
       "      <td>0.029444</td>\n",
       "      <td>0.032843</td>\n",
       "      <td>207.927378</td>\n",
       "      <td>0.054316</td>\n",
       "      <td>0.018063</td>\n",
       "      <td>0.021746</td>\n",
       "      <td>95.773667</td>\n",
       "      <td>0.105227</td>\n",
       "      <td>0.066057</td>\n",
       "      <td>0.068665</td>\n",
       "      <td>232.074071</td>\n",
       "      <td>0.154475</td>\n",
       "      <td>0.089443</td>\n",
       "      <td>0.094815</td>\n",
       "      <td>323.528009</td>\n",
       "    </tr>\n",
       "    <tr>\n",
       "      <th>Azerbaijan</th>\n",
       "      <td>0.010721</td>\n",
       "      <td>0.000963</td>\n",
       "      <td>0.002248</td>\n",
       "      <td>71.173279</td>\n",
       "      <td>0.124020</td>\n",
       "      <td>0.049653</td>\n",
       "      <td>0.055768</td>\n",
       "      <td>697.819070</td>\n",
       "      <td>0.049021</td>\n",
       "      <td>0.025038</td>\n",
       "      <td>0.026490</td>\n",
       "      <td>233.937337</td>\n",
       "      <td>0.020169</td>\n",
       "      <td>0.019569</td>\n",
       "      <td>0.020076</td>\n",
       "      <td>38.987922</td>\n",
       "    </tr>\n",
       "    <tr>\n",
       "      <th>Bangladesh</th>\n",
       "      <td>0.030908</td>\n",
       "      <td>0.012301</td>\n",
       "      <td>0.013882</td>\n",
       "      <td>29.672606</td>\n",
       "      <td>0.019508</td>\n",
       "      <td>0.012381</td>\n",
       "      <td>0.011932</td>\n",
       "      <td>17.010348</td>\n",
       "      <td>0.039381</td>\n",
       "      <td>0.142146</td>\n",
       "      <td>0.262348</td>\n",
       "      <td>38.946960</td>\n",
       "      <td>0.056028</td>\n",
       "      <td>0.072440</td>\n",
       "      <td>0.066657</td>\n",
       "      <td>47.230221</td>\n",
       "    </tr>\n",
       "    <tr>\n",
       "      <th>Cabo Verde</th>\n",
       "      <td>0.004811</td>\n",
       "      <td>0.004853</td>\n",
       "      <td>0.002287</td>\n",
       "      <td>5.847109</td>\n",
       "      <td>0.043754</td>\n",
       "      <td>0.018419</td>\n",
       "      <td>0.019842</td>\n",
       "      <td>53.002776</td>\n",
       "      <td>0.134959</td>\n",
       "      <td>0.111946</td>\n",
       "      <td>0.127420</td>\n",
       "      <td>115.796129</td>\n",
       "      <td>0.039329</td>\n",
       "      <td>0.035050</td>\n",
       "      <td>0.037151</td>\n",
       "      <td>52.844912</td>\n",
       "    </tr>\n",
       "    <tr>\n",
       "      <th>Georgia</th>\n",
       "      <td>0.186208</td>\n",
       "      <td>0.026871</td>\n",
       "      <td>0.033084</td>\n",
       "      <td>236.587322</td>\n",
       "      <td>0.102698</td>\n",
       "      <td>0.019582</td>\n",
       "      <td>0.024140</td>\n",
       "      <td>129.992121</td>\n",
       "      <td>0.166295</td>\n",
       "      <td>0.053094</td>\n",
       "      <td>0.058233</td>\n",
       "      <td>200.630652</td>\n",
       "      <td>1.134520</td>\n",
       "      <td>0.543730</td>\n",
       "      <td>0.681112</td>\n",
       "      <td>954.287472</td>\n",
       "    </tr>\n",
       "    <tr>\n",
       "      <th>Honduras</th>\n",
       "      <td>0.077618</td>\n",
       "      <td>0.014657</td>\n",
       "      <td>0.015444</td>\n",
       "      <td>28.081301</td>\n",
       "      <td>0.037405</td>\n",
       "      <td>0.006963</td>\n",
       "      <td>0.007216</td>\n",
       "      <td>13.129150</td>\n",
       "      <td>0.519250</td>\n",
       "      <td>0.180896</td>\n",
       "      <td>0.335602</td>\n",
       "      <td>178.109999</td>\n",
       "      <td>0.238106</td>\n",
       "      <td>0.119609</td>\n",
       "      <td>0.125701</td>\n",
       "      <td>84.455537</td>\n",
       "    </tr>\n",
       "    <tr>\n",
       "      <th>Kyrgyz Republic</th>\n",
       "      <td>0.146134</td>\n",
       "      <td>0.113431</td>\n",
       "      <td>0.090798</td>\n",
       "      <td>121.186773</td>\n",
       "      <td>0.192638</td>\n",
       "      <td>0.077235</td>\n",
       "      <td>0.075462</td>\n",
       "      <td>167.702216</td>\n",
       "      <td>0.465376</td>\n",
       "      <td>0.387045</td>\n",
       "      <td>0.388799</td>\n",
       "      <td>374.583900</td>\n",
       "      <td>0.598069</td>\n",
       "      <td>0.444755</td>\n",
       "      <td>0.499537</td>\n",
       "      <td>428.278076</td>\n",
       "    </tr>\n",
       "    <tr>\n",
       "      <th>Philippines</th>\n",
       "      <td>0.027153</td>\n",
       "      <td>0.027182</td>\n",
       "      <td>0.025264</td>\n",
       "      <td>35.130227</td>\n",
       "      <td>0.044355</td>\n",
       "      <td>0.007722</td>\n",
       "      <td>0.012114</td>\n",
       "      <td>58.278866</td>\n",
       "      <td>0.063432</td>\n",
       "      <td>0.086058</td>\n",
       "      <td>0.133093</td>\n",
       "      <td>73.053588</td>\n",
       "      <td>0.045628</td>\n",
       "      <td>0.091865</td>\n",
       "      <td>0.103233</td>\n",
       "      <td>54.917744</td>\n",
       "    </tr>\n",
       "    <tr>\n",
       "      <th>Poland</th>\n",
       "      <td>0.014556</td>\n",
       "      <td>0.006910</td>\n",
       "      <td>0.006901</td>\n",
       "      <td>0.000000</td>\n",
       "      <td>0.085326</td>\n",
       "      <td>0.014850</td>\n",
       "      <td>0.022545</td>\n",
       "      <td>886.785549</td>\n",
       "      <td>0.215268</td>\n",
       "      <td>0.103690</td>\n",
       "      <td>0.114164</td>\n",
       "      <td>1070.289568</td>\n",
       "      <td>0.050508</td>\n",
       "      <td>0.026643</td>\n",
       "      <td>0.028553</td>\n",
       "      <td>230.744218</td>\n",
       "    </tr>\n",
       "    <tr>\n",
       "      <th>Senegal</th>\n",
       "      <td>0.005357</td>\n",
       "      <td>0.002968</td>\n",
       "      <td>0.002367</td>\n",
       "      <td>2.432294</td>\n",
       "      <td>0.025299</td>\n",
       "      <td>0.024211</td>\n",
       "      <td>0.029663</td>\n",
       "      <td>10.240016</td>\n",
       "      <td>0.030154</td>\n",
       "      <td>0.055778</td>\n",
       "      <td>0.090080</td>\n",
       "      <td>16.531791</td>\n",
       "      <td>0.061488</td>\n",
       "      <td>0.091468</td>\n",
       "      <td>0.091834</td>\n",
       "      <td>38.894570</td>\n",
       "    </tr>\n",
       "    <tr>\n",
       "      <th>South Africa</th>\n",
       "      <td>0.115774</td>\n",
       "      <td>0.045589</td>\n",
       "      <td>0.050426</td>\n",
       "      <td>79.510087</td>\n",
       "      <td>0.224922</td>\n",
       "      <td>0.051093</td>\n",
       "      <td>0.039323</td>\n",
       "      <td>230.223039</td>\n",
       "      <td>0.140085</td>\n",
       "      <td>0.124140</td>\n",
       "      <td>0.239769</td>\n",
       "      <td>134.369926</td>\n",
       "      <td>0.122861</td>\n",
       "      <td>0.055928</td>\n",
       "      <td>0.043544</td>\n",
       "      <td>118.777943</td>\n",
       "    </tr>\n",
       "    <tr>\n",
       "      <th>Turkey</th>\n",
       "      <td>0.040071</td>\n",
       "      <td>0.020671</td>\n",
       "      <td>0.023120</td>\n",
       "      <td>298.107797</td>\n",
       "      <td>0.019537</td>\n",
       "      <td>0.011880</td>\n",
       "      <td>0.007990</td>\n",
       "      <td>103.020753</td>\n",
       "      <td>0.169398</td>\n",
       "      <td>0.114883</td>\n",
       "      <td>0.127777</td>\n",
       "      <td>1647.535214</td>\n",
       "      <td>0.055047</td>\n",
       "      <td>0.045595</td>\n",
       "      <td>0.040240</td>\n",
       "      <td>518.851215</td>\n",
       "    </tr>\n",
       "    <tr>\n",
       "      <th>Uruguay</th>\n",
       "      <td>0.095612</td>\n",
       "      <td>0.049970</td>\n",
       "      <td>0.042919</td>\n",
       "      <td>276.202475</td>\n",
       "      <td>0.028587</td>\n",
       "      <td>0.006150</td>\n",
       "      <td>0.007216</td>\n",
       "      <td>91.059396</td>\n",
       "      <td>0.104291</td>\n",
       "      <td>0.118539</td>\n",
       "      <td>0.130198</td>\n",
       "      <td>154.142556</td>\n",
       "      <td>0.039211</td>\n",
       "      <td>0.045070</td>\n",
       "      <td>0.040529</td>\n",
       "      <td>87.777009</td>\n",
       "    </tr>\n",
       "  </tbody>\n",
       "</table>\n",
       "</div>"
      ],
      "text/plain": [
       "category        All Labor Market                                  \\\n",
       "income_group                poor   nonpoor       pop     extreme   \n",
       "country                                                            \n",
       "Albania                 0.004972  0.005311  0.004439   99.874308   \n",
       "Armenia                 0.071696  0.029444  0.032843  207.927378   \n",
       "Azerbaijan              0.010721  0.000963  0.002248   71.173279   \n",
       "Bangladesh              0.030908  0.012301  0.013882   29.672606   \n",
       "Cabo Verde              0.004811  0.004853  0.002287    5.847109   \n",
       "Georgia                 0.186208  0.026871  0.033084  236.587322   \n",
       "Honduras                0.077618  0.014657  0.015444   28.081301   \n",
       "Kyrgyz Republic         0.146134  0.113431  0.090798  121.186773   \n",
       "Philippines             0.027153  0.027182  0.025264   35.130227   \n",
       "Poland                  0.014556  0.006910  0.006901    0.000000   \n",
       "Senegal                 0.005357  0.002968  0.002367    2.432294   \n",
       "South Africa            0.115774  0.045589  0.050426   79.510087   \n",
       "Turkey                  0.040071  0.020671  0.023120  298.107797   \n",
       "Uruguay                 0.095612  0.049970  0.042919  276.202475   \n",
       "\n",
       "category        All Social Assistance                                  \\\n",
       "income_group                     poor   nonpoor       pop     extreme   \n",
       "country                                                                 \n",
       "Albania                      0.017007  0.020071  0.014549   21.111684   \n",
       "Armenia                      0.054316  0.018063  0.021746   95.773667   \n",
       "Azerbaijan                   0.124020  0.049653  0.055768  697.819070   \n",
       "Bangladesh                   0.019508  0.012381  0.011932   17.010348   \n",
       "Cabo Verde                   0.043754  0.018419  0.019842   53.002776   \n",
       "Georgia                      0.102698  0.019582  0.024140  129.992121   \n",
       "Honduras                     0.037405  0.006963  0.007216   13.129150   \n",
       "Kyrgyz Republic              0.192638  0.077235  0.075462  167.702216   \n",
       "Philippines                  0.044355  0.007722  0.012114   58.278866   \n",
       "Poland                       0.085326  0.014850  0.022545  886.785549   \n",
       "Senegal                      0.025299  0.024211  0.029663   10.240016   \n",
       "South Africa                 0.224922  0.051093  0.039323  230.223039   \n",
       "Turkey                       0.019537  0.011880  0.007990  103.020753   \n",
       "Uruguay                      0.028587  0.006150  0.007216   91.059396   \n",
       "\n",
       "category        All Social Insurance                                   \\\n",
       "income_group                    poor   nonpoor       pop      extreme   \n",
       "country                                                                 \n",
       "Albania                     0.104308  0.074550  0.075796   140.375518   \n",
       "Armenia                     0.105227  0.066057  0.068665   232.074071   \n",
       "Azerbaijan                  0.049021  0.025038  0.026490   233.937337   \n",
       "Bangladesh                  0.039381  0.142146  0.262348    38.946960   \n",
       "Cabo Verde                  0.134959  0.111946  0.127420   115.796129   \n",
       "Georgia                     0.166295  0.053094  0.058233   200.630652   \n",
       "Honduras                    0.519250  0.180896  0.335602   178.109999   \n",
       "Kyrgyz Republic             0.465376  0.387045  0.388799   374.583900   \n",
       "Philippines                 0.063432  0.086058  0.133093    73.053588   \n",
       "Poland                      0.215268  0.103690  0.114164  1070.289568   \n",
       "Senegal                     0.030154  0.055778  0.090080    16.531791   \n",
       "South Africa                0.140085  0.124140  0.239769   134.369926   \n",
       "Turkey                      0.169398  0.114883  0.127777  1647.535214   \n",
       "Uruguay                     0.104291  0.118539  0.130198   154.142556   \n",
       "\n",
       "category        All Private Transfers                                  \n",
       "income_group                     poor   nonpoor       pop     extreme  \n",
       "country                                                                \n",
       "Albania                      0.029324  0.024297  0.024583    6.599146  \n",
       "Armenia                      0.154475  0.089443  0.094815  323.528009  \n",
       "Azerbaijan                   0.020169  0.019569  0.020076   38.987922  \n",
       "Bangladesh                   0.056028  0.072440  0.066657   47.230221  \n",
       "Cabo Verde                   0.039329  0.035050  0.037151   52.844912  \n",
       "Georgia                      1.134520  0.543730  0.681112  954.287472  \n",
       "Honduras                     0.238106  0.119609  0.125701   84.455537  \n",
       "Kyrgyz Republic              0.598069  0.444755  0.499537  428.278076  \n",
       "Philippines                  0.045628  0.091865  0.103233   54.917744  \n",
       "Poland                       0.050508  0.026643  0.028553  230.744218  \n",
       "Senegal                      0.061488  0.091468  0.091834   38.894570  \n",
       "South Africa                 0.122861  0.055928  0.043544  118.777943  \n",
       "Turkey                       0.055047  0.045595  0.040240  518.851215  \n",
       "Uruguay                      0.039211  0.045070  0.040529   87.777009  "
      ]
     },
     "execution_count": 208,
     "metadata": {},
     "output_type": "execute_result"
    }
   ],
   "source": [
    "shares.dropna()"
   ]
  },
  {
   "cell_type": "code",
   "execution_count": 215,
   "metadata": {
    "collapsed": false
   },
   "outputs": [],
   "source": [
    "shares=pd.DataFrame(columns=pd.MultiIndex.from_product([list_cat_names, list_income_groups], names=['category', 'income_group']))\n",
    "\n",
    "for cat in list_cat_names:\n",
    "    cat_code   = cat_to_code[cat]\n",
    "\n",
    "    for income_group in list_income_groups:\n",
    "        #transfer of this income group\n",
    "        t=0\n",
    "        for income_code in eval(income_group_to_keys[income_group]):\n",
    "            t+=mrv(get_wb_series(\"per\"+cat_code+\".\"+\"avt_\"+income_code+\"_tot\"))\n",
    "                \n",
    "        shares[cat,income_group] = 100*365*t/income[income_group]#percent\n",
    "\n"
   ]
  },
  {
   "cell_type": "code",
   "execution_count": 216,
   "metadata": {
    "collapsed": true
   },
   "outputs": [],
   "source": [
    "shares=shares.dropna()  \n",
    "shares[\"gdp\"]=gdp_tot_pp\n",
    "shares[\"gdp_pc\"]=gdp_pc_pp\n"
   ]
  },
  {
   "cell_type": "code",
   "execution_count": 172,
   "metadata": {
    "collapsed": false
   },
   "outputs": [],
   "source": [
    "key_to_col = pd.read_csv(\"cat_color.txt\",index_col=0,squeeze=True)"
   ]
  },
  {
   "cell_type": "code",
   "execution_count": 173,
   "metadata": {
    "collapsed": true
   },
   "outputs": [],
   "source": [
    "font = {'family' : 'serif',\n",
    "    'weight' : 'normal',\n",
    "    'size'   : 15}\n",
    "\n",
    "plt.rc('font', **font)"
   ]
  },
  {
   "cell_type": "code",
   "execution_count": 217,
   "metadata": {
    "collapsed": false
   },
   "outputs": [
    {
     "data": {
      "image/png": "[encoded data removed]",
      "text/plain": [
       "<matplotlib.figure.Figure at 0x7b1d208>"
      ]
     },
     "metadata": {},
     "output_type": "display_data"
    }
   ],
   "source": [
    "plt.figure(figsize=(9,9))\n",
    "for cat in list_cat_names:\n",
    "    plt.scatter(shares[cat,\"poor\"],shares[cat,\"extreme\"],color=key_to_col[cat],alpha=.5,s=75)\n",
    "    plt.xlabel(\"Poor\")\n",
    "    plt.ylabel(\"Extrmely poor\")\n",
    "    m=max(shares[cat,\"poor\"].max(),shares[cat,\"extreme\"].max())\n",
    "    plt.plot([0, m],[0,m],color=key_to_col[cat])\n",
    "    \n",
    "plt.legend(list_cat_names,loc=\"upper left\")    \n",
    "plt.xlim(xmin=0)\n",
    "plt.ylim(ymin=0)\n",
    "plt.savefig(\"share_of_income_from_transferts_ep.png\")"
   ]
  },
  {
   "cell_type": "code",
   "execution_count": 212,
   "metadata": {
    "collapsed": false
   },
   "outputs": [
    {
     "data": {
      "image/png": "[encoded data removed]",
      "text/plain": [
       "<matplotlib.figure.Figure at 0x9529198>"
      ]
     },
     "metadata": {},
     "output_type": "display_data"
    }
   ],
   "source": [
    "plt.figure(figsize=(9,9))\n",
    "for cat in list_cat_names:\n",
    "    plt.scatter(shares[cat,\"poor\"],shares[cat,\"nonpoor\"],color=key_to_col[cat],alpha=.5,s=75)\n",
    "    plt.xlabel(\"Poor\")\n",
    "    plt.ylabel(\"Non poor\")\n",
    "    m=max(shares[cat,\"poor\"].max(),shares[cat,\"nonpoor\"].max())\n",
    "    plt.plot([0, m],[0,m],color=key_to_col[cat])\n",
    "    \n",
    "plt.legend(list_cat_names,loc=\"upper left\")    \n",
    "plt.xlim(xmin=0)\n",
    "plt.ylim(ymin=0)\n",
    "plt.savefig(\"share_of_income_from_transferts.png\")"
   ]
  },
  {
   "cell_type": "code",
   "execution_count": 213,
   "metadata": {
    "collapsed": false
   },
   "outputs": [
    {
     "data": {
      "image/png": "[encoded data removed]",
      "text/plain": [
       "<matplotlib.figure.Figure at 0x97c28d0>"
      ]
     },
     "metadata": {},
     "output_type": "display_data"
    }
   ],
   "source": [
    "plt.figure(figsize=(9,9))\n",
    "for cat in list_cat_names:\n",
    "    plt.scatter(shares[cat,\"poor\"],shares[cat,\"nonpoor\"],color=key_to_col[cat],alpha=.5,s=75)\n",
    "    plt.xlabel(\"Poor\")\n",
    "    plt.ylabel(\"Non poor\")\n",
    "    m=max(shares[cat,\"poor\"].max(),shares[cat,\"nonpoor\"].max())\n",
    "    plt.plot([0, m],[0,m],color=key_to_col[cat])\n",
    "    \n",
    "plt.legend(list_cat_names,loc=\"best\")    \n",
    "plt.xlim(xmin=0,xmax=20)\n",
    "plt.ylim(ymin=0,ymax=20)\n",
    "plt.savefig(\"share_of_income_from_transferts_zoom.png\")"
   ]
  },
  {
   "cell_type": "code",
   "execution_count": null,
   "metadata": {
    "collapsed": true
   },
   "outputs": [],
   "source": []
  }
 ],
 "metadata": {
  "kernelspec": {
   "display_name": "Python 3",
   "language": "python",
   "name": "python3"
  },
  "language_info": {
   "codemirror_mode": {
    "name": "ipython",
    "version": 3
   },
   "file_extension": ".py",
   "mimetype": "text/x-python",
   "name": "python",
   "nbconvert_exporter": "python",
   "pygments_lexer": "ipython3",
   "version": "3.4.1"
  }
 },
 "nbformat": 4,
 "nbformat_minor": 0
}
